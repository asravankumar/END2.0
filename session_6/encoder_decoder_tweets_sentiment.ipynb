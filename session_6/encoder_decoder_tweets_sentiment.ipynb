{
  "nbformat": 4,
  "nbformat_minor": 0,
  "metadata": {
    "colab": {
      "name": "encoder_decoder_tweets_sentiment.ipynb",
      "provenance": [],
      "collapsed_sections": [],
      "include_colab_link": true
    },
    "kernelspec": {
      "name": "python3",
      "display_name": "Python 3"
    },
    "language_info": {
      "name": "python"
    }
  },
  "cells": [
    {
      "cell_type": "markdown",
      "metadata": {
        "id": "view-in-github",
        "colab_type": "text"
      },
      "source": [
        "<a href=\"https://colab.research.google.com/github/asravankumar/END2.0/blob/master/session_6/encoder_decoder_tweets_sentiment.ipynb\" target=\"_parent\"><img src=\"https://colab.research.google.com/assets/colab-badge.svg\" alt=\"Open In Colab\"/></a>"
      ]
    },
    {
      "cell_type": "code",
      "metadata": {
        "id": "gY4eAjHGbFON",
        "colab": {
          "base_uri": "https://localhost:8080/",
          "height": 206
        },
        "outputId": "3075d814-446a-404e-8e12-9498f452d258"
      },
      "source": [
        "import pandas as pd\n",
        "\n",
        "df = pd.read_csv(\"/content/tweets.csv\")\n",
        "df.head()"
      ],
      "execution_count": 42,
      "outputs": [
        {
          "output_type": "execute_result",
          "data": {
            "text/html": [
              "<div>\n",
              "<style scoped>\n",
              "    .dataframe tbody tr th:only-of-type {\n",
              "        vertical-align: middle;\n",
              "    }\n",
              "\n",
              "    .dataframe tbody tr th {\n",
              "        vertical-align: top;\n",
              "    }\n",
              "\n",
              "    .dataframe thead th {\n",
              "        text-align: right;\n",
              "    }\n",
              "</style>\n",
              "<table border=\"1\" class=\"dataframe\">\n",
              "  <thead>\n",
              "    <tr style=\"text-align: right;\">\n",
              "      <th></th>\n",
              "      <th>tweets</th>\n",
              "      <th>labels</th>\n",
              "    </tr>\n",
              "  </thead>\n",
              "  <tbody>\n",
              "    <tr>\n",
              "      <th>0</th>\n",
              "      <td>Obama has called the GOP budget social Darwini...</td>\n",
              "      <td>1</td>\n",
              "    </tr>\n",
              "    <tr>\n",
              "      <th>1</th>\n",
              "      <td>In his teen years, Obama has been known to use...</td>\n",
              "      <td>0</td>\n",
              "    </tr>\n",
              "    <tr>\n",
              "      <th>2</th>\n",
              "      <td>IPA Congratulates President Barack Obama for L...</td>\n",
              "      <td>0</td>\n",
              "    </tr>\n",
              "    <tr>\n",
              "      <th>3</th>\n",
              "      <td>RT @Professor_Why: #WhatsRomneyHiding - his co...</td>\n",
              "      <td>0</td>\n",
              "    </tr>\n",
              "    <tr>\n",
              "      <th>4</th>\n",
              "      <td>RT @wardollarshome: Obama has approved more ta...</td>\n",
              "      <td>1</td>\n",
              "    </tr>\n",
              "  </tbody>\n",
              "</table>\n",
              "</div>"
            ],
            "text/plain": [
              "                                              tweets  labels\n",
              "0  Obama has called the GOP budget social Darwini...       1\n",
              "1  In his teen years, Obama has been known to use...       0\n",
              "2  IPA Congratulates President Barack Obama for L...       0\n",
              "3  RT @Professor_Why: #WhatsRomneyHiding - his co...       0\n",
              "4  RT @wardollarshome: Obama has approved more ta...       1"
            ]
          },
          "metadata": {
            "tags": []
          },
          "execution_count": 42
        }
      ]
    },
    {
      "cell_type": "code",
      "metadata": {
        "colab": {
          "base_uri": "https://localhost:8080/"
        },
        "id": "rE-ylf6C6BJD",
        "outputId": "55a96d9a-2c80-4e4b-c750-56f8393119fd"
      },
      "source": [
        "df.shape"
      ],
      "execution_count": 43,
      "outputs": [
        {
          "output_type": "execute_result",
          "data": {
            "text/plain": [
              "(1364, 2)"
            ]
          },
          "metadata": {
            "tags": []
          },
          "execution_count": 43
        }
      ]
    },
    {
      "cell_type": "code",
      "metadata": {
        "colab": {
          "base_uri": "https://localhost:8080/"
        },
        "id": "dkxhrQox6Ju3",
        "outputId": "c82a5b2f-49e7-4ee9-be74-a29598bf9c86"
      },
      "source": [
        "df.labels.value_counts()"
      ],
      "execution_count": 44,
      "outputs": [
        {
          "output_type": "execute_result",
          "data": {
            "text/plain": [
              "0    931\n",
              "1    352\n",
              "2     81\n",
              "Name: labels, dtype: int64"
            ]
          },
          "metadata": {
            "tags": []
          },
          "execution_count": 44
        }
      ]
    },
    {
      "cell_type": "code",
      "metadata": {
        "id": "JDIyapAa6Pjr"
      },
      "source": [
        "import random\n",
        "import torch, torchtext\n",
        "from torchtext import data"
      ],
      "execution_count": 45,
      "outputs": []
    },
    {
      "cell_type": "code",
      "metadata": {
        "colab": {
          "base_uri": "https://localhost:8080/"
        },
        "id": "4kqZx2hG6e4Q",
        "outputId": "0e1f5cd9-ae74-48fb-d77f-48cbb6274d90"
      },
      "source": [
        "# Manual Seed\n",
        "SEED = 43\n",
        "torch.manual_seed(SEED)"
      ],
      "execution_count": 46,
      "outputs": [
        {
          "output_type": "execute_result",
          "data": {
            "text/plain": [
              "<torch._C.Generator at 0x7f605264df30>"
            ]
          },
          "metadata": {
            "tags": []
          },
          "execution_count": 46
        }
      ]
    },
    {
      "cell_type": "code",
      "metadata": {
        "id": "db3eiDVx6mKf"
      },
      "source": [
        "Tweet = torchtext.legacy.data.Field(sequential = True, tokenize = 'spacy', batch_first =True, include_lengths=True)\n",
        "Label = torchtext.legacy.data.LabelField(tokenize ='spacy', is_target=True, batch_first =True, sequential =False)"
      ],
      "execution_count": 47,
      "outputs": []
    },
    {
      "cell_type": "code",
      "metadata": {
        "id": "-by1zHIV7LPI"
      },
      "source": [
        "fields = [('tweet', Tweet), ('label', Label)]"
      ],
      "execution_count": 48,
      "outputs": []
    },
    {
      "cell_type": "code",
      "metadata": {
        "id": "GxmCFTgk797i"
      },
      "source": [
        "example = [torchtext.legacy.data.Example.fromlist([df.tweets[i],df.labels[i]], fields) for i in range(df.shape[0])] "
      ],
      "execution_count": 49,
      "outputs": []
    },
    {
      "cell_type": "code",
      "metadata": {
        "id": "-Lj9XCy38OqE"
      },
      "source": [
        "twitterDataset = torchtext.legacy.data.Dataset(example, fields)"
      ],
      "execution_count": 50,
      "outputs": []
    },
    {
      "cell_type": "code",
      "metadata": {
        "id": "4PIA3n0l8m2x"
      },
      "source": [
        "(train, valid) = twitterDataset.split(split_ratio=[85, 15], random_state = random.seed(SEED))"
      ],
      "execution_count": 51,
      "outputs": []
    },
    {
      "cell_type": "code",
      "metadata": {
        "colab": {
          "base_uri": "https://localhost:8080/"
        },
        "id": "91fhtSKS8y3T",
        "outputId": "69639501-e113-46cf-81f1-00d259ed7e2d"
      },
      "source": [
        "len(train), len(valid)"
      ],
      "execution_count": 52,
      "outputs": [
        {
          "output_type": "execute_result",
          "data": {
            "text/plain": [
              "(1159, 205)"
            ]
          },
          "metadata": {
            "tags": []
          },
          "execution_count": 52
        }
      ]
    },
    {
      "cell_type": "code",
      "metadata": {
        "colab": {
          "base_uri": "https://localhost:8080/"
        },
        "id": "pCDhbBKJ81ZK",
        "outputId": "75692853-ccd2-46c5-f9f4-3a6458c97cb5"
      },
      "source": [
        "vars(train.examples[11])"
      ],
      "execution_count": 53,
      "outputs": [
        {
          "output_type": "execute_result",
          "data": {
            "text/plain": [
              "{'label': 1,\n",
              " 'tweet': ['@sweetbay',\n",
              "  'That',\n",
              "  'was',\n",
              "  'Paul',\n",
              "  'Ryan',\n",
              "  \"'s\",\n",
              "  'budget',\n",
              "  '.',\n",
              "  'How',\n",
              "  'did',\n",
              "  'Obama',\n",
              "  \"'s\",\n",
              "  'budget',\n",
              "  'do',\n",
              "  '?',\n",
              "  'Getting',\n",
              "  'educated',\n",
              "  'on',\n",
              "  'the',\n",
              "  'facts',\n",
              "  'is',\n",
              "  'the',\n",
              "  'first',\n",
              "  'step',\n",
              "  'in',\n",
              "  'losing',\n",
              "  'that',\n",
              "  'liberalism',\n",
              "  '!']}"
            ]
          },
          "metadata": {
            "tags": []
          },
          "execution_count": 53
        }
      ]
    },
    {
      "cell_type": "code",
      "metadata": {
        "id": "b_K23gxx84-K"
      },
      "source": [
        "Tweet.build_vocab(train)\n",
        "Label.build_vocab(train)"
      ],
      "execution_count": 54,
      "outputs": []
    },
    {
      "cell_type": "code",
      "metadata": {
        "colab": {
          "base_uri": "https://localhost:8080/"
        },
        "id": "zCPG8VrE9MKq",
        "outputId": "35e94faa-b8fe-416c-e759-2a9d0ec14fbe"
      },
      "source": [
        "print('Size of input vocab : ', len(Tweet.vocab))\n",
        "print('Size of label vocab : ', len(Label.vocab))\n",
        "print('Top 10 words appreared repeatedly :', list(Tweet.vocab.freqs.most_common(10)))\n",
        "print('Labels : ', Label.vocab.stoi)"
      ],
      "execution_count": 55,
      "outputs": [
        {
          "output_type": "stream",
          "text": [
            "Size of input vocab :  4651\n",
            "Size of label vocab :  3\n",
            "Top 10 words appreared repeatedly : [('Obama', 1069), (':', 783), ('#', 780), ('.', 761), (',', 598), ('\"', 550), ('the', 542), ('RT', 516), ('?', 419), ('to', 400)]\n",
            "Labels :  defaultdict(None, {0: 0, 1: 1, 2: 2})\n"
          ],
          "name": "stdout"
        }
      ]
    },
    {
      "cell_type": "code",
      "metadata": {
        "colab": {
          "base_uri": "https://localhost:8080/"
        },
        "id": "gBmMQQcX9SZk",
        "outputId": "7505dab8-5f21-4e2c-c322-62adf817ae0c"
      },
      "source": [
        "device = torch.device(\"cuda\" if torch.cuda.is_available() else \"cpu\")\n",
        "device"
      ],
      "execution_count": 56,
      "outputs": [
        {
          "output_type": "execute_result",
          "data": {
            "text/plain": [
              "device(type='cpu')"
            ]
          },
          "metadata": {
            "tags": []
          },
          "execution_count": 56
        }
      ]
    },
    {
      "cell_type": "code",
      "metadata": {
        "id": "fIJyulXA9sEr"
      },
      "source": [
        "train_iterator, valid_iterator = torchtext.legacy.data.BucketIterator.splits((train, valid), batch_size = 5, \n",
        "                                                            sort_key = lambda x: len(x.tweet),\n",
        "                                                            sort_within_batch=True, device = device)"
      ],
      "execution_count": 57,
      "outputs": []
    },
    {
      "cell_type": "code",
      "metadata": {
        "colab": {
          "base_uri": "https://localhost:8080/"
        },
        "id": "0kgqqK75FLEV",
        "outputId": "a4e39192-a291-4af9-d469-23ac1fa022b1"
      },
      "source": [
        "next(iter(train_iterator))\n",
        "#len(train.examples[11].tweet)"
      ],
      "execution_count": 58,
      "outputs": [
        {
          "output_type": "execute_result",
          "data": {
            "text/plain": [
              "\n",
              "[torchtext.legacy.data.batch.Batch of size 5]\n",
              "\t[.tweet]:('[torch.LongTensor of size 5x28]', '[torch.LongTensor of size 5]')\n",
              "\t[.label]:[torch.LongTensor of size 5]"
            ]
          },
          "metadata": {
            "tags": []
          },
          "execution_count": 58
        }
      ]
    },
    {
      "cell_type": "code",
      "metadata": {
        "id": "l_NVSpoV-Uaj"
      },
      "source": [
        "import os, pickle\n",
        "with open('tokenizer.pkl', 'wb') as tokens: \n",
        "    pickle.dump(Tweet.vocab.stoi, tokens)"
      ],
      "execution_count": 59,
      "outputs": []
    },
    {
      "cell_type": "code",
      "metadata": {
        "id": "fNQnNcH6-oZZ"
      },
      "source": [
        "import torch.nn as nn\n",
        "import torch.nn.functional as F\n",
        "\n",
        "\n",
        "class Encoder(nn.Module):\n",
        "  def __init__(self, vocab_size, embedding_dim, hidden_dim):\n",
        "    super().__init__()\n",
        "\n",
        "    # Embedding later\n",
        "    self.embedding = nn.Embedding(vocab_size, embedding_dim)\n",
        "\n",
        "    # RNN Layer\n",
        "    self.rnn_layer = nn.RNN(embedding_dim,\n",
        "                          hidden_dim,\n",
        "                          batch_first=True)\n",
        "    \n",
        "  def forward(self, text, text_lengths):\n",
        "    #print(\"inside encoder\")\n",
        "    embedded_text         = self.embedding(text)\n",
        "    #print(\"embedded text dimension\", embedded_text.shape)\n",
        "    packed_embedded_text  = nn.utils.rnn.pack_padded_sequence(embedded_text,\n",
        "                                                        text_lengths.cpu(),\n",
        "                                                        batch_first=True)\n",
        "    #print(\"packed embedded text dimension\", packed_embedded_text.data.shape) \n",
        "    encoder_output, hidden   = self.rnn_layer(packed_embedded_text)\n",
        "    #print(\"encoder output dimension\", encoder_output.data.shape)\n",
        "    #print(\"hidden dimension\", hidden.shape)\n",
        "    #print(\"hidden vector\", hidden)\n",
        "\n",
        "    encoder_output, encoder_output_lengths = nn.utils.rnn.pad_packed_sequence(encoder_output, batch_first=True)\n",
        "    #print(\"encoder_output after pad packed dimension\", encoder_output.shape)\n",
        "    #print(\"--------------------------------------------------\")\n",
        "    return(encoder_output, hidden)\n",
        "\n",
        "class Decoder(nn.Module):\n",
        "  def __init__(self, encoder_output_dim, hidden_dim):\n",
        "    super().__init__()\n",
        "    self.decoder = nn.LSTM(encoder_output_dim, \n",
        "                       hidden_dim,  \n",
        "                       batch_first=True)\n",
        "\n",
        "  def forward(self, encoder_output):\n",
        "    #print(\"inside decoder\")\n",
        "    #print(\"encoder output dimension\", encoder_output.shape)\n",
        "    # pytorch hidden vectors are not batch_first hence we need to reshape the hidden input\n",
        "    encoder_output = encoder_output.squeeze(0).unsqueeze(1)\n",
        "\n",
        "    #print(\"encoder output dimension after sqeeze\", encoder_output.shape)\n",
        "    output, (hidden_vector, cell_vector) = self.decoder(encoder_output)\n",
        "    #print(\"decoded output dimension\", output.shape)\n",
        "    #print(\"decoded hidden vector dimension\", hidden_vector.shape)\n",
        "    #print(\"decoded cell vector dimension\", cell_vector.shape)\n",
        "    #print(\"---------------------------------------------------\")\n",
        "    return(output, hidden_vector)\n",
        "\n",
        "class EncoderDecoderClassifier(nn.Module):\n",
        "  def __init__(self, vocab_size, embedding_dim, hidden_dim, output_dim):\n",
        "    super(EncoderDecoderClassifier, self).__init__()\n",
        "\n",
        "    self.encoder = Encoder(vocab_size, embedding_dim, hidden_dim)\n",
        "    self.decoder = Decoder(hidden_dim, hidden_dim)\n",
        "    self.fc      = nn.Linear(hidden_dim, output_dim)\n",
        "\n",
        "  def forward(self, text, text_lengths):\n",
        "    encoder_output, encoder_hidden = self.encoder(text, text_lengths)\n",
        "    decoder_output, decoder_hidden = self.decoder(encoder_hidden)\n",
        "\n",
        "    decoder_hidden = decoder_hidden.squeeze(0) #.unsqueeze(1)\n",
        "    #print(\"input to fully connected layer\", decoder_hidden.shape)\n",
        "    dense_outputs = self.fc(decoder_hidden)\n",
        "    #print(\"dense outputs\", dense_outputs.shape)\n",
        "    final_output = F.softmax(dense_outputs, dim=0)\n",
        "    #print(\"final output\", final_output.shape)\n",
        "    return(final_output, encoder_output, decoder_output)"
      ],
      "execution_count": 60,
      "outputs": []
    },
    {
      "cell_type": "code",
      "metadata": {
        "id": "TFNWimMMAKya"
      },
      "source": [
        "# Define hyperparameters\n",
        "size_of_vocab = len(Tweet.vocab)\n",
        "embedding_dim = 300\n",
        "num_hidden_nodes = 100\n",
        "num_output_nodes = 3\n",
        "num_layers = 2\n",
        "dropout = 0.2\n",
        "\n",
        "# Instantiate the model\n",
        "model = EncoderDecoderClassifier(size_of_vocab, embedding_dim, num_hidden_nodes, num_output_nodes)\n",
        "#model = classifier(size_of_vocab, embedding_dim, num_hidden_nodes, num_output_nodes, num_layers, dropout = dropout)"
      ],
      "execution_count": 61,
      "outputs": []
    },
    {
      "cell_type": "code",
      "metadata": {
        "colab": {
          "base_uri": "https://localhost:8080/"
        },
        "id": "IRextCcAASGO",
        "outputId": "c430dd16-1d11-4478-9f75-6d3d88d56220"
      },
      "source": [
        "print(model)\n",
        "\n",
        "#No. of trianable parameters\n",
        "def count_parameters(model):\n",
        "    return sum(p.numel() for p in model.parameters() if p.requires_grad)\n",
        "    \n",
        "print(f'The model has {count_parameters(model):,} trainable parameters')"
      ],
      "execution_count": 62,
      "outputs": [
        {
          "output_type": "stream",
          "text": [
            "EncoderDecoderClassifier(\n",
            "  (encoder): Encoder(\n",
            "    (embedding): Embedding(4651, 300)\n",
            "    (rnn_layer): RNN(300, 100, batch_first=True)\n",
            "  )\n",
            "  (decoder): Decoder(\n",
            "    (decoder): LSTM(100, 100, batch_first=True)\n",
            "  )\n",
            "  (fc): Linear(in_features=100, out_features=3, bias=True)\n",
            ")\n",
            "The model has 1,516,603 trainable parameters\n"
          ],
          "name": "stdout"
        }
      ]
    },
    {
      "cell_type": "code",
      "metadata": {
        "colab": {
          "base_uri": "https://localhost:8080/"
        },
        "id": "7qoX2k3jX5zw",
        "outputId": "550d8abf-49c8-44eb-d8de-212a655084a9"
      },
      "source": [
        "batch = next(iter(train_iterator))\n",
        "tweet, tweet_lengths = batch.tweet\n",
        "print(\"tweet\", tweet)\n",
        "print(\"tweet lenghts\", tweet_lengths)\n",
        "model = model.to(device)\n",
        "final_output, encoder_output, decoder_output = model(tweet, tweet_lengths)\n",
        "print(\"final_output\", final_output)\n",
        "print(\"final output dimensions\", final_output.shape)\n",
        "print(\"---------------------------\")\n",
        "\n",
        "print(\"batch label\", batch.label)\n",
        "criterion = nn.CrossEntropyLoss()\n",
        "criterion = criterion.to(device)\n",
        "loss = criterion(final_output, batch.label)\n",
        "print(\"loss\", loss)"
      ],
      "execution_count": 63,
      "outputs": [
        {
          "output_type": "stream",
          "text": [
            "tweet tensor([[   4,   29,   88,   37,    2,   16,   72, 4069,   73, 3251,   10,  657,\n",
            "          274,   62, 1801,   19, 3641, 1869,    6,   59, 4063,  124],\n",
            "        [   9,  862,    3,    2,  686,  654,   21,  710,  696, 1682, 1245, 1774,\n",
            "         1723,   56, 1688,    4,   65,    4,  112,    4, 1580,    1],\n",
            "        [   4,    2,  365,    7,  672,   19,  902,    7,  195,    4,  157,  199,\n",
            "          313,    3, 3934, 1491,  174,    4,  433,    4, 3543,    1],\n",
            "        [2315,   12,  127, 4346,   83,    3,    2,  190,   70,   35,  122,  182,\n",
            "          236,  339,   68,   13,  137,   82,  506,   79, 3787,    1],\n",
            "        [   4,  111, 1528,    2,  623,    8,  242,   73,    8,  907,    6,  100,\n",
            "         1566,  772,  772,   22,  213,  149,   14,  212,    5,    1]])\n",
            "tweet lenghts tensor([22, 21, 21, 21, 21])\n",
            "final_output tensor([[0.1926, 0.2035, 0.2090],\n",
            "        [0.2141, 0.2003, 0.2037],\n",
            "        [0.1847, 0.1990, 0.1855],\n",
            "        [0.2051, 0.2024, 0.1995],\n",
            "        [0.2035, 0.1948, 0.2022]], grad_fn=<SoftmaxBackward>)\n",
            "final output dimensions torch.Size([5, 3])\n",
            "---------------------------\n",
            "batch label tensor([0, 0, 0, 0, 0])\n",
            "loss tensor(1.0986, grad_fn=<NllLossBackward>)\n"
          ],
          "name": "stdout"
        }
      ]
    },
    {
      "cell_type": "code",
      "metadata": {
        "id": "EPK6b19HATLm"
      },
      "source": [
        "import torch.optim as optim\n",
        "\n",
        "# define optimizer and loss\n",
        "optimizer = optim.Adam(model.parameters(), lr=2e-4)\n",
        "criterion = nn.CrossEntropyLoss()\n",
        "\n",
        "# define metric\n",
        "def binary_accuracy(preds, y):\n",
        "    #round predictions to the closest integer\n",
        "    _, predictions = torch.max(preds, 1)\n",
        "    \n",
        "    correct = (predictions == y).float() \n",
        "    acc = correct.sum() / len(correct)\n",
        "    return acc\n",
        "    \n",
        "# push to cuda if available\n",
        "model = model.to(device)\n",
        "criterion = criterion.to(device)"
      ],
      "execution_count": 64,
      "outputs": []
    },
    {
      "cell_type": "code",
      "metadata": {
        "id": "A8t9iWwqAify"
      },
      "source": [
        "def train(model, iterator, optimizer, criterion):\n",
        "    \n",
        "    # initialize every epoch \n",
        "    epoch_loss = 0\n",
        "    epoch_acc = 0\n",
        "    \n",
        "    # set the model in training phase\n",
        "    model.train()  \n",
        "    \n",
        "    for batch in iterator:\n",
        "        \n",
        "        # resets the gradients after every batch\n",
        "        optimizer.zero_grad()   \n",
        "        \n",
        "        # retrieve text and no. of words\n",
        "        tweet, tweet_lengths = batch.tweet  \n",
        "        \n",
        "        # convert to 1D tensor\n",
        "        predictions, encoder_output, decoder_output = model(tweet, tweet_lengths)\n",
        "        predictions = predictions.squeeze()  \n",
        "        \n",
        "        # compute the loss\n",
        "        loss = criterion(predictions, batch.label)        \n",
        "        \n",
        "        # compute the binary accuracy\n",
        "        acc = binary_accuracy(predictions, batch.label)   \n",
        "        \n",
        "        # backpropage the loss and compute the gradients\n",
        "        loss.backward()       \n",
        "        \n",
        "        # update the weights\n",
        "        optimizer.step()      \n",
        "        \n",
        "        # loss and accuracy\n",
        "        epoch_loss += loss.item()  \n",
        "        epoch_acc += acc.item()    \n",
        "        \n",
        "    return epoch_loss / len(iterator), epoch_acc / len(iterator)"
      ],
      "execution_count": 65,
      "outputs": []
    },
    {
      "cell_type": "code",
      "metadata": {
        "id": "LMBXHd5JAuX-"
      },
      "source": [
        "def evaluate(model, iterator, criterion):\n",
        "    \n",
        "    # initialize every epoch\n",
        "    epoch_loss = 0\n",
        "    epoch_acc = 0\n",
        "\n",
        "    # deactivating dropout layers\n",
        "    model.eval()\n",
        "    \n",
        "    # deactivates autograd\n",
        "    with torch.no_grad():\n",
        "    \n",
        "        for batch in iterator:\n",
        "        \n",
        "            # retrieve text and no. of words\n",
        "            tweet, tweet_lengths = batch.tweet\n",
        "            \n",
        "            # convert to 1d tensor\n",
        "            #predictions = model(tweet, tweet_lengths).squeeze()\n",
        "            \n",
        "            predictions, encoder_output, decoder_output = model(tweet, tweet_lengths)\n",
        "            predictions = predictions.squeeze()  \n",
        "            # compute loss and accuracy\n",
        "            loss = criterion(predictions, batch.label)\n",
        "            acc = binary_accuracy(predictions, batch.label)\n",
        "            \n",
        "            # keep track of loss and accuracy\n",
        "            epoch_loss += loss.item()\n",
        "            epoch_acc += acc.item()\n",
        "        \n",
        "    return epoch_loss / len(iterator), epoch_acc / len(iterator)"
      ],
      "execution_count": 66,
      "outputs": []
    },
    {
      "cell_type": "code",
      "metadata": {
        "colab": {
          "base_uri": "https://localhost:8080/"
        },
        "id": "q7UPwN0KAvVq",
        "outputId": "68dde43b-0898-4c2e-f9e5-73650f1eca2f"
      },
      "source": [
        "N_EPOCHS = 50\n",
        "best_valid_loss = float('inf')\n",
        "train_losses = []\n",
        "train_accuracies = []\n",
        "valid_losses = []\n",
        "valid_accuracies = []\n",
        "\n",
        "for epoch in range(N_EPOCHS):\n",
        "     \n",
        "    # train the model\n",
        "    train_loss, train_acc = train(model, train_iterator, optimizer, criterion)\n",
        "    train_losses.append(train_loss)\n",
        "    train_accuracies.append(train_acc)\n",
        "\n",
        "    # evaluate the model\n",
        "    valid_loss, valid_acc = evaluate(model, valid_iterator, criterion)\n",
        "    valid_losses.append(valid_loss)\n",
        "    valid_accuracies.append(valid_acc)\n",
        "    \n",
        "    # save the best model\n",
        "    if valid_loss < best_valid_loss:\n",
        "        best_valid_loss = valid_loss\n",
        "        torch.save(model.state_dict(), 'saved_weights.pt')\n",
        "    \n",
        "    print(f'\\tTrain Loss: {train_loss:.3f} | Train Acc: {train_acc*100:.2f}%')\n",
        "    print(f'\\t Val. Loss: {valid_loss:.3f} |  Val. Acc: {valid_acc*100:.2f}% \\n')"
      ],
      "execution_count": 67,
      "outputs": [
        {
          "output_type": "stream",
          "text": [
            "\tTrain Loss: 1.096 | Train Acc: 47.33%\n",
            "\t Val. Loss: 1.092 |  Val. Acc: 53.66% \n",
            "\n",
            "\tTrain Loss: 1.076 | Train Acc: 58.79%\n",
            "\t Val. Loss: 1.071 |  Val. Acc: 59.02% \n",
            "\n",
            "\tTrain Loss: 1.034 | Train Acc: 65.52%\n",
            "\t Val. Loss: 1.058 |  Val. Acc: 57.56% \n",
            "\n",
            "\tTrain Loss: 1.001 | Train Acc: 67.67%\n",
            "\t Val. Loss: 1.049 |  Val. Acc: 58.05% \n",
            "\n",
            "\tTrain Loss: 0.980 | Train Acc: 68.53%\n",
            "\t Val. Loss: 1.041 |  Val. Acc: 60.98% \n",
            "\n",
            "\tTrain Loss: 0.971 | Train Acc: 70.97%\n",
            "\t Val. Loss: 1.038 |  Val. Acc: 62.93% \n",
            "\n",
            "\tTrain Loss: 0.964 | Train Acc: 73.71%\n",
            "\t Val. Loss: 1.039 |  Val. Acc: 64.39% \n",
            "\n",
            "\tTrain Loss: 0.951 | Train Acc: 74.57%\n",
            "\t Val. Loss: 1.039 |  Val. Acc: 62.44% \n",
            "\n",
            "\tTrain Loss: 0.953 | Train Acc: 76.64%\n",
            "\t Val. Loss: 1.031 |  Val. Acc: 67.32% \n",
            "\n",
            "\tTrain Loss: 0.944 | Train Acc: 78.62%\n",
            "\t Val. Loss: 1.033 |  Val. Acc: 65.37% \n",
            "\n",
            "\tTrain Loss: 0.940 | Train Acc: 80.09%\n",
            "\t Val. Loss: 1.033 |  Val. Acc: 62.93% \n",
            "\n",
            "\tTrain Loss: 0.943 | Train Acc: 78.97%\n",
            "\t Val. Loss: 1.033 |  Val. Acc: 67.80% \n",
            "\n",
            "\tTrain Loss: 0.937 | Train Acc: 80.28%\n",
            "\t Val. Loss: 1.029 |  Val. Acc: 68.29% \n",
            "\n",
            "\tTrain Loss: 0.942 | Train Acc: 80.45%\n",
            "\t Val. Loss: 1.029 |  Val. Acc: 67.80% \n",
            "\n",
            "\tTrain Loss: 0.934 | Train Acc: 80.95%\n",
            "\t Val. Loss: 1.031 |  Val. Acc: 64.39% \n",
            "\n",
            "\tTrain Loss: 0.933 | Train Acc: 82.76%\n",
            "\t Val. Loss: 1.026 |  Val. Acc: 65.85% \n",
            "\n",
            "\tTrain Loss: 0.933 | Train Acc: 82.76%\n",
            "\t Val. Loss: 1.025 |  Val. Acc: 64.39% \n",
            "\n",
            "\tTrain Loss: 0.933 | Train Acc: 82.91%\n",
            "\t Val. Loss: 1.031 |  Val. Acc: 65.37% \n",
            "\n",
            "\tTrain Loss: 0.936 | Train Acc: 84.40%\n",
            "\t Val. Loss: 1.027 |  Val. Acc: 65.85% \n",
            "\n",
            "\tTrain Loss: 0.928 | Train Acc: 85.95%\n",
            "\t Val. Loss: 1.018 |  Val. Acc: 66.34% \n",
            "\n",
            "\tTrain Loss: 0.931 | Train Acc: 83.62%\n",
            "\t Val. Loss: 1.022 |  Val. Acc: 67.32% \n",
            "\n",
            "\tTrain Loss: 0.934 | Train Acc: 84.66%\n",
            "\t Val. Loss: 1.022 |  Val. Acc: 65.85% \n",
            "\n",
            "\tTrain Loss: 0.927 | Train Acc: 86.29%\n",
            "\t Val. Loss: 1.020 |  Val. Acc: 63.90% \n",
            "\n",
            "\tTrain Loss: 0.934 | Train Acc: 81.81%\n",
            "\t Val. Loss: 1.018 |  Val. Acc: 65.37% \n",
            "\n",
            "\tTrain Loss: 0.934 | Train Acc: 82.59%\n",
            "\t Val. Loss: 1.023 |  Val. Acc: 66.83% \n",
            "\n",
            "\tTrain Loss: 0.934 | Train Acc: 83.53%\n",
            "\t Val. Loss: 1.030 |  Val. Acc: 65.85% \n",
            "\n",
            "\tTrain Loss: 0.937 | Train Acc: 83.25%\n",
            "\t Val. Loss: 1.032 |  Val. Acc: 65.37% \n",
            "\n",
            "\tTrain Loss: 0.934 | Train Acc: 83.45%\n",
            "\t Val. Loss: 1.028 |  Val. Acc: 64.39% \n",
            "\n",
            "\tTrain Loss: 0.934 | Train Acc: 84.31%\n",
            "\t Val. Loss: 1.033 |  Val. Acc: 65.85% \n",
            "\n",
            "\tTrain Loss: 0.928 | Train Acc: 84.57%\n",
            "\t Val. Loss: 1.041 |  Val. Acc: 65.37% \n",
            "\n",
            "\tTrain Loss: 0.929 | Train Acc: 84.05%\n",
            "\t Val. Loss: 1.029 |  Val. Acc: 64.88% \n",
            "\n",
            "\tTrain Loss: 0.933 | Train Acc: 84.12%\n",
            "\t Val. Loss: 1.031 |  Val. Acc: 63.90% \n",
            "\n",
            "\tTrain Loss: 0.928 | Train Acc: 85.00%\n",
            "\t Val. Loss: 1.031 |  Val. Acc: 63.90% \n",
            "\n",
            "\tTrain Loss: 0.926 | Train Acc: 87.76%\n",
            "\t Val. Loss: 1.027 |  Val. Acc: 65.85% \n",
            "\n",
            "\tTrain Loss: 0.930 | Train Acc: 85.32%\n",
            "\t Val. Loss: 1.031 |  Val. Acc: 65.37% \n",
            "\n",
            "\tTrain Loss: 0.925 | Train Acc: 88.28%\n",
            "\t Val. Loss: 1.032 |  Val. Acc: 66.83% \n",
            "\n",
            "\tTrain Loss: 0.926 | Train Acc: 86.98%\n",
            "\t Val. Loss: 1.028 |  Val. Acc: 64.39% \n",
            "\n",
            "\tTrain Loss: 0.936 | Train Acc: 85.06%\n",
            "\t Val. Loss: 1.028 |  Val. Acc: 63.90% \n",
            "\n",
            "\tTrain Loss: 0.932 | Train Acc: 84.57%\n",
            "\t Val. Loss: 1.023 |  Val. Acc: 67.32% \n",
            "\n",
            "\tTrain Loss: 0.931 | Train Acc: 80.78%\n",
            "\t Val. Loss: 1.022 |  Val. Acc: 66.83% \n",
            "\n",
            "\tTrain Loss: 0.932 | Train Acc: 85.00%\n",
            "\t Val. Loss: 1.036 |  Val. Acc: 60.49% \n",
            "\n",
            "\tTrain Loss: 0.932 | Train Acc: 83.71%\n",
            "\t Val. Loss: 1.028 |  Val. Acc: 65.37% \n",
            "\n",
            "\tTrain Loss: 0.931 | Train Acc: 86.01%\n",
            "\t Val. Loss: 1.032 |  Val. Acc: 66.34% \n",
            "\n",
            "\tTrain Loss: 0.931 | Train Acc: 85.52%\n",
            "\t Val. Loss: 1.028 |  Val. Acc: 65.85% \n",
            "\n",
            "\tTrain Loss: 0.930 | Train Acc: 85.17%\n",
            "\t Val. Loss: 1.028 |  Val. Acc: 66.34% \n",
            "\n",
            "\tTrain Loss: 0.931 | Train Acc: 85.95%\n",
            "\t Val. Loss: 1.028 |  Val. Acc: 67.32% \n",
            "\n",
            "\tTrain Loss: 0.918 | Train Acc: 88.79%\n",
            "\t Val. Loss: 1.029 |  Val. Acc: 65.85% \n",
            "\n",
            "\tTrain Loss: 0.937 | Train Acc: 84.05%\n",
            "\t Val. Loss: 1.030 |  Val. Acc: 63.90% \n",
            "\n",
            "\tTrain Loss: 0.936 | Train Acc: 85.43%\n",
            "\t Val. Loss: 1.027 |  Val. Acc: 65.85% \n",
            "\n",
            "\tTrain Loss: 0.930 | Train Acc: 87.33%\n",
            "\t Val. Loss: 1.025 |  Val. Acc: 65.85% \n",
            "\n"
          ],
          "name": "stdout"
        }
      ]
    },
    {
      "cell_type": "code",
      "metadata": {
        "colab": {
          "base_uri": "https://localhost:8080/",
          "height": 1000
        },
        "id": "BNmpgCfs-gRR",
        "outputId": "de305019-29f7-45f2-93db-5ffe16e89489"
      },
      "source": [
        "import matplotlib.pyplot as plt\n",
        "\n",
        "plt.plot(list(range(1, len(train_losses) + 1)), train_losses, label=\"Training Loss\")\n",
        "plt.xlabel(\"Epoch\")\n",
        "plt.ylabel(\"Training Loss\")\n",
        "plt.savefig('training_loss.png')\n",
        "plt.show()\n",
        "\n",
        "plt.plot(list(range(1, len(valid_losses) + 1)), valid_losses, label=\"Validation Loss\")\n",
        "plt.xlabel(\"Epoch\")\n",
        "plt.ylabel(\"Validation Loss\")\n",
        "plt.savefig('valid_loss.png')\n",
        "plt.show()\n",
        "\n",
        "plt.plot(list(range(1, len(train_accuracies) + 1)), train_accuracies, label=\"Training Accuracies\")\n",
        "plt.xlabel(\"Epoch\")\n",
        "plt.ylabel(\"Training Accuracies\")\n",
        "plt.savefig('training_accuracies.png')\n",
        "plt.show()\n",
        "\n",
        "plt.plot(list(range(1, len(valid_accuracies) + 1)), valid_accuracies, label=\"Valid Accuracies\")\n",
        "plt.xlabel(\"Epoch\")\n",
        "plt.ylabel(\"Validation Accuracies\")\n",
        "plt.savefig('validation_accuracies.png')\n",
        "plt.show()"
      ],
      "execution_count": 70,
      "outputs": [
        {
          "output_type": "display_data",
          "data": {
            "image/png": "[encoded data removed]",
            "text/plain": [
              "<Figure size 432x288 with 1 Axes>"
            ]
          },
          "metadata": {
            "tags": [],
            "needs_background": "light"
          }
        },
        {
          "output_type": "display_data",
          "data": {
            "image/png": "[encoded data removed]",
            "text/plain": [
              "<Figure size 432x288 with 1 Axes>"
            ]
          },
          "metadata": {
            "tags": [],
            "needs_background": "light"
          }
        },
        {
          "output_type": "display_data",
          "data": {
            "image/png": "[encoded data removed]",
            "text/plain": [
              "<Figure size 432x288 with 1 Axes>"
            ]
          },
          "metadata": {
            "tags": [],
            "needs_background": "light"
          }
        },
        {
          "output_type": "display_data",
          "data": {
            "image/png": "[encoded data removed]",
            "text/plain": [
              "<Figure size 432x288 with 1 Axes>"
            ]
          },
          "metadata": {
            "tags": [],
            "needs_background": "light"
          }
        }
      ]
    },
    {
      "cell_type": "code",
      "metadata": {
        "id": "BXCGxks4AxT3"
      },
      "source": [
        "#load weights and tokenizer\n",
        "\n",
        "path='./saved_weights.pt'\n",
        "model.load_state_dict(torch.load(path));\n",
        "model.eval();\n",
        "tokenizer_file = open('./tokenizer.pkl', 'rb')\n",
        "tokenizer = pickle.load(tokenizer_file)\n",
        "\n",
        "#inference \n",
        "\n",
        "import spacy\n",
        "nlp = spacy.load('en')\n",
        "\n",
        "def classify_tweet(tweet):\n",
        "    \n",
        "    categories = {0: \"Negative\", 1:\"Positive\", 2:\"Neutral\"}\n",
        "    \n",
        "    # tokenize the tweet \n",
        "    tokenized = [tok.text for tok in nlp.tokenizer(tweet)] \n",
        "    # convert to integer sequence using predefined tokenizer dictionary\n",
        "    indexed = [tokenizer[t] for t in tokenized]        \n",
        "    # compute no. of words        \n",
        "    length = [len(indexed)]\n",
        "    # convert to tensor                                    \n",
        "    tensor = torch.LongTensor(indexed).to(device)   \n",
        "    # reshape in form of batch, no. of words           \n",
        "    tensor = tensor.unsqueeze(1).T  \n",
        "    # convert to tensor                          \n",
        "    length_tensor = torch.LongTensor(length)\n",
        "    # Get the model prediction                  \n",
        "    prediction, encoder_output, decoder_output = model(tensor, length_tensor)\n",
        "\n",
        "    _, pred = torch.max(prediction, 1) \n",
        "    \n",
        "    return categories[pred.item()]"
      ],
      "execution_count": 73,
      "outputs": []
    },
    {
      "cell_type": "code",
      "metadata": {
        "id": "C1mmb9YiHWOv",
        "colab": {
          "base_uri": "https://localhost:8080/",
          "height": 35
        },
        "outputId": "5b25fce2-534f-4885-e5ec-69cc7abd87dc"
      },
      "source": [
        "classify_tweet(\"A valid explanation for why Trump won't let women on the golf course.\")"
      ],
      "execution_count": 74,
      "outputs": [
        {
          "output_type": "execute_result",
          "data": {
            "application/vnd.google.colaboratory.intrinsic+json": {
              "type": "string"
            },
            "text/plain": [
              "'Negative'"
            ]
          },
          "metadata": {
            "tags": []
          },
          "execution_count": 74
        }
      ]
    },
    {
      "cell_type": "code",
      "metadata": {
        "id": "9XU_DlC1HY5T"
      },
      "source": [
        ""
      ],
      "execution_count": null,
      "outputs": []
    }
  ]
}