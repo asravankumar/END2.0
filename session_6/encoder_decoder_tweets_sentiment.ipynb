{
  "nbformat": 4,
  "nbformat_minor": 0,
  "metadata": {
    "colab": {
      "name": "encoder_decoder_tweets_sentiment.ipynb",
      "provenance": [],
      "collapsed_sections": [],
      "include_colab_link": true
    },
    "kernelspec": {
      "name": "python3",
      "display_name": "Python 3"
    },
    "language_info": {
      "name": "python"
    }
  },
  "cells": [
    {
      "cell_type": "markdown",
      "metadata": {
        "id": "view-in-github",
        "colab_type": "text"
      },
      "source": [
        "<a href=\"https://colab.research.google.com/github/asravankumar/END2.0/blob/master/session_6/encoder_decoder_tweets_sentiment.ipynb\" target=\"_parent\"><img src=\"https://colab.research.google.com/assets/colab-badge.svg\" alt=\"Open In Colab\"/></a>"
      ]
    },
    {
      "cell_type": "code",
      "metadata": {
        "id": "gY4eAjHGbFON",
        "colab": {
          "base_uri": "https://localhost:8080/",
          "height": 206
        },
        "outputId": "48cd79b8-f0b1-4a34-fd9e-548bde3fba91"
      },
      "source": [
        "import pandas as pd\n",
        "\n",
        "df = pd.read_csv(\"/content/tweets.csv\")\n",
        "df.head()"
      ],
      "execution_count": 82,
      "outputs": [
        {
          "output_type": "execute_result",
          "data": {
            "text/html": [
              "<div>\n",
              "<style scoped>\n",
              "    .dataframe tbody tr th:only-of-type {\n",
              "        vertical-align: middle;\n",
              "    }\n",
              "\n",
              "    .dataframe tbody tr th {\n",
              "        vertical-align: top;\n",
              "    }\n",
              "\n",
              "    .dataframe thead th {\n",
              "        text-align: right;\n",
              "    }\n",
              "</style>\n",
              "<table border=\"1\" class=\"dataframe\">\n",
              "  <thead>\n",
              "    <tr style=\"text-align: right;\">\n",
              "      <th></th>\n",
              "      <th>tweets</th>\n",
              "      <th>labels</th>\n",
              "    </tr>\n",
              "  </thead>\n",
              "  <tbody>\n",
              "    <tr>\n",
              "      <th>0</th>\n",
              "      <td>Obama has called the GOP budget social Darwini...</td>\n",
              "      <td>1</td>\n",
              "    </tr>\n",
              "    <tr>\n",
              "      <th>1</th>\n",
              "      <td>In his teen years, Obama has been known to use...</td>\n",
              "      <td>0</td>\n",
              "    </tr>\n",
              "    <tr>\n",
              "      <th>2</th>\n",
              "      <td>IPA Congratulates President Barack Obama for L...</td>\n",
              "      <td>0</td>\n",
              "    </tr>\n",
              "    <tr>\n",
              "      <th>3</th>\n",
              "      <td>RT @Professor_Why: #WhatsRomneyHiding - his co...</td>\n",
              "      <td>0</td>\n",
              "    </tr>\n",
              "    <tr>\n",
              "      <th>4</th>\n",
              "      <td>RT @wardollarshome: Obama has approved more ta...</td>\n",
              "      <td>1</td>\n",
              "    </tr>\n",
              "  </tbody>\n",
              "</table>\n",
              "</div>"
            ],
            "text/plain": [
              "                                              tweets  labels\n",
              "0  Obama has called the GOP budget social Darwini...       1\n",
              "1  In his teen years, Obama has been known to use...       0\n",
              "2  IPA Congratulates President Barack Obama for L...       0\n",
              "3  RT @Professor_Why: #WhatsRomneyHiding - his co...       0\n",
              "4  RT @wardollarshome: Obama has approved more ta...       1"
            ]
          },
          "metadata": {
            "tags": []
          },
          "execution_count": 82
        }
      ]
    },
    {
      "cell_type": "code",
      "metadata": {
        "colab": {
          "base_uri": "https://localhost:8080/"
        },
        "id": "rE-ylf6C6BJD",
        "outputId": "abe5ba90-3c8a-4693-e074-978f5c6283fe"
      },
      "source": [
        "df.shape"
      ],
      "execution_count": 83,
      "outputs": [
        {
          "output_type": "execute_result",
          "data": {
            "text/plain": [
              "(1364, 2)"
            ]
          },
          "metadata": {
            "tags": []
          },
          "execution_count": 83
        }
      ]
    },
    {
      "cell_type": "code",
      "metadata": {
        "colab": {
          "base_uri": "https://localhost:8080/"
        },
        "id": "dkxhrQox6Ju3",
        "outputId": "63d92b93-1547-4e96-b4c4-d29e350297a5"
      },
      "source": [
        "df.labels.value_counts()"
      ],
      "execution_count": 84,
      "outputs": [
        {
          "output_type": "execute_result",
          "data": {
            "text/plain": [
              "0    931\n",
              "1    352\n",
              "2     81\n",
              "Name: labels, dtype: int64"
            ]
          },
          "metadata": {
            "tags": []
          },
          "execution_count": 84
        }
      ]
    },
    {
      "cell_type": "code",
      "metadata": {
        "id": "JDIyapAa6Pjr"
      },
      "source": [
        "import random\n",
        "import torch, torchtext\n",
        "from torchtext import data"
      ],
      "execution_count": 85,
      "outputs": []
    },
    {
      "cell_type": "code",
      "metadata": {
        "colab": {
          "base_uri": "https://localhost:8080/"
        },
        "id": "4kqZx2hG6e4Q",
        "outputId": "18f7d855-c8a1-4a7e-dd09-dfffb341533b"
      },
      "source": [
        "# Manual Seed\n",
        "SEED = 43\n",
        "torch.manual_seed(SEED)"
      ],
      "execution_count": 86,
      "outputs": [
        {
          "output_type": "execute_result",
          "data": {
            "text/plain": [
              "<torch._C.Generator at 0x7f605264df30>"
            ]
          },
          "metadata": {
            "tags": []
          },
          "execution_count": 86
        }
      ]
    },
    {
      "cell_type": "code",
      "metadata": {
        "id": "db3eiDVx6mKf"
      },
      "source": [
        "Tweet = torchtext.legacy.data.Field(sequential = True, tokenize = 'spacy', batch_first =True, include_lengths=True)\n",
        "Label = torchtext.legacy.data.LabelField(tokenize ='spacy', is_target=True, batch_first =True, sequential =False)"
      ],
      "execution_count": 90,
      "outputs": []
    },
    {
      "cell_type": "code",
      "metadata": {
        "id": "-by1zHIV7LPI"
      },
      "source": [
        "fields = [('tweet', Tweet), ('label', Label)]"
      ],
      "execution_count": 91,
      "outputs": []
    },
    {
      "cell_type": "code",
      "metadata": {
        "id": "GxmCFTgk797i"
      },
      "source": [
        "example = [torchtext.legacy.data.Example.fromlist([df.tweets[i],df.labels[i]], fields) for i in range(df.shape[0])] "
      ],
      "execution_count": 92,
      "outputs": []
    },
    {
      "cell_type": "code",
      "metadata": {
        "id": "-Lj9XCy38OqE"
      },
      "source": [
        "twitterDataset = torchtext.legacy.data.Dataset(example, fields)"
      ],
      "execution_count": 95,
      "outputs": []
    },
    {
      "cell_type": "code",
      "metadata": {
        "id": "4PIA3n0l8m2x"
      },
      "source": [
        "(train, valid) = twitterDataset.split(split_ratio=[85, 15], random_state = random.seed(SEED))"
      ],
      "execution_count": 96,
      "outputs": []
    },
    {
      "cell_type": "code",
      "metadata": {
        "colab": {
          "base_uri": "https://localhost:8080/"
        },
        "id": "91fhtSKS8y3T",
        "outputId": "90a70b98-ec34-478d-92ca-27f977928d1b"
      },
      "source": [
        "len(train), len(valid)"
      ],
      "execution_count": 97,
      "outputs": [
        {
          "output_type": "execute_result",
          "data": {
            "text/plain": [
              "(1159, 205)"
            ]
          },
          "metadata": {
            "tags": []
          },
          "execution_count": 97
        }
      ]
    },
    {
      "cell_type": "code",
      "metadata": {
        "colab": {
          "base_uri": "https://localhost:8080/"
        },
        "id": "pCDhbBKJ81ZK",
        "outputId": "43063071-50b9-49fc-fabb-0884e2d70bdb"
      },
      "source": [
        "vars(train.examples[11])"
      ],
      "execution_count": 98,
      "outputs": [
        {
          "output_type": "execute_result",
          "data": {
            "text/plain": [
              "{'label': 1,\n",
              " 'tweet': ['@sweetbay',\n",
              "  'That',\n",
              "  'was',\n",
              "  'Paul',\n",
              "  'Ryan',\n",
              "  \"'s\",\n",
              "  'budget',\n",
              "  '.',\n",
              "  'How',\n",
              "  'did',\n",
              "  'Obama',\n",
              "  \"'s\",\n",
              "  'budget',\n",
              "  'do',\n",
              "  '?',\n",
              "  'Getting',\n",
              "  'educated',\n",
              "  'on',\n",
              "  'the',\n",
              "  'facts',\n",
              "  'is',\n",
              "  'the',\n",
              "  'first',\n",
              "  'step',\n",
              "  'in',\n",
              "  'losing',\n",
              "  'that',\n",
              "  'liberalism',\n",
              "  '!']}"
            ]
          },
          "metadata": {
            "tags": []
          },
          "execution_count": 98
        }
      ]
    },
    {
      "cell_type": "code",
      "metadata": {
        "id": "b_K23gxx84-K"
      },
      "source": [
        "Tweet.build_vocab(train)\n",
        "Label.build_vocab(train)"
      ],
      "execution_count": 99,
      "outputs": []
    },
    {
      "cell_type": "code",
      "metadata": {
        "colab": {
          "base_uri": "https://localhost:8080/"
        },
        "id": "zCPG8VrE9MKq",
        "outputId": "b2b082f8-ea83-4ee1-8b49-9fd2d428244d"
      },
      "source": [
        "print('Size of input vocab : ', len(Tweet.vocab))\n",
        "print('Size of label vocab : ', len(Label.vocab))\n",
        "print('Top 10 words appreared repeatedly :', list(Tweet.vocab.freqs.most_common(10)))\n",
        "print('Labels : ', Label.vocab.stoi)"
      ],
      "execution_count": 100,
      "outputs": [
        {
          "output_type": "stream",
          "text": [
            "Size of input vocab :  4651\n",
            "Size of label vocab :  3\n",
            "Top 10 words appreared repeatedly : [('Obama', 1069), (':', 783), ('#', 780), ('.', 761), (',', 598), ('\"', 550), ('the', 542), ('RT', 516), ('?', 419), ('to', 400)]\n",
            "Labels :  defaultdict(None, {0: 0, 1: 1, 2: 2})\n"
          ],
          "name": "stdout"
        }
      ]
    },
    {
      "cell_type": "code",
      "metadata": {
        "colab": {
          "base_uri": "https://localhost:8080/"
        },
        "id": "gBmMQQcX9SZk",
        "outputId": "69280d16-b8e5-43c3-ef0c-ee0fa201e0c3"
      },
      "source": [
        "device = torch.device(\"cuda\" if torch.cuda.is_available() else \"cpu\")\n",
        "device"
      ],
      "execution_count": 101,
      "outputs": [
        {
          "output_type": "execute_result",
          "data": {
            "text/plain": [
              "device(type='cpu')"
            ]
          },
          "metadata": {
            "tags": []
          },
          "execution_count": 101
        }
      ]
    },
    {
      "cell_type": "code",
      "metadata": {
        "id": "fIJyulXA9sEr"
      },
      "source": [
        "train_iterator, valid_iterator = torchtext.legacy.data.BucketIterator.splits((train, valid), batch_size = 5, \n",
        "                                                            sort_key = lambda x: len(x.tweet),\n",
        "                                                            sort_within_batch=True, device = device)"
      ],
      "execution_count": 102,
      "outputs": []
    },
    {
      "cell_type": "code",
      "metadata": {
        "colab": {
          "base_uri": "https://localhost:8080/"
        },
        "id": "0kgqqK75FLEV",
        "outputId": "a4e39192-a291-4af9-d469-23ac1fa022b1"
      },
      "source": [
        "next(iter(train_iterator))\n",
        "#len(train.examples[11].tweet)"
      ],
      "execution_count": 58,
      "outputs": [
        {
          "output_type": "execute_result",
          "data": {
            "text/plain": [
              "\n",
              "[torchtext.legacy.data.batch.Batch of size 5]\n",
              "\t[.tweet]:('[torch.LongTensor of size 5x28]', '[torch.LongTensor of size 5]')\n",
              "\t[.label]:[torch.LongTensor of size 5]"
            ]
          },
          "metadata": {
            "tags": []
          },
          "execution_count": 58
        }
      ]
    },
    {
      "cell_type": "code",
      "metadata": {
        "id": "l_NVSpoV-Uaj"
      },
      "source": [
        "import os, pickle\n",
        "with open('tokenizer.pkl', 'wb') as tokens: \n",
        "    pickle.dump(Tweet.vocab.stoi, tokens)"
      ],
      "execution_count": 103,
      "outputs": []
    },
    {
      "cell_type": "code",
      "metadata": {
        "id": "fNQnNcH6-oZZ"
      },
      "source": [
        "import torch.nn as nn\n",
        "import torch.nn.functional as F\n",
        "\n",
        "\n",
        "class Encoder(nn.Module):\n",
        "  def __init__(self, vocab_size, embedding_dim, hidden_dim):\n",
        "    # Encoder class which accepts a sequence(tweet) and converts it into a context vector.\n",
        "    super().__init__()\n",
        "\n",
        "    # Embedding layer\n",
        "    self.embedding = nn.Embedding(vocab_size, embedding_dim)\n",
        "\n",
        "    # RNN Layer for encoding\n",
        "    self.rnn_layer = nn.RNN(embedding_dim,\n",
        "                          hidden_dim,\n",
        "                          batch_first=True)\n",
        "    \n",
        "  def forward(self, text, text_lengths):\n",
        "    #print(\"inside encoder\")\n",
        "    # text = [batch size, sent_length]\n",
        "    embedded_text         = self.embedding(text)\n",
        "\n",
        "    #print(\"embedded text dimension\", embedded_text.shape)\n",
        "    # embedded = [batch size, sent_len, emb dim]\n",
        "\n",
        "    # packed sequence\n",
        "    packed_embedded_text  = nn.utils.rnn.pack_padded_sequence(embedded_text,\n",
        "                                                        text_lengths.cpu(),\n",
        "                                                        batch_first=True)\n",
        "    #print(\"packed embedded text dimension\", packed_embedded_text.data.shape)\n",
        "\n",
        "    # input sequence to the rnn layer \n",
        "    encoder_output, hidden   = self.rnn_layer(packed_embedded_text)\n",
        "    # rnn output in packed format which contains outputs at every sequence.\n",
        "    # the hidden will be of last state only.\n",
        "    # hidden = [1 , batch_size, hidden_dim]\n",
        "    # Note that, the hidden tensor will not be in the batch_first = True shape. Only the output tensor will be in batch_first if it is set to true.\n",
        "    # print(\"encoder output dimension\", encoder_output.data.shape)\n",
        "    #print(\"hidden dimension\", hidden.shape)\n",
        "    #print(\"hidden vector\", hidden)\n",
        "\n",
        "    # unpack the encoder rnn output \n",
        "    encoder_output, encoder_output_lengths = nn.utils.rnn.pad_packed_sequence(encoder_output, batch_first=True)\n",
        "    # will be in batch_first = True shape\n",
        "    # encoder_output = [batch_size, sent_len, hidden_dim]\n",
        "    #print(\"encoder_output after pad packed dimension\", encoder_output.shape)\n",
        "    #print(\"--------------------------------------------------\")\n",
        "\n",
        "    # here returning the output at all states.\n",
        "    # and the last hidden vector which is the SINGLE context vector for the input sequence. \n",
        "    return(encoder_output, hidden)\n",
        "\n",
        "class Decoder(nn.Module):\n",
        "  def __init__(self, encoder_output_dim, hidden_dim):\n",
        "    super().__init__()\n",
        "\n",
        "    # lstm layer as part of decoder.\n",
        "    # the encoder emits a hidden vector with one sequence. Hence, lstm is here for once in the pipeline.\n",
        "\n",
        "    self.decoder = nn.LSTM(encoder_output_dim, \n",
        "                       hidden_dim,  \n",
        "                       batch_first=True)\n",
        "\n",
        "  def forward(self, single_vector):\n",
        "    # Here single_vector is the hidden vector from the encoder.\n",
        "    # single_vector = [batch_size, 1, hidden_dim]\n",
        "    #print(\"inside decoder\")\n",
        "    #print(\"encoder output dimension\", single_vector.shape)\n",
        "\n",
        "    #encoder_output = encoder_output.squeeze(0).unsqueeze(1)\n",
        "    # encoder_output\n",
        "    output, (hidden_vector, cell_vector) = self.decoder(single_vector)\n",
        "    # hidden_vector is the decoded vector which is input to the fully connected layer.\n",
        "    # hidden_vector = [1, batch_size, hidden_dim]\n",
        "\n",
        "    #print(\"decoded output dimension\", output.shape)\n",
        "    #print(\"decoded hidden vector dimension\", hidden_vector.shape)\n",
        "    #print(\"decoded cell vector dimension\", cell_vector.shape)\n",
        "    #print(\"---------------------------------------------------\")\n",
        "    return(output, hidden_vector)\n",
        "\n",
        "class EncoderDecoderClassifier(nn.Module):\n",
        "  def __init__(self, vocab_size, embedding_dim, hidden_dim, output_dim):\n",
        "    super(EncoderDecoderClassifier, self).__init__()\n",
        "\n",
        "    self.encoder = Encoder(vocab_size, embedding_dim, hidden_dim)\n",
        "    self.decoder = Decoder(hidden_dim, hidden_dim)\n",
        "    self.fc      = nn.Linear(hidden_dim, output_dim)\n",
        "\n",
        "  def forward(self, text, text_lengths):\n",
        "    # Encoder encodes using an rnn.\n",
        "    encoder_output, encoder_hidden = self.encoder(text, text_lengths)\n",
        "\n",
        "    # the hidden vector emitted by rnn is not in batch_first=True shape. Hence converting.\n",
        "    #print(\"encoder hidden dimension\", encoder_hidden.shape)\n",
        "    # encoder_hidden = [1, batch_size, hidden_dim]\n",
        "    encoder_hidden = encoder_hidden.squeeze(0).unsqueeze(1)\n",
        "    #print(\"encoder output dimension after sqeeze\", encoder_hidden.shape)\n",
        "    # AFter reshaping\n",
        "    # encoder_hidden = [batch_size, 1, hidden_dim]\n",
        "    \n",
        "    # Decode the input encoded single vector.\n",
        "    decoder_output, decoder_hidden = self.decoder(encoder_hidden)\n",
        "\n",
        "    # the hidden vector emitted by the decoder is in the batch_first=False shape. Hence convert it to shape for linear layer.\n",
        "    decoder_hidden = decoder_hidden.squeeze(0) #.unsqueeze(1)\n",
        "    # input to fully connected layer dimension = [batch_size, hidden_dim]\n",
        "    #print(\"input to fully connected layer\", decoder_hidden.shape)\n",
        "    dense_outputs = self.fc(decoder_hidden)\n",
        "    # fully connected layer output = [batch_size, output_dim]\n",
        "    #print(\"dense outputs\", dense_outputs.shape)\n",
        "    final_output = F.softmax(dense_outputs, dim=0)\n",
        "    #print(\"final output\", final_output.shape)\n",
        "    return(final_output, encoder_output, encoder_hidden, decoder_output)"
      ],
      "execution_count": 120,
      "outputs": []
    },
    {
      "cell_type": "code",
      "metadata": {
        "id": "TFNWimMMAKya"
      },
      "source": [
        "# Define hyperparameters\n",
        "size_of_vocab = len(Tweet.vocab)\n",
        "embedding_dim = 300\n",
        "num_hidden_nodes = 100\n",
        "num_output_nodes = 3\n",
        "num_layers = 2\n",
        "dropout = 0.2\n",
        "\n",
        "# Instantiate the model\n",
        "model = EncoderDecoderClassifier(size_of_vocab, embedding_dim, num_hidden_nodes, num_output_nodes)\n",
        "#model = classifier(size_of_vocab, embedding_dim, num_hidden_nodes, num_output_nodes, num_layers, dropout = dropout)"
      ],
      "execution_count": 121,
      "outputs": []
    },
    {
      "cell_type": "code",
      "metadata": {
        "colab": {
          "base_uri": "https://localhost:8080/"
        },
        "id": "IRextCcAASGO",
        "outputId": "6c2e5591-ba9b-4ccd-d1b5-cd78fd2e0bf2"
      },
      "source": [
        "print(model)\n",
        "\n",
        "#No. of trianable parameters\n",
        "def count_parameters(model):\n",
        "    return sum(p.numel() for p in model.parameters() if p.requires_grad)\n",
        "    \n",
        "print(f'The model has {count_parameters(model):,} trainable parameters')"
      ],
      "execution_count": 122,
      "outputs": [
        {
          "output_type": "stream",
          "text": [
            "EncoderDecoderClassifier(\n",
            "  (encoder): Encoder(\n",
            "    (embedding): Embedding(4651, 300)\n",
            "    (rnn_layer): RNN(300, 100, batch_first=True)\n",
            "  )\n",
            "  (decoder): Decoder(\n",
            "    (decoder): LSTM(100, 100, batch_first=True)\n",
            "  )\n",
            "  (fc): Linear(in_features=100, out_features=3, bias=True)\n",
            ")\n",
            "The model has 1,516,603 trainable parameters\n"
          ],
          "name": "stdout"
        }
      ]
    },
    {
      "cell_type": "code",
      "metadata": {
        "colab": {
          "base_uri": "https://localhost:8080/"
        },
        "id": "7qoX2k3jX5zw",
        "outputId": "bca4d894-9171-48f0-9d54-de229e1b2661"
      },
      "source": [
        "batch = next(iter(train_iterator))\n",
        "tweet, tweet_lengths = batch.tweet\n",
        "print(\"tweet\", tweet)\n",
        "print(\"tweet lenghts\", tweet_lengths)\n",
        "model = model.to(device)\n",
        "final_output, encoder_output, encoder_hidden, decoder_output = model(tweet, tweet_lengths)\n",
        "print(\"final_output\", final_output)\n",
        "print(\"final output dimensions\", final_output.shape)\n",
        "print(\"---------------------------\")\n",
        "\n",
        "print(\"batch label\", batch.label)\n",
        "criterion = nn.CrossEntropyLoss()\n",
        "criterion = criterion.to(device)\n",
        "loss = criterion(final_output, batch.label)\n",
        "print(\"loss\", loss)"
      ],
      "execution_count": 118,
      "outputs": [
        {
          "output_type": "stream",
          "text": [
            "tweet tensor([[ 851,  566, 3111, 2809,  574, 2381, 1343,   17,   17,   17,   17, 2318,\n",
            "          938, 3067, 1343, 1418,   97, 1533, 2311, 2846, 2978, 2528],\n",
            "        [   9, 2040,    3,    4,   29,   28,   27,   59, 1844,   14, 3296,   32,\n",
            "           14,  272,   22,   56,   32,   14, 1650,   32,    2,   26],\n",
            "        [ 476,  266,   13,  275,  606,  198,   13,    8, 4054, 1696,   13,    8,\n",
            "         4559,   19, 4404,   64, 1001,  138,  524,   12,  193,    5],\n",
            "        [ 556, 1651, 4492,  665,  169,  737, 3259, 4378,    3,   61,    2,  500,\n",
            "           16,  148,  199,   14, 4540,  324, 1881, 1636,   26, 3867],\n",
            "        [2649,   17,    9,  847,    3,   23,  171,   66,   71,   78,   20,  577,\n",
            "           28,  697,  494,  248,  503,    2,   26,   44,  728,    5]])\n",
            "tweet lenghts tensor([22, 22, 22, 22, 22])\n",
            "inside encoder\n",
            "embedded text dimension torch.Size([5, 22, 300])\n",
            "packed embedded text dimension torch.Size([110, 300])\n",
            "encoder output dimension torch.Size([110, 100])\n",
            "hidden dimension torch.Size([1, 5, 100])\n",
            "hidden vector tensor([[[ 0.9820, -0.9718,  0.2135, -0.8366, -0.8455, -0.1792, -0.2144,\n",
            "          -0.8150, -0.5297,  0.7477,  0.2199,  0.3277,  0.9856,  0.9519,\n",
            "           0.9795,  0.2695,  0.5001,  0.8580,  0.0807,  0.6058, -0.0594,\n",
            "           0.9598, -0.3530, -0.3080,  0.9648,  0.5801, -0.7135,  0.9594,\n",
            "          -0.9153, -0.9159, -0.6628,  0.6110,  0.0543, -0.9290, -0.3025,\n",
            "          -0.3353, -0.4205,  0.7302,  0.3977, -0.9146,  0.2575,  0.9597,\n",
            "           0.8315, -0.9408, -0.9800, -0.1305,  0.8316, -0.2525,  0.7757,\n",
            "          -0.9265,  0.3782,  0.7219,  0.2738, -0.9081,  0.6264,  0.3093,\n",
            "          -0.9838, -0.6255, -0.0066, -0.2465, -0.5527, -0.8874, -0.2319,\n",
            "           0.7288, -0.8917, -0.8878,  0.8989, -0.7810, -0.9029,  0.7281,\n",
            "           0.9112,  0.5395, -0.6767,  0.2349,  0.9587, -0.2031, -0.8202,\n",
            "          -0.4989,  0.7546, -0.5550, -0.2644,  0.1498,  0.9853, -0.9357,\n",
            "           0.2462, -0.5492,  0.3340, -0.6802,  0.1194,  0.5894, -0.1807,\n",
            "           0.9432,  0.5584, -0.9125, -0.5725, -0.9934,  0.9232,  0.9608,\n",
            "           0.3360, -0.4124],\n",
            "         [-0.9702, -0.6004,  0.4853, -0.9712,  0.7088, -0.6267,  0.6488,\n",
            "          -0.4429, -0.3304, -0.7572,  0.9864, -0.3429, -0.4545,  0.9025,\n",
            "           0.0788,  0.0124,  0.3287,  0.8810,  0.7695,  0.7798,  0.7285,\n",
            "          -0.7216,  0.1087, -0.5177, -0.6016, -0.9958,  0.7536,  0.9282,\n",
            "           0.5772,  0.8686, -0.2189, -0.8471, -0.4772, -0.4075, -0.9776,\n",
            "           0.9256, -0.4652, -0.8241, -0.9317, -0.9536,  0.8282, -0.8843,\n",
            "           0.5979,  0.9011,  0.4017,  0.4230,  0.5138,  0.8241, -0.9764,\n",
            "           0.6173,  0.1266, -0.6715,  0.8579, -0.1526,  0.1181, -0.9299,\n",
            "           0.9895, -0.4194,  0.5725,  0.6578,  0.7998,  0.9408, -0.5648,\n",
            "          -0.7069,  0.8494,  0.7915,  0.9322, -0.7122,  0.7884,  0.4136,\n",
            "           0.5331, -0.9757, -0.8711,  0.6625, -0.4447, -0.9677, -0.2663,\n",
            "           0.1523,  0.4756,  0.5651,  0.2056,  0.5929,  0.8377, -0.4865,\n",
            "          -0.9902,  0.6556, -0.8614,  0.7857, -0.6826,  0.5571,  0.9148,\n",
            "           0.3052, -0.9601,  0.9728, -0.5384, -0.2821, -0.8954,  0.8702,\n",
            "          -0.9418,  0.9151],\n",
            "         [ 0.3173, -0.5405,  0.2645,  0.7135, -0.1054, -0.5276, -0.7043,\n",
            "           0.9941, -0.1401,  0.2887, -0.4799,  0.3353,  0.1911,  0.7024,\n",
            "          -0.2447,  0.1227, -0.6835,  0.9511, -0.0904,  0.8918, -0.0436,\n",
            "          -0.3714, -0.2181, -0.1933, -0.9540,  0.9837,  0.9100,  0.6495,\n",
            "          -0.8199,  0.9636,  0.3896, -0.2308,  0.7966, -0.8886, -0.2590,\n",
            "           0.6395, -0.0742,  0.8280, -0.9151,  0.9255, -0.6175,  0.4672,\n",
            "          -0.4337,  0.2051,  0.8904, -0.7935, -0.2070,  0.6068, -0.4488,\n",
            "           0.3725,  0.3035,  0.7738, -0.5212, -0.4577,  0.6359, -0.5551,\n",
            "           0.3316,  0.9449,  0.6240, -0.8447, -0.0369, -0.9974,  0.8564,\n",
            "           0.2452, -0.7361,  0.9750,  0.5852, -0.6827,  0.5165,  0.6603,\n",
            "           0.2551,  0.5858, -0.6711, -0.8348, -0.8376, -0.1455, -0.1581,\n",
            "           0.1337, -0.7776, -0.7237, -0.4633, -0.0378,  0.9105, -0.8448,\n",
            "           0.0187, -0.5759, -0.9838,  0.3896,  0.9488, -0.2688,  0.2557,\n",
            "           0.6440, -0.8535, -0.2963, -0.9097, -0.9008,  0.7923, -0.8935,\n",
            "           0.0315, -0.7786],\n",
            "         [ 0.7236,  0.4238, -0.0651, -0.8114, -0.2503, -0.7407,  0.6407,\n",
            "           0.4264,  0.9019, -0.5298,  0.8707, -0.9769,  0.8326,  0.8999,\n",
            "          -0.6839,  0.4893, -0.9943, -0.8600,  0.6142,  0.3762, -0.9636,\n",
            "          -0.2159, -0.2400,  0.5529,  0.1634, -0.1054, -0.2132, -0.9432,\n",
            "           0.9797, -0.3810,  0.9623, -0.8719, -0.0390, -0.8992, -0.7911,\n",
            "           0.2688, -0.9332, -0.4738,  0.2186, -0.4331, -0.8256,  0.7640,\n",
            "           0.6144,  0.5134, -0.6347, -0.6563,  0.3237, -0.1168, -0.8190,\n",
            "           0.0714, -0.9446, -0.0291,  0.9519, -0.6607,  0.8037,  0.4973,\n",
            "          -0.4970, -0.9022, -0.9416,  0.4121, -0.9652, -0.5058,  0.6128,\n",
            "          -0.8617,  0.8502, -0.3353,  0.0073, -0.1139,  0.9126, -0.6378,\n",
            "          -0.2654, -0.9784,  0.2021, -0.4561, -0.2614,  0.0891, -0.4180,\n",
            "          -0.7589, -0.7579, -0.5282,  0.5738,  0.8754, -0.3094, -0.8749,\n",
            "           0.4984,  0.3898,  0.7819, -0.5062, -0.9413,  0.7151, -0.9793,\n",
            "          -0.4793, -0.3352,  0.3432,  0.4017, -0.6406, -0.2178, -0.6339,\n",
            "           0.5524, -0.9319],\n",
            "         [ 0.7587, -0.6255,  0.6052,  0.5312,  0.4375, -0.7040, -0.0843,\n",
            "           0.9816, -0.4228,  0.5968, -0.0403, -0.4460,  0.2850,  0.6811,\n",
            "          -0.0162, -0.2090, -0.6660,  0.6855, -0.3139,  0.8759,  0.5520,\n",
            "           0.2225, -0.2312,  0.2696, -0.9751,  0.8660,  0.9690,  0.6491,\n",
            "          -0.9073,  0.9722,  0.7300,  0.0849,  0.7538, -0.8745, -0.5285,\n",
            "           0.2913, -0.2489,  0.6597, -0.9510,  0.9043,  0.0591, -0.0700,\n",
            "          -0.1770, -0.2275,  0.9236, -0.8638, -0.7032,  0.5826,  0.1852,\n",
            "           0.0621,  0.0288,  0.2520, -0.6948, -0.8319,  0.7250, -0.3581,\n",
            "           0.4545,  0.9765,  0.5472, -0.6798,  0.7151, -0.9872,  0.1591,\n",
            "           0.4467, -0.8947,  0.9812,  0.8165,  0.2962,  0.6074, -0.1061,\n",
            "           0.2184,  0.3919, -0.3445, -0.8680, -0.8943, -0.2101, -0.5927,\n",
            "          -0.1298, -0.6512, -0.1420, -0.6427,  0.6531,  0.8978, -0.6355,\n",
            "           0.8149, -0.2757, -0.9674,  0.2457,  0.9362,  0.5357, -0.3394,\n",
            "           0.1699, -0.9136, -0.5849, -0.8616, -0.6006,  0.8861, -0.7005,\n",
            "           0.8882, -0.8908]]], grad_fn=<StackBackward>)\n",
            "encoder_output after pad packed dimension torch.Size([5, 22, 100])\n",
            "--------------------------------------------------\n",
            "encoder hidden dimension torch.Size([1, 5, 100])\n",
            "encoder output dimension after sqeeze torch.Size([5, 1, 100])\n",
            "inside decoder\n",
            "encoder output dimension torch.Size([5, 1, 100])\n",
            "decoded output dimension torch.Size([5, 1, 100])\n",
            "decoded hidden vector dimension torch.Size([1, 5, 100])\n",
            "decoded cell vector dimension torch.Size([1, 5, 100])\n",
            "---------------------------------------------------\n",
            "input to fully connected layer torch.Size([5, 100])\n",
            "dense outputs torch.Size([5, 3])\n",
            "final output torch.Size([5, 3])\n",
            "final_output tensor([[0.1867, 0.1976, 0.1866],\n",
            "        [0.2126, 0.2156, 0.2178],\n",
            "        [0.2022, 0.1996, 0.2000],\n",
            "        [0.1900, 0.1981, 0.1928],\n",
            "        [0.2084, 0.1890, 0.2028]], grad_fn=<SoftmaxBackward>)\n",
            "final output dimensions torch.Size([5, 3])\n",
            "---------------------------\n",
            "batch label tensor([0, 0, 0, 0, 0])\n",
            "loss tensor(1.0986, grad_fn=<NllLossBackward>)\n"
          ],
          "name": "stdout"
        }
      ]
    },
    {
      "cell_type": "code",
      "metadata": {
        "id": "EPK6b19HATLm"
      },
      "source": [
        "import torch.optim as optim\n",
        "\n",
        "# define optimizer and loss\n",
        "optimizer = optim.Adam(model.parameters(), lr=2e-4)\n",
        "criterion = nn.CrossEntropyLoss()\n",
        "\n",
        "# define metric\n",
        "def binary_accuracy(preds, y):\n",
        "    #round predictions to the closest integer\n",
        "    _, predictions = torch.max(preds, 1)\n",
        "    \n",
        "    correct = (predictions == y).float() \n",
        "    acc = correct.sum() / len(correct)\n",
        "    return acc\n",
        "    \n",
        "# push to cuda if available\n",
        "model = model.to(device)\n",
        "criterion = criterion.to(device)"
      ],
      "execution_count": 123,
      "outputs": []
    },
    {
      "cell_type": "code",
      "metadata": {
        "id": "A8t9iWwqAify"
      },
      "source": [
        "def train_model(model, iterator, optimizer, criterion):\n",
        "    \n",
        "    # initialize every epoch \n",
        "    epoch_loss = 0\n",
        "    epoch_acc = 0\n",
        "    \n",
        "    # set the model in training phase\n",
        "    model.train()  \n",
        "    \n",
        "    for batch in iterator:\n",
        "        \n",
        "        # resets the gradients after every batch\n",
        "        optimizer.zero_grad()   \n",
        "        \n",
        "        # retrieve text and no. of words\n",
        "        tweet, tweet_lengths = batch.tweet  \n",
        "        \n",
        "        # convert to 1D tensor\n",
        "        predictions, encoder_output, encoder_hidden, decoder_output = model(tweet, tweet_lengths)\n",
        "        predictions = predictions.squeeze()  \n",
        "        \n",
        "        # compute the loss\n",
        "        loss = criterion(predictions, batch.label)        \n",
        "        \n",
        "        # compute the binary accuracy\n",
        "        acc = binary_accuracy(predictions, batch.label)   \n",
        "        \n",
        "        # backpropage the loss and compute the gradients\n",
        "        loss.backward()       \n",
        "        \n",
        "        # update the weights\n",
        "        optimizer.step()      \n",
        "        \n",
        "        # loss and accuracy\n",
        "        epoch_loss += loss.item()  \n",
        "        epoch_acc += acc.item()    \n",
        "        \n",
        "    return epoch_loss / len(iterator), epoch_acc / len(iterator)"
      ],
      "execution_count": 124,
      "outputs": []
    },
    {
      "cell_type": "code",
      "metadata": {
        "id": "LMBXHd5JAuX-"
      },
      "source": [
        "def evaluate(model, iterator, criterion):\n",
        "    \n",
        "    # initialize every epoch\n",
        "    epoch_loss = 0\n",
        "    epoch_acc = 0\n",
        "\n",
        "    # deactivating dropout layers\n",
        "    model.eval()\n",
        "    \n",
        "    # deactivates autograd\n",
        "    with torch.no_grad():\n",
        "    \n",
        "        for batch in iterator:\n",
        "        \n",
        "            # retrieve text and no. of words\n",
        "            tweet, tweet_lengths = batch.tweet\n",
        "            \n",
        "            # convert to 1d tensor\n",
        "            #predictions = model(tweet, tweet_lengths).squeeze()\n",
        "            \n",
        "            predictions, encoder_output, encoder_hidden, decoder_output = model(tweet, tweet_lengths)\n",
        "            predictions = predictions.squeeze()  \n",
        "            # compute loss and accuracy\n",
        "            loss = criterion(predictions, batch.label)\n",
        "            acc = binary_accuracy(predictions, batch.label)\n",
        "            \n",
        "            # keep track of loss and accuracy\n",
        "            epoch_loss += loss.item()\n",
        "            epoch_acc += acc.item()\n",
        "        \n",
        "    return epoch_loss / len(iterator), epoch_acc / len(iterator)"
      ],
      "execution_count": 125,
      "outputs": []
    },
    {
      "cell_type": "code",
      "metadata": {
        "colab": {
          "base_uri": "https://localhost:8080/"
        },
        "id": "q7UPwN0KAvVq",
        "outputId": "c655bb92-6aee-4291-a932-b6cf1bbfb627"
      },
      "source": [
        "N_EPOCHS = 50\n",
        "best_valid_loss = float('inf')\n",
        "train_losses = []\n",
        "train_accuracies = []\n",
        "valid_losses = []\n",
        "valid_accuracies = []\n",
        "\n",
        "for epoch in range(N_EPOCHS):\n",
        "     \n",
        "    # train the model\n",
        "    train_loss, train_acc = train_model(model, train_iterator, optimizer, criterion)\n",
        "    train_losses.append(train_loss)\n",
        "    train_accuracies.append(train_acc)\n",
        "\n",
        "    # evaluate the model\n",
        "    valid_loss, valid_acc = evaluate(model, valid_iterator, criterion)\n",
        "    valid_losses.append(valid_loss)\n",
        "    valid_accuracies.append(valid_acc)\n",
        "\n",
        "    # save the best model\n",
        "    if valid_loss < best_valid_loss:\n",
        "        best_valid_loss = valid_loss\n",
        "        torch.save(model.state_dict(), 'saved_weights.pt')\n",
        "    \n",
        "    print(f'\\tTrain Loss: {train_loss:.3f} | Train Acc: {train_acc*100:.2f}%')\n",
        "    print(f'\\t Val. Loss: {valid_loss:.3f} |  Val. Acc: {valid_acc*100:.2f}% \\n')"
      ],
      "execution_count": 126,
      "outputs": [
        {
          "output_type": "stream",
          "text": [
            "\tTrain Loss: 1.094 | Train Acc: 46.72%\n",
            "\t Val. Loss: 1.091 |  Val. Acc: 54.63% \n",
            "\n",
            "\tTrain Loss: 1.075 | Train Acc: 60.67%\n",
            "\t Val. Loss: 1.072 |  Val. Acc: 55.61% \n",
            "\n",
            "\tTrain Loss: 1.042 | Train Acc: 66.90%\n",
            "\t Val. Loss: 1.044 |  Val. Acc: 61.46% \n",
            "\n",
            "\tTrain Loss: 1.006 | Train Acc: 70.06%\n",
            "\t Val. Loss: 1.044 |  Val. Acc: 60.00% \n",
            "\n",
            "\tTrain Loss: 0.988 | Train Acc: 71.64%\n",
            "\t Val. Loss: 1.035 |  Val. Acc: 59.02% \n",
            "\n",
            "\tTrain Loss: 0.976 | Train Acc: 73.88%\n",
            "\t Val. Loss: 1.034 |  Val. Acc: 60.49% \n",
            "\n",
            "\tTrain Loss: 0.970 | Train Acc: 73.97%\n",
            "\t Val. Loss: 1.033 |  Val. Acc: 62.93% \n",
            "\n",
            "\tTrain Loss: 0.963 | Train Acc: 75.06%\n",
            "\t Val. Loss: 1.036 |  Val. Acc: 60.00% \n",
            "\n",
            "\tTrain Loss: 0.951 | Train Acc: 77.93%\n",
            "\t Val. Loss: 1.035 |  Val. Acc: 64.88% \n",
            "\n",
            "\tTrain Loss: 0.957 | Train Acc: 75.73%\n",
            "\t Val. Loss: 1.041 |  Val. Acc: 63.41% \n",
            "\n",
            "\tTrain Loss: 0.941 | Train Acc: 78.62%\n",
            "\t Val. Loss: 1.035 |  Val. Acc: 62.93% \n",
            "\n",
            "\tTrain Loss: 0.940 | Train Acc: 80.17%\n",
            "\t Val. Loss: 1.033 |  Val. Acc: 63.41% \n",
            "\n",
            "\tTrain Loss: 0.944 | Train Acc: 78.88%\n",
            "\t Val. Loss: 1.029 |  Val. Acc: 64.88% \n",
            "\n",
            "\tTrain Loss: 0.936 | Train Acc: 82.33%\n",
            "\t Val. Loss: 1.030 |  Val. Acc: 65.85% \n",
            "\n",
            "\tTrain Loss: 0.940 | Train Acc: 80.26%\n",
            "\t Val. Loss: 1.029 |  Val. Acc: 67.32% \n",
            "\n",
            "\tTrain Loss: 0.934 | Train Acc: 81.64%\n",
            "\t Val. Loss: 1.029 |  Val. Acc: 64.39% \n",
            "\n",
            "\tTrain Loss: 0.931 | Train Acc: 81.98%\n",
            "\t Val. Loss: 1.026 |  Val. Acc: 65.37% \n",
            "\n",
            "\tTrain Loss: 0.942 | Train Acc: 79.40%\n",
            "\t Val. Loss: 1.029 |  Val. Acc: 65.85% \n",
            "\n",
            "\tTrain Loss: 0.927 | Train Acc: 85.00%\n",
            "\t Val. Loss: 1.030 |  Val. Acc: 65.85% \n",
            "\n",
            "\tTrain Loss: 0.930 | Train Acc: 82.39%\n",
            "\t Val. Loss: 1.030 |  Val. Acc: 66.34% \n",
            "\n",
            "\tTrain Loss: 0.935 | Train Acc: 81.98%\n",
            "\t Val. Loss: 1.024 |  Val. Acc: 66.34% \n",
            "\n",
            "\tTrain Loss: 0.927 | Train Acc: 84.83%\n",
            "\t Val. Loss: 1.032 |  Val. Acc: 66.34% \n",
            "\n",
            "\tTrain Loss: 0.933 | Train Acc: 81.47%\n",
            "\t Val. Loss: 1.030 |  Val. Acc: 65.37% \n",
            "\n",
            "\tTrain Loss: 0.934 | Train Acc: 81.81%\n",
            "\t Val. Loss: 1.027 |  Val. Acc: 65.85% \n",
            "\n",
            "\tTrain Loss: 0.932 | Train Acc: 81.64%\n",
            "\t Val. Loss: 1.029 |  Val. Acc: 64.39% \n",
            "\n",
            "\tTrain Loss: 0.928 | Train Acc: 83.62%\n",
            "\t Val. Loss: 1.028 |  Val. Acc: 65.85% \n",
            "\n",
            "\tTrain Loss: 0.932 | Train Acc: 83.28%\n",
            "\t Val. Loss: 1.025 |  Val. Acc: 68.29% \n",
            "\n",
            "\tTrain Loss: 0.924 | Train Acc: 85.17%\n",
            "\t Val. Loss: 1.030 |  Val. Acc: 64.88% \n",
            "\n",
            "\tTrain Loss: 0.932 | Train Acc: 83.47%\n",
            "\t Val. Loss: 1.030 |  Val. Acc: 65.37% \n",
            "\n",
            "\tTrain Loss: 0.928 | Train Acc: 83.99%\n",
            "\t Val. Loss: 1.028 |  Val. Acc: 65.85% \n",
            "\n",
            "\tTrain Loss: 0.924 | Train Acc: 86.29%\n",
            "\t Val. Loss: 1.030 |  Val. Acc: 63.90% \n",
            "\n",
            "\tTrain Loss: 0.925 | Train Acc: 86.49%\n",
            "\t Val. Loss: 1.030 |  Val. Acc: 66.34% \n",
            "\n",
            "\tTrain Loss: 0.925 | Train Acc: 86.38%\n",
            "\t Val. Loss: 1.031 |  Val. Acc: 64.88% \n",
            "\n",
            "\tTrain Loss: 0.924 | Train Acc: 87.07%\n",
            "\t Val. Loss: 1.031 |  Val. Acc: 64.39% \n",
            "\n",
            "\tTrain Loss: 0.929 | Train Acc: 85.86%\n",
            "\t Val. Loss: 1.033 |  Val. Acc: 64.39% \n",
            "\n",
            "\tTrain Loss: 0.930 | Train Acc: 83.97%\n",
            "\t Val. Loss: 1.033 |  Val. Acc: 65.37% \n",
            "\n",
            "\tTrain Loss: 0.928 | Train Acc: 85.00%\n",
            "\t Val. Loss: 1.028 |  Val. Acc: 65.85% \n",
            "\n",
            "\tTrain Loss: 0.932 | Train Acc: 85.13%\n",
            "\t Val. Loss: 1.031 |  Val. Acc: 67.32% \n",
            "\n",
            "\tTrain Loss: 0.921 | Train Acc: 86.98%\n",
            "\t Val. Loss: 1.029 |  Val. Acc: 66.83% \n",
            "\n",
            "\tTrain Loss: 0.928 | Train Acc: 85.69%\n",
            "\t Val. Loss: 1.030 |  Val. Acc: 66.34% \n",
            "\n",
            "\tTrain Loss: 0.931 | Train Acc: 84.48%\n",
            "\t Val. Loss: 1.030 |  Val. Acc: 68.29% \n",
            "\n",
            "\tTrain Loss: 0.931 | Train Acc: 86.12%\n",
            "\t Val. Loss: 1.030 |  Val. Acc: 65.85% \n",
            "\n",
            "\tTrain Loss: 0.928 | Train Acc: 85.95%\n",
            "\t Val. Loss: 1.031 |  Val. Acc: 67.32% \n",
            "\n",
            "\tTrain Loss: 0.925 | Train Acc: 87.59%\n",
            "\t Val. Loss: 1.029 |  Val. Acc: 67.32% \n",
            "\n",
            "\tTrain Loss: 0.926 | Train Acc: 86.64%\n",
            "\t Val. Loss: 1.025 |  Val. Acc: 69.27% \n",
            "\n",
            "\tTrain Loss: 0.933 | Train Acc: 86.10%\n",
            "\t Val. Loss: 1.026 |  Val. Acc: 70.24% \n",
            "\n",
            "\tTrain Loss: 0.934 | Train Acc: 86.47%\n",
            "\t Val. Loss: 1.028 |  Val. Acc: 65.85% \n",
            "\n",
            "\tTrain Loss: 0.924 | Train Acc: 86.40%\n",
            "\t Val. Loss: 1.024 |  Val. Acc: 67.80% \n",
            "\n",
            "\tTrain Loss: 0.932 | Train Acc: 85.26%\n",
            "\t Val. Loss: 1.023 |  Val. Acc: 66.83% \n",
            "\n",
            "\tTrain Loss: 0.924 | Train Acc: 86.47%\n",
            "\t Val. Loss: 1.025 |  Val. Acc: 66.83% \n",
            "\n"
          ],
          "name": "stdout"
        }
      ]
    },
    {
      "cell_type": "code",
      "metadata": {
        "colab": {
          "base_uri": "https://localhost:8080/",
          "height": 1000
        },
        "id": "BNmpgCfs-gRR",
        "outputId": "2064291e-94f5-4c75-dcdb-658be996229c"
      },
      "source": [
        "import matplotlib.pyplot as plt\n",
        "\n",
        "plt.plot(list(range(1, len(train_losses) + 1)), train_losses, label=\"Training Loss\")\n",
        "plt.xlabel(\"Epoch\")\n",
        "plt.ylabel(\"Training Loss\")\n",
        "plt.savefig('training_loss.png')\n",
        "plt.show()\n",
        "\n",
        "plt.plot(list(range(1, len(valid_losses) + 1)), valid_losses, label=\"Validation Loss\")\n",
        "plt.xlabel(\"Epoch\")\n",
        "plt.ylabel(\"Validation Loss\")\n",
        "plt.savefig('valid_loss.png')\n",
        "plt.show()\n",
        "\n",
        "plt.plot(list(range(1, len(train_accuracies) + 1)), train_accuracies, label=\"Training Accuracies\")\n",
        "plt.xlabel(\"Epoch\")\n",
        "plt.ylabel(\"Training Accuracies\")\n",
        "plt.savefig('training_accuracies.png')\n",
        "plt.show()\n",
        "\n",
        "plt.plot(list(range(1, len(valid_accuracies) + 1)), valid_accuracies, label=\"Valid Accuracies\")\n",
        "plt.xlabel(\"Epoch\")\n",
        "plt.ylabel(\"Validation Accuracies\")\n",
        "plt.savefig('validation_accuracies.png')\n",
        "plt.show()"
      ],
      "execution_count": 127,
      "outputs": [
        {
          "output_type": "display_data",
          "data": {
            "image/png": "[encoded data removed]",
            "text/plain": [
              "<Figure size 432x288 with 1 Axes>"
            ]
          },
          "metadata": {
            "tags": [],
            "needs_background": "light"
          }
        },
        {
          "output_type": "display_data",
          "data": {
            "image/png": "[encoded data removed]",
            "text/plain": [
              "<Figure size 432x288 with 1 Axes>"
            ]
          },
          "metadata": {
            "tags": [],
            "needs_background": "light"
          }
        },
        {
          "output_type": "display_data",
          "data": {
            "image/png": "[encoded data removed]",
            "text/plain": [
              "<Figure size 432x288 with 1 Axes>"
            ]
          },
          "metadata": {
            "tags": [],
            "needs_background": "light"
          }
        },
        {
          "output_type": "display_data",
          "data": {
            "image/png": "[encoded data removed]",
            "text/plain": [
              "<Figure size 432x288 with 1 Axes>"
            ]
          },
          "metadata": {
            "tags": [],
            "needs_background": "light"
          }
        }
      ]
    },
    {
      "cell_type": "code",
      "metadata": {
        "id": "BXCGxks4AxT3"
      },
      "source": [
        "#load weights and tokenizer\n",
        "\n",
        "path='./saved_weights.pt'\n",
        "model.load_state_dict(torch.load(path));\n",
        "model.eval();\n",
        "tokenizer_file = open('./tokenizer.pkl', 'rb')\n",
        "tokenizer = pickle.load(tokenizer_file)\n",
        "\n",
        "#inference \n",
        "\n",
        "import spacy\n",
        "nlp = spacy.load('en')\n",
        "\n",
        "def classify_tweet(tweet, print_vectors=False):\n",
        "    \n",
        "    categories = {0: \"Negative\", 1:\"Positive\", 2:\"Neutral\"}\n",
        "    \n",
        "    # tokenize the tweet \n",
        "    tokenized = [tok.text for tok in nlp.tokenizer(tweet)] \n",
        "    # convert to integer sequence using predefined tokenizer dictionary\n",
        "    indexed = [tokenizer[t] for t in tokenized]      \n",
        "    # compute no. of words        \n",
        "    length = [len(indexed)]\n",
        "    # convert to tensor                                    \n",
        "    tensor = torch.LongTensor(indexed).to(device)   \n",
        "    # reshape in form of batch, no. of words           \n",
        "    tensor = tensor.unsqueeze(1).T  \n",
        "    # convert to tensor                          \n",
        "    length_tensor = torch.LongTensor(length)\n",
        "    # Get the model prediction                  \n",
        "    prediction, encoder_output, encoder_hidden, decoder_output = model(tensor, length_tensor)\n",
        "\n",
        "    _, pred = torch.max(prediction, 1) \n",
        "    if print_vectors:\n",
        "      print(\"Encoder output after each token in the sequence:\")\n",
        "      for i in range(encoder_output.shape[1]):\n",
        "        print(\"input word: \\\"\" + tokenized[i] + \"\\\"\")\n",
        "        print(\"encoding output vector:\", encoder_output[0][i])\n",
        "        print(\"--------\")\n",
        "      print(\"-----------------------------------------------\")\n",
        "      print(\"The Encoder final state hidden vector which is the single vector for sequence:\")\n",
        "      print(\"single vector\", encoder_hidden)\n",
        "      print(\"-----------------------------------------------\")\n",
        "      print(\"Decoder output after 1st step\")\n",
        "      print(\"decoder_output\", decoder_output)\n",
        "      print(\"-----------------------------------------------\")\n",
        "      #print(\"encoder_output\", encoder_output.shape)\n",
        "      #print(\"single vector\", encoder_hidden.shape)\n",
        "      #print(\"decoder_output\", decoder_output.shape)\n",
        "    return categories[pred.item()]"
      ],
      "execution_count": 146,
      "outputs": []
    },
    {
      "cell_type": "code",
      "metadata": {
        "id": "C1mmb9YiHWOv",
        "colab": {
          "base_uri": "https://localhost:8080/",
          "height": 1000
        },
        "outputId": "e5fa1535-a058-4a32-c615-2c0cb54be528"
      },
      "source": [
        "classify_tweet(\"A valid explanation for why Trump won't let women on the golf course.\", True)"
      ],
      "execution_count": 147,
      "outputs": [
        {
          "output_type": "stream",
          "text": [
            "Encoder output after each token in the sequence:\n",
            "input word: \"A\"\n",
            "encoding output vector: tensor([ 0.9310, -0.1018, -0.2869,  0.8722,  0.3244, -0.9449, -0.6687, -0.0582,\n",
            "        -0.9880,  0.4742, -0.6379,  0.9715, -0.6352, -0.5796, -0.3112,  0.9071,\n",
            "        -0.5760, -0.2094,  0.5811,  0.9196,  0.7139, -0.1576,  0.3023, -0.0032,\n",
            "        -0.9886, -0.8475,  0.8581, -0.0370, -0.9728, -0.6093, -0.9119, -0.4601,\n",
            "        -0.7599,  0.6670,  0.9876,  0.1898, -0.2460,  0.3732, -0.9883, -0.3611,\n",
            "        -0.4131, -0.7276,  0.2436, -0.0914,  0.8747, -0.3409,  0.1517, -0.3001,\n",
            "         0.6297, -0.7465,  0.4323, -0.6409, -0.9006,  0.0855,  0.5492, -0.8965,\n",
            "         0.7907, -0.8293, -0.2243,  0.0408,  0.5341, -0.8660,  0.8532,  0.8989,\n",
            "         0.5849, -0.9826,  0.3360,  0.5717,  0.4411,  0.9506, -0.0142, -0.8946,\n",
            "         0.4812,  0.9966, -0.6821, -0.7229, -0.6258, -0.7779, -0.3221, -0.0196,\n",
            "        -0.7479,  0.9481,  0.4100, -0.7939,  0.1272, -0.8410,  0.4055,  0.9587,\n",
            "        -0.8399,  0.1878, -0.6494,  0.7440,  0.5075,  0.8253, -0.9499, -0.2312,\n",
            "         0.8690,  0.9450, -0.7670, -0.0089], grad_fn=<SelectBackward>)\n",
            "--------\n",
            "input word: \"valid\"\n",
            "encoding output vector: tensor([ 0.9541, -0.3919, -0.1822,  0.9928,  0.8794,  0.8456, -0.7471, -0.9721,\n",
            "         0.5273,  0.1594, -0.1054, -0.9988, -0.5232, -0.9892,  0.7921,  0.9411,\n",
            "         0.8063,  0.0527, -0.3599,  0.6198,  0.6294, -0.1161,  0.7690,  0.8809,\n",
            "        -0.6135,  0.9671, -0.3684,  0.7604, -0.8275,  0.2873, -0.9986,  0.4553,\n",
            "         0.8578, -0.6599,  0.9782,  0.8386, -0.6374,  0.9868, -0.0128,  0.3207,\n",
            "         0.9123, -0.3452,  0.1703,  0.1455, -0.5954, -0.4303,  0.0918, -0.9881,\n",
            "        -0.8600,  0.8177,  0.8452,  0.4806, -0.7703,  0.5024, -0.4857,  0.3640,\n",
            "         0.6817, -0.5267,  0.7097, -0.3994, -0.1863, -0.7734,  0.7515,  0.5204,\n",
            "         0.7824, -0.4950,  0.4770, -0.3317,  0.7229,  0.2664, -0.1749, -0.9422,\n",
            "        -0.9007,  0.5422,  0.8358, -0.9493, -0.2532, -0.1842, -0.2938,  0.2270,\n",
            "        -0.4472, -0.8972, -0.4585, -0.9159, -0.2166,  0.0112,  0.8426, -0.9176,\n",
            "         0.3417, -0.0644, -0.6374,  0.1173, -0.8043, -0.5575,  0.0142,  0.9928,\n",
            "         0.3388,  0.5521, -0.5011,  0.1890], grad_fn=<SelectBackward>)\n",
            "--------\n",
            "input word: \"explanation\"\n",
            "encoding output vector: tensor([ 0.2417, -0.6728,  0.9346, -0.3496, -0.7390, -0.1434, -0.6648, -0.9734,\n",
            "        -0.0204,  0.8285,  0.9739, -0.5464, -0.9655, -0.7862, -0.8680, -0.5031,\n",
            "         0.9894,  0.6954, -0.4682,  0.2248,  0.6683, -0.3182,  0.5426, -0.8005,\n",
            "         0.6142,  0.2102, -0.6390,  0.8760, -0.8058, -0.9303, -0.9703,  0.9610,\n",
            "         0.5827,  0.7350, -0.9274, -0.4604,  0.1332,  0.8914,  0.7235, -0.7077,\n",
            "        -0.7019,  0.4711, -0.5378, -0.1052,  0.1026,  0.8563,  0.7838, -0.6564,\n",
            "        -0.6915,  0.5685, -0.0570, -0.5673,  0.2552,  0.9370,  0.7554,  0.8559,\n",
            "         0.2874,  0.9848, -0.5513, -0.6719,  0.9227, -0.7457, -0.1179, -0.0407,\n",
            "         0.9749, -0.8316, -0.7230,  0.2352,  0.8568,  0.7858, -0.3922, -0.4165,\n",
            "        -0.9241, -0.8024,  0.8446, -0.8953,  0.0567,  0.9273, -0.7747,  0.1776,\n",
            "         0.1146,  0.4865,  0.3563, -0.7990, -0.3544, -0.8435,  0.7683, -0.9808,\n",
            "         0.9928, -0.5875, -0.4389, -0.9855,  0.9049, -0.8586,  0.4445,  0.7428,\n",
            "        -0.9524,  0.4064, -0.4635, -0.9365], grad_fn=<SelectBackward>)\n",
            "--------\n",
            "input word: \"for\"\n",
            "encoding output vector: tensor([ 0.8128,  0.2661,  0.9953,  0.9173, -0.9120, -0.7036, -0.9785, -0.8236,\n",
            "         0.6235,  0.8032, -0.3075,  0.5480,  0.9538, -0.8241,  0.5345, -0.7334,\n",
            "        -0.6301, -0.9263,  0.2298, -0.6516,  0.9133, -0.9187,  0.1491, -0.0816,\n",
            "        -0.9005,  0.9198, -0.8732,  0.8846,  0.7660,  0.1823,  0.5072,  0.9099,\n",
            "        -0.9261,  0.6245,  0.4226,  0.8611, -0.9320,  0.5580,  0.9565,  0.5009,\n",
            "         0.9453, -0.3983,  0.9411, -0.2457, -0.4097,  0.6824, -0.6922, -0.8789,\n",
            "        -0.3673, -0.6205, -0.7118,  0.4654, -0.4739,  0.5612, -0.0689,  0.9330,\n",
            "         0.9473,  0.8527, -0.7835,  0.8483,  0.8512, -0.9976,  0.2470,  0.1045,\n",
            "        -0.9382,  0.9522, -0.9576, -0.2071,  0.6411,  0.9941, -0.2616, -0.9562,\n",
            "        -0.9163,  0.3519,  0.0277,  0.3255,  0.9877,  0.1192, -0.9587, -0.8359,\n",
            "        -0.7325,  0.8199,  0.8385, -0.9325, -0.9973, -0.9858,  0.7159,  0.5151,\n",
            "         0.5557, -0.0777, -0.5839, -0.3732, -0.2858, -0.8646, -0.6633,  0.8004,\n",
            "        -0.4489,  0.3589,  0.1667,  0.0338], grad_fn=<SelectBackward>)\n",
            "--------\n",
            "input word: \"why\"\n",
            "encoding output vector: tensor([ 0.7417, -0.8941,  0.9914,  0.7975, -0.8518, -0.1610, -0.9775, -0.5564,\n",
            "        -0.9623,  0.9965, -0.8178,  0.4167,  0.3715, -0.7505, -0.5457,  0.6082,\n",
            "         0.8314, -0.6480, -0.6166,  0.2037, -0.3810, -0.0016,  0.5755,  0.4264,\n",
            "        -0.9825, -0.6540, -0.9987,  0.0517, -0.0155,  0.8167, -0.9496, -0.5799,\n",
            "         0.6325, -0.7921, -0.5895,  0.7363,  0.3972,  0.0818, -0.5647,  0.8630,\n",
            "        -0.9973,  0.5179,  0.9049, -0.0598, -0.8701,  0.8445, -0.5899, -0.1943,\n",
            "        -0.3727,  0.2240,  0.9757,  0.8453,  0.4002,  0.3382,  0.9858, -0.2813,\n",
            "         0.4962,  0.8565,  0.9418, -0.7393,  0.9941, -0.4387,  0.5568, -0.6190,\n",
            "        -0.8337,  0.3619, -0.5740, -0.9928,  0.7003, -0.6798, -0.1467, -0.7224,\n",
            "        -0.1612,  0.2640, -0.8879, -0.7181,  0.9965, -0.9134, -0.5729, -0.9709,\n",
            "        -0.0884, -0.6761,  0.9456,  0.9325, -0.9123, -0.2526,  0.0752,  0.9299,\n",
            "        -0.9162,  0.1478,  0.9549, -0.5181,  0.9921, -0.8754, -0.9491,  0.9852,\n",
            "         0.6288, -0.7532,  0.5577,  0.2597], grad_fn=<SelectBackward>)\n",
            "--------\n",
            "input word: \"Trump\"\n",
            "encoding output vector: tensor([-0.3990, -0.4908,  0.2311,  0.9975,  0.9716, -0.0611, -0.7975,  0.8519,\n",
            "        -0.7386, -0.6329, -0.8574,  0.5719,  0.8194, -0.4457, -0.6655,  0.7098,\n",
            "        -0.9257, -0.8488,  0.1359,  0.0547,  0.9980,  0.5378, -0.9791, -0.9346,\n",
            "        -0.8954,  0.8949,  0.2076, -0.8678, -0.1093, -0.3787, -0.9565, -0.1788,\n",
            "         0.8461,  0.9788,  0.9632,  0.9752, -0.7243,  0.9964,  0.4642, -0.5164,\n",
            "        -0.8406,  0.4004, -0.1802,  0.9468, -0.8060,  0.7849, -0.9614,  0.6348,\n",
            "        -0.9472, -0.7503, -0.9755,  0.9275, -0.2743, -0.5551,  0.9005,  0.9270,\n",
            "        -0.2050, -0.4611,  0.9429, -0.7197,  0.6920, -0.8132, -0.5001, -0.2101,\n",
            "        -0.9273,  0.8462,  0.0858, -0.5170,  0.8041, -0.5968, -0.8694,  0.3815,\n",
            "        -0.3494,  0.8290,  0.3212, -0.1404,  0.8820,  0.0331, -0.8961,  0.2011,\n",
            "        -0.8884,  0.0601, -0.1541, -0.0252, -0.7326,  0.5198,  0.7219,  0.6939,\n",
            "         0.8466,  0.9443,  0.0397,  0.0983,  0.6977, -0.8962,  0.1613, -0.2440,\n",
            "         0.7647, -0.4003, -0.1063, -0.8305], grad_fn=<SelectBackward>)\n",
            "--------\n",
            "input word: \"wo\"\n",
            "encoding output vector: tensor([-0.8709,  0.8059,  0.9925,  0.9973, -0.7141,  0.6814, -0.0588,  0.7176,\n",
            "        -0.8614, -0.7406, -0.6026, -0.4965,  0.4765, -0.4614,  0.0196, -0.1918,\n",
            "         0.4480,  0.7162,  0.6878, -0.9739,  0.4439, -0.9962, -0.5499,  0.1985,\n",
            "        -0.6726, -0.9937, -0.5387, -0.8349, -0.3867,  0.9310, -0.7553,  0.3476,\n",
            "         0.2662, -0.5187, -0.3459,  0.9579,  0.9738,  0.8813, -0.6418,  0.4630,\n",
            "         0.6454,  0.2298, -0.9646,  0.5820,  0.0281,  0.2267, -0.6435, -0.6164,\n",
            "         0.3066, -0.5556, -0.5349,  0.5637, -0.5613, -0.9839,  0.0116, -0.9812,\n",
            "        -0.9238,  0.7767, -0.6371,  0.0476,  0.7979,  0.0435, -0.4218, -0.9588,\n",
            "         0.5930, -0.9697, -0.6339, -0.7375, -0.0890, -0.9571,  0.8638,  0.5630,\n",
            "        -0.8626,  0.5407, -0.4614, -0.8976, -0.9536, -0.9948,  0.7647,  0.1502,\n",
            "        -0.9258, -0.9722, -0.4981,  0.6111,  0.6727,  0.9128,  0.9212,  0.6817,\n",
            "         0.2322, -0.3073,  0.9091, -0.9608,  0.5788,  0.9489,  0.9348,  0.3404,\n",
            "         0.7989,  0.8565,  0.7987, -0.8335], grad_fn=<SelectBackward>)\n",
            "--------\n",
            "input word: \"n't\"\n",
            "encoding output vector: tensor([ 0.0366,  0.6635,  0.9971,  0.8831,  0.9744, -0.4527, -0.8515,  0.9680,\n",
            "         0.3427, -0.9614,  0.7929,  0.7176,  0.5060, -0.7356,  0.7256, -0.9261,\n",
            "         0.8411,  0.9793,  0.5882, -0.9582, -0.7046,  0.7016,  0.9857, -0.9085,\n",
            "         0.8642,  0.9493,  0.2996,  0.9805, -0.9712,  0.4620, -0.1905,  0.9974,\n",
            "         0.1731,  0.9992, -0.7668,  0.9125,  0.9429,  0.2093, -0.8766, -0.9508,\n",
            "         0.9982,  0.6449,  0.3152,  0.8620,  0.2664,  0.9043,  0.4167,  0.3828,\n",
            "        -0.9070,  0.7171,  0.0360,  0.8562,  0.4827, -0.8580, -0.2765,  0.8728,\n",
            "        -0.9717,  0.7472, -0.2152,  0.0284, -0.9079, -0.3165,  0.0344, -0.4123,\n",
            "        -0.9030,  0.7709,  0.6199, -0.1362, -0.9847,  0.9437,  0.7619, -0.9414,\n",
            "        -0.9910, -0.9823,  0.3322,  0.9648,  0.9724,  0.8948, -0.5853,  0.5837,\n",
            "        -0.9601,  0.8358,  0.8965, -0.9785,  0.9180, -0.4543, -0.8047,  0.6799,\n",
            "         0.9579,  0.9457,  0.8353,  0.7698,  0.1632, -0.1679, -0.1236, -0.8127,\n",
            "         0.5870, -0.6524,  0.2496, -0.6460], grad_fn=<SelectBackward>)\n",
            "--------\n",
            "input word: \"let\"\n",
            "encoding output vector: tensor([ 9.2925e-01,  1.5345e-01,  1.8506e-01, -5.5832e-01, -8.8090e-02,\n",
            "         7.6338e-01,  3.2173e-02, -9.3720e-01, -6.8534e-01, -3.3299e-01,\n",
            "         1.8285e-01,  9.4815e-01,  7.6476e-01,  9.7046e-01,  5.2068e-01,\n",
            "        -1.2853e-01, -7.3256e-01,  9.5887e-01, -9.0527e-01,  2.4742e-01,\n",
            "        -9.7113e-01,  9.8134e-01,  7.2099e-02, -8.6417e-01, -9.1836e-01,\n",
            "        -8.3200e-01, -9.3645e-01, -2.3055e-01,  5.3927e-01,  5.8558e-01,\n",
            "        -5.5823e-01,  8.2363e-01, -6.7085e-01, -3.5325e-01, -9.7316e-01,\n",
            "         9.7209e-01, -6.8250e-01,  1.4003e-01, -8.3036e-01,  4.5575e-01,\n",
            "        -9.9012e-01, -3.5561e-01,  2.2068e-01,  6.8039e-01,  9.9294e-01,\n",
            "         5.8697e-01, -1.0046e-01,  7.9546e-01,  4.1139e-04, -7.7588e-01,\n",
            "         8.9544e-01,  2.6408e-01, -7.3388e-01,  8.8908e-01,  6.0779e-01,\n",
            "        -2.1359e-01, -1.0997e-01,  6.7117e-01, -3.6985e-01,  7.7107e-02,\n",
            "         5.5249e-01, -9.7426e-01, -9.7706e-01, -7.9129e-01,  3.2552e-01,\n",
            "        -5.3740e-01,  4.1007e-01,  7.7856e-01, -9.5913e-01,  8.1473e-01,\n",
            "        -8.9527e-01,  6.9700e-01, -2.1094e-01,  8.9688e-01, -9.7130e-01,\n",
            "         9.9815e-01, -8.7789e-01, -3.4891e-01,  2.4182e-01,  9.2463e-01,\n",
            "         4.7055e-01, -6.5305e-01,  6.5942e-01, -3.2151e-01, -4.7775e-01,\n",
            "         7.9186e-01, -3.7562e-01,  3.5623e-01, -4.8544e-02, -8.2497e-01,\n",
            "        -6.9112e-01, -9.1995e-01,  8.3481e-01,  9.5930e-01,  4.9867e-01,\n",
            "        -9.2963e-01, -3.8055e-01, -8.2822e-01,  4.0297e-01, -8.0123e-01],\n",
            "       grad_fn=<SelectBackward>)\n",
            "--------\n",
            "input word: \"women\"\n",
            "encoding output vector: tensor([-0.1627,  0.7038,  0.3080,  0.0017,  0.6106,  0.8987, -0.1972, -0.8820,\n",
            "         0.6330, -0.1915, -0.6986,  0.7772,  0.8861, -0.8518,  0.0089,  0.9619,\n",
            "         0.4839, -0.2871, -0.6528, -0.8966, -0.9875,  0.5206,  0.5386,  0.7217,\n",
            "        -0.7764,  0.7087,  0.3495,  0.2208,  0.8960,  0.2443,  0.9380, -0.4014,\n",
            "        -0.8746, -0.6394, -0.9152,  0.2178, -0.9863, -0.5234,  0.9445, -0.9144,\n",
            "         0.8377,  0.7830, -0.3650, -0.3022,  0.8175,  0.8312, -0.5804, -0.0779,\n",
            "         0.8702, -0.9896,  0.9829,  0.8414, -0.9242, -0.9135,  0.8028,  0.5633,\n",
            "         0.4101, -0.4061,  0.7745, -0.9552, -0.3572, -0.9242, -0.1739, -0.7871,\n",
            "         0.7482,  0.6070, -0.2271,  0.2276, -0.9837,  0.5380, -0.6288, -0.9171,\n",
            "        -0.4525,  0.9416, -0.2889,  0.3827,  0.9698, -0.0906,  0.4182, -0.6339,\n",
            "        -0.5824, -0.2197, -0.5494,  0.8645,  0.8433, -0.2047,  0.9066, -0.7720,\n",
            "         0.8812,  0.6905,  0.2447, -0.1617, -0.9598, -0.8408, -0.9914, -0.6084,\n",
            "         0.9070,  0.7795,  0.9028, -0.4131], grad_fn=<SelectBackward>)\n",
            "--------\n",
            "input word: \"on\"\n",
            "encoding output vector: tensor([ 0.5276,  0.8232,  0.8448, -0.1578, -0.9959,  0.0292, -0.8795, -0.6134,\n",
            "        -0.3362,  0.6736,  0.9446, -0.9351, -0.8089,  0.4270,  0.7809, -0.8381,\n",
            "         0.2715,  0.7940, -0.1096,  0.1105, -0.0702, -0.0515,  0.9268, -0.4663,\n",
            "        -0.6426,  0.9354,  0.2282, -0.6330, -0.7958,  0.2857, -0.9697, -0.7150,\n",
            "         0.6580,  0.1486, -0.9269, -0.7795, -0.0902, -0.8327, -0.7571,  0.8776,\n",
            "         0.8779,  0.8755, -0.4362,  0.8301,  0.4878, -0.8808,  0.8880,  0.2378,\n",
            "        -0.9538,  0.2206, -0.5570, -0.7083,  0.0537,  0.4752,  0.9183, -0.8594,\n",
            "         0.5242, -0.6802,  0.5237, -0.8655,  0.1521, -0.7636,  0.3968, -0.3044,\n",
            "         0.9009, -0.8764, -0.4111, -0.0576, -0.8094,  0.8361,  0.5309,  0.2680,\n",
            "         0.4005,  0.0717, -0.2536, -0.2305, -0.3239, -0.3867,  0.0495,  0.2704,\n",
            "         0.3426, -0.4566,  0.8989, -0.5693,  0.1408,  0.9839,  0.7805, -0.6108,\n",
            "        -0.8276,  0.9037, -0.9724, -0.5327,  0.2844, -0.0619, -0.3519, -0.1232,\n",
            "         0.8556,  0.7371, -0.4634,  0.0791], grad_fn=<SelectBackward>)\n",
            "--------\n",
            "input word: \"the\"\n",
            "encoding output vector: tensor([-0.9513,  0.6865,  0.6035,  0.4678,  0.2689, -0.9658, -0.3866, -0.8206,\n",
            "        -0.1067, -0.6237, -0.4735,  0.9715,  0.8770,  0.9845, -0.9759,  0.8458,\n",
            "        -0.2753, -0.8500,  0.9454,  0.5077, -0.8967, -0.5541, -0.4540, -0.8161,\n",
            "         0.7280,  0.7211, -0.0691, -0.9496, -0.4018, -0.9446, -0.9826,  0.0323,\n",
            "         0.8262, -0.2027,  0.7840, -0.0111, -0.7870, -0.8846,  0.5523,  0.7697,\n",
            "         0.9504, -0.9943, -0.9482, -0.9957,  0.4577, -0.4827, -0.4933,  0.8503,\n",
            "         0.8082, -0.7269,  0.6608, -0.9837, -0.8595, -0.8843,  0.1575,  0.3866,\n",
            "        -0.4582, -0.8694,  0.2169,  0.8132, -0.9903,  0.8845,  0.9884,  0.7194,\n",
            "        -0.6436, -0.6900,  0.9761,  0.7455,  0.4545,  0.9270,  0.4827, -0.4249,\n",
            "         0.0508,  0.9715, -0.9622, -0.7875, -0.3691,  0.9877,  0.4337,  0.4499,\n",
            "         0.3659,  0.8718, -0.2546, -0.4374,  0.8266, -0.9781,  0.9101,  0.8500,\n",
            "        -0.9951,  0.9661, -0.4322,  0.9896,  0.7692, -0.9224,  0.4817, -0.0548,\n",
            "         0.2023, -0.9491, -0.6485, -0.3667], grad_fn=<SelectBackward>)\n",
            "--------\n",
            "input word: \"golf\"\n",
            "encoding output vector: tensor([ 0.7405, -0.9769, -0.7889,  0.7974,  0.7385,  0.6710,  0.8204, -0.9828,\n",
            "         0.9956, -0.9162, -0.6849,  0.7760, -0.3096,  0.2053,  0.9426, -0.0160,\n",
            "        -0.6629,  0.1468,  0.5876, -0.9249, -0.3146,  0.8748,  0.6844,  0.4626,\n",
            "         0.9793, -0.8156,  0.4243, -0.0679, -0.9896, -0.1930,  0.5598,  0.6227,\n",
            "        -0.6430,  0.7830,  0.0304, -0.5952, -0.7114,  0.4761,  0.8341, -0.7297,\n",
            "         0.6480, -0.1169, -0.1208, -0.3945,  0.8929,  0.7518, -0.7306, -0.1371,\n",
            "         0.1862,  0.7937, -0.5159,  0.1726,  0.6593, -0.3052, -0.9319, -0.8593,\n",
            "        -0.8940,  0.2081,  0.9805,  0.9809,  0.6465,  0.8074,  0.4821,  0.9290,\n",
            "         0.1558,  0.4496, -0.8834,  0.8590,  0.8711, -0.8227, -0.4250,  0.9354,\n",
            "         0.7685,  0.3052, -0.8903,  0.8999, -0.8192,  0.7334, -0.7914, -0.8939,\n",
            "        -0.5076,  0.8051, -0.9863, -0.0589,  0.7930, -0.6097,  0.9075,  0.3217,\n",
            "         0.3498, -0.2377,  0.9021, -0.4621, -0.8793, -0.1074,  0.9778,  0.9050,\n",
            "        -0.9380,  0.6500,  0.1140, -0.6219], grad_fn=<SelectBackward>)\n",
            "--------\n",
            "input word: \"course\"\n",
            "encoding output vector: tensor([ 0.8413,  0.9270,  0.9567,  0.5693,  0.9919,  0.7353,  0.9062,  0.8776,\n",
            "         0.4036,  0.7134,  0.8557, -0.7252, -0.5803, -0.7453, -0.4083, -0.9518,\n",
            "         0.9368,  0.5318, -0.7812,  0.5940,  0.5109, -0.9600,  0.8002, -0.3236,\n",
            "        -0.9069,  0.9118, -0.9775,  0.7129, -0.9793,  0.4176,  0.5748,  0.9927,\n",
            "         0.6090,  0.7460, -0.9413, -0.8488, -0.2072,  0.2748, -0.1899, -0.8033,\n",
            "        -0.4901,  0.8826, -0.0513,  0.9713,  0.9328,  0.6674,  0.8392, -0.5654,\n",
            "        -0.7229,  0.7167, -0.4089,  0.8789, -0.7578, -0.3360,  0.5968,  0.8588,\n",
            "         0.6650,  0.8636, -0.8327, -0.6234, -0.8774,  0.8622, -0.7054, -0.9782,\n",
            "         0.6413,  0.8810, -0.7330, -0.2830, -0.3205, -0.7474, -0.9977,  0.5262,\n",
            "         0.8700, -0.3373,  0.7905,  0.8000,  0.9331, -0.2629, -0.4553, -0.8767,\n",
            "         0.9867, -0.8093,  0.9071, -0.6219, -0.8473, -0.1870,  0.9322,  0.7726,\n",
            "        -0.6190, -0.9163,  0.4916, -0.9603,  0.9719,  0.3300, -0.9110,  0.2597,\n",
            "        -0.4033,  0.9611, -0.3044,  0.6730], grad_fn=<SelectBackward>)\n",
            "--------\n",
            "input word: \".\"\n",
            "encoding output vector: tensor([ 0.9216, -0.9065,  0.4746, -0.8539, -0.8603, -0.7470, -0.2870, -0.3625,\n",
            "        -0.7588,  0.6960, -0.5374, -0.7283, -0.3388,  0.2889,  0.5429,  0.4202,\n",
            "         0.6339, -0.5157, -0.9973, -0.9521, -0.7989,  0.6822,  0.9234, -0.8717,\n",
            "        -0.9972, -0.9356, -0.2233,  0.8481, -0.6395, -0.7691, -0.9776, -0.6105,\n",
            "         0.6267,  0.4170, -0.9315,  0.9211,  0.3464, -0.1398,  0.6641,  0.2088,\n",
            "        -0.2144, -0.7179, -0.9929, -0.0919,  0.8010,  0.9577, -0.2843,  0.8482,\n",
            "         0.4057,  0.1859,  0.7869, -0.6987,  0.5998,  0.5726,  0.0413, -0.7464,\n",
            "         0.9250,  0.3844, -0.7739,  0.2875,  0.9350, -0.9234, -0.8963, -0.9850,\n",
            "        -0.8044, -0.9874,  0.1661, -0.9909, -0.4373,  0.4326,  0.9124, -0.9946,\n",
            "        -0.8655,  0.3603,  0.0560,  0.8133,  0.9500, -0.5758, -0.8659,  0.6375,\n",
            "         0.8804, -0.8033,  0.7761,  0.7372, -0.3902,  0.9131, -0.7399, -0.9802,\n",
            "        -0.7237,  0.8446,  0.7900, -0.9035,  0.6520, -0.7125, -0.5304,  0.7136,\n",
            "        -0.5363, -0.6417, -0.0850,  0.9597], grad_fn=<SelectBackward>)\n",
            "--------\n",
            "-----------------------------------------------\n",
            "The Encoder final state hidden vector which is the single vector for sequence:\n",
            "single vector tensor([[[ 0.9216, -0.9065,  0.4746, -0.8539, -0.8603, -0.7470, -0.2870,\n",
            "          -0.3625, -0.7588,  0.6960, -0.5374, -0.7283, -0.3388,  0.2889,\n",
            "           0.5429,  0.4202,  0.6339, -0.5157, -0.9973, -0.9521, -0.7989,\n",
            "           0.6822,  0.9234, -0.8717, -0.9972, -0.9356, -0.2233,  0.8481,\n",
            "          -0.6395, -0.7691, -0.9776, -0.6105,  0.6267,  0.4170, -0.9315,\n",
            "           0.9211,  0.3464, -0.1398,  0.6641,  0.2088, -0.2144, -0.7179,\n",
            "          -0.9929, -0.0919,  0.8010,  0.9577, -0.2843,  0.8482,  0.4057,\n",
            "           0.1859,  0.7869, -0.6987,  0.5998,  0.5726,  0.0413, -0.7464,\n",
            "           0.9250,  0.3844, -0.7739,  0.2875,  0.9350, -0.9234, -0.8963,\n",
            "          -0.9850, -0.8044, -0.9874,  0.1661, -0.9909, -0.4373,  0.4326,\n",
            "           0.9124, -0.9946, -0.8655,  0.3603,  0.0560,  0.8133,  0.9500,\n",
            "          -0.5758, -0.8659,  0.6375,  0.8804, -0.8033,  0.7761,  0.7372,\n",
            "          -0.3902,  0.9131, -0.7399, -0.9802, -0.7237,  0.8446,  0.7900,\n",
            "          -0.9035,  0.6520, -0.7125, -0.5304,  0.7136, -0.5363, -0.6417,\n",
            "          -0.0850,  0.9597]]], grad_fn=<UnsqueezeBackward0>)\n",
            "-----------------------------------------------\n",
            "Decoder output after 1st step\n",
            "decoder_output tensor([[[-0.3387, -0.4944,  0.5864,  0.0563,  0.2412,  0.0960,  0.0595,\n",
            "          -0.1669,  0.4811, -0.1618, -0.4616, -0.4140, -0.3478, -0.2314,\n",
            "           0.5165,  0.5294,  0.0787,  0.5812, -0.4989, -0.1886, -0.2508,\n",
            "           0.2452,  0.2660, -0.0126, -0.1232,  0.2598, -0.4587,  0.3350,\n",
            "           0.4105,  0.1112,  0.3295, -0.3733,  0.2784, -0.3702, -0.6025,\n",
            "           0.4863,  0.4852,  0.1087, -0.5747,  0.6190,  0.0938, -0.3798,\n",
            "          -0.5037,  0.3734,  0.1786,  0.2507, -0.4735,  0.0390, -0.2936,\n",
            "          -0.2902,  0.4829, -0.3610, -0.4375,  0.3190,  0.1181,  0.2074,\n",
            "           0.3582,  0.4083,  0.2764,  0.2653, -0.4729,  0.3603, -0.1690,\n",
            "           0.2125,  0.4095, -0.2446, -0.0606,  0.4192,  0.3926, -0.2480,\n",
            "           0.1794, -0.1441,  0.3688,  0.4743,  0.3613, -0.4741, -0.3721,\n",
            "          -0.4580, -0.2852,  0.3334,  0.6084,  0.4804,  0.3615, -0.5597,\n",
            "           0.4684,  0.5284,  0.3476,  0.3219, -0.1775,  0.2858,  0.2226,\n",
            "           0.5014,  0.1757,  0.1193,  0.2254, -0.3409,  0.4282, -0.3684,\n",
            "           0.2361, -0.5263]]], grad_fn=<TransposeBackward0>)\n",
            "-----------------------------------------------\n"
          ],
          "name": "stdout"
        },
        {
          "output_type": "execute_result",
          "data": {
            "application/vnd.google.colaboratory.intrinsic+json": {
              "type": "string"
            },
            "text/plain": [
              "'Negative'"
            ]
          },
          "metadata": {
            "tags": []
          },
          "execution_count": 147
        }
      ]
    },
    {
      "cell_type": "code",
      "metadata": {
        "id": "9XU_DlC1HY5T",
        "colab": {
          "base_uri": "https://localhost:8080/"
        },
        "outputId": "1680d4a6-2016-4b00-af49-170b9b49ccd7"
      },
      "source": [
        "vars(valid.examples[11])"
      ],
      "execution_count": 81,
      "outputs": [
        {
          "output_type": "execute_result",
          "data": {
            "text/plain": [
              "{'label': 0,\n",
              " 'tweet': ['@MalikFloyd',\n",
              "  'Looks',\n",
              "  'like',\n",
              "  'Barack',\n",
              "  'Obama',\n",
              "  'in',\n",
              "  'your',\n",
              "  'twitcon',\n",
              "  ',',\n",
              "  'Lol',\n",
              "  'Vute',\n",
              "  'though',\n",
              "  '&',\n",
              "  'lt;3']}"
            ]
          },
          "metadata": {
            "tags": []
          },
          "execution_count": 81
        }
      ]
    }
  ]
}