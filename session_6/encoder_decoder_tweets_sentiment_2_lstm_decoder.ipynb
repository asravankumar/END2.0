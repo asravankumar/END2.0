{
  "nbformat": 4,
  "nbformat_minor": 0,
  "metadata": {
    "colab": {
      "name": "encoder_decoder_tweets_sentiment_2_lstm_decoder.ipynb",
      "provenance": [],
      "collapsed_sections": [],
      "include_colab_link": true
    },
    "kernelspec": {
      "name": "python3",
      "display_name": "Python 3"
    },
    "language_info": {
      "name": "python"
    },
    "accelerator": "GPU"
  },
  "cells": [
    {
      "cell_type": "markdown",
      "metadata": {
        "id": "view-in-github",
        "colab_type": "text"
      },
      "source": [
        "<a href=\"https://colab.research.google.com/github/asravankumar/END2.0/blob/master/session_6/encoder_decoder_tweets_sentiment_2_lstm_decoder.ipynb\" target=\"_parent\"><img src=\"https://colab.research.google.com/assets/colab-badge.svg\" alt=\"Open In Colab\"/></a>"
      ]
    },
    {
      "cell_type": "code",
      "metadata": {
        "id": "gY4eAjHGbFON",
        "colab": {
          "base_uri": "https://localhost:8080/",
          "height": 206
        },
        "outputId": "ff7a9afd-b237-47d8-a56c-73480be9a485"
      },
      "source": [
        "import pandas as pd\n",
        "\n",
        "df = pd.read_csv(\"/content/tweets.csv\")\n",
        "df.head()"
      ],
      "execution_count": 56,
      "outputs": [
        {
          "output_type": "execute_result",
          "data": {
            "text/html": [
              "<div>\n",
              "<style scoped>\n",
              "    .dataframe tbody tr th:only-of-type {\n",
              "        vertical-align: middle;\n",
              "    }\n",
              "\n",
              "    .dataframe tbody tr th {\n",
              "        vertical-align: top;\n",
              "    }\n",
              "\n",
              "    .dataframe thead th {\n",
              "        text-align: right;\n",
              "    }\n",
              "</style>\n",
              "<table border=\"1\" class=\"dataframe\">\n",
              "  <thead>\n",
              "    <tr style=\"text-align: right;\">\n",
              "      <th></th>\n",
              "      <th>tweets</th>\n",
              "      <th>labels</th>\n",
              "    </tr>\n",
              "  </thead>\n",
              "  <tbody>\n",
              "    <tr>\n",
              "      <th>0</th>\n",
              "      <td>Obama has called the GOP budget social Darwini...</td>\n",
              "      <td>1</td>\n",
              "    </tr>\n",
              "    <tr>\n",
              "      <th>1</th>\n",
              "      <td>In his teen years, Obama has been known to use...</td>\n",
              "      <td>0</td>\n",
              "    </tr>\n",
              "    <tr>\n",
              "      <th>2</th>\n",
              "      <td>IPA Congratulates President Barack Obama for L...</td>\n",
              "      <td>0</td>\n",
              "    </tr>\n",
              "    <tr>\n",
              "      <th>3</th>\n",
              "      <td>RT @Professor_Why: #WhatsRomneyHiding - his co...</td>\n",
              "      <td>0</td>\n",
              "    </tr>\n",
              "    <tr>\n",
              "      <th>4</th>\n",
              "      <td>RT @wardollarshome: Obama has approved more ta...</td>\n",
              "      <td>1</td>\n",
              "    </tr>\n",
              "  </tbody>\n",
              "</table>\n",
              "</div>"
            ],
            "text/plain": [
              "                                              tweets  labels\n",
              "0  Obama has called the GOP budget social Darwini...       1\n",
              "1  In his teen years, Obama has been known to use...       0\n",
              "2  IPA Congratulates President Barack Obama for L...       0\n",
              "3  RT @Professor_Why: #WhatsRomneyHiding - his co...       0\n",
              "4  RT @wardollarshome: Obama has approved more ta...       1"
            ]
          },
          "metadata": {
            "tags": []
          },
          "execution_count": 56
        }
      ]
    },
    {
      "cell_type": "code",
      "metadata": {
        "colab": {
          "base_uri": "https://localhost:8080/"
        },
        "id": "rE-ylf6C6BJD",
        "outputId": "e2d9b84b-8be7-4bfb-8da5-9b75dd690ded"
      },
      "source": [
        "df.shape"
      ],
      "execution_count": 2,
      "outputs": [
        {
          "output_type": "execute_result",
          "data": {
            "text/plain": [
              "(1364, 2)"
            ]
          },
          "metadata": {
            "tags": []
          },
          "execution_count": 2
        }
      ]
    },
    {
      "cell_type": "code",
      "metadata": {
        "colab": {
          "base_uri": "https://localhost:8080/"
        },
        "id": "dkxhrQox6Ju3",
        "outputId": "905fcc8a-e005-4771-9a18-9b8d04a791cb"
      },
      "source": [
        "df.labels.value_counts()"
      ],
      "execution_count": 3,
      "outputs": [
        {
          "output_type": "execute_result",
          "data": {
            "text/plain": [
              "0    931\n",
              "1    352\n",
              "2     81\n",
              "Name: labels, dtype: int64"
            ]
          },
          "metadata": {
            "tags": []
          },
          "execution_count": 3
        }
      ]
    },
    {
      "cell_type": "code",
      "metadata": {
        "id": "JDIyapAa6Pjr"
      },
      "source": [
        "import random\n",
        "import torch, torchtext\n",
        "from torchtext import data"
      ],
      "execution_count": 4,
      "outputs": []
    },
    {
      "cell_type": "code",
      "metadata": {
        "colab": {
          "base_uri": "https://localhost:8080/"
        },
        "id": "4kqZx2hG6e4Q",
        "outputId": "d4022bcd-9a3c-41a2-add4-26b08848075c"
      },
      "source": [
        "# Manual Seed\n",
        "SEED = 43\n",
        "torch.manual_seed(SEED)"
      ],
      "execution_count": 5,
      "outputs": [
        {
          "output_type": "execute_result",
          "data": {
            "text/plain": [
              "<torch._C.Generator at 0x7fcd8ce8cf30>"
            ]
          },
          "metadata": {
            "tags": []
          },
          "execution_count": 5
        }
      ]
    },
    {
      "cell_type": "code",
      "metadata": {
        "id": "db3eiDVx6mKf"
      },
      "source": [
        "Tweet = torchtext.legacy.data.Field(sequential = True, tokenize = 'spacy', batch_first =True, include_lengths=True)\n",
        "Label = torchtext.legacy.data.LabelField(tokenize ='spacy', is_target=True, batch_first =True, sequential =False)"
      ],
      "execution_count": 6,
      "outputs": []
    },
    {
      "cell_type": "code",
      "metadata": {
        "id": "-by1zHIV7LPI"
      },
      "source": [
        "fields = [('tweet', Tweet), ('label', Label)]"
      ],
      "execution_count": 7,
      "outputs": []
    },
    {
      "cell_type": "code",
      "metadata": {
        "id": "GxmCFTgk797i"
      },
      "source": [
        "example = [torchtext.legacy.data.Example.fromlist([df.tweets[i],df.labels[i]], fields) for i in range(df.shape[0])] "
      ],
      "execution_count": 8,
      "outputs": []
    },
    {
      "cell_type": "code",
      "metadata": {
        "id": "-Lj9XCy38OqE"
      },
      "source": [
        "twitterDataset = torchtext.legacy.data.Dataset(example, fields)"
      ],
      "execution_count": 9,
      "outputs": []
    },
    {
      "cell_type": "code",
      "metadata": {
        "id": "4PIA3n0l8m2x"
      },
      "source": [
        "(train, valid) = twitterDataset.split(split_ratio=[85, 15], random_state = random.seed(SEED))"
      ],
      "execution_count": 10,
      "outputs": []
    },
    {
      "cell_type": "code",
      "metadata": {
        "colab": {
          "base_uri": "https://localhost:8080/"
        },
        "id": "91fhtSKS8y3T",
        "outputId": "1376edd0-fc7c-4fca-b66c-26cb6fdaeed7"
      },
      "source": [
        "len(train), len(valid)"
      ],
      "execution_count": 11,
      "outputs": [
        {
          "output_type": "execute_result",
          "data": {
            "text/plain": [
              "(1159, 205)"
            ]
          },
          "metadata": {
            "tags": []
          },
          "execution_count": 11
        }
      ]
    },
    {
      "cell_type": "code",
      "metadata": {
        "colab": {
          "base_uri": "https://localhost:8080/"
        },
        "id": "pCDhbBKJ81ZK",
        "outputId": "b321bac1-945f-444e-880b-29f8b0eb265b"
      },
      "source": [
        "vars(train.examples[11])"
      ],
      "execution_count": 12,
      "outputs": [
        {
          "output_type": "execute_result",
          "data": {
            "text/plain": [
              "{'label': 1,\n",
              " 'tweet': ['@sweetbay',\n",
              "  'That',\n",
              "  'was',\n",
              "  'Paul',\n",
              "  'Ryan',\n",
              "  \"'s\",\n",
              "  'budget',\n",
              "  '.',\n",
              "  'How',\n",
              "  'did',\n",
              "  'Obama',\n",
              "  \"'s\",\n",
              "  'budget',\n",
              "  'do',\n",
              "  '?',\n",
              "  'Getting',\n",
              "  'educated',\n",
              "  'on',\n",
              "  'the',\n",
              "  'facts',\n",
              "  'is',\n",
              "  'the',\n",
              "  'first',\n",
              "  'step',\n",
              "  'in',\n",
              "  'losing',\n",
              "  'that',\n",
              "  'liberalism',\n",
              "  '!']}"
            ]
          },
          "metadata": {
            "tags": []
          },
          "execution_count": 12
        }
      ]
    },
    {
      "cell_type": "code",
      "metadata": {
        "id": "b_K23gxx84-K"
      },
      "source": [
        "Tweet.build_vocab(train)\n",
        "Label.build_vocab(train)"
      ],
      "execution_count": 13,
      "outputs": []
    },
    {
      "cell_type": "code",
      "metadata": {
        "colab": {
          "base_uri": "https://localhost:8080/"
        },
        "id": "zCPG8VrE9MKq",
        "outputId": "5cff96fa-f981-43b2-9e2f-00a1fb203e5c"
      },
      "source": [
        "print('Size of input vocab : ', len(Tweet.vocab))\n",
        "print('Size of label vocab : ', len(Label.vocab))\n",
        "print('Top 10 words appreared repeatedly :', list(Tweet.vocab.freqs.most_common(10)))\n",
        "print('Labels : ', Label.vocab.stoi)"
      ],
      "execution_count": 14,
      "outputs": [
        {
          "output_type": "stream",
          "text": [
            "Size of input vocab :  4651\n",
            "Size of label vocab :  3\n",
            "Top 10 words appreared repeatedly : [('Obama', 1069), (':', 783), ('#', 780), ('.', 761), (',', 598), ('\"', 550), ('the', 542), ('RT', 516), ('?', 419), ('to', 400)]\n",
            "Labels :  defaultdict(None, {0: 0, 1: 1, 2: 2})\n"
          ],
          "name": "stdout"
        }
      ]
    },
    {
      "cell_type": "code",
      "metadata": {
        "colab": {
          "base_uri": "https://localhost:8080/"
        },
        "id": "gBmMQQcX9SZk",
        "outputId": "110a2d29-f757-42d1-cd89-33daebef3ddf"
      },
      "source": [
        "device = torch.device(\"cuda\" if torch.cuda.is_available() else \"cpu\")\n",
        "device"
      ],
      "execution_count": 15,
      "outputs": [
        {
          "output_type": "execute_result",
          "data": {
            "text/plain": [
              "device(type='cpu')"
            ]
          },
          "metadata": {
            "tags": []
          },
          "execution_count": 15
        }
      ]
    },
    {
      "cell_type": "code",
      "metadata": {
        "id": "fIJyulXA9sEr"
      },
      "source": [
        "train_iterator, valid_iterator = torchtext.legacy.data.BucketIterator.splits((train, valid), batch_size = 5, \n",
        "                                                            sort_key = lambda x: len(x.tweet),\n",
        "                                                            sort_within_batch=True, device = device)"
      ],
      "execution_count": 37,
      "outputs": []
    },
    {
      "cell_type": "code",
      "metadata": {
        "colab": {
          "base_uri": "https://localhost:8080/"
        },
        "id": "0kgqqK75FLEV",
        "outputId": "a4e39192-a291-4af9-d469-23ac1fa022b1"
      },
      "source": [
        "next(iter(train_iterator))\n",
        "#len(train.examples[11].tweet)"
      ],
      "execution_count": null,
      "outputs": [
        {
          "output_type": "execute_result",
          "data": {
            "text/plain": [
              "\n",
              "[torchtext.legacy.data.batch.Batch of size 5]\n",
              "\t[.tweet]:('[torch.LongTensor of size 5x28]', '[torch.LongTensor of size 5]')\n",
              "\t[.label]:[torch.LongTensor of size 5]"
            ]
          },
          "metadata": {
            "tags": []
          },
          "execution_count": 58
        }
      ]
    },
    {
      "cell_type": "code",
      "metadata": {
        "id": "l_NVSpoV-Uaj"
      },
      "source": [
        "import os, pickle\n",
        "with open('tokenizer.pkl', 'wb') as tokens: \n",
        "    pickle.dump(Tweet.vocab.stoi, tokens)"
      ],
      "execution_count": 38,
      "outputs": []
    },
    {
      "cell_type": "code",
      "metadata": {
        "id": "fNQnNcH6-oZZ"
      },
      "source": [
        "import torch.nn as nn\n",
        "import torch.nn.functional as F\n",
        "\n",
        "\n",
        "class Encoder(nn.Module):\n",
        "  def __init__(self, vocab_size, embedding_dim, hidden_dim):\n",
        "    # Encoder class which accepts a sequence(tweet) and converts it into a context vector.\n",
        "    super().__init__()\n",
        "\n",
        "    # Embedding layer\n",
        "    self.embedding = nn.Embedding(vocab_size, embedding_dim)\n",
        "\n",
        "    # RNN Layer for encoding\n",
        "    self.rnn_layer = nn.RNN(embedding_dim,\n",
        "                          hidden_dim,\n",
        "                          batch_first=True)\n",
        "    \n",
        "  def forward(self, text, text_lengths):\n",
        "    #print(\"inside encoder\")\n",
        "    # text = [batch size, sent_length]\n",
        "    embedded_text         = self.embedding(text)\n",
        "\n",
        "    #print(\"embedded text dimension\", embedded_text.shape)\n",
        "    # embedded = [batch size, sent_len, emb dim]\n",
        "\n",
        "    # packed sequence\n",
        "    packed_embedded_text  = nn.utils.rnn.pack_padded_sequence(embedded_text,\n",
        "                                                        text_lengths.cpu(),\n",
        "                                                        batch_first=True)\n",
        "    #print(\"packed embedded text dimension\", packed_embedded_text.data.shape)\n",
        "\n",
        "    # input sequence to the rnn layer \n",
        "    encoder_output, hidden   = self.rnn_layer(packed_embedded_text)\n",
        "    # rnn output in packed format which contains outputs at every sequence.\n",
        "    # the hidden will be of last state only.\n",
        "    # hidden = [1 , batch_size, hidden_dim]\n",
        "    # Note that, the hidden tensor will not be in the batch_first = True shape. Only the output tensor will be in batch_first if it is set to true.\n",
        "    # print(\"encoder output dimension\", encoder_output.data.shape)\n",
        "    #print(\"hidden dimension\", hidden.shape)\n",
        "    #print(\"hidden vector\", hidden)\n",
        "\n",
        "    # unpack the encoder rnn output \n",
        "    encoder_output, encoder_output_lengths = nn.utils.rnn.pad_packed_sequence(encoder_output, batch_first=True)\n",
        "    # will be in batch_first = True shape\n",
        "    # encoder_output = [batch_size, sent_len, hidden_dim]\n",
        "    #print(\"encoder_output after pad packed dimension\", encoder_output.shape)\n",
        "    #print(\"--------------------------------------------------\")\n",
        "\n",
        "    # here returning the output at all states.\n",
        "    # and the last hidden vector which is the SINGLE context vector for the input sequence. \n",
        "    return(encoder_output, hidden)\n",
        "\n",
        "class Decoder(nn.Module):\n",
        "  def __init__(self, encoder_output_dim, hidden_dim):\n",
        "    super().__init__()\n",
        "\n",
        "    # lstm layer as part of decoder.\n",
        "    # the encoder emits a hidden vector with one sequence. Hence, lstm is here for once in the pipeline.\n",
        "\n",
        "    self.decoder = nn.LSTM(encoder_output_dim, \n",
        "                       hidden_dim,  \n",
        "                       batch_first=True)\n",
        "    self.decoder2 = nn.LSTM(hidden_dim, \n",
        "                       hidden_dim,  \n",
        "                       batch_first=True)\n",
        "\n",
        "  def forward(self, single_vector):\n",
        "    # Here single_vector is the hidden vector from the encoder.\n",
        "    # single_vector = [batch_size, 1, hidden_dim]\n",
        "    #print(\"inside decoder\")\n",
        "    #print(\"encoder output dimension\", single_vector.shape)\n",
        "\n",
        "    # encoder_output = encoder_output.squeeze(0).unsqueeze(1)\n",
        "    # encoder_output\n",
        "    output, (hidden_vector, cell_vector) = self.decoder(single_vector)\n",
        "    # hidden_vector is the decoded vector which is input to the fully connected layer.\n",
        "    # hidden_vector = [1, batch_size, hidden_dim]\n",
        "    #print(\"decoded output dimension\", output.shape)\n",
        "    #print(\"decoded hidden vector dimension\", hidden_vector.shape)\n",
        "    #print(\"decoded cell vector dimension\", cell_vector.shape)\n",
        "    #print(\"-----------------\")\n",
        "    output2, (hidden_vector2, cell_vector2) = self.decoder(output, (hidden_vector, cell_vector))\n",
        "    #print(\"decoded output2 dimension\", output2.shape)\n",
        "    #print(\"decoded hidden2 vector dimension\", hidden_vector.shape)\n",
        "    #print(\"decoded cell2 vector dimension\", cell_vector.shape)\n",
        "    #print(\"---------------------------------------------------\")\n",
        "    return(output2, hidden_vector2)\n",
        "\n",
        "class EncoderDecoderClassifier(nn.Module):\n",
        "  def __init__(self, vocab_size, embedding_dim, hidden_dim, output_dim):\n",
        "    super(EncoderDecoderClassifier, self).__init__()\n",
        "\n",
        "    self.encoder = Encoder(vocab_size, embedding_dim, hidden_dim)\n",
        "    self.decoder = Decoder(hidden_dim, hidden_dim)\n",
        "    self.fc      = nn.Linear(hidden_dim, output_dim)\n",
        "\n",
        "  def forward(self, text, text_lengths):\n",
        "    # Encoder encodes using an rnn.\n",
        "    encoder_output, encoder_hidden = self.encoder(text, text_lengths)\n",
        "\n",
        "    # the hidden vector emitted by rnn is not in batch_first=True shape. Hence converting.\n",
        "    #print(\"encoder hidden dimension\", encoder_hidden.shape)\n",
        "    # encoder_hidden = [1, batch_size, hidden_dim]\n",
        "    encoder_hidden = encoder_hidden.squeeze(0).unsqueeze(1)\n",
        "    #print(\"encoder output dimension after sqeeze\", encoder_hidden.shape)\n",
        "    # AFter reshaping\n",
        "    # encoder_hidden = [batch_size, 1, hidden_dim]\n",
        "    \n",
        "    # Decode the input encoded single vector.\n",
        "    decoder_output, decoder_hidden = self.decoder(encoder_hidden)\n",
        "\n",
        "    # the hidden vector emitted by the decoder is in the batch_first=False shape. Hence convert it to shape for linear layer.\n",
        "    decoder_hidden = decoder_hidden.squeeze(0) #.unsqueeze(1)\n",
        "    # input to fully connected layer dimension = [batch_size, hidden_dim]\n",
        "    #print(\"input to fully connected layer\", decoder_hidden.shape)\n",
        "    dense_outputs = self.fc(decoder_hidden)\n",
        "    # fully connected layer output = [batch_size, output_dim]\n",
        "    #print(\"dense outputs\", dense_outputs.shape)\n",
        "    final_output = F.softmax(dense_outputs, dim=0)\n",
        "    #print(\"final output\", final_output.shape)\n",
        "    return(final_output, encoder_output, encoder_hidden, decoder_output)"
      ],
      "execution_count": 46,
      "outputs": []
    },
    {
      "cell_type": "code",
      "metadata": {
        "id": "TFNWimMMAKya"
      },
      "source": [
        "# Define hyperparameters\n",
        "size_of_vocab = len(Tweet.vocab)\n",
        "embedding_dim = 300\n",
        "num_hidden_nodes = 100\n",
        "num_output_nodes = 3\n",
        "num_layers = 2\n",
        "dropout = 0.2\n",
        "\n",
        "# Instantiate the model\n",
        "model = EncoderDecoderClassifier(size_of_vocab, embedding_dim, num_hidden_nodes, num_output_nodes)\n",
        "#model = classifier(size_of_vocab, embedding_dim, num_hidden_nodes, num_output_nodes, num_layers, dropout = dropout)"
      ],
      "execution_count": 47,
      "outputs": []
    },
    {
      "cell_type": "code",
      "metadata": {
        "colab": {
          "base_uri": "https://localhost:8080/"
        },
        "id": "IRextCcAASGO",
        "outputId": "4c9348a9-61b2-42aa-8079-8093d372efb9"
      },
      "source": [
        "print(model)\n",
        "\n",
        "#No. of trianable parameters\n",
        "def count_parameters(model):\n",
        "    return sum(p.numel() for p in model.parameters() if p.requires_grad)\n",
        "    \n",
        "print(f'The model has {count_parameters(model):,} trainable parameters')"
      ],
      "execution_count": 48,
      "outputs": [
        {
          "output_type": "stream",
          "text": [
            "EncoderDecoderClassifier(\n",
            "  (encoder): Encoder(\n",
            "    (embedding): Embedding(4651, 300)\n",
            "    (rnn_layer): RNN(300, 100, batch_first=True)\n",
            "  )\n",
            "  (decoder): Decoder(\n",
            "    (decoder): LSTM(100, 100, batch_first=True)\n",
            "    (decoder2): LSTM(100, 100, batch_first=True)\n",
            "  )\n",
            "  (fc): Linear(in_features=100, out_features=3, bias=True)\n",
            ")\n",
            "The model has 1,597,403 trainable parameters\n"
          ],
          "name": "stdout"
        }
      ]
    },
    {
      "cell_type": "code",
      "metadata": {
        "colab": {
          "base_uri": "https://localhost:8080/"
        },
        "id": "7qoX2k3jX5zw",
        "outputId": "888d2382-635b-44c5-c9b4-7b36e681550c"
      },
      "source": [
        "batch = next(iter(train_iterator))\n",
        "tweet, tweet_lengths = batch.tweet\n",
        "print(\"tweet\", tweet)\n",
        "print(\"tweet lenghts\", tweet_lengths)\n",
        "model = model.to(device)\n",
        "final_output, encoder_output, encoder_hidden, decoder_output = model(tweet, tweet_lengths)\n",
        "print(\"final_output\", final_output)\n",
        "print(\"final output dimensions\", final_output.shape)\n",
        "print(\"---------------------------\")\n",
        "\n",
        "print(\"batch label\", batch.label)\n",
        "criterion = nn.CrossEntropyLoss()\n",
        "criterion = criterion.to(device)\n",
        "loss = criterion(final_output, batch.label)\n",
        "print(\"loss\", loss)"
      ],
      "execution_count": 36,
      "outputs": [
        {
          "output_type": "stream",
          "text": [
            "tweet tensor([[   2,  363,    8,  110,   87,  263,  352,  205,    6,  368,   20,  185,\n",
            "          350,   20,  345,   13,   26, 3846,    4,  391,    4,  172],\n",
            "        [   2,   12,  163,    3,   47,  558,  567,  426,  553,  549,  163,   47,\n",
            "           20,  475, 3954,   22,   27, 3298,  572,   12,  126,    5],\n",
            "        [1400,  878, 1554, 2298,  124,   33,    2,    6, 2375,    6, 2807, 3270,\n",
            "         3208, 1620,    5,   33,  370,   71,    8,  399, 4329,   10],\n",
            "        [  23,  600,  280,   16,   14,  760, 1096, 1136,    7,    2,  879,  969,\n",
            "            7,  204,  128,  171,   73,   93,    2,  782,   20,  692],\n",
            "        [   2,  363,    8,  110,   87,  263,  352,  205,    6,  368,   20,  185,\n",
            "          350,   20,  345,   13,   26, 3870,    4,  391,    4,  172]])\n",
            "tweet lenghts tensor([22, 22, 22, 22, 22])\n",
            "inside decoder\n",
            "encoder output dimension torch.Size([5, 1, 100])\n",
            "decoded output dimension torch.Size([5, 1, 100])\n",
            "decoded hidden vector dimension torch.Size([1, 5, 100])\n",
            "decoded cell vector dimension torch.Size([1, 5, 100])\n",
            "-----------------\n",
            "decoded output2 dimension torch.Size([5, 1, 100])\n",
            "decoded hidden2 vector dimension torch.Size([1, 5, 100])\n",
            "decoded cell2 vector dimension torch.Size([1, 5, 100])\n",
            "---------------------------------------------------\n",
            "final_output tensor([[0.2034, 0.1969, 0.2012],\n",
            "        [0.2033, 0.2043, 0.2011],\n",
            "        [0.1951, 0.1995, 0.1932],\n",
            "        [0.1950, 0.2026, 0.2032],\n",
            "        [0.2033, 0.1967, 0.2013]], grad_fn=<SoftmaxBackward>)\n",
            "final output dimensions torch.Size([5, 3])\n",
            "---------------------------\n",
            "batch label tensor([1, 2, 0, 0, 1])\n",
            "loss tensor(1.1017, grad_fn=<NllLossBackward>)\n"
          ],
          "name": "stdout"
        }
      ]
    },
    {
      "cell_type": "code",
      "metadata": {
        "id": "EPK6b19HATLm"
      },
      "source": [
        "import torch.optim as optim\n",
        "\n",
        "# define optimizer and loss\n",
        "optimizer = optim.Adam(model.parameters(), lr=2e-4)\n",
        "criterion = nn.CrossEntropyLoss()\n",
        "\n",
        "# define metric\n",
        "def binary_accuracy(preds, y):\n",
        "    #round predictions to the closest integer\n",
        "    _, predictions = torch.max(preds, 1)\n",
        "    \n",
        "    correct = (predictions == y).float() \n",
        "    acc = correct.sum() / len(correct)\n",
        "    return acc\n",
        "    \n",
        "# push to cuda if available\n",
        "model = model.to(device)\n",
        "criterion = criterion.to(device)"
      ],
      "execution_count": 49,
      "outputs": []
    },
    {
      "cell_type": "code",
      "metadata": {
        "id": "A8t9iWwqAify"
      },
      "source": [
        "def train_model(model, iterator, optimizer, criterion):\n",
        "    \n",
        "    # initialize every epoch \n",
        "    epoch_loss = 0\n",
        "    epoch_acc = 0\n",
        "    \n",
        "    # set the model in training phase\n",
        "    model.train()  \n",
        "    \n",
        "    for batch in iterator:\n",
        "        \n",
        "        # resets the gradients after every batch\n",
        "        optimizer.zero_grad()   \n",
        "        \n",
        "        # retrieve text and no. of words\n",
        "        tweet, tweet_lengths = batch.tweet  \n",
        "        \n",
        "        # convert to 1D tensor\n",
        "        predictions, encoder_output, encoder_hidden, decoder_output = model(tweet, tweet_lengths)\n",
        "        predictions = predictions.squeeze()  \n",
        "        \n",
        "        # compute the loss\n",
        "        loss = criterion(predictions, batch.label)        \n",
        "        \n",
        "        # compute the binary accuracy\n",
        "        acc = binary_accuracy(predictions, batch.label)   \n",
        "        \n",
        "        # backpropage the loss and compute the gradients\n",
        "        loss.backward()       \n",
        "        \n",
        "        # update the weights\n",
        "        optimizer.step()      \n",
        "        \n",
        "        # loss and accuracy\n",
        "        epoch_loss += loss.item()  \n",
        "        epoch_acc += acc.item()    \n",
        "        \n",
        "    return epoch_loss / len(iterator), epoch_acc / len(iterator)"
      ],
      "execution_count": 50,
      "outputs": []
    },
    {
      "cell_type": "code",
      "metadata": {
        "id": "LMBXHd5JAuX-"
      },
      "source": [
        "def evaluate(model, iterator, criterion):\n",
        "    \n",
        "    # initialize every epoch\n",
        "    epoch_loss = 0\n",
        "    epoch_acc = 0\n",
        "\n",
        "    # deactivating dropout layers\n",
        "    model.eval()\n",
        "    \n",
        "    # deactivates autograd\n",
        "    with torch.no_grad():\n",
        "    \n",
        "        for batch in iterator:\n",
        "        \n",
        "            # retrieve text and no. of words\n",
        "            tweet, tweet_lengths = batch.tweet\n",
        "            \n",
        "            # convert to 1d tensor\n",
        "            #predictions = model(tweet, tweet_lengths).squeeze()\n",
        "            \n",
        "            predictions, encoder_output, encoder_hidden, decoder_output = model(tweet, tweet_lengths)\n",
        "            predictions = predictions.squeeze()  \n",
        "            # compute loss and accuracy\n",
        "            loss = criterion(predictions, batch.label)\n",
        "            acc = binary_accuracy(predictions, batch.label)\n",
        "            \n",
        "            # keep track of loss and accuracy\n",
        "            epoch_loss += loss.item()\n",
        "            epoch_acc += acc.item()\n",
        "        \n",
        "    return epoch_loss / len(iterator), epoch_acc / len(iterator)"
      ],
      "execution_count": 51,
      "outputs": []
    },
    {
      "cell_type": "code",
      "metadata": {
        "colab": {
          "base_uri": "https://localhost:8080/"
        },
        "id": "q7UPwN0KAvVq",
        "outputId": "8ffaf9f5-7a39-4e61-8119-f8c1d5058e1e"
      },
      "source": [
        "N_EPOCHS = 50\n",
        "best_valid_loss = float('inf')\n",
        "train_losses = []\n",
        "train_accuracies = []\n",
        "valid_losses = []\n",
        "valid_accuracies = []\n",
        "\n",
        "for epoch in range(N_EPOCHS):\n",
        "     \n",
        "    # train the model\n",
        "    train_loss, train_acc = train_model(model, train_iterator, optimizer, criterion)\n",
        "    train_losses.append(train_loss)\n",
        "    train_accuracies.append(train_acc)\n",
        "\n",
        "    # evaluate the model\n",
        "    valid_loss, valid_acc = evaluate(model, valid_iterator, criterion)\n",
        "    valid_losses.append(valid_loss)\n",
        "    valid_accuracies.append(valid_acc)\n",
        "\n",
        "    # save the best model\n",
        "    if valid_loss < best_valid_loss:\n",
        "        best_valid_loss = valid_loss\n",
        "        torch.save(model.state_dict(), 'saved_weights.pt')\n",
        "    \n",
        "    print(f'\\tTrain Loss: {train_loss:.3f} | Train Acc: {train_acc*100:.2f}%')\n",
        "    print(f'\\t Val. Loss: {valid_loss:.3f} |  Val. Acc: {valid_acc*100:.2f}% \\n')"
      ],
      "execution_count": 52,
      "outputs": [
        {
          "output_type": "stream",
          "text": [
            "\tTrain Loss: 1.095 | Train Acc: 50.34%\n",
            "\t Val. Loss: 1.092 |  Val. Acc: 57.56% \n",
            "\n",
            "\tTrain Loss: 1.071 | Train Acc: 60.43%\n",
            "\t Val. Loss: 1.055 |  Val. Acc: 60.98% \n",
            "\n",
            "\tTrain Loss: 1.027 | Train Acc: 66.10%\n",
            "\t Val. Loss: 1.037 |  Val. Acc: 60.49% \n",
            "\n",
            "\tTrain Loss: 1.003 | Train Acc: 70.93%\n",
            "\t Val. Loss: 1.040 |  Val. Acc: 61.46% \n",
            "\n",
            "\tTrain Loss: 0.981 | Train Acc: 72.16%\n",
            "\t Val. Loss: 1.041 |  Val. Acc: 57.07% \n",
            "\n",
            "\tTrain Loss: 0.978 | Train Acc: 74.63%\n",
            "\t Val. Loss: 1.035 |  Val. Acc: 59.02% \n",
            "\n",
            "\tTrain Loss: 0.958 | Train Acc: 78.86%\n",
            "\t Val. Loss: 1.031 |  Val. Acc: 62.93% \n",
            "\n",
            "\tTrain Loss: 0.955 | Train Acc: 79.74%\n",
            "\t Val. Loss: 1.033 |  Val. Acc: 61.95% \n",
            "\n",
            "\tTrain Loss: 0.953 | Train Acc: 78.10%\n",
            "\t Val. Loss: 1.035 |  Val. Acc: 64.39% \n",
            "\n",
            "\tTrain Loss: 0.946 | Train Acc: 80.09%\n",
            "\t Val. Loss: 1.033 |  Val. Acc: 63.90% \n",
            "\n",
            "\tTrain Loss: 0.939 | Train Acc: 82.84%\n",
            "\t Val. Loss: 1.031 |  Val. Acc: 63.90% \n",
            "\n",
            "\tTrain Loss: 0.939 | Train Acc: 81.12%\n",
            "\t Val. Loss: 1.028 |  Val. Acc: 64.88% \n",
            "\n",
            "\tTrain Loss: 0.938 | Train Acc: 83.88%\n",
            "\t Val. Loss: 1.030 |  Val. Acc: 66.34% \n",
            "\n",
            "\tTrain Loss: 0.937 | Train Acc: 82.13%\n",
            "\t Val. Loss: 1.027 |  Val. Acc: 67.32% \n",
            "\n",
            "\tTrain Loss: 0.935 | Train Acc: 84.48%\n",
            "\t Val. Loss: 1.030 |  Val. Acc: 66.83% \n",
            "\n",
            "\tTrain Loss: 0.930 | Train Acc: 87.41%\n",
            "\t Val. Loss: 1.029 |  Val. Acc: 66.83% \n",
            "\n",
            "\tTrain Loss: 0.932 | Train Acc: 84.09%\n",
            "\t Val. Loss: 1.029 |  Val. Acc: 68.78% \n",
            "\n",
            "\tTrain Loss: 0.935 | Train Acc: 84.57%\n",
            "\t Val. Loss: 1.029 |  Val. Acc: 68.78% \n",
            "\n",
            "\tTrain Loss: 0.938 | Train Acc: 84.72%\n",
            "\t Val. Loss: 1.027 |  Val. Acc: 67.80% \n",
            "\n",
            "\tTrain Loss: 0.931 | Train Acc: 85.43%\n",
            "\t Val. Loss: 1.026 |  Val. Acc: 68.29% \n",
            "\n",
            "\tTrain Loss: 0.936 | Train Acc: 83.19%\n",
            "\t Val. Loss: 1.031 |  Val. Acc: 67.32% \n",
            "\n",
            "\tTrain Loss: 0.935 | Train Acc: 84.48%\n",
            "\t Val. Loss: 1.030 |  Val. Acc: 67.32% \n",
            "\n",
            "\tTrain Loss: 0.932 | Train Acc: 87.50%\n",
            "\t Val. Loss: 1.026 |  Val. Acc: 68.78% \n",
            "\n",
            "\tTrain Loss: 0.929 | Train Acc: 88.53%\n",
            "\t Val. Loss: 1.025 |  Val. Acc: 69.27% \n",
            "\n",
            "\tTrain Loss: 0.928 | Train Acc: 86.64%\n",
            "\t Val. Loss: 1.026 |  Val. Acc: 69.27% \n",
            "\n",
            "\tTrain Loss: 0.940 | Train Acc: 83.79%\n",
            "\t Val. Loss: 1.023 |  Val. Acc: 68.78% \n",
            "\n",
            "\tTrain Loss: 0.938 | Train Acc: 86.21%\n",
            "\t Val. Loss: 1.022 |  Val. Acc: 69.76% \n",
            "\n",
            "\tTrain Loss: 0.930 | Train Acc: 86.12%\n",
            "\t Val. Loss: 1.023 |  Val. Acc: 70.73% \n",
            "\n",
            "\tTrain Loss: 0.937 | Train Acc: 85.78%\n",
            "\t Val. Loss: 1.025 |  Val. Acc: 70.73% \n",
            "\n",
            "\tTrain Loss: 0.933 | Train Acc: 84.91%\n",
            "\t Val. Loss: 1.015 |  Val. Acc: 70.24% \n",
            "\n",
            "\tTrain Loss: 0.937 | Train Acc: 83.73%\n",
            "\t Val. Loss: 1.018 |  Val. Acc: 69.27% \n",
            "\n",
            "\tTrain Loss: 0.949 | Train Acc: 81.55%\n",
            "\t Val. Loss: 1.019 |  Val. Acc: 67.32% \n",
            "\n",
            "\tTrain Loss: 0.930 | Train Acc: 85.43%\n",
            "\t Val. Loss: 1.016 |  Val. Acc: 67.32% \n",
            "\n",
            "\tTrain Loss: 0.930 | Train Acc: 87.67%\n",
            "\t Val. Loss: 1.016 |  Val. Acc: 68.29% \n",
            "\n",
            "\tTrain Loss: 0.930 | Train Acc: 87.31%\n",
            "\t Val. Loss: 1.017 |  Val. Acc: 68.78% \n",
            "\n",
            "\tTrain Loss: 0.922 | Train Acc: 89.05%\n",
            "\t Val. Loss: 1.017 |  Val. Acc: 68.78% \n",
            "\n",
            "\tTrain Loss: 0.933 | Train Acc: 87.76%\n",
            "\t Val. Loss: 1.015 |  Val. Acc: 69.27% \n",
            "\n",
            "\tTrain Loss: 0.927 | Train Acc: 88.73%\n",
            "\t Val. Loss: 1.015 |  Val. Acc: 69.27% \n",
            "\n",
            "\tTrain Loss: 0.930 | Train Acc: 86.72%\n",
            "\t Val. Loss: 1.016 |  Val. Acc: 69.76% \n",
            "\n",
            "\tTrain Loss: 0.932 | Train Acc: 86.90%\n",
            "\t Val. Loss: 1.017 |  Val. Acc: 70.24% \n",
            "\n",
            "\tTrain Loss: 0.932 | Train Acc: 85.43%\n",
            "\t Val. Loss: 1.017 |  Val. Acc: 71.71% \n",
            "\n",
            "\tTrain Loss: 0.932 | Train Acc: 84.66%\n",
            "\t Val. Loss: 1.019 |  Val. Acc: 71.22% \n",
            "\n",
            "\tTrain Loss: 0.929 | Train Acc: 86.68%\n",
            "\t Val. Loss: 1.018 |  Val. Acc: 71.22% \n",
            "\n",
            "\tTrain Loss: 0.928 | Train Acc: 87.76%\n",
            "\t Val. Loss: 1.019 |  Val. Acc: 71.22% \n",
            "\n",
            "\tTrain Loss: 0.934 | Train Acc: 85.78%\n",
            "\t Val. Loss: 1.018 |  Val. Acc: 71.71% \n",
            "\n",
            "\tTrain Loss: 0.927 | Train Acc: 87.93%\n",
            "\t Val. Loss: 1.021 |  Val. Acc: 69.76% \n",
            "\n",
            "\tTrain Loss: 0.936 | Train Acc: 85.43%\n",
            "\t Val. Loss: 1.025 |  Val. Acc: 68.78% \n",
            "\n",
            "\tTrain Loss: 0.935 | Train Acc: 84.81%\n",
            "\t Val. Loss: 1.023 |  Val. Acc: 68.29% \n",
            "\n",
            "\tTrain Loss: 0.929 | Train Acc: 85.95%\n",
            "\t Val. Loss: 1.014 |  Val. Acc: 69.76% \n",
            "\n",
            "\tTrain Loss: 0.933 | Train Acc: 85.60%\n",
            "\t Val. Loss: 1.014 |  Val. Acc: 70.73% \n",
            "\n"
          ],
          "name": "stdout"
        }
      ]
    },
    {
      "cell_type": "code",
      "metadata": {
        "colab": {
          "base_uri": "https://localhost:8080/",
          "height": 1000
        },
        "id": "BNmpgCfs-gRR",
        "outputId": "5f29f76c-75c0-41a1-bf30-a396f15ed990"
      },
      "source": [
        "import matplotlib.pyplot as plt\n",
        "\n",
        "plt.plot(list(range(1, len(train_losses) + 1)), train_losses, label=\"Training Loss\")\n",
        "plt.xlabel(\"Epoch\")\n",
        "plt.ylabel(\"Training Loss\")\n",
        "plt.savefig('training_loss.png')\n",
        "plt.show()\n",
        "\n",
        "plt.plot(list(range(1, len(valid_losses) + 1)), valid_losses, label=\"Validation Loss\")\n",
        "plt.xlabel(\"Epoch\")\n",
        "plt.ylabel(\"Validation Loss\")\n",
        "plt.savefig('valid_loss.png')\n",
        "plt.show()\n",
        "\n",
        "plt.plot(list(range(1, len(train_accuracies) + 1)), train_accuracies, label=\"Training Accuracies\")\n",
        "plt.xlabel(\"Epoch\")\n",
        "plt.ylabel(\"Training Accuracies\")\n",
        "plt.savefig('training_accuracies.png')\n",
        "plt.show()\n",
        "\n",
        "plt.plot(list(range(1, len(valid_accuracies) + 1)), valid_accuracies, label=\"Valid Accuracies\")\n",
        "plt.xlabel(\"Epoch\")\n",
        "plt.ylabel(\"Validation Accuracies\")\n",
        "plt.savefig('validation_accuracies.png')\n",
        "plt.show()"
      ],
      "execution_count": 53,
      "outputs": [
        {
          "output_type": "display_data",
          "data": {
            "image/png": "[encoded data removed]",
            "text/plain": [
              "<Figure size 432x288 with 1 Axes>"
            ]
          },
          "metadata": {
            "tags": [],
            "needs_background": "light"
          }
        },
        {
          "output_type": "display_data",
          "data": {
            "image/png": "[encoded data removed]",
            "text/plain": [
              "<Figure size 432x288 with 1 Axes>"
            ]
          },
          "metadata": {
            "tags": [],
            "needs_background": "light"
          }
        },
        {
          "output_type": "display_data",
          "data": {
            "image/png": "[encoded data removed]",
            "text/plain": [
              "<Figure size 432x288 with 1 Axes>"
            ]
          },
          "metadata": {
            "tags": [],
            "needs_background": "light"
          }
        },
        {
          "output_type": "display_data",
          "data": {
            "image/png": "[encoded data removed]",
            "text/plain": [
              "<Figure size 432x288 with 1 Axes>"
            ]
          },
          "metadata": {
            "tags": [],
            "needs_background": "light"
          }
        }
      ]
    },
    {
      "cell_type": "code",
      "metadata": {
        "id": "BXCGxks4AxT3"
      },
      "source": [
        "#load weights and tokenizer\n",
        "\n",
        "path='./saved_weights.pt'\n",
        "model.load_state_dict(torch.load(path));\n",
        "model.eval();\n",
        "tokenizer_file = open('./tokenizer.pkl', 'rb')\n",
        "tokenizer = pickle.load(tokenizer_file)\n",
        "\n",
        "#inference \n",
        "\n",
        "import spacy\n",
        "nlp = spacy.load('en')\n",
        "\n",
        "def classify_tweet(tweet, print_vectors=False):\n",
        "    \n",
        "    categories = {0: \"Negative\", 1:\"Positive\", 2:\"Neutral\"}\n",
        "    \n",
        "    # tokenize the tweet \n",
        "    tokenized = [tok.text for tok in nlp.tokenizer(tweet)] \n",
        "    # convert to integer sequence using predefined tokenizer dictionary\n",
        "    indexed = [tokenizer[t] for t in tokenized]      \n",
        "    # compute no. of words        \n",
        "    length = [len(indexed)]\n",
        "    # convert to tensor                                    \n",
        "    tensor = torch.LongTensor(indexed).to(device)   \n",
        "    # reshape in form of batch, no. of words           \n",
        "    tensor = tensor.unsqueeze(1).T  \n",
        "    # convert to tensor                          \n",
        "    length_tensor = torch.LongTensor(length)\n",
        "    # Get the model prediction                  \n",
        "    prediction, encoder_output, encoder_hidden, decoder_output = model(tensor, length_tensor)\n",
        "\n",
        "    _, pred = torch.max(prediction, 1) \n",
        "    if print_vectors:\n",
        "      print(\"Encoder output after each token in the sequence:\")\n",
        "      for i in range(encoder_output.shape[1]):\n",
        "        print(\"input word: \\\"\" + tokenized[i] + \"\\\"\")\n",
        "        print(\"encoding output vector:\", encoder_output[0][i])\n",
        "        print(\"--------\")\n",
        "      print(\"-----------------------------------------------\")\n",
        "      print(\"The Encoder final state hidden vector which is the single vector for sequence:\")\n",
        "      print(\"single vector\", encoder_hidden)\n",
        "      print(\"-----------------------------------------------\")\n",
        "      print(\"Decoder output after 1st step\")\n",
        "      print(\"decoder_output\", decoder_output)\n",
        "      print(\"-----------------------------------------------\")\n",
        "      #print(\"encoder_output\", encoder_output.shape)\n",
        "      #print(\"single vector\", encoder_hidden.shape)\n",
        "      #print(\"decoder_output\", decoder_output.shape)\n",
        "    return categories[pred.item()]"
      ],
      "execution_count": 54,
      "outputs": []
    },
    {
      "cell_type": "code",
      "metadata": {
        "id": "C1mmb9YiHWOv",
        "colab": {
          "base_uri": "https://localhost:8080/",
          "height": 1000
        },
        "outputId": "408e3901-a8a5-47e3-d9c6-cf7952ba4cb0"
      },
      "source": [
        "classify_tweet(\"#edshow Whenever Obama tells the truth about the Gop, they boo hoo hoo and call him a bully.\", True)"
      ],
      "execution_count": 55,
      "outputs": [
        {
          "output_type": "stream",
          "text": [
            "Encoder output after each token in the sequence:\n",
            "input word: \"#\"\n",
            "encoding output vector: tensor([ 0.8814, -0.5904,  0.6300,  0.7274, -0.8913,  0.7539, -0.7159,  0.4186,\n",
            "         0.7341, -0.1098, -0.6540,  0.4365,  0.5824, -0.9359, -0.2081,  0.8914,\n",
            "         0.8373,  0.6788,  0.7856,  0.2860,  0.6474, -0.7796, -0.6518,  0.7033,\n",
            "         0.9205,  0.0343,  0.1441, -0.8543, -0.3003,  0.9494,  0.6035, -0.6866,\n",
            "        -0.8248,  0.7784,  0.5229,  0.2161, -0.9756, -0.8881,  0.6573, -0.4417,\n",
            "        -0.9203, -0.6000,  0.6708,  0.8455, -0.1233,  0.5348, -0.8098,  0.8841,\n",
            "        -0.2997,  0.9122, -0.8517, -0.9686,  0.6891,  0.8770, -0.3420, -0.1710,\n",
            "         0.1252, -0.8752, -0.5909, -0.9777, -0.9695,  0.9262,  0.7168,  0.4227,\n",
            "        -0.1978,  0.9602,  0.5423,  0.8668, -0.5304, -0.7115,  0.1175,  0.9682,\n",
            "         0.3525,  0.1834, -0.7973, -0.8477,  0.4509,  0.9704, -0.3703, -0.7406,\n",
            "        -0.5414,  0.4683, -0.9693,  0.9101,  0.8860,  0.2710,  0.4686,  0.8508,\n",
            "        -0.6928,  0.6826,  0.5862, -0.6252, -0.3105,  0.9567,  0.4827, -0.4138,\n",
            "         0.2239,  0.6877, -0.9876,  0.2861], grad_fn=<SelectBackward>)\n",
            "--------\n",
            "input word: \"edshow\"\n",
            "encoding output vector: tensor([-0.1124,  0.8413, -0.7771,  0.1757, -0.3040, -0.0640, -0.8688,  0.8013,\n",
            "         0.9213,  0.4004,  0.5920, -0.4270, -0.9519,  0.7690, -0.4721,  0.5633,\n",
            "         0.2459,  0.9273, -0.9291, -0.9856, -0.2062,  0.7731, -0.8114, -0.9259,\n",
            "        -0.6795,  0.3713, -0.9307,  0.9613,  0.9951,  0.4335,  0.9591, -0.9076,\n",
            "        -0.6347, -0.9484,  0.9894, -0.4024, -0.2350, -0.3162,  0.8481, -0.6360,\n",
            "        -0.7948, -0.6558,  0.9063, -0.1856, -0.8082,  0.6989, -0.9170,  0.8910,\n",
            "        -0.7381,  0.9180, -0.9033, -0.9596, -0.3956, -0.8737, -0.9073, -0.8457,\n",
            "        -0.1731, -0.0458, -0.6793, -0.9532, -0.8801,  0.8923,  0.8937,  0.7991,\n",
            "        -0.7676, -0.6353, -0.9863,  0.8709,  0.9980,  0.9985, -0.9640, -0.8484,\n",
            "        -0.7350, -0.9859, -0.3932,  0.8762,  0.9788,  0.8789, -0.9855, -0.8023,\n",
            "         0.9945,  0.9279,  0.3073, -0.3189,  0.9210,  0.1854, -0.9406,  0.8786,\n",
            "         0.8711, -0.5486,  0.9673,  0.1231,  0.6696, -0.9920, -0.8231, -0.9638,\n",
            "         0.9359, -0.6823, -0.7997,  0.4990], grad_fn=<SelectBackward>)\n",
            "--------\n",
            "input word: \"Whenever\"\n",
            "encoding output vector: tensor([-0.7448,  0.9822, -0.4837, -0.8545,  0.6949,  0.3243, -0.9573, -0.9857,\n",
            "        -0.9209, -0.3045,  0.4689, -0.4792, -0.8592, -0.3075, -0.9240,  0.8516,\n",
            "        -0.9090, -0.7559, -0.6676,  0.8556, -0.5908,  0.7195, -0.4512,  0.7067,\n",
            "         0.9883,  0.0332,  0.9411, -0.3218, -0.8369,  0.7164,  0.4887, -0.6064,\n",
            "        -0.1518, -0.4530,  0.4520, -0.9414,  0.2610,  0.1944,  0.9204,  0.9329,\n",
            "        -0.2571,  0.7606,  0.2697, -0.4843, -0.3504,  0.8241, -0.9143,  0.9686,\n",
            "        -0.7148,  0.4790, -0.1246, -0.3177,  0.1740,  0.6499,  0.0419,  0.9954,\n",
            "        -0.9818,  0.9286,  0.9126,  0.5208,  0.9487,  0.8237,  0.0959, -0.9094,\n",
            "         0.1556, -0.9809,  0.3725, -0.3529, -0.3575, -0.5464, -0.3433,  0.3794,\n",
            "         0.9128, -0.7801, -0.6957, -0.7137,  0.3145,  0.9901,  0.6787,  0.6554,\n",
            "         0.9613,  0.8310,  0.8688, -0.3524, -0.1941, -0.1350,  0.5495,  0.9806,\n",
            "         0.4435,  0.3602, -0.8669, -0.7631, -0.4912, -0.6032, -0.9638, -0.1296,\n",
            "         0.4548, -0.9950,  0.8851,  0.3981], grad_fn=<SelectBackward>)\n",
            "--------\n",
            "input word: \"Obama\"\n",
            "encoding output vector: tensor([-0.8692,  0.3014, -0.3336,  0.0185,  0.8730,  0.0696, -0.1992, -0.1744,\n",
            "        -0.4542,  0.6731,  0.9104, -0.5510, -0.8384, -0.7404, -0.8521, -0.8621,\n",
            "         0.5603, -0.3070,  0.9979, -0.5360,  0.8519, -0.8984,  0.0948,  0.6038,\n",
            "         0.9462,  0.0341,  0.0507, -0.6744, -0.8151, -0.6671,  0.8888,  0.1154,\n",
            "        -0.6330,  0.3339,  0.2542,  0.9341,  0.6839,  0.8202,  0.9349,  0.8214,\n",
            "        -0.9834,  0.9295, -0.9481,  0.3811, -0.5200,  0.9699,  0.1196, -0.9151,\n",
            "        -0.9874,  0.8898,  0.2160,  0.4121,  0.9619, -0.0551,  0.7746,  0.3200,\n",
            "        -0.0542,  0.8042, -0.1243, -0.2620,  0.7883,  0.7687,  0.9037,  0.2692,\n",
            "        -0.2250, -0.6014,  0.5902, -0.3250, -0.8514, -0.5683,  0.9816,  0.1040,\n",
            "         0.5842, -0.4851,  0.8333, -0.6302, -0.9136,  0.2513, -0.8724, -0.8573,\n",
            "        -0.8050, -0.2581,  0.2559, -0.6381,  0.9708,  0.0304,  0.6821, -0.7346,\n",
            "        -0.0541, -0.6017,  0.3998, -0.9888, -0.9459,  0.9770,  0.7838,  0.7390,\n",
            "        -0.8069,  0.2920,  0.9337, -0.0136], grad_fn=<SelectBackward>)\n",
            "--------\n",
            "input word: \"tells\"\n",
            "encoding output vector: tensor([ 0.9093, -0.1430, -0.7444,  0.8486,  0.0721,  0.9579, -0.6186, -0.8785,\n",
            "         0.0558, -0.3821, -0.3143, -0.4788, -0.3361, -0.0201,  0.6924, -0.3909,\n",
            "         0.4719, -0.9469, -0.4219, -0.3883,  0.4242, -0.5535,  0.8634,  0.9609,\n",
            "         0.6540,  0.0629, -0.6164, -0.1558,  0.9557,  0.5849,  0.7383, -0.6450,\n",
            "        -0.4929,  0.8189, -0.9597, -0.4635, -0.8164, -0.8602,  0.2222, -0.9548,\n",
            "         0.9139, -0.9968,  0.9019, -0.8021, -0.6736,  0.5104, -0.6668, -0.3274,\n",
            "         0.3967,  0.9710, -0.3410, -0.0391,  0.7599,  0.7758,  0.7352, -0.9424,\n",
            "         0.3902, -0.0726, -0.6200,  0.1610,  0.3951, -0.4707,  0.6015,  0.2392,\n",
            "        -0.2743, -0.1067,  0.3662,  0.0630, -0.7568, -0.8966,  0.9903,  0.7780,\n",
            "        -0.9692, -0.5179,  0.9263,  0.0998,  0.1023, -0.4881,  0.5058,  0.7091,\n",
            "        -0.9511, -0.8848, -0.9815,  0.4861, -0.9565,  0.8495,  0.9849, -0.4705,\n",
            "         0.0726,  0.6555, -0.1172, -0.0109, -0.4098,  0.1727,  0.6519,  0.1253,\n",
            "         0.9908, -0.0852,  0.6691, -0.3342], grad_fn=<SelectBackward>)\n",
            "--------\n",
            "input word: \"the\"\n",
            "encoding output vector: tensor([-0.8077,  0.0760, -0.9489, -0.7199, -0.1186,  0.9126,  0.9700, -0.1827,\n",
            "        -0.9237,  0.3837, -0.2783,  0.9040, -0.7476,  0.6210, -0.4665, -0.3683,\n",
            "        -0.3665,  0.9543, -0.7257, -0.9084,  0.7346, -0.4213, -0.8566, -0.8890,\n",
            "        -0.2303, -0.6835, -0.9860,  0.6696,  0.7790, -0.6508,  0.9649, -0.8378,\n",
            "        -0.7554, -0.7410,  0.9725, -0.9715, -0.1370, -0.9407,  0.9752, -0.3360,\n",
            "         0.9910, -0.7978, -0.3873, -0.7505, -0.4688,  0.9167, -0.9590, -0.5312,\n",
            "         0.7848,  0.8595, -0.2901,  0.9666, -0.8550,  0.6701,  0.8997, -0.4776,\n",
            "         0.0177,  0.9970,  0.5887, -0.7433,  0.0794, -0.9030, -0.1372, -0.7029,\n",
            "         0.4985, -0.8354, -0.7487,  0.1024,  0.9752,  0.7669,  0.9644,  0.7836,\n",
            "        -0.9542, -0.4742, -0.9513,  0.9287,  0.7754,  0.3613, -0.9629,  0.7105,\n",
            "         0.6184,  0.7893, -0.8139, -0.9465, -0.1752, -0.2642, -0.9921,  0.6648,\n",
            "        -0.4248,  0.9718, -0.5865, -0.8336, -0.4775,  0.5853, -0.8072,  0.8574,\n",
            "         0.7323, -0.0058, -0.9912,  0.5746], grad_fn=<SelectBackward>)\n",
            "--------\n",
            "input word: \"truth\"\n",
            "encoding output vector: tensor([ 0.3299, -0.6754, -0.9443,  0.2570,  0.8504,  0.4640, -0.4811,  0.5015,\n",
            "         0.6913,  0.9757, -0.8315, -0.5135, -0.1064,  0.7943, -0.9940,  0.0913,\n",
            "         0.0566,  0.7585,  0.4619, -0.4481,  0.1432, -0.6780, -0.4209, -0.9983,\n",
            "         0.9053,  0.4301, -0.8395,  0.9005, -0.7765,  0.9244,  0.8486,  0.3607,\n",
            "         0.3327,  0.4328, -0.7258,  0.0935, -0.3377, -0.9997,  0.0750,  0.4416,\n",
            "        -0.4708, -0.4621, -0.9210,  0.2497,  0.3706, -0.9956, -0.8236,  0.3685,\n",
            "        -0.6750,  0.6879, -0.6389, -0.9991, -0.8573,  0.2007,  0.9368,  0.8630,\n",
            "        -0.7722,  0.9045, -0.5048,  0.8896, -0.2903,  0.5770,  0.3067, -0.5382,\n",
            "        -0.6550, -0.7387, -0.4423, -0.0549,  0.9467,  0.0677,  0.1444,  0.3664,\n",
            "         0.7276,  0.7484, -0.7050, -0.3124, -0.9669,  0.1358, -0.9835, -0.8908,\n",
            "        -0.9652,  0.9040, -0.5276, -0.7161, -0.8092,  0.8723, -0.8879,  0.9920,\n",
            "         0.6485, -0.5661,  0.9922, -0.6484, -0.5458, -0.5303, -0.3900, -0.3626,\n",
            "         0.8820, -0.1378, -0.0235,  0.8390], grad_fn=<SelectBackward>)\n",
            "--------\n",
            "input word: \"about\"\n",
            "encoding output vector: tensor([-0.9219, -0.4969,  0.7039,  0.9079, -0.9727,  0.4686, -0.9388,  0.4823,\n",
            "         0.8557, -0.0680, -0.5911, -0.9667,  0.4082, -0.8277, -0.9350, -0.6488,\n",
            "        -0.9805, -0.9618, -0.5641, -0.0771, -0.2666,  0.7196,  0.4311, -0.5149,\n",
            "         0.6729,  0.8208,  0.4195,  0.5892, -0.9788, -0.8213, -0.9717, -0.6470,\n",
            "        -0.0283,  0.4128, -0.8107, -0.9697,  0.5496, -0.4772,  0.2562,  0.7215,\n",
            "         0.9742,  0.7378, -0.9969, -0.4889,  0.0204,  0.9686, -0.7507,  0.9228,\n",
            "        -0.6912,  0.9839, -0.8397, -0.9566, -0.1828,  0.7327,  0.2807,  0.7097,\n",
            "         0.0578, -0.3606,  0.8646,  0.0018,  0.9233, -0.8862,  0.9392, -0.8902,\n",
            "         0.1024, -0.9519, -0.6714,  0.2743, -0.2593, -0.7010, -0.6333,  0.4740,\n",
            "         0.7034, -0.9867,  0.6174, -0.1154, -0.1638,  0.3452,  0.8368,  0.0687,\n",
            "        -0.2355,  0.8601, -0.4674, -0.7879, -0.8214, -0.9695,  0.2655, -0.7643,\n",
            "        -0.9887, -0.7048, -0.6999, -0.9870, -0.9757,  0.7929, -0.9171, -0.6977,\n",
            "        -0.5838, -0.8138,  0.3545, -0.9921], grad_fn=<SelectBackward>)\n",
            "--------\n",
            "input word: \"the\"\n",
            "encoding output vector: tensor([-0.9825,  0.7662, -0.9627, -0.9316,  0.9447, -0.8116,  0.9869, -0.4381,\n",
            "        -0.9742,  0.1359,  0.7709,  0.8605, -0.9803,  0.7585, -0.8775, -0.8979,\n",
            "        -0.9064,  0.8394, -0.1857,  0.6371, -0.2818, -0.1842, -0.9665,  0.3475,\n",
            "         0.8049, -0.4496, -0.8181, -0.7019, -0.8513, -0.5301,  0.4131, -0.9810,\n",
            "         0.1858, -0.7043,  0.5986, -0.9335,  0.8494, -0.1104,  0.9285,  0.9408,\n",
            "         0.9332,  0.8216, -0.3660,  0.0803, -0.9878,  0.9944, -0.8652, -0.9041,\n",
            "         0.7211,  0.2481,  0.6237,  0.9956, -0.9917,  0.9730,  0.9990, -0.3615,\n",
            "        -0.9702,  0.9993,  0.8278, -0.9329,  0.9586, -0.9956,  0.9545, -0.9807,\n",
            "         0.8426, -0.9215, -0.1931,  0.4292,  0.4615, -0.2832,  0.9837, -0.7655,\n",
            "        -0.6596, -0.6702,  0.5641,  0.6046,  0.3671,  0.1097, -0.4536,  0.7404,\n",
            "        -0.7318,  0.9271,  0.5049, -0.9977, -0.8780, -0.5572, -0.9877,  0.4622,\n",
            "        -0.6934,  0.8517, -0.5796, -0.9940, -0.8379, -0.2753,  0.5770,  0.8376,\n",
            "         0.9219,  0.9639, -0.9807, -0.7598], grad_fn=<SelectBackward>)\n",
            "--------\n",
            "input word: \"Gop\"\n",
            "encoding output vector: tensor([ 0.6836, -0.7743, -0.6666, -0.8302,  0.7160,  0.7088, -0.7500, -0.4606,\n",
            "        -0.8571,  0.7823, -0.5838,  0.5596, -0.3195,  0.8158, -0.0326,  0.3371,\n",
            "         0.5866,  0.3725, -0.0085,  0.9520, -0.3155,  0.0677,  0.6897, -0.2047,\n",
            "         0.1577,  0.2455, -0.1287,  0.7055, -0.9835,  0.9400, -0.4402,  0.9879,\n",
            "        -0.9308,  0.5731, -0.9980, -0.7847, -0.3815, -0.8486, -0.3989, -0.8498,\n",
            "        -0.6701,  0.9466, -0.6184,  0.5161,  0.4379,  0.5918,  0.7632, -0.9280,\n",
            "         0.9086, -0.9275, -0.0288, -0.8596, -0.3665, -0.4794,  0.8812,  0.7814,\n",
            "         0.1802, -0.1704,  0.9912,  0.5968, -0.9973, -0.8257, -0.6872, -0.0146,\n",
            "         0.6216, -0.3509,  0.7090, -0.7835, -0.9937, -0.7341,  0.7705, -0.2581,\n",
            "         0.4246,  0.0206, -0.0525, -0.9860, -0.1356, -0.8591, -0.8000,  0.9735,\n",
            "        -0.8389,  0.9221, -0.8235,  0.9980,  0.9507,  0.4613,  0.8931,  0.4208,\n",
            "         0.7333,  0.4672, -0.5605, -0.2566,  0.8544, -0.8482, -0.7683, -0.7096,\n",
            "        -0.3757,  0.1744, -0.8415, -0.7702], grad_fn=<SelectBackward>)\n",
            "--------\n",
            "input word: \",\"\n",
            "encoding output vector: tensor([ 0.4887, -0.7550, -0.9446,  0.3608,  0.5527, -0.7771,  0.8114,  0.9930,\n",
            "         0.0475, -0.6354, -0.5336,  0.7981,  0.9010, -0.5434, -0.4646, -0.4938,\n",
            "        -0.7853,  0.9126, -0.3402,  0.7860,  0.6523, -0.9648, -0.0514,  0.8896,\n",
            "        -0.5863, -0.0362,  0.7338,  0.9508, -0.8845, -0.6456, -0.9819, -0.1488,\n",
            "         0.8719, -0.7315,  0.5584, -0.4145, -0.3507,  0.3298, -0.7856, -0.9555,\n",
            "         0.9030,  0.1340,  0.3186, -0.1025, -0.8262,  0.8357, -0.6036,  0.0833,\n",
            "         0.8776,  0.9778,  0.8035,  0.9831,  0.6731, -0.9842, -0.5588,  0.9675,\n",
            "        -0.9187,  0.6400,  0.7850,  0.1985, -0.4889, -0.8114,  0.5181, -0.4044,\n",
            "         0.0690, -0.5640, -0.8281, -0.9846,  0.7466,  0.9630, -0.9505, -0.9544,\n",
            "        -0.8892,  0.4108, -0.6718,  0.7202,  0.9357, -0.9043,  0.6226,  0.2880,\n",
            "         0.9039, -0.8555, -0.9533, -0.7869,  0.9941, -0.0849, -0.1170, -0.4880,\n",
            "         0.9526,  0.2017,  0.4195,  0.1082,  0.4076, -0.2176, -0.8362,  0.7410,\n",
            "        -0.7952, -0.6470, -0.9617,  0.5612], grad_fn=<SelectBackward>)\n",
            "--------\n",
            "input word: \"they\"\n",
            "encoding output vector: tensor([ 0.9080, -0.9348, -0.6913,  0.5268, -0.5441, -0.8109,  0.7885,  0.2990,\n",
            "         0.2169, -0.4852,  0.7638,  0.4052,  0.5070, -0.6918, -0.3536, -0.2307,\n",
            "         0.0017, -0.2252,  0.3249, -0.0224, -0.0558,  0.5167,  0.8242, -0.8798,\n",
            "         0.2718,  0.6797,  0.1074,  0.9294, -0.6516, -0.4349, -0.2966,  0.9010,\n",
            "        -0.1461,  0.9467,  0.1697,  0.6478,  0.5478,  0.9894, -0.9325,  0.7696,\n",
            "         0.6620, -0.2075, -0.8227,  0.6863, -0.8688,  0.2660,  0.8920,  0.0955,\n",
            "         0.1011, -0.0807,  0.0392, -0.2147,  0.6958,  0.5912, -0.0591,  0.8809,\n",
            "         0.0155,  0.5000,  0.7773,  0.9924, -0.9496,  0.7197, -0.4984,  0.6187,\n",
            "        -0.9535, -0.9208,  0.4049, -0.6184,  0.9886,  0.1435, -0.6949,  0.3503,\n",
            "         0.6313, -0.7855, -0.8198, -0.0928, -0.9871,  0.2074,  0.0488, -0.8339,\n",
            "         0.7344,  0.9115,  0.9439, -0.6167, -0.5091, -0.3139,  0.6301, -0.8767,\n",
            "         0.4412,  0.6609,  0.7789,  0.7626, -0.4349,  0.5095, -0.1551,  0.4358,\n",
            "         0.2261,  0.8265,  0.4915,  0.8102], grad_fn=<SelectBackward>)\n",
            "--------\n",
            "input word: \"boo\"\n",
            "encoding output vector: tensor([ 0.0092, -0.6139, -0.0224,  0.8776,  0.1655,  0.0980, -0.1333,  0.7788,\n",
            "        -0.5949,  0.8944, -0.2685,  0.1512,  0.8521, -0.9392,  0.8953,  0.7440,\n",
            "         0.7870, -0.9665, -0.1678,  0.2297,  0.5193, -0.2298, -0.1030,  0.7498,\n",
            "         0.3002,  0.6993, -0.5810, -0.9428,  0.9855,  0.6618,  0.9228,  0.8992,\n",
            "         0.9267,  0.7744,  0.2828, -0.1422,  0.7831,  0.6953,  0.4796,  0.8221,\n",
            "         0.4596, -0.9903, -0.4360, -0.2832,  0.6471, -0.1814, -0.1099,  0.9704,\n",
            "        -0.9473,  0.2562, -0.5683,  0.4989,  0.6505, -0.7748,  0.7331, -0.8624,\n",
            "         0.1110, -0.4689, -0.9849,  0.9257,  0.4928, -0.9205,  0.8607, -0.3293,\n",
            "        -0.2502,  0.4708,  0.5294,  0.6585,  0.2476, -0.3774, -0.8589,  0.7682,\n",
            "        -0.7704, -0.7560, -0.8280, -0.8202, -0.8424,  0.9031,  0.1793, -0.1890,\n",
            "         0.5204, -0.7525,  0.1312,  0.9149,  0.3312,  0.9590, -0.3112, -0.8515,\n",
            "         0.8042,  0.4528, -0.9352,  0.1235, -0.4935,  0.7611,  0.6370,  0.4388,\n",
            "         0.9347, -0.7013, -0.6030, -0.6195], grad_fn=<SelectBackward>)\n",
            "--------\n",
            "input word: \"hoo\"\n",
            "encoding output vector: tensor([ 0.6284,  0.6084,  0.9114, -0.8330, -0.0976,  0.9953, -0.7262, -0.9750,\n",
            "         0.1516,  0.8920,  0.8533, -0.9928,  0.0471, -0.9764,  0.8282,  0.0872,\n",
            "         0.2385,  0.1525,  0.2289,  0.0052,  0.9876, -0.8766,  0.2849, -0.9882,\n",
            "        -0.8120,  0.4808, -0.3294, -0.7415, -0.0054, -0.5634,  0.9633, -0.6424,\n",
            "         0.8643, -0.0291, -0.4345, -0.2860, -0.0588, -0.5150,  0.9995,  0.9437,\n",
            "        -0.9864, -0.9002,  0.7914, -0.7931,  0.6912,  0.9169,  0.3051,  0.5860,\n",
            "        -0.8563, -0.9808, -0.9720, -0.7874,  0.9871,  0.8968,  0.9784, -0.9583,\n",
            "         0.3432, -0.0615, -0.0257,  0.7481,  0.0825, -0.0984, -0.9579,  0.9624,\n",
            "        -0.9831,  0.9390,  0.4054, -0.4558, -0.1432, -0.7133,  0.8805,  0.9366,\n",
            "        -0.0160,  0.9302, -0.9232,  0.4645, -0.7524,  0.8837, -0.7053, -0.7098,\n",
            "         0.8260, -0.4163, -0.2710,  0.2149, -0.9242, -0.6111, -0.6603, -0.2622,\n",
            "        -0.4261,  0.2270, -0.7854,  0.7302,  0.4319,  0.0287,  0.6733, -0.8088,\n",
            "         0.9525, -0.9757,  0.5893,  0.9684], grad_fn=<SelectBackward>)\n",
            "--------\n",
            "input word: \"hoo\"\n",
            "encoding output vector: tensor([ 0.0750,  0.9194,  0.7488, -0.9254,  0.1300,  0.9964, -0.7226, -0.9738,\n",
            "        -0.3952,  0.3402,  0.9175, -0.9973,  0.0598, -0.9903, -0.3476, -0.4262,\n",
            "         0.7925,  0.5427,  0.5020, -0.8442,  0.9664, -0.8637,  0.3873, -0.9691,\n",
            "        -0.4277,  0.6697, -0.0320,  0.1585, -0.8045, -0.4496,  0.9443, -0.3247,\n",
            "         0.9233, -0.3594, -0.3072, -0.8478,  0.6637, -0.2487,  0.9999,  0.9577,\n",
            "        -0.7859, -0.2635,  0.6307, -0.9053,  0.1779,  0.9809,  0.1077,  0.5868,\n",
            "        -0.9398, -0.9793, -0.9823, -0.9688,  0.9554,  0.5957,  0.9544, -0.8883,\n",
            "        -0.5118, -0.5058, -0.5065,  0.8266,  0.9299, -0.7427, -0.6811,  0.9833,\n",
            "        -0.9972,  0.7948, -0.5436, -0.8355,  0.2358, -0.2616,  0.9655,  0.9892,\n",
            "         0.8561,  0.8460, -0.8221,  0.7859, -0.8745,  0.9916, -0.8802, -0.7959,\n",
            "         0.0301,  0.7868, -0.7960,  0.2722, -0.9915, -0.3737, -0.8409,  0.0409,\n",
            "        -0.9925, -0.5148, -0.9088, -0.1292,  0.1448,  0.0881,  0.7383, -0.9400,\n",
            "         0.9893, -0.9972,  0.8801,  0.9883], grad_fn=<SelectBackward>)\n",
            "--------\n",
            "input word: \"and\"\n",
            "encoding output vector: tensor([ 0.8182,  0.9926, -0.0755, -0.0522,  0.8129,  0.8881, -0.6151,  0.1061,\n",
            "        -0.2176, -0.2365,  0.2975, -0.9996,  0.8110, -0.8370, -0.9940, -0.9083,\n",
            "        -0.9167,  0.9626,  0.5641, -0.2697,  0.0731, -0.7953,  0.7930,  0.9534,\n",
            "        -0.3605,  0.0605, -0.2948,  0.5266, -0.7610, -0.9851,  0.9554, -0.8344,\n",
            "         0.9755, -0.9399,  0.3425,  0.3598,  0.5342, -0.9936, -0.3205, -0.8708,\n",
            "         0.9962,  0.7566, -0.8452, -0.9964,  0.3907, -0.2054, -0.9618,  0.9781,\n",
            "        -0.8913, -0.2826, -0.9773, -0.9597,  0.2579, -0.9351,  0.8483,  0.7895,\n",
            "        -0.3685,  0.9461,  0.0521, -0.4891,  0.1708, -0.6063,  0.8067,  0.0945,\n",
            "        -0.8240,  0.7183, -0.8823, -0.0533,  0.9367, -0.7396,  0.8410,  0.0839,\n",
            "         0.9496,  0.5832,  0.2164, -0.6793, -0.5229,  0.9957, -0.9708, -0.9345,\n",
            "        -0.8919,  0.9435, -0.9751, -0.0632, -0.8338,  0.9366, -0.9125,  0.9989,\n",
            "        -0.9962, -0.7882, -0.4266,  0.2580, -0.7032,  0.8004, -0.5718, -0.4828,\n",
            "         0.6930, -0.9924, -0.6824,  0.4999], grad_fn=<SelectBackward>)\n",
            "--------\n",
            "input word: \"call\"\n",
            "encoding output vector: tensor([ 0.9271, -0.9437,  0.5489,  0.7859, -0.8992, -0.8122, -0.9989, -0.7460,\n",
            "         0.9386, -0.2607, -0.8799, -0.9593, -0.9788,  0.7371, -0.9402, -0.9636,\n",
            "        -0.9991, -0.2083,  0.5649,  0.4500, -0.7174, -0.5446, -0.8667,  0.8499,\n",
            "         0.0626,  0.1202, -0.7761, -0.0054, -0.9609,  0.5160, -0.8792,  0.1484,\n",
            "         0.6602, -0.2914, -0.4133, -0.1700, -0.9643,  0.9987,  0.6254,  0.9682,\n",
            "        -0.2010,  0.5277, -0.8520,  0.8028, -0.7681,  0.3792, -0.9711,  0.7395,\n",
            "        -0.2751, -0.9901, -0.0436,  0.0164, -0.7446,  0.1561, -0.8363,  0.8473,\n",
            "         0.7197, -0.2457, -0.8082, -0.9521, -0.0609,  0.5389,  0.8525, -0.9098,\n",
            "         0.4639, -0.9610, -0.3676, -0.7597, -0.9416,  0.6754, -0.2940, -0.5644,\n",
            "         0.9317, -0.5472, -0.9067, -0.3791, -0.3627,  0.9876,  0.5097, -0.8741,\n",
            "        -0.9228,  0.9679,  0.3713, -0.9246, -0.9869, -0.7966, -0.5976, -0.5090,\n",
            "        -0.9685, -0.9881,  0.7812, -0.8735,  0.9619, -0.8262,  0.1699, -0.9004,\n",
            "        -0.6439, -0.2909,  0.9723, -0.8328], grad_fn=<SelectBackward>)\n",
            "--------\n",
            "input word: \"him\"\n",
            "encoding output vector: tensor([-0.7886,  0.9936,  0.5522, -0.6565,  0.9712, -0.9195, -0.2916,  0.3747,\n",
            "         0.0228, -0.5578, -0.3036, -0.9860, -0.6857,  0.9964,  0.2218,  0.1651,\n",
            "        -0.9014, -0.3551, -0.3460, -0.7968, -0.9637,  0.7370,  0.5523,  0.0091,\n",
            "         0.7672, -0.5239,  0.9943, -0.3908, -0.9017, -0.9338, -0.9483,  0.2940,\n",
            "         0.9009,  0.8036, -0.8172,  0.0441,  0.5386,  0.2724,  0.4008,  0.9961,\n",
            "        -0.6547,  0.7266,  0.8974,  0.1873, -0.4528,  0.6376,  0.4521, -0.9903,\n",
            "         0.1831, -0.9526,  0.9917,  0.7421, -0.9395,  0.9892,  0.0908,  0.9677,\n",
            "        -0.1408, -0.5858,  0.9458,  0.9328,  0.9170, -0.9262,  0.3042, -0.0776,\n",
            "        -0.0980, -0.7668, -0.8768, -0.3629, -0.9440, -0.4205, -0.5610,  0.7616,\n",
            "        -0.4698, -0.9883,  0.4877, -0.9445, -0.8556, -0.7374,  0.7307,  0.1632,\n",
            "        -0.7719,  0.9878, -0.7660, -0.5925, -0.9367, -0.2788,  0.7856, -0.9963,\n",
            "        -0.9188, -0.7948,  0.1504,  0.0119, -0.9717, -0.1915,  0.7855, -0.9062,\n",
            "         0.9826,  0.8010,  0.9934, -0.8361], grad_fn=<SelectBackward>)\n",
            "--------\n",
            "input word: \"a\"\n",
            "encoding output vector: tensor([-0.8216, -0.7107,  0.7249, -0.8164,  0.0982, -0.0324,  0.2634, -0.6744,\n",
            "        -0.8637, -0.8426, -0.9378,  0.7870, -0.2382, -0.8536,  0.6005, -0.8149,\n",
            "         0.8378,  0.2034, -0.8404,  0.5422,  0.4734, -0.9937,  0.9695, -0.8243,\n",
            "        -0.7343, -0.9757,  0.7072, -0.9975, -0.4300,  0.8817,  0.4790, -0.6924,\n",
            "        -0.0880, -0.9149,  0.9858,  0.8136,  0.2000, -0.5238,  0.8921,  0.9677,\n",
            "        -0.9891,  0.3494,  0.5979,  0.7381,  0.1323, -0.9423,  0.8937, -0.6959,\n",
            "         0.1888, -0.6844,  0.6804,  0.5407,  0.2959,  0.1016,  0.7558, -0.3483,\n",
            "         0.6281, -0.7588, -0.7390,  0.1127,  0.2968, -0.2406, -0.9762,  0.4745,\n",
            "        -0.7963,  0.8797,  0.3128,  0.3404, -0.3656, -0.9320,  0.9670, -0.9557,\n",
            "         0.7181,  0.6653, -0.7658,  0.8880, -0.8272, -0.7425,  0.2200, -0.9521,\n",
            "         0.1872,  0.2189,  0.9088, -0.9701, -0.9703, -0.8164, -0.2886, -0.9848,\n",
            "        -0.9376,  0.2229, -0.3581,  0.7628, -0.2047, -0.8725,  0.9277, -0.9675,\n",
            "         0.2935,  0.4848,  0.3549,  0.8838], grad_fn=<SelectBackward>)\n",
            "--------\n",
            "input word: \"bully\"\n",
            "encoding output vector: tensor([-0.0985, -0.4812, -0.9152, -0.1087,  0.9922,  0.0016, -0.6866, -0.3993,\n",
            "         0.8858, -0.8636,  0.4642,  0.1275, -0.9423,  0.9717,  0.9580, -0.2507,\n",
            "         0.5197,  0.9579,  0.3479, -0.8739,  0.9849,  0.9988, -0.9407, -0.9694,\n",
            "        -0.8460,  0.8933, -0.6775,  0.9462,  0.7631, -0.9853, -0.8400, -0.6920,\n",
            "         0.5042, -0.6043, -0.9060,  0.6729, -0.4879, -0.8128,  0.1424, -0.4035,\n",
            "         0.9683,  0.2767,  0.9869, -0.9914, -0.2078, -0.6450, -0.9154, -0.0307,\n",
            "        -0.9899,  0.8167, -0.9364, -0.8965,  0.8658,  0.5095, -0.2026, -0.0147,\n",
            "        -0.9526, -0.5033, -0.6814, -0.9870,  0.9305, -0.9648,  0.6981, -0.6909,\n",
            "         0.9703, -0.6210, -0.6785, -0.9771, -0.4046,  0.0287,  0.9847,  0.1568,\n",
            "         0.4422, -0.9503, -0.1282,  0.4645,  0.4627,  0.8107, -0.9816, -0.3227,\n",
            "        -0.9173, -0.8082,  0.1880,  0.5694, -0.8092, -0.9768, -0.6174,  0.4917,\n",
            "        -0.6150,  0.5881, -0.9825,  0.1924, -0.8788,  0.3651, -0.5226, -0.1171,\n",
            "        -0.2054,  0.9944, -0.1983,  0.9411], grad_fn=<SelectBackward>)\n",
            "--------\n",
            "input word: \".\"\n",
            "encoding output vector: tensor([-0.5751,  0.7977, -0.9805,  0.8866, -0.8060,  0.0628, -0.4597, -0.8627,\n",
            "         0.8817,  0.5108, -0.2235, -0.7630, -0.9681,  0.9716,  0.4215, -0.7040,\n",
            "        -0.2367, -0.8996, -0.6483,  0.9290,  0.0224,  0.9979,  0.9784,  0.4220,\n",
            "         0.5360,  0.6689,  0.3940,  0.5052, -0.6451,  0.9646, -0.1761,  0.2632,\n",
            "         0.8836,  0.9753, -0.9700, -0.8822,  0.8096, -0.7669,  0.9893, -0.9247,\n",
            "        -0.4465,  0.9159,  0.9768,  0.1652, -0.3580,  0.8609,  0.6450, -0.0746,\n",
            "        -0.8720, -0.7522,  0.3599, -0.9837, -0.6636,  0.8112,  0.6805, -0.7554,\n",
            "        -0.9479, -0.3227, -0.3595,  0.9149,  0.6608, -0.7373,  0.5877, -0.9688,\n",
            "         0.3997, -0.7230,  0.8244, -0.5244,  0.7445, -0.3285,  0.7737,  0.9923,\n",
            "         0.8766, -0.8728,  0.7183,  0.2944, -0.1335,  0.8757,  0.8362, -0.1726,\n",
            "        -0.8823,  0.5979,  0.1617, -0.6567, -0.7674, -0.5273, -0.8747, -0.9550,\n",
            "        -0.9341,  0.7149,  0.9820,  0.2259,  0.6365,  0.0607, -0.1250,  0.2191,\n",
            "         0.9480, -0.3521,  0.6096,  0.9670], grad_fn=<SelectBackward>)\n",
            "--------\n",
            "-----------------------------------------------\n",
            "The Encoder final state hidden vector which is the single vector for sequence:\n",
            "single vector tensor([[[-0.5751,  0.7977, -0.9805,  0.8866, -0.8060,  0.0628, -0.4597,\n",
            "          -0.8627,  0.8817,  0.5108, -0.2235, -0.7630, -0.9681,  0.9716,\n",
            "           0.4215, -0.7040, -0.2367, -0.8996, -0.6483,  0.9290,  0.0224,\n",
            "           0.9979,  0.9784,  0.4220,  0.5360,  0.6689,  0.3940,  0.5052,\n",
            "          -0.6451,  0.9646, -0.1761,  0.2632,  0.8836,  0.9753, -0.9700,\n",
            "          -0.8822,  0.8096, -0.7669,  0.9893, -0.9247, -0.4465,  0.9159,\n",
            "           0.9768,  0.1652, -0.3580,  0.8609,  0.6450, -0.0746, -0.8720,\n",
            "          -0.7522,  0.3599, -0.9837, -0.6636,  0.8112,  0.6805, -0.7554,\n",
            "          -0.9479, -0.3227, -0.3595,  0.9149,  0.6608, -0.7373,  0.5877,\n",
            "          -0.9688,  0.3997, -0.7230,  0.8244, -0.5244,  0.7445, -0.3285,\n",
            "           0.7737,  0.9923,  0.8766, -0.8728,  0.7183,  0.2944, -0.1335,\n",
            "           0.8757,  0.8362, -0.1726, -0.8823,  0.5979,  0.1617, -0.6567,\n",
            "          -0.7674, -0.5273, -0.8747, -0.9550, -0.9341,  0.7149,  0.9820,\n",
            "           0.2259,  0.6365,  0.0607, -0.1250,  0.2191,  0.9480, -0.3521,\n",
            "           0.6096,  0.9670]]], grad_fn=<UnsqueezeBackward0>)\n",
            "-----------------------------------------------\n",
            "Decoder output after 1st step\n",
            "decoder_output tensor([[[-0.2602,  0.2019,  0.1772,  0.0334, -0.1099, -0.1593,  0.0256,\n",
            "          -0.0606,  0.1062, -0.1204,  0.2845, -0.0797, -0.0825,  0.1343,\n",
            "           0.1374,  0.0651, -0.0701,  0.0212,  0.0055,  0.1978, -0.2488,\n",
            "           0.3316,  0.0318, -0.0061, -0.2184,  0.1325,  0.1613,  0.1211,\n",
            "          -0.0009, -0.2402, -0.1690,  0.0212,  0.1323,  0.0664,  0.3607,\n",
            "          -0.1392, -0.0553, -0.0166,  0.0532,  0.0137, -0.1627,  0.0269,\n",
            "          -0.2377,  0.1257, -0.1003,  0.0202, -0.0087, -0.3973,  0.0155,\n",
            "          -0.0639,  0.1882,  0.1676,  0.2287,  0.1229, -0.2113, -0.0312,\n",
            "           0.1736, -0.2111,  0.0346, -0.0775,  0.1019, -0.0527,  0.1269,\n",
            "           0.1961, -0.0968, -0.0819, -0.0997,  0.1073, -0.3381, -0.0142,\n",
            "           0.0879, -0.1390,  0.2585,  0.1175, -0.1483,  0.1323,  0.0145,\n",
            "           0.1564,  0.1473, -0.1189, -0.0318,  0.1792,  0.0192, -0.1380,\n",
            "           0.0094,  0.0175, -0.1360, -0.1129,  0.0312, -0.1544, -0.0419,\n",
            "          -0.1354,  0.1513,  0.1597,  0.1509, -0.0331, -0.1838,  0.2762,\n",
            "          -0.1671, -0.0011]]], grad_fn=<TransposeBackward0>)\n",
            "-----------------------------------------------\n"
          ],
          "name": "stdout"
        },
        {
          "output_type": "execute_result",
          "data": {
            "application/vnd.google.colaboratory.intrinsic+json": {
              "type": "string"
            },
            "text/plain": [
              "'Negative'"
            ]
          },
          "metadata": {
            "tags": []
          },
          "execution_count": 55
        }
      ]
    },
    {
      "cell_type": "code",
      "metadata": {
        "id": "9XU_DlC1HY5T",
        "colab": {
          "base_uri": "https://localhost:8080/"
        },
        "outputId": "1680d4a6-2016-4b00-af49-170b9b49ccd7"
      },
      "source": [
        "vars(valid.examples[11])"
      ],
      "execution_count": null,
      "outputs": [
        {
          "output_type": "execute_result",
          "data": {
            "text/plain": [
              "{'label': 0,\n",
              " 'tweet': ['@MalikFloyd',\n",
              "  'Looks',\n",
              "  'like',\n",
              "  'Barack',\n",
              "  'Obama',\n",
              "  'in',\n",
              "  'your',\n",
              "  'twitcon',\n",
              "  ',',\n",
              "  'Lol',\n",
              "  'Vute',\n",
              "  'though',\n",
              "  '&',\n",
              "  'lt;3']}"
            ]
          },
          "metadata": {
            "tags": []
          },
          "execution_count": 81
        }
      ]
    }
  ]
}