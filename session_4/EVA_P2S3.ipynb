{
  "nbformat": 4,
  "nbformat_minor": 0,
  "metadata": {
    "colab": {
      "name": "EVA P2S3.ipynb",
      "provenance": [],
      "include_colab_link": true
    },
    "kernelspec": {
      "name": "python3",
      "display_name": "Python 3"
    },
    "accelerator": "GPU"
  },
  "cells": [
    {
      "cell_type": "markdown",
      "metadata": {
        "id": "view-in-github",
        "colab_type": "text"
      },
      "source": [
        "<a href=\"https://colab.research.google.com/github/asravankumar/END2.0/blob/master/session_4/EVA_P2S3.ipynb\" target=\"_parent\"><img src=\"https://colab.research.google.com/assets/colab-badge.svg\" alt=\"Open In Colab\"/></a>"
      ]
    },
    {
      "cell_type": "markdown",
      "metadata": {
        "id": "jofyc9OC4Qcf"
      },
      "source": [
        "#Imports"
      ]
    },
    {
      "cell_type": "code",
      "metadata": {
        "id": "ahBVnrNc3E0U"
      },
      "source": [
        "import numpy as np\n",
        "%matplotlib inline\n",
        "import numpy as np\n",
        "import matplotlib.pyplot as plt\n",
        "from IPython import display\n",
        "plt.style.use('seaborn-white')"
      ],
      "execution_count": 245,
      "outputs": []
    },
    {
      "cell_type": "markdown",
      "metadata": {
        "id": "crQSAaIz4SkA"
      },
      "source": [
        "# Read and process data. \n",
        "\n",
        "Download the file from this URL: https://drive.google.com/file/d/1UWWIi-sz9g0x3LFvkIZjvK1r2ZaCqgGS/view?usp=sharing"
      ]
    },
    {
      "cell_type": "code",
      "metadata": {
        "id": "rgOGxPDP3Wpp"
      },
      "source": [
        "#data = open('text.txt', 'r').read()"
      ],
      "execution_count": 246,
      "outputs": []
    },
    {
      "cell_type": "code",
      "metadata": {
        "id": "sA1dtn4eJqgE"
      },
      "source": [
        "data = 'A coronavirus is a kind of common virus that causes an infection in your nose, sinuses, or upper throat. Most coronaviruses are not dangerous.\\r\\n\\r\\nSome types of coronaviruses are serious, though. About 858 people have died from Middle East respiratory syndrome (MERS), which first appeared in 2012 in Saudi Arabia and then in other countries in the Middle East, Africa, Asia, and Europe. In April 2014, the first American was hospitalized for MERS in Indiana and another case was reported in Florida. Both had just returned from Saudi Arabia. In May 2015, there was an outbreak of MERS in Korea, which was the largest outbreak outside of the Arabian Peninsula. In 2003, 774 people died from a severe acute respiratory syndrome (SARS) outbreak. As of 2015, there were no further reports of cases of SARS. \\r\\n\\r\\nBut in early 2020, following a December 2019 outbreak in China, the World Health Organization identified a new type, 2019 novel coronavirus (2019-nCoV).\\r\\n\\r\\nOften a coronavirus causes upper respiratory infection symptoms like a stuffy nose, cough, and sore throat. You can treat them with rest and over-the-counter medication. The coronavirus can also cause middle ear infections in children.\\r\\n\\r\\nWhat Is a Coronavirus?\\r\\nCoronaviruses were first identified in the 1960s, but we don\\'t know where they come from. They get their name from their crown-like shape. Sometimes, but not often, a coronavirus can infect both animals and humans.\\r\\n\\r\\nMost coronaviruses spread the same way other cold-causing viruses do: through infected people coughing and sneezing, by touching an infected person\\'s hands or face, or by touching things such as doorknobs that infected people have touched.\\r\\n\\r\\nAlmost everyone gets a coronavirus infection at least once in their life, most likely as a young child. In the United States, coronaviruses are more common in the fall and winter, but anyone can come down with a coronavirus infection at any time.\\r\\n\\r\\nCommon Symptoms of Coronavirus\\r\\nThe symptoms of most coronaviruses are similar to any other upper respiratory infection, including runny nose, coughing, sore throat, and sometimes a fever. In most cases, you won\\'t know whether you have a coronavirus or a different cold-causing virus, such as rhinovirus.\\r\\n\\r\\nYou could get lab tests, including nose and throat cultures and blood work, to find out whether your cold was caused by a coronavirus, but there\\'s no reason to. The test results wouldn\\'t change how you treat your symptoms, which typically go away in a few days.\\r\\n\\r\\nBut if a coronavirus infection spreads to the lower respiratory tract (your windpipe and your lungs), it can cause pneumonia, especially in older people, people with heart disease, or people with weakened immune systems.\\r\\n\\r\\nWhat to Do About Coronavirus\\r\\nThere is no vaccine for coronavirus. To help prevent a coronavirus infection, do the same things you do to avoid the common cold:\\r\\n\\r\\nWash your hands thoroughly with soap and warm water or with an alcohol-based hand sanitizer.\\r\\nKeep your hands and fingers away from your eyes, nose, and mouth.\\r\\nAvoid close contact with people who are infected.\\r\\nYou treat a coronavirus infection the same way you treat a cold:\\r\\n\\r\\nGet plenty of rest.\\r\\nDrink fluids.\\r\\nTake over-the-counter medicine for a sore throat and fever. But don\\'t give aspirin to children or teens younger than 19; use ibuprofen or acetaminophen instead.\\r\\nA humidifier or steamy shower can also help ease a sore and scratchy throat.\\r\\n\\r\\nEven when a coronavirus causes MERS or SARS in other countries, the kind of coronavirus infection common in the U.S. isn\\'t a serious threat for an otherwise healthy adult. If you get sick, treat your symptoms and contact a doctor if they get worse or don\\'t go away.\\r\\n\\r\\nNews about the coronavirus outbreak that started in Wuhan, China, is changing rapidly. The respiratory infection, which is closely related to SARS and MERS, has been spreading across China, and cases have been diagnosed in several other countries, including the United States. We\\xe2\\x80\\x99ll provide the latest updates on cases, deaths, travel restrictions, and more here.\\r\\n\\r\\nWhat is the latest news?\\r\\nOn Wednesday, CDC medical officers and others met a group of about 210 U.S. citizens evacuated from China. Their plane landed at March Air Reserve Base in California, where the evacuees will be monitored for coronavirus symptoms for several days. Anyone showing signs of the disease will be taken to the hospital.\\r\\n\\r\\nSome airlines, including British Airways and United Airlines, are stopping or reducing flights to China as the number of cases continues to rise rapidly. Worldwide there are now more than 6,000 cases and 132 deaths, according to the European Centre for Disease Prevention and Control. While the majority of cases center in China, it has been found in the U.S. and these countries: Thailand, Hong Kong, Taiwan, Australia, Macau, Singapore, Japan, South Korea, Malaysia, France, Canada, Vietnam, Nepal, Cambodia, Germany and United Arab Emirates. There have been no deaths outside China.\\r\\n\\r\\nIn the U.S., the CDC is reporting five confirmed cases from these states: Washington, Illinois, California and Arizona. On Monday, Jan. 27, Nancy Messonnier, MD, Director of the agency\\'s National Center for Immunization and Respiratory Diseases, said it had 165 persons under investigation for coronavirus from 36 states. In addition to the 5 confirmed positive, 68 have tested negative. They are prioritizing the testing based on a person\\xe2\\x80\\x99s risk.\\r\\n\\r\\nMessonnier said they had posted the blueprints for their diagnostic test on a public server and were working \"as fast as we can\" to get test kits out to states. \\r\\n\\r\\nRight now, all the testing for the new coronavirus is taking place at the CDC\\'s headquarters in Atlanta.\\r\\n\\r\\nShe said the CDC was mulling a change to its travel screening for the infection, but did not give further details.\\r\\n\\r\\nHow many people have been diagnosed with the virus, and how many have died?\\r\\nAccording to European CDC, the majority of the confirmed cases \\xe2\\x80\\x93 5,994 \\xe2\\x80\\x93 are in China. Another 78 cases are confirmed outside of China in 16 countries. Countries with the most confirmed cases include Thailand with 14 and Taiwan and South Korea with 8 each. All reported deaths have been in China, and include 16 healthcare workers.\\r\\n\\r\\nWhen did the outbreak start?\\r\\nChina first reported the outbreak in Wuhan on Dec. 30, 2019.\\r\\n\\r\\nWhat are public officials doing to contain the virus?\\r\\nOn Tuesday, the CDC urged travelers to avoid non-essential travel to China.\\r\\n\\r\\nChinese officials have shut down all public transportation to 10 cities, affecting 35 million people. The first was Wuhan, which has a population of about 11 million. In Wuhan, that includes buses, subways, trains, and the airport.\\r\\n\\r\\nAll passengers flying into the United States from Wuhan will be routed through one of five airports and screened for fever and other signs of the virus. \\xe2\\x80\\x9cPatients of concern\\xef\\xbf\\xbd\\xef\\xbf\\xbd\\xef\\xbf\\xbd will be referred to a facility and given a test to find out if they have the virus.\\r\\n\\r\\nWhat do we know about cases in the United States?\\r\\nIn all U.S. cases so far, patients had recently traveled to Wuhan.\\r\\n\\r\\nCalifornia has two patients, one in Los Angeles County and one in Orange County. The patient from Orange County is a man in his 50s. He is in a local hospital in isolation and is in good condition, according to the Orange County Health Care Agency. Los Angeles County officials did not provide additional details about the patient there.\\r\\n\\r\\nArizona\\'s Department of Health Services said its patient is a Maricopa County resident and member of the Arizona State University community who did not live in student housing. The patient is not severely ill and is being kept in isolation. \\r\\n\\r\\nAnother case involves a woman in her 60s from Chicago. The Chicago Department of Public Health reported that she had visited Wuhan, China in December and returned to Chicago earlier this month. She is hospitalized in stable condition. \\r\\n\\r\\nThe first U.S. patient is a man in his 30s from Washington state. He had traveled from Wuhan and entered the country before the screening was in place. He started having symptoms and contacted his doctor. He is in good condition and is in isolation at Providence Regional Medical Center.\\r\\n\\r\\nIs travel to China safe?\\r\\nWuhan is closed to travelers.\\r\\n\\r\\nThe CDC is advising that travelers avoid non-essential travel to China. Travelers who do go should:\\r\\n\\r\\nAvoid contact with sick people.\\r\\nAvoid animals, animal markets, and products that come from animals.\\r\\nWash their hands often with soap and water, or use an alcohol-based sanitizer if that\\xe2\\x80\\x99s not available.\\r\\nSeek medical care right away for a fever, cough, or difficulty breathing. Tell a health care professional about any travel.\\r\\nWhat are the symptoms, and how is the virus diagnosed?\\r\\nChina created a test for the virus and shared that information with other countries. The CDC has developed its own test.\\r\\n\\r\\nSymptoms include a fever, coughing, and shortness of breath. They may appear 2 to 14 days after you\\xe2\\x80\\x99re exposed to the virus.\\r\\n\\r\\nWhat is the source of the virus, and how is it spread?\\r\\nHealth officials are not sure of the source of the virus yet or how easily it can spread. Coronaviruses are found in many different animals, including camels, cattle, cats, and bats. One research paper also suggested snakes as a possible source. The new virus may be linked to a seafood and live animal market in Wuhan that has since been closed\\r\\n\\r\\nThe virus can spread from person to person. Health officials are seeing this happen most often where people are close together and in health care settings. To date, 16 health care workers have been infected.\\r\\n\\r\\nThe CDC believes that severe acute respiratory syndrome (SARS) and Middle East respiratory syndrome (MERS), two other types of coronavirus, are spread through droplets when someone coughs or sneezes.\\r\\n\\r\\nIs there a vaccine?\\r\\nThere is no vaccine, but the National Institutes of Health is working on one and hopes to begin testing in several months. That testing would be for safety. If it\\xe2\\x80\\x99s safe, there would be testing to see how well it works.\\r\\n\\r\\nHow is it treated?\\r\\nThere is no specific treatment for the virus. Patients are generally given supportive care for their symptoms, such a fluids and pain relievers. Hospitalized patients may need support with breathing.'"
      ],
      "execution_count": 247,
      "outputs": []
    },
    {
      "cell_type": "code",
      "metadata": {
        "colab": {
          "base_uri": "https://localhost:8080/",
          "height": 106
        },
        "id": "UM-Oz-81KAkZ",
        "outputId": "b9f57780-c473-4129-b2d9-e8a61690b5e1"
      },
      "source": [
        "data"
      ],
      "execution_count": 248,
      "outputs": [
        {
          "output_type": "execute_result",
          "data": {
            "application/vnd.google.colaboratory.intrinsic+json": {
              "type": "string"
            },
            "text/plain": [
              "'A coronavirus is a kind of common virus that causes an infection in your nose, sinuses, or upper throat. Most coronaviruses are not dangerous.\\r\\n\\r\\nSome types of coronaviruses are serious, though. About 858 people have died from Middle East respiratory syndrome (MERS), which first appeared in 2012 in Saudi Arabia and then in other countries in the Middle East, Africa, Asia, and Europe. In April 2014, the first American was hospitalized for MERS in Indiana and another case was reported in Florida. Both had just returned from Saudi Arabia. In May 2015, there was an outbreak of MERS in Korea, which was the largest outbreak outside of the Arabian Peninsula. In 2003, 774 people died from a severe acute respiratory syndrome (SARS) outbreak. As of 2015, there were no further reports of cases of SARS. \\r\\n\\r\\nBut in early 2020, following a December 2019 outbreak in China, the World Health Organization identified a new type, 2019 novel coronavirus (2019-nCoV).\\r\\n\\r\\nOften a coronavirus causes upper respiratory infection symptoms like a stuffy nose, cough, and sore throat. You can treat them with rest and over-the-counter medication. The coronavirus can also cause middle ear infections in children.\\r\\n\\r\\nWhat Is a Coronavirus?\\r\\nCoronaviruses were first identified in the 1960s, but we don\\'t know where they come from. They get their name from their crown-like shape. Sometimes, but not often, a coronavirus can infect both animals and humans.\\r\\n\\r\\nMost coronaviruses spread the same way other cold-causing viruses do: through infected people coughing and sneezing, by touching an infected person\\'s hands or face, or by touching things such as doorknobs that infected people have touched.\\r\\n\\r\\nAlmost everyone gets a coronavirus infection at least once in their life, most likely as a young child. In the United States, coronaviruses are more common in the fall and winter, but anyone can come down with a coronavirus infection at any time.\\r\\n\\r\\nCommon Symptoms of Coronavirus\\r\\nThe symptoms of most coronaviruses are similar to any other upper respiratory infection, including runny nose, coughing, sore throat, and sometimes a fever. In most cases, you won\\'t know whether you have a coronavirus or a different cold-causing virus, such as rhinovirus.\\r\\n\\r\\nYou could get lab tests, including nose and throat cultures and blood work, to find out whether your cold was caused by a coronavirus, but there\\'s no reason to. The test results wouldn\\'t change how you treat your symptoms, which typically go away in a few days.\\r\\n\\r\\nBut if a coronavirus infection spreads to the lower respiratory tract (your windpipe and your lungs), it can cause pneumonia, especially in older people, people with heart disease, or people with weakened immune systems.\\r\\n\\r\\nWhat to Do About Coronavirus\\r\\nThere is no vaccine for coronavirus. To help prevent a coronavirus infection, do the same things you do to avoid the common cold:\\r\\n\\r\\nWash your hands thoroughly with soap and warm water or with an alcohol-based hand sanitizer.\\r\\nKeep your hands and fingers away from your eyes, nose, and mouth.\\r\\nAvoid close contact with people who are infected.\\r\\nYou treat a coronavirus infection the same way you treat a cold:\\r\\n\\r\\nGet plenty of rest.\\r\\nDrink fluids.\\r\\nTake over-the-counter medicine for a sore throat and fever. But don\\'t give aspirin to children or teens younger than 19; use ibuprofen or acetaminophen instead.\\r\\nA humidifier or steamy shower can also help ease a sore and scratchy throat.\\r\\n\\r\\nEven when a coronavirus causes MERS or SARS in other countries, the kind of coronavirus infection common in the U.S. isn\\'t a serious threat for an otherwise healthy adult. If you get sick, treat your symptoms and contact a doctor if they get worse or don\\'t go away.\\r\\n\\r\\nNews about the coronavirus outbreak that started in Wuhan, China, is changing rapidly. The respiratory infection, which is closely related to SARS and MERS, has been spreading across China, and cases have been diagnosed in several other countries, including the United States. Weâ\\x80\\x99ll provide the latest updates on cases, deaths, travel restrictions, and more here.\\r\\n\\r\\nWhat is the latest news?\\r\\nOn Wednesday, CDC medical officers and others met a group of about 210 U.S. citizens evacuated from China. Their plane landed at March Air Reserve Base in California, where the evacuees will be monitored for coronavirus symptoms for several days. Anyone showing signs of the disease will be taken to the hospital.\\r\\n\\r\\nSome airlines, including British Airways and United Airlines, are stopping or reducing flights to China as the number of cases continues to rise rapidly. Worldwide there are now more than 6,000 cases and 132 deaths, according to the European Centre for Disease Prevention and Control. While the majority of cases center in China, it has been found in the U.S. and these countries: Thailand, Hong Kong, Taiwan, Australia, Macau, Singapore, Japan, South Korea, Malaysia, France, Canada, Vietnam, Nepal, Cambodia, Germany and United Arab Emirates. There have been no deaths outside China.\\r\\n\\r\\nIn the U.S., the CDC is reporting five confirmed cases from these states: Washington, Illinois, California and Arizona. On Monday, Jan. 27, Nancy Messonnier, MD, Director of the agency\\'s National Center for Immunization and Respiratory Diseases, said it had 165 persons under investigation for coronavirus from 36 states. In addition to the 5 confirmed positive, 68 have tested negative. They are prioritizing the testing based on a personâ\\x80\\x99s risk.\\r\\n\\r\\nMessonnier said they had posted the blueprints for their diagnostic test on a public server and were working \"as fast as we can\" to get test kits out to states. \\r\\n\\r\\nRight now, all the testing for the new coronavirus is taking place at the CDC\\'s headquarters in Atlanta.\\r\\n\\r\\nShe said the CDC was mulling a change to its travel screening for the infection, but did not give further details.\\r\\n\\r\\nHow many people have been diagnosed with the virus, and how many have died?\\r\\nAccording to European CDC, the majority of the confirmed cases â\\x80\\x93 5,994 â\\x80\\x93 are in China. Another 78 cases are confirmed outside of China in 16 countries. Countries with the most confirmed cases include Thailand with 14 and Taiwan and South Korea with 8 each. All reported deaths have been in China, and include 16 healthcare workers.\\r\\n\\r\\nWhen did the outbreak start?\\r\\nChina first reported the outbreak in Wuhan on Dec. 30, 2019.\\r\\n\\r\\nWhat are public officials doing to contain the virus?\\r\\nOn Tuesday, the CDC urged travelers to avoid non-essential travel to China.\\r\\n\\r\\nChinese officials have shut down all public transportation to 10 cities, affecting 35 million people. The first was Wuhan, which has a population of about 11 million. In Wuhan, that includes buses, subways, trains, and the airport.\\r\\n\\r\\nAll passengers flying into the United States from Wuhan will be routed through one of five airports and screened for fever and other signs of the virus. â\\x80\\x9cPatients of concernï¿½ï¿½ï¿½ will be referred to a facility and given a test to find out if they have the virus.\\r\\n\\r\\nWhat do we know about cases in the United States?\\r\\nIn all U.S. cases so far, patients had recently traveled to Wuhan.\\r\\n\\r\\nCalifornia has two patients, one in Los Angeles County and one in Orange County. The patient from Orange County is a man in his 50s. He is in a local hospital in isolation and is in good condition, according to the Orange County Health Care Agency. Los Angeles County officials did not provide additional details about the patient there.\\r\\n\\r\\nArizona\\'s Department of Health Services said its patient is a Maricopa County resident and member of the Arizona State University community who did not live in student housing. The patient is not severely ill and is being kept in isolation. \\r\\n\\r\\nAnother case involves a woman in her 60s from Chicago. The Chicago Department of Public Health reported that she had visited Wuhan, China in December and returned to Chicago earlier this month. She is hospitalized in stable condition. \\r\\n\\r\\nThe first U.S. patient is a man in his 30s from Washington state. He had traveled from Wuhan and entered the country before the screening was in place. He started having symptoms and contacted his doctor. He is in good condition and is in isolation at Providence Regional Medical Center.\\r\\n\\r\\nIs travel to China safe?\\r\\nWuhan is closed to travelers.\\r\\n\\r\\nThe CDC is advising that travelers avoid non-essential travel to China. Travelers who do go should:\\r\\n\\r\\nAvoid contact with sick people.\\r\\nAvoid animals, animal markets, and products that come from animals.\\r\\nWash their hands often with soap and water, or use an alcohol-based sanitizer if thatâ\\x80\\x99s not available.\\r\\nSeek medical care right away for a fever, cough, or difficulty breathing. Tell a health care professional about any travel.\\r\\nWhat are the symptoms, and how is the virus diagnosed?\\r\\nChina created a test for the virus and shared that information with other countries. The CDC has developed its own test.\\r\\n\\r\\nSymptoms include a fever, coughing, and shortness of breath. They may appear 2 to 14 days after youâ\\x80\\x99re exposed to the virus.\\r\\n\\r\\nWhat is the source of the virus, and how is it spread?\\r\\nHealth officials are not sure of the source of the virus yet or how easily it can spread. Coronaviruses are found in many different animals, including camels, cattle, cats, and bats. One research paper also suggested snakes as a possible source. The new virus may be linked to a seafood and live animal market in Wuhan that has since been closed\\r\\n\\r\\nThe virus can spread from person to person. Health officials are seeing this happen most often where people are close together and in health care settings. To date, 16 health care workers have been infected.\\r\\n\\r\\nThe CDC believes that severe acute respiratory syndrome (SARS) and Middle East respiratory syndrome (MERS), two other types of coronavirus, are spread through droplets when someone coughs or sneezes.\\r\\n\\r\\nIs there a vaccine?\\r\\nThere is no vaccine, but the National Institutes of Health is working on one and hopes to begin testing in several months. That testing would be for safety. If itâ\\x80\\x99s safe, there would be testing to see how well it works.\\r\\n\\r\\nHow is it treated?\\r\\nThere is no specific treatment for the virus. Patients are generally given supportive care for their symptoms, such a fluids and pain relievers. Hospitalized patients may need support with breathing.'"
            ]
          },
          "metadata": {
            "tags": []
          },
          "execution_count": 248
        }
      ]
    },
    {
      "cell_type": "markdown",
      "metadata": {
        "id": "ZeXXMLRb4kXb"
      },
      "source": [
        "Process data and calculate indices"
      ]
    },
    {
      "cell_type": "code",
      "metadata": {
        "id": "E5TKeiOp4jtl",
        "colab": {
          "base_uri": "https://localhost:8080/"
        },
        "outputId": "455fdb5f-b2a6-4085-ff90-871a86c4e348"
      },
      "source": [
        "chars = list(set(data))\n",
        "data_size, X_size = len(data), len(chars)\n",
        "print(\"Corona Virus article has %d characters, %d unique characters\" %(data_size, X_size))\n",
        "char_to_idx = {ch:i for i,ch in enumerate(chars)}\n",
        "idx_to_char = {i:ch for i,ch in enumerate(chars)}"
      ],
      "execution_count": 249,
      "outputs": [
        {
          "output_type": "stream",
          "text": [
            "Corona Virus article has 10346 characters, 80 unique characters\n"
          ],
          "name": "stdout"
        }
      ]
    },
    {
      "cell_type": "markdown",
      "metadata": {
        "id": "4C53MB135LRY"
      },
      "source": [
        "# Constants and Hyperparameters"
      ]
    },
    {
      "cell_type": "code",
      "metadata": {
        "id": "dfj21ORa49Ps"
      },
      "source": [
        "Hidden_Layer_size = 100 #size of the hidden layer\n",
        "Time_steps = 40 # Number of time steps (length of the sequence) used for training\n",
        "learning_rate = 1e-1 # Learning Rate\n",
        "weight_sd = 0.1 #Standard deviation of weights for initialization\n",
        "z_size = Hidden_Layer_size + X_size #Size of concatenation(H, X) vector"
      ],
      "execution_count": 250,
      "outputs": []
    },
    {
      "cell_type": "markdown",
      "metadata": {
        "id": "OdmJf4Du5uhb"
      },
      "source": [
        "# Activation Functions and Derivatives"
      ]
    },
    {
      "cell_type": "code",
      "metadata": {
        "id": "seGHei_D5FGk"
      },
      "source": [
        "def sigmoid(x): # sigmoid function\n",
        "  return 1 / (1 + np.exp(-x)) # write your code here\n",
        "\n",
        "def dsigmoid(y): # derivative of sigmoid function\n",
        "  return sigmoid(y) * (1 - sigmoid(y)) # write your code here\n",
        "\n",
        "def tanh(x): # tanh function\n",
        "  return (np.exp(x) - np.exp(-x))/(np.exp(x) + np.exp(-x)) # write your code here\n",
        "\n",
        "def dtanh(y): # derivative of tanh\n",
        "  return (1 - tanh(y)**2)   # write your code here"
      ],
      "execution_count": 251,
      "outputs": []
    },
    {
      "cell_type": "code",
      "metadata": {
        "colab": {
          "base_uri": "https://localhost:8080/"
        },
        "id": "Viw3yq8yBFDb",
        "outputId": "63e9a8bb-f972-42b5-edfb-7fa16d8d146c"
      },
      "source": [
        "sigmoid(0)"
      ],
      "execution_count": 252,
      "outputs": [
        {
          "output_type": "execute_result",
          "data": {
            "text/plain": [
              "0.5"
            ]
          },
          "metadata": {
            "tags": []
          },
          "execution_count": 252
        }
      ]
    },
    {
      "cell_type": "code",
      "metadata": {
        "colab": {
          "base_uri": "https://localhost:8080/"
        },
        "id": "XlspQih7BLvN",
        "outputId": "c05f63d7-3f38-4ea4-d947-ee489abfa3a9"
      },
      "source": [
        "round(dsigmoid(sigmoid(0)), 2)"
      ],
      "execution_count": 253,
      "outputs": [
        {
          "output_type": "execute_result",
          "data": {
            "text/plain": [
              "0.24"
            ]
          },
          "metadata": {
            "tags": []
          },
          "execution_count": 253
        }
      ]
    },
    {
      "cell_type": "code",
      "metadata": {
        "colab": {
          "base_uri": "https://localhost:8080/"
        },
        "id": "ccLdyuDYBRQR",
        "outputId": "608a5c25-339b-4391-d415-57967906304c"
      },
      "source": [
        "round(tanh(dsigmoid(sigmoid(0))), 5)\n"
      ],
      "execution_count": 254,
      "outputs": [
        {
          "output_type": "execute_result",
          "data": {
            "text/plain": [
              "0.23077"
            ]
          },
          "metadata": {
            "tags": []
          },
          "execution_count": 254
        }
      ]
    },
    {
      "cell_type": "code",
      "metadata": {
        "colab": {
          "base_uri": "https://localhost:8080/"
        },
        "id": "XrLP4MkXB7uK",
        "outputId": "47c8a5a9-7ca0-4c87-b28f-91a7d0e31e62"
      },
      "source": [
        "round(dtanh(tanh(dsigmoid(sigmoid(0)))), 5)"
      ],
      "execution_count": 255,
      "outputs": [
        {
          "output_type": "execute_result",
          "data": {
            "text/plain": [
              "0.94858"
            ]
          },
          "metadata": {
            "tags": []
          },
          "execution_count": 255
        }
      ]
    },
    {
      "cell_type": "markdown",
      "metadata": {
        "id": "KeCvVH1v6Me-"
      },
      "source": [
        "# Quiz Question 1\n",
        "\n",
        "What is the value of sigmoid(0) calculated from  your code? (Answer up to 1 decimal point, e.g. 4.2 and NOT 4.29999999, no rounding off).\n",
        "\n",
        "# Quiz Question 2\n",
        "\n",
        "What is the value of dsigmoid(sigmoid(0)) calculated from your code?? (Answer up to 2 decimal point, e.g. 4.29 and NOT 4.29999999, no rounding off). \n",
        "\n",
        "# Quiz Question 3\n",
        "\n",
        "What is the value of tanh(dsigmoid(sigmoid(0))) calculated from your code?? (Answer up to 5 decimal point, e.g. 4.29999 and NOT 4.29999999, no rounding off).\n",
        "\n",
        "# Quiz Question 4\n",
        "\n",
        "What is the value of dtanh(tanh(dsigmoid(sigmoid(0)))) calculated from your code?? (Answer up to 5 decimal point, e.g. 4.29999 and NOT 4.29999999, no rounding off)."
      ]
    },
    {
      "cell_type": "markdown",
      "metadata": {
        "id": "EeSVipDu8iKE"
      },
      "source": [
        "# Parameters"
      ]
    },
    {
      "cell_type": "code",
      "metadata": {
        "id": "ICbWNemE6LGV"
      },
      "source": [
        "class Param:\n",
        "    def __init__(self, name, value):\n",
        "      self.name = name\n",
        "      self.v = value # parameter value\n",
        "      self.d = np.zeros_like(value) # derivative\n",
        "      self.m = np.zeros_like(value) # momentum for Adagrad"
      ],
      "execution_count": 256,
      "outputs": []
    },
    {
      "cell_type": "markdown",
      "metadata": {
        "id": "j83pZNPE8212"
      },
      "source": [
        "We use random weights with normal distribution (0, weight_sd) for  tanh  activation function and (0.5, weight_sd) for  `sigmoid`  activation function.\n",
        "\n",
        "Biases are initialized to zeros."
      ]
    },
    {
      "cell_type": "markdown",
      "metadata": {
        "id": "swHwLXOI9E7V"
      },
      "source": [
        "# LSTM \n",
        "You are making this network, please note f, i, c and o (also \"v\") in the image below:\n",
        "![alt text](http://blog.varunajayasiri.com/ml/lstm.svg)\n",
        "\n",
        "Please note that we are concatenating the old_hidden_vector and new_input."
      ]
    },
    {
      "cell_type": "markdown",
      "metadata": {
        "id": "A0DBzNY-90s5"
      },
      "source": [
        "# Quiz Question 4\n",
        "\n",
        "In the class definition below, what should be size_a, size_b, and size_c? ONLY use the variables defined above."
      ]
    },
    {
      "cell_type": "code",
      "metadata": {
        "id": "SFuHhqVq6Wge"
      },
      "source": [
        "size_a = Hidden_Layer_size\n",
        "size_b = z_size\n",
        "size_c = X_size\n",
        "\n",
        "class Parameters:\n",
        "    def __init__(self):\n",
        "        self.W_f = Param('W_f', np.random.randn(size_a, size_b) * weight_sd + 0.5)\n",
        "        self.b_f = Param('b_f', np.zeros((size_a, 1)))\n",
        "\n",
        "        self.W_i = Param('W_i', np.random.randn(size_a, size_b) * weight_sd + 0.5)\n",
        "        self.b_i = Param('b_i', np.zeros((size_a, 1)))\n",
        "\n",
        "        self.W_C = Param('W_C', np.random.randn(size_a, size_b) * weight_sd)\n",
        "        self.b_C = Param('b_C', np.zeros((size_a, 1)))\n",
        "\n",
        "        self.W_o = Param('W_o', np.random.randn(size_a, size_b) * weight_sd + 0.5)\n",
        "        self.b_o = Param('b_o', np.zeros((size_a, 1)))\n",
        "\n",
        "        #For final layer to predict the next character\n",
        "        self.W_v = Param('W_v', np.random.randn(X_size, size_a) * weight_sd)\n",
        "        self.b_v = Param('b_v', np.zeros((size_c, 1)))\n",
        "        \n",
        "    def all(self):\n",
        "        return [self.W_f, self.W_i, self.W_C, self.W_o, self.W_v,\n",
        "               self.b_f, self.b_i, self.b_C, self.b_o, self.b_v]\n",
        "        \n",
        "parameters = Parameters()"
      ],
      "execution_count": 257,
      "outputs": []
    },
    {
      "cell_type": "markdown",
      "metadata": {
        "id": "RzmfGLZt_xVs"
      },
      "source": [
        "Look at these operations which we'll be writing:\n",
        "\n",
        "**Concatenation of h and x:**\n",
        "\n",
        "$z\\:=\\:\\left[h_{t-1},\\:x\\right]$\n",
        "\n",
        "$f_t=\\sigma\\left(W_f\\cdot z\\:+\\:b_f\\:\\right)$\n",
        "\n",
        "$i_i=\\sigma\\left(W_i\\cdot z\\:+\\:b_i\\right)$\n",
        "\n",
        "$\\overline{C_t}=\\tanh\\left(W_C\\cdot z\\:+\\:b_C\\right)$\n",
        "\n",
        "$C_t=f_t\\ast C_{t-1}+i_t\\ast \\overline{C}_t$\n",
        "\n",
        "$o_t=\\sigma\\left(W_o\\cdot z\\:+\\:b_i\\right)$\n",
        "\n",
        "$h_t=o_t\\ast\\tanh\\left(C_t\\right)$\n",
        "\n",
        "**Logits:**\n",
        "\n",
        "$v_t=W_v\\cdot h_t+b_v$\n",
        "\n",
        "**Softmax:**\n",
        "\n",
        "$\\hat{y}=softmax\\left(v_t\\right)$\n"
      ]
    },
    {
      "cell_type": "code",
      "metadata": {
        "id": "-bUkseNnDott"
      },
      "source": [
        "def forward(x, h_prev, C_prev, p = parameters):\n",
        "    assert x.shape == (X_size, 1)\n",
        "    assert h_prev.shape == (Hidden_Layer_size, 1)\n",
        "    assert C_prev.shape == (Hidden_Layer_size, 1)\n",
        "    \n",
        "    z = np.row_stack((h_prev, x))\n",
        "    f = sigmoid(np.dot(p.W_f.v, z) + p.b_f.v)\n",
        "    i = sigmoid(np.dot(p.W_i.v, z) + p.b_i.v)\n",
        "    C_bar = tanh(np.dot(p.W_C.v, z) + p.b_C.v)\n",
        "\n",
        "    C = (f * C_prev) + (i * C_bar)\n",
        "    o = sigmoid(np.dot(p.W_o.v, z) + p.b_o.v)\n",
        "    h = o * tanh(C)\n",
        "\n",
        "    v = np.dot(p.W_v.v,h) + p.b_v.v\n",
        "    y = np.exp(v) / np.sum(np.exp(v)) #softmax\n",
        "\n",
        "    return z, f, i, C_bar, C, o, h, v, y"
      ],
      "execution_count": 258,
      "outputs": []
    },
    {
      "cell_type": "code",
      "metadata": {
        "colab": {
          "base_uri": "https://localhost:8080/"
        },
        "id": "IPPdH_xdC79f",
        "outputId": "08d2bba7-55d5-4ce5-b753-0b61e3c9ea69"
      },
      "source": [
        "print(len(forward(np.zeros((X_size, 1)), np.zeros((Hidden_Layer_size, 1)), np.zeros((Hidden_Layer_size, 1)), parameters)))"
      ],
      "execution_count": 259,
      "outputs": [
        {
          "output_type": "stream",
          "text": [
            "9\n"
          ],
          "name": "stdout"
        }
      ]
    },
    {
      "cell_type": "markdown",
      "metadata": {
        "id": "jZrDhZIjFpdI"
      },
      "source": [
        "You must finish the function above before you can attempt the questions below. \n",
        "\n",
        "# Quiz Question 5\n",
        "\n",
        "What is the output of 'print(len(forward(np.zeros((X_size, 1)), np.zeros((Hidden_Layer_size, 1)), np.zeros((Hidden_Layer_size, 1)), parameters)))'?"
      ]
    },
    {
      "cell_type": "code",
      "metadata": {
        "id": "xSsnbm5cDDpV"
      },
      "source": [
        "z, f, i, C_bar, C, o, h, v, y = forward(np.zeros((X_size, 1)), np.zeros((Hidden_Layer_size, 1)), np.zeros((Hidden_Layer_size, 1)))"
      ],
      "execution_count": 260,
      "outputs": []
    },
    {
      "cell_type": "code",
      "metadata": {
        "colab": {
          "base_uri": "https://localhost:8080/"
        },
        "id": "XVVGJRi4DI0Y",
        "outputId": "33cb7e97-1190-4528-b513-093c47ce7f86"
      },
      "source": [
        "print(z.shape)"
      ],
      "execution_count": 261,
      "outputs": [
        {
          "output_type": "stream",
          "text": [
            "(180, 1)\n"
          ],
          "name": "stdout"
        }
      ]
    },
    {
      "cell_type": "code",
      "metadata": {
        "colab": {
          "base_uri": "https://localhost:8080/"
        },
        "id": "CrDfXQ-QDKqD",
        "outputId": "c0112eb8-11bd-4bcd-8610-24e7d7ea8363"
      },
      "source": [
        "print(np.sum(z))"
      ],
      "execution_count": 262,
      "outputs": [
        {
          "output_type": "stream",
          "text": [
            "0.0\n"
          ],
          "name": "stdout"
        }
      ]
    },
    {
      "cell_type": "code",
      "metadata": {
        "colab": {
          "base_uri": "https://localhost:8080/"
        },
        "id": "SbfQ-xiIDNRD",
        "outputId": "96079157-1a78-4e3e-a8e2-0cbb3167ee6d"
      },
      "source": [
        "print(np.sum(f))"
      ],
      "execution_count": 263,
      "outputs": [
        {
          "output_type": "stream",
          "text": [
            "50.0\n"
          ],
          "name": "stdout"
        }
      ]
    },
    {
      "cell_type": "markdown",
      "metadata": {
        "id": "XV-YVl_GGiX8"
      },
      "source": [
        "# Quiz Question 6. \n",
        "\n",
        "Assuming you have fixed the forward function, run this command: \n",
        "z, f, i, C_bar, C, o, h, v, y = forward(np.zeros((X_size, 1)), np.zeros((Hidden_Layer_size, 1)), np.zeros((Hidden_Layer_size, 1)))\n",
        "\n",
        "Now, find these values:\n",
        "\n",
        "\n",
        "1.   print(z.shape)\n",
        "2.   print(np.sum(z))\n",
        "3.   print(np.sum(f))\n",
        "\n",
        "Copy and paste exact values you get in the logs into the quiz.\n",
        "\n"
      ]
    },
    {
      "cell_type": "code",
      "metadata": {
        "id": "1GvKVWmTDt3H"
      },
      "source": [
        "z, f, i, C_bar, C, o, h, v, y = forward(np.zeros((X_size, 1)), np.zeros((Hidden_Layer_size, 1)), np.zeros((Hidden_Layer_size, 1)))"
      ],
      "execution_count": 264,
      "outputs": []
    },
    {
      "cell_type": "markdown",
      "metadata": {
        "id": "NeSvhkqwILsG"
      },
      "source": [
        "# Backpropagation\n",
        "\n",
        "Here we are defining the backpropagation. It's too complicated, here is the whole code. (Please note that this would work only if your earlier code is perfect)."
      ]
    },
    {
      "cell_type": "code",
      "metadata": {
        "id": "zIa1jUZiGPmF"
      },
      "source": [
        "def backward(target, dh_next, dC_next, C_prev,\n",
        "             z, f, i, C_bar, C, o, h, v, y,\n",
        "             p = parameters):\n",
        "    \n",
        "    assert z.shape == (X_size + Hidden_Layer_size, 1)\n",
        "    assert v.shape == (X_size, 1)\n",
        "    assert y.shape == (X_size, 1)\n",
        "    \n",
        "    for param in [dh_next, dC_next, C_prev, f, i, C_bar, C, o, h]:\n",
        "        assert param.shape == (Hidden_Layer_size, 1)\n",
        "        \n",
        "    dv = np.copy(y)\n",
        "    dv[target] -= 1\n",
        "\n",
        "    p.W_v.d += np.dot(dv, h.T)\n",
        "    p.b_v.d += dv\n",
        "\n",
        "    dh = np.dot(p.W_v.v.T, dv)        \n",
        "    dh += dh_next\n",
        "    do = dh * tanh(C)\n",
        "    do = dsigmoid(o) * do\n",
        "    p.W_o.d += np.dot(do, z.T)\n",
        "    p.b_o.d += do\n",
        "\n",
        "    dC = np.copy(dC_next)\n",
        "    dC += dh * o * dtanh(tanh(C))\n",
        "    dC_bar = dC * i\n",
        "    dC_bar = dtanh(C_bar) * dC_bar\n",
        "    p.W_C.d += np.dot(dC_bar, z.T)\n",
        "    p.b_C.d += dC_bar\n",
        "\n",
        "    di = dC * C_bar\n",
        "    di = dsigmoid(i) * di\n",
        "    p.W_i.d += np.dot(di, z.T)\n",
        "    p.b_i.d += di\n",
        "\n",
        "    df = dC * C_prev\n",
        "    df = dsigmoid(f) * df\n",
        "    p.W_f.d += np.dot(df, z.T)\n",
        "    p.b_f.d += df\n",
        "\n",
        "    dz = (np.dot(p.W_f.v.T, df)\n",
        "         + np.dot(p.W_i.v.T, di)\n",
        "         + np.dot(p.W_C.v.T, dC_bar)\n",
        "         + np.dot(p.W_o.v.T, do))\n",
        "    dh_prev = dz[:Hidden_Layer_size, :]\n",
        "    dC_prev = f * dC\n",
        "    \n",
        "    return dh_prev, dC_prev"
      ],
      "execution_count": 265,
      "outputs": []
    },
    {
      "cell_type": "markdown",
      "metadata": {
        "id": "Tnc7WpRkIU5S"
      },
      "source": [
        "# Forward and Backward Combined Pass\n",
        "\n",
        "Let's first clear the gradients before each backward pass"
      ]
    },
    {
      "cell_type": "code",
      "metadata": {
        "id": "OJWoC3U1ITf8"
      },
      "source": [
        "def clear_gradients(params = parameters):\n",
        "    for p in params.all():\n",
        "        p.d.fill(0)"
      ],
      "execution_count": 266,
      "outputs": []
    },
    {
      "cell_type": "markdown",
      "metadata": {
        "id": "7XN93UnjIgmA"
      },
      "source": [
        "Clip gradients to mitigate exploding gradients"
      ]
    },
    {
      "cell_type": "code",
      "metadata": {
        "id": "0LTsublxIfFl"
      },
      "source": [
        "def clip_gradients(params = parameters):\n",
        "    for p in params.all():\n",
        "        np.clip(p.d, -1, 1, out=p.d)"
      ],
      "execution_count": 267,
      "outputs": []
    },
    {
      "cell_type": "markdown",
      "metadata": {
        "id": "T7XUpDTWIl_Y"
      },
      "source": [
        "Calculate and store the values in forward pass. Accumulate gradients in backward pass and clip gradients to avoid exploding gradients.\n",
        "\n",
        "input, target are list of integers, with character indexes.\n",
        "h_prev is the array of initial h at  h−1  (size H x 1)\n",
        "C_prev is the array of initial C at  C−1  (size H x 1)\n",
        "Returns loss, final  hT  and  CT"
      ]
    },
    {
      "cell_type": "code",
      "metadata": {
        "id": "CQNxjTuZIia_"
      },
      "source": [
        "def forward_backward(inputs, targets, h_prev, C_prev):\n",
        "    global paramters\n",
        "    \n",
        "    # To store the values for each time step\n",
        "    x_s, z_s, f_s, i_s,  = {}, {}, {}, {}\n",
        "    C_bar_s, C_s, o_s, h_s = {}, {}, {}, {}\n",
        "    v_s, y_s =  {}, {}\n",
        "    \n",
        "    # Values at t - 1\n",
        "    h_s[-1] = np.copy(h_prev)\n",
        "    C_s[-1] = np.copy(C_prev)\n",
        "    \n",
        "    loss = 0\n",
        "    # Loop through time steps\n",
        "    assert len(inputs) == Time_steps\n",
        "    for t in range(len(inputs)):\n",
        "        x_s[t] = np.zeros((X_size, 1))\n",
        "        x_s[t][inputs[t]] = 1 # Input character\n",
        "        \n",
        "        (z_s[t], f_s[t], i_s[t],\n",
        "        C_bar_s[t], C_s[t], o_s[t], h_s[t],\n",
        "        v_s[t], y_s[t]) = \\\n",
        "            forward(x_s[t], h_s[t - 1], C_s[t - 1]) # Forward pass\n",
        "            \n",
        "        loss += -np.log(y_s[t][targets[t], 0]) # Loss for at t\n",
        "        \n",
        "    clear_gradients()\n",
        "\n",
        "    dh_next = np.zeros_like(h_s[0]) #dh from the next character\n",
        "    dC_next = np.zeros_like(C_s[0]) #dh from the next character\n",
        "\n",
        "    for t in reversed(range(len(inputs))):\n",
        "        # Backward pass\n",
        "        dh_next, dC_next = \\\n",
        "            backward(target = targets[t], dh_next = dh_next,\n",
        "                     dC_next = dC_next, C_prev = C_s[t-1],\n",
        "                     z = z_s[t], f = f_s[t], i = i_s[t], C_bar = C_bar_s[t],\n",
        "                     C = C_s[t], o = o_s[t], h = h_s[t], v = v_s[t],\n",
        "                     y = y_s[t])\n",
        "\n",
        "    clip_gradients()\n",
        "        \n",
        "    return loss, h_s[len(inputs) - 1], C_s[len(inputs) - 1]"
      ],
      "execution_count": 268,
      "outputs": []
    },
    {
      "cell_type": "markdown",
      "metadata": {
        "id": "tcy5u_vRItkV"
      },
      "source": [
        "# Sample the next character"
      ]
    },
    {
      "cell_type": "code",
      "metadata": {
        "id": "p8SrtJiwIsSm"
      },
      "source": [
        "def sample(h_prev, C_prev, first_char_idx, sentence_length):\n",
        "    x = np.zeros((X_size, 1))\n",
        "    x[first_char_idx] = 1\n",
        "\n",
        "    h = h_prev\n",
        "    C = C_prev\n",
        "\n",
        "    indexes = []\n",
        "    \n",
        "    for t in range(sentence_length):\n",
        "        _, _, _, _, C, _, h, _, p = forward(x, h, C)\n",
        "        idx = np.random.choice(range(X_size), p=p.ravel())\n",
        "        x = np.zeros((X_size, 1))\n",
        "        x[idx] = 1\n",
        "        indexes.append(idx)\n",
        "\n",
        "    return indexes"
      ],
      "execution_count": 269,
      "outputs": []
    },
    {
      "cell_type": "markdown",
      "metadata": {
        "id": "SiWFaWLNIx_L"
      },
      "source": [
        "# Training (Adagrad)\n",
        "\n",
        "Update the graph and display a sample output\n",
        "\n"
      ]
    },
    {
      "cell_type": "code",
      "metadata": {
        "id": "ENQYU-7AIw0t"
      },
      "source": [
        "def update_status(inputs, h_prev, C_prev):\n",
        "    #initialized later\n",
        "    global plot_iter, plot_loss\n",
        "    global smooth_loss\n",
        "    \n",
        "    # Get predictions for 200 letters with current model\n",
        "\n",
        "    sample_idx = sample(h_prev, C_prev, inputs[0], 200)\n",
        "    txt = ''.join(idx_to_char[idx] for idx in sample_idx)\n",
        "\n",
        "    # Clear and plot\n",
        "    plt.plot(plot_iter, plot_loss)\n",
        "    display.clear_output(wait=True)\n",
        "    plt.show()\n",
        "\n",
        "    #Print prediction and loss\n",
        "    print(\"----\\n %s \\n----\" % (txt, ))\n",
        "    print(\"iter %d, loss %f\" % (iteration, smooth_loss))"
      ],
      "execution_count": 270,
      "outputs": []
    },
    {
      "cell_type": "markdown",
      "metadata": {
        "id": "ACXcASJuI73a"
      },
      "source": [
        "# Update Parameters\n",
        "\n",
        "\\begin{align}\n",
        "\\theta_i &= \\theta_i - \\eta\\frac{d\\theta_i}{\\sum dw_{\\tau}^2} \\\\\n",
        "d\\theta_i &= \\frac{\\partial L}{\\partial \\theta_i}\n",
        "\\end{align}"
      ]
    },
    {
      "cell_type": "code",
      "metadata": {
        "id": "bR08TvcjI4Pf"
      },
      "source": [
        "def update_paramters(params = parameters):\n",
        "    for p in params.all():\n",
        "        p.m += p.d * p.d # Calculate sum of gradients\n",
        "        #print(learning_rate * dparam)\n",
        "        p.v += -(learning_rate * p.d / np.sqrt(p.m + 1e-8))"
      ],
      "execution_count": 271,
      "outputs": []
    },
    {
      "cell_type": "markdown",
      "metadata": {
        "id": "La9vyJ6RJLFK"
      },
      "source": [
        "To delay the keyboard interrupt to prevent the training from stopping in the middle of an iteration\n",
        "\n"
      ]
    },
    {
      "cell_type": "code",
      "metadata": {
        "id": "ZVDHbMb7JNGT"
      },
      "source": [
        "# Exponential average of loss\n",
        "# Initialize to a error of a random model\n",
        "smooth_loss = -np.log(1.0 / X_size) * Time_steps\n",
        "\n",
        "iteration, pointer = 0, 0\n",
        "\n",
        "# For the graph\n",
        "plot_iter = np.zeros((0))\n",
        "plot_loss = np.zeros((0))"
      ],
      "execution_count": 272,
      "outputs": []
    },
    {
      "cell_type": "markdown",
      "metadata": {
        "id": "HF6vS0VWJqsS"
      },
      "source": [
        "# Training Loop"
      ]
    },
    {
      "cell_type": "code",
      "metadata": {
        "id": "OQyNSL0iJOxH",
        "colab": {
          "base_uri": "https://localhost:8080/",
          "height": 331
        },
        "outputId": "1dc40beb-a5ab-42fe-8fa0-dfd58f041e35"
      },
      "source": [
        "iter = 50000\n",
        "while iter > 0:\n",
        "  # Reset\n",
        "  if pointer + Time_steps >= len(data) or iteration == 0:\n",
        "      g_h_prev = np.zeros((Hidden_Layer_size, 1))\n",
        "      g_C_prev = np.zeros((Hidden_Layer_size, 1))\n",
        "      pointer = 0\n",
        "\n",
        "\n",
        "  inputs = ([char_to_idx[ch] \n",
        "              for ch in data[pointer: pointer + Time_steps]])\n",
        "  targets = ([char_to_idx[ch] \n",
        "              for ch in data[pointer + 1: pointer + Time_steps + 1]])\n",
        "\n",
        "  loss, g_h_prev, g_C_prev = \\\n",
        "      forward_backward(inputs, targets, g_h_prev, g_C_prev)\n",
        "  smooth_loss = smooth_loss * 0.999 + loss * 0.001\n",
        "\n",
        "  # Print every hundred steps\n",
        "  if iteration % 100 == 0:\n",
        "      update_status(inputs, g_h_prev, g_C_prev)\n",
        "\n",
        "  update_paramters()\n",
        "\n",
        "  plot_iter = np.append(plot_iter, [iteration])\n",
        "  plot_loss = np.append(plot_loss, [loss])\n",
        "\n",
        "  pointer += Time_steps\n",
        "  iteration += 1\n",
        "  iter = iter -1"
      ],
      "execution_count": 273,
      "outputs": [
        {
          "output_type": "display_data",
          "data": {
            "image/png": "[encoded data removed]",
            "text/plain": [
              "<Figure size 432x288 with 1 Axes>"
            ]
          },
          "metadata": {
            "tags": []
          }
        },
        {
          "output_type": "stream",
          "text": [
            "----\n",
            " lityhiewssi arreirfso p bza, aliaoseau swcn  -h ouli Od.chth lhSifund . t oothhao t tAeasasheesecaalneie i trw o Sitdaurouaio ou roulïmnun athmoderaHop hhwher b oTzercs.. a2rnoni 0toda,peinesthh)CrisW \n",
            "----\n",
            "iter 49900, loss 116.176196\n"
          ],
          "name": "stdout"
        }
      ]
    },
    {
      "cell_type": "markdown",
      "metadata": {
        "id": "2AKpa1BGOItQ"
      },
      "source": [
        "# Quiz Question 7. \n",
        "\n",
        "Run the above code for 50000 iterations making sure that you have 100 hidden layers and time_steps is 40. What is the loss value you're seeing?"
      ]
    }
  ]
}