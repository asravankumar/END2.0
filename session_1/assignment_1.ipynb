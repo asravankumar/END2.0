{
  "nbformat": 4,
  "nbformat_minor": 0,
  "metadata": {
    "colab": {
      "name": "Untitled2.ipynb",
      "provenance": [],
      "collapsed_sections": [],
      "authorship_tag": "ABX9TyPtliKYvWM0XT08aN8Ukp5q",
      "include_colab_link": true
    },
    "kernelspec": {
      "name": "python3",
      "display_name": "Python 3"
    },
    "language_info": {
      "name": "python"
    }
  },
  "cells": [
    {
      "cell_type": "markdown",
      "metadata": {
        "id": "view-in-github",
        "colab_type": "text"
      },
      "source": [
        "<a href=\"https://colab.research.google.com/github/asravankumar/END2.0/blob/master/session_1/assignment_1.ipynb\" target=\"_parent\"><img src=\"https://colab.research.google.com/assets/colab-badge.svg\" alt=\"Open In Colab\"/></a>"
      ]
    },
    {
      "cell_type": "code",
      "metadata": {
        "colab": {
          "base_uri": "https://localhost:8080/"
        },
        "id": "Wn2HBxUqbHEC",
        "outputId": "b52b456a-a46f-450d-df17-18176c8888fe"
      },
      "source": [
        "import torch\n",
        "from torch.autograd import Variable\n",
        "import torch.nn as nn\n",
        "import torch.nn.functional as F\n",
        "import torch.optim as optim\n",
        "import numpy as np\n",
        "import matplotlib.pyplot as plt\n",
        "%matplotlib inline\n",
        "torch.manual_seed(2)"
      ],
      "execution_count": 3,
      "outputs": [
        {
          "output_type": "execute_result",
          "data": {
            "text/plain": [
              "<torch._C.Generator at 0x7f3cc858ac90>"
            ]
          },
          "metadata": {
            "tags": []
          },
          "execution_count": 3
        }
      ]
    },
    {
      "cell_type": "code",
      "metadata": {
        "id": "U7_A8D4-ba20"
      },
      "source": [
        "X = torch.Tensor([[0,0], [0,1], [1,0], [1,1]])\n",
        "Y = torch.Tensor([0, 1, 1, 0]).view(-1,1)"
      ],
      "execution_count": 25,
      "outputs": []
    },
    {
      "cell_type": "code",
      "metadata": {
        "id": "4OX0DZxpbfRF"
      },
      "source": [
        "class XOR(nn.Module):\n",
        "    def __init__(self, input_dim = 2, output_dim=1):\n",
        "        super(XOR, self).__init__()\n",
        "        self.lin1 = nn.Linear(input_dim, 11)\n",
        "        self.lin2 = nn.Linear(11, output_dim, bias=False)\n",
        "    \n",
        "    def forward(self, x):\n",
        "        x = self.lin1(x)\n",
        "        x = F.tanh(x)\n",
        "        x = self.lin2(x)\n",
        "        # x = F.tanh(x)\n",
        "        return x"
      ],
      "execution_count": 26,
      "outputs": []
    },
    {
      "cell_type": "code",
      "metadata": {
        "colab": {
          "base_uri": "https://localhost:8080/"
        },
        "id": "nxTJqC8vbgIH",
        "outputId": "98353a91-3bd3-4d47-c80e-e4ad1021763b"
      },
      "source": [
        "model = XOR()\n",
        "print(model)\n",
        "from torchsummary import summary\n",
        "summary(model, (2,2))"
      ],
      "execution_count": 27,
      "outputs": [
        {
          "output_type": "stream",
          "text": [
            "XOR(\n",
            "  (lin1): Linear(in_features=2, out_features=11, bias=True)\n",
            "  (lin2): Linear(in_features=11, out_features=1, bias=False)\n",
            ")\n",
            "----------------------------------------------------------------\n",
            "        Layer (type)               Output Shape         Param #\n",
            "================================================================\n",
            "            Linear-1                [-1, 2, 11]              33\n",
            "            Linear-2                 [-1, 2, 1]              11\n",
            "================================================================\n",
            "Total params: 44\n",
            "Trainable params: 44\n",
            "Non-trainable params: 0\n",
            "----------------------------------------------------------------\n",
            "Input size (MB): 0.00\n",
            "Forward/backward pass size (MB): 0.00\n",
            "Params size (MB): 0.00\n",
            "Estimated Total Size (MB): 0.00\n",
            "----------------------------------------------------------------\n"
          ],
          "name": "stdout"
        },
        {
          "output_type": "stream",
          "text": [
            "/usr/local/lib/python3.7/dist-packages/torch/nn/functional.py:1698: UserWarning: nn.functional.tanh is deprecated. Use torch.tanh instead.\n",
            "  warnings.warn(\"nn.functional.tanh is deprecated. Use torch.tanh instead.\")\n"
          ],
          "name": "stderr"
        }
      ]
    },
    {
      "cell_type": "code",
      "metadata": {
        "id": "cXkS2HqNbxWv"
      },
      "source": [
        ""
      ],
      "execution_count": null,
      "outputs": []
    },
    {
      "cell_type": "code",
      "metadata": {
        "id": "CpPP0Y8kbil6"
      },
      "source": [
        "def weights_init(model):\n",
        "    for m in model.modules():\n",
        "        if isinstance(m, nn.Linear):\n",
        "            # initialize the weight tensor, here we use a normal distribution\n",
        "            m.weight.data.normal_(0, 1)\n",
        "\n",
        "weights_init(model)"
      ],
      "execution_count": 28,
      "outputs": []
    },
    {
      "cell_type": "code",
      "metadata": {
        "id": "MCYFv9CTboxg"
      },
      "source": [
        "loss_func = nn.L1Loss()"
      ],
      "execution_count": 29,
      "outputs": []
    },
    {
      "cell_type": "code",
      "metadata": {
        "id": "xJq-zQspbpxk"
      },
      "source": [
        "optimizer = optim.SGD(model.parameters(), lr=0.02, momentum=0.9)"
      ],
      "execution_count": 30,
      "outputs": []
    },
    {
      "cell_type": "code",
      "metadata": {
        "colab": {
          "base_uri": "https://localhost:8080/"
        },
        "id": "_Lof6-0bbyex",
        "outputId": "88e62759-a945-4c03-9e03-6fa537b4726f"
      },
      "source": [
        "epochs = 2001\n",
        "steps = X.size(0)\n",
        "for i in range(epochs):\n",
        "    for j in range(steps):\n",
        "        data_point = np.random.randint(X.size(0))\n",
        "        x_var = Variable(X[data_point], requires_grad=False)\n",
        "        y_var = Variable(Y[data_point], requires_grad=False)\n",
        "        \n",
        "        optimizer.zero_grad()\n",
        "        y_hat = model(x_var)\n",
        "        loss = loss_func.forward(y_hat, y_var)\n",
        "        loss.backward()\n",
        "        optimizer.step()\n",
        "        \n",
        "    if i % 50 == 0:\n",
        "        print( \"Epoch: {0}, Loss: {1}, \".format(i, loss.data.numpy()))"
      ],
      "execution_count": 31,
      "outputs": [
        {
          "output_type": "stream",
          "text": [
            "/usr/local/lib/python3.7/dist-packages/torch/nn/functional.py:1698: UserWarning: nn.functional.tanh is deprecated. Use torch.tanh instead.\n",
            "  warnings.warn(\"nn.functional.tanh is deprecated. Use torch.tanh instead.\")\n"
          ],
          "name": "stderr"
        },
        {
          "output_type": "stream",
          "text": [
            "Epoch: 0, Loss: 0.12450319528579712, \n",
            "Epoch: 50, Loss: 0.9892815947532654, \n",
            "Epoch: 100, Loss: 0.4166010618209839, \n",
            "Epoch: 150, Loss: 0.10278427600860596, \n",
            "Epoch: 200, Loss: 0.02591228485107422, \n",
            "Epoch: 250, Loss: 0.3200649619102478, \n",
            "Epoch: 300, Loss: 0.2065061330795288, \n",
            "Epoch: 350, Loss: 0.5426517724990845, \n",
            "Epoch: 400, Loss: 0.5167973041534424, \n",
            "Epoch: 450, Loss: 0.3564133644104004, \n",
            "Epoch: 500, Loss: 0.25488924980163574, \n",
            "Epoch: 550, Loss: 0.34999382495880127, \n",
            "Epoch: 600, Loss: 0.29541635513305664, \n",
            "Epoch: 650, Loss: 0.020399898290634155, \n",
            "Epoch: 700, Loss: 0.47941064834594727, \n",
            "Epoch: 750, Loss: 0.18370532989501953, \n",
            "Epoch: 800, Loss: 0.1075448989868164, \n",
            "Epoch: 850, Loss: 0.35709139704704285, \n",
            "Epoch: 900, Loss: 0.11222317814826965, \n",
            "Epoch: 950, Loss: 0.4154486656188965, \n",
            "Epoch: 1000, Loss: 0.39459583163261414, \n",
            "Epoch: 1050, Loss: 0.14352625608444214, \n",
            "Epoch: 1100, Loss: 0.07667374610900879, \n",
            "Epoch: 1150, Loss: 0.26843321323394775, \n",
            "Epoch: 1200, Loss: 0.22798562049865723, \n",
            "Epoch: 1250, Loss: 0.007927507162094116, \n",
            "Epoch: 1300, Loss: 0.31395256519317627, \n",
            "Epoch: 1350, Loss: 0.004653990268707275, \n",
            "Epoch: 1400, Loss: 0.039041996002197266, \n",
            "Epoch: 1450, Loss: 0.2856111228466034, \n",
            "Epoch: 1500, Loss: 0.006905078887939453, \n",
            "Epoch: 1550, Loss: 0.1659458875656128, \n",
            "Epoch: 1600, Loss: 0.09371542930603027, \n",
            "Epoch: 1650, Loss: 0.08968520164489746, \n",
            "Epoch: 1700, Loss: 0.3384976387023926, \n",
            "Epoch: 1750, Loss: 0.3756999969482422, \n",
            "Epoch: 1800, Loss: 0.058465003967285156, \n",
            "Epoch: 1850, Loss: 0.1110917329788208, \n",
            "Epoch: 1900, Loss: 0.22016781568527222, \n",
            "Epoch: 1950, Loss: 0.10893905162811279, \n",
            "Epoch: 2000, Loss: 0.5779292583465576, \n"
          ],
          "name": "stdout"
        }
      ]
    }
  ]
}