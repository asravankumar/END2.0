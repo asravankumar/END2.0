{
  "nbformat": 4,
  "nbformat_minor": 0,
  "metadata": {
    "colab": {
      "name": "sentiment_analysis.ipynb",
      "provenance": [],
      "collapsed_sections": [],
      "authorship_tag": "ABX9TyMkAXpIUcz6XVZIxwRJuo+/",
      "include_colab_link": true
    },
    "kernelspec": {
      "name": "python3",
      "display_name": "Python 3"
    },
    "language_info": {
      "name": "python"
    },
    "accelerator": "GPU"
  },
  "cells": [
    {
      "cell_type": "markdown",
      "metadata": {
        "id": "view-in-github",
        "colab_type": "text"
      },
      "source": [
        "<a href=\"https://colab.research.google.com/github/asravankumar/END2.0/blob/master/session_5/sentiment_analysis.ipynb\" target=\"_parent\"><img src=\"https://colab.research.google.com/assets/colab-badge.svg\" alt=\"Open In Colab\"/></a>"
      ]
    },
    {
      "cell_type": "markdown",
      "metadata": {
        "id": "cSN-GE0Tlvjn"
      },
      "source": [
        "**Data Loaders to Download, Preprocess & Create Training/Validation DataSet**"
      ]
    },
    {
      "cell_type": "markdown",
      "metadata": {
        "id": "jEY044CemMv_"
      },
      "source": [
        "The data is a set of Rotten Tomatoes Movie Reviews labelled and provided readily by stanford.\n",
        "The raw data is available in two formats\n",
        "- raw csv files.\n",
        "- Penn Treebank(PTB tree) format.\n",
        "\n",
        "The raw csv files contains list of files which consists of list of \n",
        "- sentences\n",
        "- phrases\n",
        "- trees mapping sentences and phrases\n",
        "- sentiment of each phrase.\n",
        "\n",
        "The PTB format consists of the sentences, and the respective phrases in tree format.\n",
        "\n",
        "In order to get the sentiment of each sentences, we need to parse the tree structure. [pytreebank](https://github.com/JonathanRaiman/pytreebank)  does the job effectively.\n",
        "\n",
        "We download the sentences and sentiments from [pytreebank](https://github.com/JonathanRaiman/pytreebank) and build models."
      ]
    },
    {
      "cell_type": "markdown",
      "metadata": {
        "id": "0xNM-ccomBta"
      },
      "source": [
        "**Data Download to CSV File**"
      ]
    },
    {
      "cell_type": "code",
      "metadata": {
        "colab": {
          "base_uri": "https://localhost:8080/"
        },
        "id": "bJhHXyNrl_8-",
        "outputId": "4d26588f-1aa2-4733-ad17-ad48d235f72e"
      },
      "source": [
        "!pip install pytreebank"
      ],
      "execution_count": null,
      "outputs": [
        {
          "output_type": "stream",
          "text": [
            "Collecting pytreebank\n",
            "  Downloading https://files.pythonhosted.org/packages/e0/12/626ead6f6c0a0a9617396796b965961e9dfa5e78b36c17a81ea4c43554b1/pytreebank-0.2.7.tar.gz\n",
            "Building wheels for collected packages: pytreebank\n",
            "  Building wheel for pytreebank (setup.py) ... \u001b[?25l\u001b[?25hdone\n",
            "  Created wheel for pytreebank: filename=pytreebank-0.2.7-cp37-none-any.whl size=37070 sha256=6120444dc2b77cffd686549d60fe43368592d0b31aff78dae0d3a8a62131098a\n",
            "  Stored in directory: /root/.cache/pip/wheels/e0/b6/91/e9edcdbf464f623628d5c3aa9de28888c726e270b9a29f2368\n",
            "Successfully built pytreebank\n",
            "Installing collected packages: pytreebank\n",
            "Successfully installed pytreebank-0.2.7\n"
          ],
          "name": "stdout"
        }
      ]
    },
    {
      "cell_type": "markdown",
      "metadata": {
        "id": "ADwCehGTuKSr"
      },
      "source": [
        "Stanford Sentiment Treebank Data splits into train, dev and test sets. We therefore maintain the split as given by them."
      ]
    },
    {
      "cell_type": "code",
      "metadata": {
        "id": "mLJZ1RqpuExM"
      },
      "source": [
        "import pytreebank\n",
        "dataset = pytreebank.load_sst()\n",
        "\n",
        "for category in ['train', 'test', 'dev']:\n",
        "  out_file = open('sentences_{}.txt'.format(category), 'w')\n",
        "  out_file.write('{}\\t{}\\n'.format(\"sentence\", \"labels\"))\n",
        "  for item in dataset[category]:\n",
        "    label, sentence = item.to_labeled_lines()[0]\n",
        "    out_file.write(\"{}\\t{}\\n\".format(sentence, label))\n",
        "  out_file.close()"
      ],
      "execution_count": null,
      "outputs": []
    },
    {
      "cell_type": "code",
      "metadata": {
        "id": "ud3glq4DvTiv"
      },
      "source": [
        "import pandas as pd\n",
        "# create training and validation pandas dataframes from downloaded data.\n",
        "\n",
        "train_df = pd.read_csv('sentences_train.txt', delimiter='\\t')\n",
        "valid_df = pd.read_csv('sentences_dev.txt', delimiter='\\t')"
      ],
      "execution_count": null,
      "outputs": []
    },
    {
      "cell_type": "code",
      "metadata": {
        "colab": {
          "base_uri": "https://localhost:8080/"
        },
        "id": "DV9RdHPxw0VS",
        "outputId": "a65cd7ff-03b6-4d5c-eab5-d07a75c143f3"
      },
      "source": [
        "print(\"training df shape\", train_df.shape)\n",
        "print(\"validation df shape\", valid_df.shape)\n"
      ],
      "execution_count": null,
      "outputs": [
        {
          "output_type": "stream",
          "text": [
            "training df shape (8544, 2)\n",
            "validation df shape (1101, 2)\n"
          ],
          "name": "stdout"
        }
      ]
    },
    {
      "cell_type": "markdown",
      "metadata": {
        "id": "0j2HpnNFyjn1"
      },
      "source": [
        "**Understanding our Dataset**\n",
        "\n",
        "We plot a bar graph on our training data."
      ]
    },
    {
      "cell_type": "code",
      "metadata": {
        "colab": {
          "base_uri": "https://localhost:8080/",
          "height": 293
        },
        "id": "xiZnixtuw_IR",
        "outputId": "956e3925-a806-4d73-fe31-aec914839110"
      },
      "source": [
        "import matplotlib.pyplot as plt\n",
        "\n",
        "ax = train_df['labels'].value_counts(sort=False).plot(kind='bar')\n",
        "ax.set_xlabel(\"labels\")\n",
        "ax.set_ylabel(\"number of samples in training dataset\")"
      ],
      "execution_count": null,
      "outputs": [
        {
          "output_type": "execute_result",
          "data": {
            "text/plain": [
              "Text(0, 0.5, 'number of samples in training dataset')"
            ]
          },
          "metadata": {
            "tags": []
          },
          "execution_count": 3
        },
        {
          "output_type": "display_data",
          "data": {
            "image/png": "[encoded data removed]",
            "text/plain": [
              "<Figure size 432x288 with 1 Axes>"
            ]
          },
          "metadata": {
            "tags": [],
            "needs_background": "light"
          }
        }
      ]
    },
    {
      "cell_type": "markdown",
      "metadata": {
        "id": "EoXlcTlCzGrZ"
      },
      "source": [
        "We clearly can see there is an **imbalance** in the data w.r.t number of samples for each label. \n",
        "\n",
        "labels 1,2,3 have more samples than 0 and 4. \n",
        "\n",
        "We need to augment some data in labels 0 and 4 to balance them.\n"
      ]
    },
    {
      "cell_type": "markdown",
      "metadata": {
        "id": "5Zf8VrAWF32A"
      },
      "source": [
        "**Data Augmentation**\n",
        "\n"
      ]
    },
    {
      "cell_type": "markdown",
      "metadata": {
        "id": "P1donL6lTkRB"
      },
      "source": [
        "**- Back Translate**"
      ]
    },
    {
      "cell_type": "code",
      "metadata": {
        "id": "Af43JOl9LDqR",
        "colab": {
          "base_uri": "https://localhost:8080/"
        },
        "outputId": "9a20cbe6-91e3-40b3-b9ac-605abc019f39"
      },
      "source": [
        "!pip install googletrans\n",
        "!pip install google_trans_new"
      ],
      "execution_count": null,
      "outputs": [
        {
          "output_type": "stream",
          "text": [
            "Collecting googletrans\n",
            "  Downloading https://files.pythonhosted.org/packages/71/3a/3b19effdd4c03958b90f40fe01c93de6d5280e03843cc5adf6956bfc9512/googletrans-3.0.0.tar.gz\n",
            "Collecting httpx==0.13.3\n",
            "\u001b[?25l  Downloading https://files.pythonhosted.org/packages/54/b4/698b284c6aed4d7c2b4fe3ba5df1fcf6093612423797e76fbb24890dd22f/httpx-0.13.3-py3-none-any.whl (55kB)\n",
            "\u001b[K     |████████████████████████████████| 61kB 5.1MB/s \n",
            "\u001b[?25hRequirement already satisfied: chardet==3.* in /usr/local/lib/python3.7/dist-packages (from httpx==0.13.3->googletrans) (3.0.4)\n",
            "Requirement already satisfied: idna==2.* in /usr/local/lib/python3.7/dist-packages (from httpx==0.13.3->googletrans) (2.10)\n",
            "Collecting hstspreload\n",
            "\u001b[?25l  Downloading https://files.pythonhosted.org/packages/dd/50/606213e12fb49c5eb667df0936223dcaf461f94e215ea60244b2b1e9b039/hstspreload-2020.12.22-py3-none-any.whl (994kB)\n",
            "\u001b[K     |████████████████████████████████| 1.0MB 20.2MB/s \n",
            "\u001b[?25hCollecting sniffio\n",
            "  Downloading https://files.pythonhosted.org/packages/52/b0/7b2e028b63d092804b6794595871f936aafa5e9322dcaaad50ebf67445b3/sniffio-1.2.0-py3-none-any.whl\n",
            "Collecting rfc3986<2,>=1.3\n",
            "  Downloading https://files.pythonhosted.org/packages/c4/e5/63ca2c4edf4e00657584608bee1001302bbf8c5f569340b78304f2f446cb/rfc3986-1.5.0-py2.py3-none-any.whl\n",
            "Requirement already satisfied: certifi in /usr/local/lib/python3.7/dist-packages (from httpx==0.13.3->googletrans) (2020.12.5)\n",
            "Collecting httpcore==0.9.*\n",
            "\u001b[?25l  Downloading https://files.pythonhosted.org/packages/dd/d5/e4ff9318693ac6101a2095e580908b591838c6f33df8d3ee8dd953ba96a8/httpcore-0.9.1-py3-none-any.whl (42kB)\n",
            "\u001b[K     |████████████████████████████████| 51kB 8.7MB/s \n",
            "\u001b[?25hCollecting h11<0.10,>=0.8\n",
            "\u001b[?25l  Downloading https://files.pythonhosted.org/packages/5a/fd/3dad730b0f95e78aeeb742f96fa7bbecbdd56a58e405d3da440d5bfb90c6/h11-0.9.0-py2.py3-none-any.whl (53kB)\n",
            "\u001b[K     |████████████████████████████████| 61kB 9.7MB/s \n",
            "\u001b[?25hCollecting h2==3.*\n",
            "\u001b[?25l  Downloading https://files.pythonhosted.org/packages/25/de/da019bcc539eeab02f6d45836f23858ac467f584bfec7a526ef200242afe/h2-3.2.0-py2.py3-none-any.whl (65kB)\n",
            "\u001b[K     |████████████████████████████████| 71kB 10.9MB/s \n",
            "\u001b[?25hCollecting hyperframe<6,>=5.2.0\n",
            "  Downloading https://files.pythonhosted.org/packages/19/0c/bf88182bcb5dce3094e2f3e4fe20db28a9928cb7bd5b08024030e4b140db/hyperframe-5.2.0-py2.py3-none-any.whl\n",
            "Collecting hpack<4,>=3.0\n",
            "  Downloading https://files.pythonhosted.org/packages/8a/cc/e53517f4a1e13f74776ca93271caef378dadec14d71c61c949d759d3db69/hpack-3.0.0-py2.py3-none-any.whl\n",
            "Building wheels for collected packages: googletrans\n",
            "  Building wheel for googletrans (setup.py) ... \u001b[?25l\u001b[?25hdone\n",
            "  Created wheel for googletrans: filename=googletrans-3.0.0-cp37-none-any.whl size=15737 sha256=4561a40fed6021b89ca9eac4dfd97bf96f5a7bf9ad0294d00cd234e39131b2af\n",
            "  Stored in directory: /root/.cache/pip/wheels/28/1a/a7/eaf4d7a3417a0c65796c547cff4deb6d79c7d14c2abd29273e\n",
            "Successfully built googletrans\n",
            "Installing collected packages: hstspreload, sniffio, rfc3986, h11, hyperframe, hpack, h2, httpcore, httpx, googletrans\n",
            "Successfully installed googletrans-3.0.0 h11-0.9.0 h2-3.2.0 hpack-3.0.0 hstspreload-2020.12.22 httpcore-0.9.1 httpx-0.13.3 hyperframe-5.2.0 rfc3986-1.5.0 sniffio-1.2.0\n",
            "Collecting google_trans_new\n",
            "  Downloading https://files.pythonhosted.org/packages/f9/7b/9f136106dc5824dc98185c97991d3cd9b53e70a197154dd49f7b899128f6/google_trans_new-1.1.9-py3-none-any.whl\n",
            "Installing collected packages: google-trans-new\n",
            "Successfully installed google-trans-new-1.1.9\n"
          ],
          "name": "stdout"
        }
      ]
    },
    {
      "cell_type": "code",
      "metadata": {
        "id": "VRHwtzecW2T-"
      },
      "source": [
        "import random\n",
        "import googletrans, google_trans_new\n",
        "\n",
        "translator = google_trans_new.google_translator()\n",
        "\n",
        "def back_translate(sentence):\n",
        "  available_languages = list(googletrans.LANGUAGES.keys()) \n",
        "  selected_language = random.choice(available_languages) \n",
        "  translations = translator.translate(sentence, lang_tgt=selected_language) \n",
        "  back_translated_text = translator.translate(translations, lang_src=selected_language, lang_tgt='en') \n",
        "  return back_translated_text"
      ],
      "execution_count": null,
      "outputs": []
    },
    {
      "cell_type": "code",
      "metadata": {
        "colab": {
          "base_uri": "https://localhost:8080/",
          "height": 35
        },
        "id": "4lmYWV-BW5PX",
        "outputId": "b046901d-cb48-4bd0-f9de-c2045473d6e5"
      },
      "source": [
        "back_translate(\"training the model\")"
      ],
      "execution_count": null,
      "outputs": [
        {
          "output_type": "execute_result",
          "data": {
            "application/vnd.google.colaboratory.intrinsic+json": {
              "type": "string"
            },
            "text/plain": [
              "'Model training '"
            ]
          },
          "metadata": {
            "tags": []
          },
          "execution_count": 29
        }
      ]
    },
    {
      "cell_type": "markdown",
      "metadata": {
        "id": "zyvhdlwWXxPI"
      },
      "source": [
        "**- Random Swap**"
      ]
    },
    {
      "cell_type": "code",
      "metadata": {
        "id": "TutR7jvlX6GD"
      },
      "source": [
        "def random_swap(sentence, n=5): \n",
        "    length = range(len(sentence)) \n",
        "    for _ in range(n):\n",
        "        idx1, idx2 = random.sample(length, 2)\n",
        "        sentence[idx1], sentence[idx2] = sentence[idx2], sentence[idx1] \n",
        "    return sentence"
      ],
      "execution_count": null,
      "outputs": []
    },
    {
      "cell_type": "code",
      "metadata": {
        "colab": {
          "base_uri": "https://localhost:8080/"
        },
        "id": "T0dFNOiyX7aA",
        "outputId": "2bfc6c5b-38d4-4ee0-cc1f-843ff447f175"
      },
      "source": [
        "random_swap(\"training the model\".split(' '), 1)"
      ],
      "execution_count": null,
      "outputs": [
        {
          "output_type": "execute_result",
          "data": {
            "text/plain": [
              "['training', 'model', 'the']"
            ]
          },
          "metadata": {
            "tags": []
          },
          "execution_count": 33
        }
      ]
    },
    {
      "cell_type": "markdown",
      "metadata": {
        "id": "cfEyVt0oYbh6"
      },
      "source": [
        "**- Random Deletion**"
      ]
    },
    {
      "cell_type": "code",
      "metadata": {
        "id": "uUNFDGRfYTYk"
      },
      "source": [
        "def random_deletion(words, p=0.5): \n",
        "    if len(words) == 1: # return if single word\n",
        "        return words\n",
        "    remaining = list(filter(lambda x: random.uniform(0,1) > p,words)) \n",
        "    if len(remaining) == 0: # if not left, sample a random word\n",
        "        return [random.choice(words)] \n",
        "    else:\n",
        "        return remaining"
      ],
      "execution_count": null,
      "outputs": []
    },
    {
      "cell_type": "code",
      "metadata": {
        "colab": {
          "base_uri": "https://localhost:8080/"
        },
        "id": "vLeZecVTYgFF",
        "outputId": "10857fe1-edd2-4e7e-e90d-10724933b910"
      },
      "source": [
        "random_deletion(\"training the model\".split(' '), 0.2)"
      ],
      "execution_count": null,
      "outputs": [
        {
          "output_type": "execute_result",
          "data": {
            "text/plain": [
              "['training', 'the']"
            ]
          },
          "metadata": {
            "tags": []
          },
          "execution_count": 46
        }
      ]
    },
    {
      "cell_type": "markdown",
      "metadata": {
        "id": "ap_fQ7FSaInX"
      },
      "source": [
        "We shall augment the datasets based on the above three techniques\n",
        "\n",
        "As we can see from the data, the labels 0 and 4 are less than that of others, we shall back translate few random samples and populate these."
      ]
    },
    {
      "cell_type": "code",
      "metadata": {
        "colab": {
          "base_uri": "https://localhost:8080/",
          "height": 424
        },
        "id": "khPDNfnSaH8j",
        "outputId": "4a935ece-9fbb-488d-da11-f46fd38cd361"
      },
      "source": [
        "train_df"
      ],
      "execution_count": null,
      "outputs": [
        {
          "output_type": "execute_result",
          "data": {
            "text/html": [
              "<div>\n",
              "<style scoped>\n",
              "    .dataframe tbody tr th:only-of-type {\n",
              "        vertical-align: middle;\n",
              "    }\n",
              "\n",
              "    .dataframe tbody tr th {\n",
              "        vertical-align: top;\n",
              "    }\n",
              "\n",
              "    .dataframe thead th {\n",
              "        text-align: right;\n",
              "    }\n",
              "</style>\n",
              "<table border=\"1\" class=\"dataframe\">\n",
              "  <thead>\n",
              "    <tr style=\"text-align: right;\">\n",
              "      <th></th>\n",
              "      <th>sentence</th>\n",
              "      <th>labels</th>\n",
              "    </tr>\n",
              "  </thead>\n",
              "  <tbody>\n",
              "    <tr>\n",
              "      <th>0</th>\n",
              "      <td>The Rock is destined to be the 21st Century 's...</td>\n",
              "      <td>3</td>\n",
              "    </tr>\n",
              "    <tr>\n",
              "      <th>1</th>\n",
              "      <td>The gorgeously elaborate continuation of `` Th...</td>\n",
              "      <td>4</td>\n",
              "    </tr>\n",
              "    <tr>\n",
              "      <th>2</th>\n",
              "      <td>Singer/composer Bryan Adams contributes a slew...</td>\n",
              "      <td>3</td>\n",
              "    </tr>\n",
              "    <tr>\n",
              "      <th>3</th>\n",
              "      <td>You 'd think by now America would have had eno...</td>\n",
              "      <td>2</td>\n",
              "    </tr>\n",
              "    <tr>\n",
              "      <th>4</th>\n",
              "      <td>Yet the act is still charming here .</td>\n",
              "      <td>3</td>\n",
              "    </tr>\n",
              "    <tr>\n",
              "      <th>...</th>\n",
              "      <td>...</td>\n",
              "      <td>...</td>\n",
              "    </tr>\n",
              "    <tr>\n",
              "      <th>8539</th>\n",
              "      <td>A real snooze .</td>\n",
              "      <td>0</td>\n",
              "    </tr>\n",
              "    <tr>\n",
              "      <th>8540</th>\n",
              "      <td>No surprises .</td>\n",
              "      <td>1</td>\n",
              "    </tr>\n",
              "    <tr>\n",
              "      <th>8541</th>\n",
              "      <td>We 've seen the hippie-turned-yuppie plot befo...</td>\n",
              "      <td>3</td>\n",
              "    </tr>\n",
              "    <tr>\n",
              "      <th>8542</th>\n",
              "      <td>Her fans walked out muttering words like `` ho...</td>\n",
              "      <td>0</td>\n",
              "    </tr>\n",
              "    <tr>\n",
              "      <th>8543</th>\n",
              "      <td>In this case zero .</td>\n",
              "      <td>1</td>\n",
              "    </tr>\n",
              "  </tbody>\n",
              "</table>\n",
              "<p>8544 rows × 2 columns</p>\n",
              "</div>"
            ],
            "text/plain": [
              "                                               sentence  labels\n",
              "0     The Rock is destined to be the 21st Century 's...       3\n",
              "1     The gorgeously elaborate continuation of `` Th...       4\n",
              "2     Singer/composer Bryan Adams contributes a slew...       3\n",
              "3     You 'd think by now America would have had eno...       2\n",
              "4                  Yet the act is still charming here .       3\n",
              "...                                                 ...     ...\n",
              "8539                                    A real snooze .       0\n",
              "8540                                     No surprises .       1\n",
              "8541  We 've seen the hippie-turned-yuppie plot befo...       3\n",
              "8542  Her fans walked out muttering words like `` ho...       0\n",
              "8543                                In this case zero .       1\n",
              "\n",
              "[8544 rows x 2 columns]"
            ]
          },
          "metadata": {
            "tags": []
          },
          "execution_count": 52
        }
      ]
    },
    {
      "cell_type": "code",
      "metadata": {
        "colab": {
          "base_uri": "https://localhost:8080/"
        },
        "id": "g_Ttdq6glZEu",
        "outputId": "5a337c95-a215-4bc4-ea5a-6d4676adebc8"
      },
      "source": [
        "train_df.loc[7163]"
      ],
      "execution_count": null,
      "outputs": [
        {
          "output_type": "execute_result",
          "data": {
            "text/plain": [
              "sentence    Collapses after 30 minutes into a slap-happy s...\n",
              "labels                                                      0\n",
              "Name: 7163, dtype: object"
            ]
          },
          "metadata": {
            "tags": []
          },
          "execution_count": 64
        }
      ]
    },
    {
      "cell_type": "code",
      "metadata": {
        "id": "MhbC1d19cPCb"
      },
      "source": [
        "def back_translate_sentences_based_on_label(label, new_sentences_count):\n",
        "  label_indexes = train_df[train_df['labels'] == label].index.tolist()\n",
        "  selected_indexes = random.sample(label_indexes, new_sentences_count)\n",
        "  new_label_sentences = []\n",
        "  for index in selected_indexes:\n",
        "    sentence = train_df.loc[index].sentence\n",
        "    back_translated_sentence = back_translate(sentence)\n",
        "    new_label_sentences.append([back_translated_sentence, label])\n",
        "  new_df = pd.DataFrame(new_label_sentences, columns=['sentence', 'labels'])\n",
        "  return(new_df)\n",
        "\n",
        "new_label_0_df = back_translate_sentences_based_on_label(0, 400)\n",
        "new_label_1_df = back_translate_sentences_based_on_label(4, 200)"
      ],
      "execution_count": null,
      "outputs": []
    },
    {
      "cell_type": "code",
      "metadata": {
        "id": "RavP2UUHtQtw"
      },
      "source": [
        "new_augmented_train_df = pd.concat([train_df, new_label_0_df, new_label_1_df], ignore_index=True)"
      ],
      "execution_count": null,
      "outputs": []
    },
    {
      "cell_type": "code",
      "metadata": {
        "colab": {
          "base_uri": "https://localhost:8080/"
        },
        "id": "563n_4kDvSg7",
        "outputId": "d8cde167-adf7-4eda-9568-aa1754119474"
      },
      "source": [
        "new_augmented_train_df.labels.value_counts()"
      ],
      "execution_count": null,
      "outputs": [
        {
          "output_type": "execute_result",
          "data": {
            "text/plain": [
              "3    2322\n",
              "1    2218\n",
              "2    1624\n",
              "0    1492\n",
              "4    1488\n",
              "Name: labels, dtype: int64"
            ]
          },
          "metadata": {
            "tags": []
          },
          "execution_count": 99
        }
      ]
    },
    {
      "cell_type": "markdown",
      "metadata": {
        "id": "ZbBYQuiQvjSU"
      },
      "source": [
        "Let's augment using random_swap on rest of the labels 1,2,3"
      ]
    },
    {
      "cell_type": "code",
      "metadata": {
        "id": "bto4qyUcvuly"
      },
      "source": [
        "def random_swap_sentences_on_labels(temp_df, label, count):\n",
        "  label_indexes = temp_df[temp_df['labels'] == label].index.tolist()\n",
        "  selected_indexes = random.sample(label_indexes, count)\n",
        "  #print(\"selected_indexes\", selected_indexes)\n",
        "  for index in selected_indexes:\n",
        "    sentence = temp_df.loc[index].sentence\n",
        "    #print(\"index\", index, \"sentence\", sentence)\n",
        "    new_sentence = random_swap(sentence.split(' '), 2)\n",
        "    temp_df.loc[index].sentence = new_sentence\n",
        "  return(temp_df)\n",
        "\n",
        "temp_df = new_augmented_train_df.copy()\n",
        "temp_df = random_swap_sentences_on_labels(temp_df, 1, 100)\n",
        "temp_df = random_swap_sentences_on_labels(temp_df, 2, 100)\n",
        "temp_df = random_swap_sentences_on_labels(temp_df, 3, 150)"
      ],
      "execution_count": null,
      "outputs": []
    },
    {
      "cell_type": "code",
      "metadata": {
        "id": "gC54wNz80epP"
      },
      "source": [
        "def random_delete_sentences_on_labels(temp_df, label, count):\n",
        "  label_indexes = temp_df[temp_df['labels'] == label].index.tolist()\n",
        "  selected_indexes = random.sample(label_indexes, count)\n",
        "  #print(\"selected_indexes\", selected_indexes)\n",
        "  for index in selected_indexes:\n",
        "    sentence = temp_df.loc[index].sentence\n",
        "    #print(\"index\", index, \"sentence\", sentence)\n",
        "    new_sentence = random_deletion(sentence.split(' '), 2)\n",
        "    temp_df.loc[index].sentence = new_sentence\n",
        "  return(temp_df)\n",
        "\n",
        "temp_df = temp_df.copy()\n",
        "temp_df = random_swap_sentences_on_labels(temp_df, 1, 100)\n",
        "temp_df = random_swap_sentences_on_labels(temp_df, 1, 100)\n",
        "temp_df = random_swap_sentences_on_labels(temp_df, 1, 150)"
      ],
      "execution_count": null,
      "outputs": []
    },
    {
      "cell_type": "code",
      "metadata": {
        "id": "c2m33dx006Ae"
      },
      "source": [
        "new_train_df = temp_df"
      ],
      "execution_count": null,
      "outputs": []
    },
    {
      "cell_type": "code",
      "metadata": {
        "colab": {
          "base_uri": "https://localhost:8080/",
          "height": 424
        },
        "id": "4A8ZHpeh1Wkh",
        "outputId": "a626f644-7c5d-47e5-ac77-577cd39110cb"
      },
      "source": [
        "new_train_df"
      ],
      "execution_count": null,
      "outputs": [
        {
          "output_type": "execute_result",
          "data": {
            "text/html": [
              "<div>\n",
              "<style scoped>\n",
              "    .dataframe tbody tr th:only-of-type {\n",
              "        vertical-align: middle;\n",
              "    }\n",
              "\n",
              "    .dataframe tbody tr th {\n",
              "        vertical-align: top;\n",
              "    }\n",
              "\n",
              "    .dataframe thead th {\n",
              "        text-align: right;\n",
              "    }\n",
              "</style>\n",
              "<table border=\"1\" class=\"dataframe\">\n",
              "  <thead>\n",
              "    <tr style=\"text-align: right;\">\n",
              "      <th></th>\n",
              "      <th>sentence</th>\n",
              "      <th>labels</th>\n",
              "    </tr>\n",
              "  </thead>\n",
              "  <tbody>\n",
              "    <tr>\n",
              "      <th>0</th>\n",
              "      <td>The Rock is destined to be the 21st Century 's...</td>\n",
              "      <td>3</td>\n",
              "    </tr>\n",
              "    <tr>\n",
              "      <th>1</th>\n",
              "      <td>The gorgeously elaborate continuation of `` Th...</td>\n",
              "      <td>4</td>\n",
              "    </tr>\n",
              "    <tr>\n",
              "      <th>2</th>\n",
              "      <td>Singer/composer Bryan Adams contributes a slew...</td>\n",
              "      <td>3</td>\n",
              "    </tr>\n",
              "    <tr>\n",
              "      <th>3</th>\n",
              "      <td>You 'd think by now America would have had eno...</td>\n",
              "      <td>2</td>\n",
              "    </tr>\n",
              "    <tr>\n",
              "      <th>4</th>\n",
              "      <td>Yet the act is still charming here .</td>\n",
              "      <td>3</td>\n",
              "    </tr>\n",
              "    <tr>\n",
              "      <th>...</th>\n",
              "      <td>...</td>\n",
              "      <td>...</td>\n",
              "    </tr>\n",
              "    <tr>\n",
              "      <th>9139</th>\n",
              "      <td>CHO's time is invaluable.</td>\n",
              "      <td>4</td>\n",
              "    </tr>\n",
              "    <tr>\n",
              "      <th>9140</th>\n",
              "      <td>Piccoli gives excellent performance full of de...</td>\n",
              "      <td>4</td>\n",
              "    </tr>\n",
              "    <tr>\n",
              "      <th>9141</th>\n",
              "      <td>The lack of note of * Corpus and its pleasant ...</td>\n",
              "      <td>4</td>\n",
              "    </tr>\n",
              "    <tr>\n",
              "      <th>9142</th>\n",
              "      <td>... a wonderful, funny, funny funny funny.</td>\n",
              "      <td>4</td>\n",
              "    </tr>\n",
              "    <tr>\n",
              "      <th>9143</th>\n",
              "      <td>Appropriately carried out, Wilde's play is the...</td>\n",
              "      <td>4</td>\n",
              "    </tr>\n",
              "  </tbody>\n",
              "</table>\n",
              "<p>9144 rows × 2 columns</p>\n",
              "</div>"
            ],
            "text/plain": [
              "                                               sentence  labels\n",
              "0     The Rock is destined to be the 21st Century 's...       3\n",
              "1     The gorgeously elaborate continuation of `` Th...       4\n",
              "2     Singer/composer Bryan Adams contributes a slew...       3\n",
              "3     You 'd think by now America would have had eno...       2\n",
              "4                  Yet the act is still charming here .       3\n",
              "...                                                 ...     ...\n",
              "9139                         CHO's time is invaluable.        4\n",
              "9140  Piccoli gives excellent performance full of de...       4\n",
              "9141  The lack of note of * Corpus and its pleasant ...       4\n",
              "9142        ... a wonderful, funny, funny funny funny.        4\n",
              "9143  Appropriately carried out, Wilde's play is the...       4\n",
              "\n",
              "[9144 rows x 2 columns]"
            ]
          },
          "metadata": {
            "tags": []
          },
          "execution_count": 124
        }
      ]
    },
    {
      "cell_type": "code",
      "metadata": {
        "id": "LBpSm21O1j6F",
        "colab": {
          "base_uri": "https://localhost:8080/"
        },
        "outputId": "a08383f1-1e7f-4b88-feb5-72979debd045"
      },
      "source": [
        "new_train_df.labels.value_counts()"
      ],
      "execution_count": null,
      "outputs": [
        {
          "output_type": "execute_result",
          "data": {
            "text/plain": [
              "3    2322\n",
              "1    2218\n",
              "2    1624\n",
              "0    1492\n",
              "4    1488\n",
              "Name: labels, dtype: int64"
            ]
          },
          "metadata": {
            "tags": []
          },
          "execution_count": 125
        }
      ]
    },
    {
      "cell_type": "code",
      "metadata": {
        "id": "EyNy0c_t1rxL",
        "colab": {
          "base_uri": "https://localhost:8080/",
          "height": 293
        },
        "outputId": "f9c3d399-613a-4356-aced-f7a1201a6036"
      },
      "source": [
        "import matplotlib.pyplot as plt\n",
        "\n",
        "ax = new_train_df['labels'].value_counts(sort=False).plot(kind='bar')\n",
        "ax.set_xlabel(\"labels\")\n",
        "ax.set_ylabel(\"number of samples in training dataset\")"
      ],
      "execution_count": null,
      "outputs": [
        {
          "output_type": "execute_result",
          "data": {
            "text/plain": [
              "Text(0, 0.5, 'number of samples in training dataset')"
            ]
          },
          "metadata": {
            "tags": []
          },
          "execution_count": 126
        },
        {
          "output_type": "display_data",
          "data": {
            "image/png": "[encoded data removed]",
            "text/plain": [
              "<Figure size 432x288 with 1 Axes>"
            ]
          },
          "metadata": {
            "tags": [],
            "needs_background": "light"
          }
        }
      ]
    },
    {
      "cell_type": "markdown",
      "metadata": {
        "id": "yswWKuZAzgja"
      },
      "source": [
        "**Creating TorchDataSets**\n",
        "\n",
        "The steps includes preprocessing all the sentences and creating torchtext Dataset objects for the model to use. \n",
        "\n",
        "The following preprocessing have been performed:\n",
        "- lower case all sentences\n",
        "- remove stopwords\n"
      ]
    },
    {
      "cell_type": "code",
      "metadata": {
        "colab": {
          "base_uri": "https://localhost:8080/"
        },
        "id": "sIuLD-cxzUSb",
        "outputId": "d8595789-5c7e-4fb3-ec0c-b967ee8b1bec"
      },
      "source": [
        "import torch, torchtext\n",
        "from torchtext import data\n",
        "\n",
        "SEED = 12\n",
        "torch.manual_seed(SEED)"
      ],
      "execution_count": null,
      "outputs": [
        {
          "output_type": "execute_result",
          "data": {
            "text/plain": [
              "<torch._C.Generator at 0x7f6bb8cb46d0>"
            ]
          },
          "metadata": {
            "tags": []
          },
          "execution_count": 127
        }
      ]
    },
    {
      "cell_type": "code",
      "metadata": {
        "id": "nE7TTepYG2He"
      },
      "source": [
        "# The list of stop words which are to be removed from training and validation set.\n",
        "# The list is from nltk package.\n",
        "stop_words = ['i', 'me', 'my', 'myself', 'we', 'our', 'ours', 'ourselves', 'you', \"you're\", \"you've\", \"you'll\", \"you'd\", 'your', 'yours', 'yourself', 'yourselves', 'he', 'him', 'his', 'himself', 'she', \"she's\", 'her', 'hers', 'herself', 'it', \"it's\", 'its', 'itself', 'they', 'them', 'their', 'theirs', 'themselves', 'what', 'which', 'who', 'whom', 'this', 'that', \"that'll\", 'these', 'those', 'am', 'is', 'are', 'was', 'were', 'be', 'been', 'being', 'have', 'has', 'had', 'having', 'do', 'does', 'did', 'doing', 'a', 'an', 'the', 'and', 'but', 'if', 'or', 'because', 'as', 'until', 'while', 'of', 'at', 'by', 'for', 'with', 'about', 'against', 'between', 'into', 'through', 'during', 'before', 'after', 'above', 'below', 'to', 'from', 'up', 'down', 'in', 'out', 'on', 'off', 'over', 'under', 'again', 'further', 'then', 'once', 'here', 'there', 'when', 'where', 'why', 'how', 'all', 'any', 'both', 'each', 'few', 'more', 'most', 'other', 'some', 'such', 'no', 'nor', 'not', 'only', 'own', 'same', 'so', 'than', 'too', 'very', 's', 't', 'can', 'will', 'just', 'don', \"don't\", 'should', \"should've\", 'now', 'd', 'll', 'm', 'o', 're', 've', 'y', 'ain', 'aren', \"aren't\", 'couldn', \"couldn't\", 'didn', \"didn't\", 'doesn', \"doesn't\", 'hadn', \"hadn't\", 'hasn', \"hasn't\", 'haven', \"haven't\", 'isn', \"isn't\", 'ma', 'mightn', \"mightn't\", 'mustn', \"mustn't\", 'needn', \"needn't\", 'shan', \"shan't\", 'shouldn', \"shouldn't\", 'wasn', \"wasn't\", 'weren', \"weren't\", 'won', \"won't\", 'wouldn', \"wouldn't\"]"
      ],
      "execution_count": null,
      "outputs": []
    },
    {
      "cell_type": "code",
      "metadata": {
        "id": "TZY7Z_pg0GPE"
      },
      "source": [
        "Sentence  = torchtext.legacy.data.Field(\n",
        "                  sequential = True,\n",
        "                  tokenize = 'spacy',\n",
        "                  batch_first =True,\n",
        "                  include_lengths=True,\n",
        "                  lower=True,\n",
        "                  stop_words=stop_words)\n",
        "\n",
        "Label     = torchtext.legacy.data.LabelField(\n",
        "                  tokenize = 'spacy',\n",
        "                  is_target = True,\n",
        "                  batch_first = True,\n",
        "                  sequential = False)\n",
        "fields = [('sentence', Sentence),('labels',Label)]\n",
        "train_example = [ torchtext.legacy.data.Example.fromlist([new_train_df.sentence[i], new_train_df.labels[i]], fields) for i in range(1, new_train_df.shape[0])]\n",
        "valid_example = [ torchtext.legacy.data.Example.fromlist([valid_df.sentence[i], valid_df.labels[i]], fields) for i in range(1, valid_df.shape[0])]\n",
        "train_dataset = torchtext.legacy.data.Dataset(train_example, fields)\n",
        "valid_dataset = torchtext.legacy.data.Dataset(valid_example, fields)"
      ],
      "execution_count": null,
      "outputs": []
    },
    {
      "cell_type": "code",
      "metadata": {
        "id": "NmeHSYWn3QCD"
      },
      "source": [
        ""
      ],
      "execution_count": null,
      "outputs": []
    },
    {
      "cell_type": "markdown",
      "metadata": {
        "id": "5oAOXCMoIoSE"
      },
      "source": [
        "We limit the vocab to 8000 tokens."
      ]
    },
    {
      "cell_type": "code",
      "metadata": {
        "id": "3TQq26ZaH18K"
      },
      "source": [
        "Sentence.build_vocab(train_dataset, max_size=8000)\n",
        "Label.build_vocab(train_dataset, max_size=8000)"
      ],
      "execution_count": 130,
      "outputs": []
    },
    {
      "cell_type": "code",
      "metadata": {
        "colab": {
          "base_uri": "https://localhost:8080/"
        },
        "id": "m-lTygvRIlse",
        "outputId": "e21cb1a4-6882-4a79-d87d-e3e6c3c3a529"
      },
      "source": [
        "print('Size of input vocab : ', len(Sentence.vocab))\n",
        "print('Size of label vocab : ', len(Label.vocab))\n",
        "print('Top 10 words appeared repeatedly :', list(Sentence.vocab.freqs.most_common(10)))\n",
        "print('Labels : ', Label.vocab.stoi)"
      ],
      "execution_count": 131,
      "outputs": [
        {
          "output_type": "stream",
          "text": [
            "Size of input vocab :  8002\n",
            "Size of label vocab :  5\n",
            "Top 10 words appeared repeatedly : [('.', 8595), (',', 7631), ('-', 2876), (\"'s\", 2611), ('film', 1249), ('movie', 1103), ('`', 811), ('...', 696), (\"n't\", 695), ('one', 609)]\n",
            "Labels :  defaultdict(None, {3: 0, 1: 1, 2: 2, 0: 3, 4: 4})\n"
          ],
          "name": "stdout"
        }
      ]
    },
    {
      "cell_type": "markdown",
      "metadata": {
        "id": "eMLHK1LPQCEQ"
      },
      "source": [
        "**Check the device used**"
      ]
    },
    {
      "cell_type": "code",
      "metadata": {
        "colab": {
          "base_uri": "https://localhost:8080/"
        },
        "id": "ZQrboZaVP-PW",
        "outputId": "38c8f363-2525-4255-f77b-adadea3db88a"
      },
      "source": [
        "device = torch.device(\"cuda\" if torch.cuda.is_available() else \"cpu\")\n",
        "device"
      ],
      "execution_count": 132,
      "outputs": [
        {
          "output_type": "execute_result",
          "data": {
            "text/plain": [
              "device(type='cuda')"
            ]
          },
          "metadata": {
            "tags": []
          },
          "execution_count": 132
        }
      ]
    },
    {
      "cell_type": "code",
      "metadata": {
        "id": "X8-auIQNQFSz"
      },
      "source": [
        "train_iterator, valid_iterator = torchtext.legacy.data.BucketIterator.splits((train_dataset, valid_dataset), batch_size = 32, \n",
        "                                                            sort_key = lambda x: len(x.sentence),\n",
        "                                                            sort_within_batch=True, device = device)"
      ],
      "execution_count": 142,
      "outputs": []
    },
    {
      "cell_type": "markdown",
      "metadata": {
        "id": "x0B9nN41QHyZ"
      },
      "source": [
        "**Training**"
      ]
    },
    {
      "cell_type": "code",
      "metadata": {
        "id": "xjaHC4e-QMaU"
      },
      "source": [
        "import torch.nn as nn\n",
        "import torch.nn.functional as F\n",
        "\n",
        "class classifier(nn.Module):\n",
        "    \n",
        "    # Define all the layers used in model\n",
        "    def __init__(self, vocab_size, embedding_dim, hidden_dim, output_dim, n_layers, dropout):\n",
        "        \n",
        "        super().__init__()          \n",
        "        \n",
        "        # Embedding layer\n",
        "        self.embedding = nn.Embedding(vocab_size, embedding_dim)\n",
        "        \n",
        "        # LSTM layer\n",
        "        self.encoder = nn.LSTM(embedding_dim, \n",
        "                           hidden_dim, \n",
        "                           num_layers=n_layers, \n",
        "                           dropout=dropout,\n",
        "                           batch_first=True)\n",
        "        # try using nn.GRU or nn.RNN here and compare their performances\n",
        "        # try bidirectional and compare their performances\n",
        "        \n",
        "        # Dense layer\n",
        "        self.fc = nn.Linear(hidden_dim, output_dim)\n",
        "        \n",
        "    def forward(self, text, text_lengths):\n",
        "        \n",
        "        # text = [batch size, sent_length]\n",
        "        embedded = self.embedding(text)\n",
        "        # embedded = [batch size, sent_len, emb dim]\n",
        "      \n",
        "        # packed sequence\n",
        "        packed_embedded = nn.utils.rnn.pack_padded_sequence(embedded, text_lengths.cpu(), batch_first=True)\n",
        "        \n",
        "        packed_output, (hidden, cell) = self.encoder(packed_embedded)\n",
        "        #hidden = [batch size, num layers * num directions,hid dim]\n",
        "        #cell = [batch size, num layers * num directions,hid dim]\n",
        "    \n",
        "        # Hidden = [batch size, hid dim * num directions]\n",
        "        dense_outputs = self.fc(hidden)   \n",
        "        \n",
        "        # Final activation function softmax\n",
        "        output = F.softmax(dense_outputs[0], dim=1)\n",
        "            \n",
        "        return output"
      ],
      "execution_count": 143,
      "outputs": []
    },
    {
      "cell_type": "code",
      "metadata": {
        "id": "32s-kfIoQN0q"
      },
      "source": [
        "# Define hyperparameters\n",
        "size_of_vocab = len(Sentence.vocab)\n",
        "embedding_dim = 300\n",
        "num_hidden_nodes = 100\n",
        "num_output_nodes = 5\n",
        "num_layers = 2\n",
        "dropout = 0.2\n",
        "\n",
        "# Instantiate the model\n",
        "model = classifier(size_of_vocab, embedding_dim, num_hidden_nodes, num_output_nodes, num_layers, dropout = dropout)"
      ],
      "execution_count": 144,
      "outputs": []
    },
    {
      "cell_type": "code",
      "metadata": {
        "colab": {
          "base_uri": "https://localhost:8080/"
        },
        "id": "w5a49yhfQPKX",
        "outputId": "2b6f4aff-d988-4cd7-8327-b2cce411316c"
      },
      "source": [
        "print(model)\n",
        "\n",
        "#No. of trianable parameters\n",
        "def count_parameters(model):\n",
        "    return sum(p.numel() for p in model.parameters() if p.requires_grad)\n",
        "    \n",
        "print(f'The model has {count_parameters(model):,} trainable parameters')"
      ],
      "execution_count": 145,
      "outputs": [
        {
          "output_type": "stream",
          "text": [
            "classifier(\n",
            "  (embedding): Embedding(8002, 300)\n",
            "  (encoder): LSTM(300, 100, num_layers=2, batch_first=True, dropout=0.2)\n",
            "  (fc): Linear(in_features=100, out_features=5, bias=True)\n",
            ")\n",
            "The model has 2,642,705 trainable parameters\n"
          ],
          "name": "stdout"
        }
      ]
    },
    {
      "cell_type": "code",
      "metadata": {
        "id": "HX2FYNOjQQaB"
      },
      "source": [
        "import torch.optim as optim\n",
        "\n",
        "# define optimizer and loss\n",
        "optimizer = optim.Adam(model.parameters(), lr=2e-4)\n",
        "criterion = nn.CrossEntropyLoss()\n",
        "\n",
        "# define metric\n",
        "def binary_accuracy(preds, y):\n",
        "    #round predictions to the closest integer\n",
        "    _, predictions = torch.max(preds, 1)\n",
        "    \n",
        "    correct = (predictions == y).float() \n",
        "    acc = correct.sum() / len(correct)\n",
        "    return acc\n",
        "    \n",
        "# push to cuda if available\n",
        "model = model.to(device)\n",
        "criterion = criterion.to(device)"
      ],
      "execution_count": 146,
      "outputs": []
    },
    {
      "cell_type": "code",
      "metadata": {
        "id": "vLfqsj2rQRxt"
      },
      "source": [
        "def train(model, iterator, optimizer, criterion):\n",
        "    \n",
        "    # initialize every epoch \n",
        "    epoch_loss = 0\n",
        "    epoch_acc = 0\n",
        "    \n",
        "    # set the model in training phase\n",
        "    model.train()  \n",
        "    \n",
        "    for batch in iterator:\n",
        "        \n",
        "        # resets the gradients after every batch\n",
        "        optimizer.zero_grad()   \n",
        "        \n",
        "        # retrieve text and no. of words\n",
        "        sentence, sentence_lengths = batch.sentence   \n",
        "        \n",
        "        # convert to 1D tensor\n",
        "        predictions = model(sentence, sentence_lengths).squeeze()\n",
        "        \n",
        "        # compute the loss\n",
        "        loss = criterion(predictions, batch.labels)        \n",
        "        \n",
        "        # compute the binary accuracy\n",
        "        acc = binary_accuracy(predictions, batch.labels)   \n",
        "        \n",
        "        # backpropage the loss and compute the gradients\n",
        "        loss.backward()       \n",
        "        \n",
        "        # update the weights\n",
        "        optimizer.step()      \n",
        "        \n",
        "        # loss and accuracy\n",
        "        epoch_loss += loss.item()  \n",
        "        epoch_acc += acc.item()    \n",
        "        \n",
        "    return epoch_loss / len(iterator), epoch_acc / len(iterator)"
      ],
      "execution_count": 147,
      "outputs": []
    },
    {
      "cell_type": "code",
      "metadata": {
        "id": "5nJ_B5mXQTIA"
      },
      "source": [
        "def evaluate(model, iterator, criterion):\n",
        "    \n",
        "    # initialize every epoch\n",
        "    epoch_loss = 0\n",
        "    epoch_acc = 0\n",
        "\n",
        "    # deactivating dropout layers\n",
        "    model.eval()\n",
        "    \n",
        "    # deactivates autograd\n",
        "    with torch.no_grad():\n",
        "    \n",
        "        for batch in iterator:\n",
        "        \n",
        "            # retrieve text and no. of words\n",
        "            sentence, sentence_lengths = batch.sentence\n",
        "            \n",
        "            # convert to 1d tensor\n",
        "            predictions = model(sentence, sentence_lengths).squeeze()\n",
        "            \n",
        "            # compute loss and accuracy\n",
        "            loss = criterion(predictions, batch.labels)\n",
        "            acc = binary_accuracy(predictions, batch.labels)\n",
        "            \n",
        "            # keep track of loss and accuracy\n",
        "            epoch_loss += loss.item()\n",
        "            epoch_acc += acc.item()\n",
        "        \n",
        "    return epoch_loss / len(iterator), epoch_acc / len(iterator)"
      ],
      "execution_count": 148,
      "outputs": []
    },
    {
      "cell_type": "code",
      "metadata": {
        "colab": {
          "base_uri": "https://localhost:8080/"
        },
        "id": "fk6uJUBjQUV_",
        "outputId": "0d94d714-120f-422a-e26e-02915e826f7e"
      },
      "source": [
        "N_EPOCHS = 20\n",
        "best_valid_loss = float('inf')\n",
        "\n",
        "for epoch in range(N_EPOCHS):\n",
        "     \n",
        "    # train the model\n",
        "    train_loss, train_acc = train(model, train_iterator, optimizer, criterion)\n",
        "    \n",
        "    # evaluate the model\n",
        "    valid_loss, valid_acc = evaluate(model, valid_iterator, criterion)\n",
        "    \n",
        "    # save the best model\n",
        "    if valid_loss < best_valid_loss:\n",
        "        best_valid_loss = valid_loss\n",
        "        torch.save(model.state_dict(), 'saved_weights.pt')\n",
        "    \n",
        "    print(f'\\tTrain Loss: {train_loss:.3f} | Train Acc: {train_acc*100:.2f}%')\n",
        "    print(f'\\t Val. Loss: {valid_loss:.3f} |  Val. Acc: {valid_acc*100:.2f}% \\n')"
      ],
      "execution_count": 149,
      "outputs": [
        {
          "output_type": "stream",
          "text": [
            "\tTrain Loss: 1.593 | Train Acc: 25.56%\n",
            "\t Val. Loss: 1.579 |  Val. Acc: 27.71% \n",
            "\n",
            "\tTrain Loss: 1.582 | Train Acc: 29.12%\n",
            "\t Val. Loss: 1.570 |  Val. Acc: 29.35% \n",
            "\n",
            "\tTrain Loss: 1.552 | Train Acc: 34.43%\n",
            "\t Val. Loss: 1.544 |  Val. Acc: 33.96% \n",
            "\n",
            "\tTrain Loss: 1.500 | Train Acc: 39.29%\n",
            "\t Val. Loss: 1.541 |  Val. Acc: 34.35% \n",
            "\n",
            "\tTrain Loss: 1.450 | Train Acc: 45.25%\n",
            "\t Val. Loss: 1.535 |  Val. Acc: 35.36% \n",
            "\n",
            "\tTrain Loss: 1.399 | Train Acc: 51.61%\n",
            "\t Val. Loss: 1.527 |  Val. Acc: 35.42% \n",
            "\n",
            "\tTrain Loss: 1.346 | Train Acc: 58.07%\n",
            "\t Val. Loss: 1.537 |  Val. Acc: 34.40% \n",
            "\n",
            "\tTrain Loss: 1.295 | Train Acc: 64.05%\n",
            "\t Val. Loss: 1.535 |  Val. Acc: 34.88% \n",
            "\n",
            "\tTrain Loss: 1.246 | Train Acc: 69.25%\n",
            "\t Val. Loss: 1.544 |  Val. Acc: 33.12% \n",
            "\n",
            "\tTrain Loss: 1.203 | Train Acc: 73.62%\n",
            "\t Val. Loss: 1.549 |  Val. Acc: 32.68% \n",
            "\n",
            "\tTrain Loss: 1.166 | Train Acc: 77.15%\n",
            "\t Val. Loss: 1.546 |  Val. Acc: 33.57% \n",
            "\n",
            "\tTrain Loss: 1.136 | Train Acc: 80.05%\n",
            "\t Val. Loss: 1.547 |  Val. Acc: 33.63% \n",
            "\n",
            "\tTrain Loss: 1.111 | Train Acc: 81.84%\n",
            "\t Val. Loss: 1.558 |  Val. Acc: 32.44% \n",
            "\n",
            "\tTrain Loss: 1.092 | Train Acc: 83.41%\n",
            "\t Val. Loss: 1.551 |  Val. Acc: 33.51% \n",
            "\n",
            "\tTrain Loss: 1.076 | Train Acc: 84.75%\n",
            "\t Val. Loss: 1.557 |  Val. Acc: 32.80% \n",
            "\n",
            "\tTrain Loss: 1.064 | Train Acc: 85.58%\n",
            "\t Val. Loss: 1.560 |  Val. Acc: 31.70% \n",
            "\n",
            "\tTrain Loss: 1.054 | Train Acc: 86.30%\n",
            "\t Val. Loss: 1.562 |  Val. Acc: 32.38% \n",
            "\n",
            "\tTrain Loss: 1.047 | Train Acc: 86.81%\n",
            "\t Val. Loss: 1.563 |  Val. Acc: 31.79% \n",
            "\n",
            "\tTrain Loss: 1.040 | Train Acc: 87.22%\n",
            "\t Val. Loss: 1.563 |  Val. Acc: 32.35% \n",
            "\n",
            "\tTrain Loss: 1.035 | Train Acc: 87.58%\n",
            "\t Val. Loss: 1.560 |  Val. Acc: 33.10% \n",
            "\n"
          ],
          "name": "stdout"
        }
      ]
    }
  ]
}