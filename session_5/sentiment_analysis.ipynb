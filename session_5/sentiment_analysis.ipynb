{
  "nbformat": 4,
  "nbformat_minor": 0,
  "metadata": {
    "colab": {
      "name": "sentiment_analysis.ipynb",
      "provenance": [],
      "collapsed_sections": [],
      "authorship_tag": "ABX9TyMIyM7lVaVnTcLsRJPTqWsL",
      "include_colab_link": true
    },
    "kernelspec": {
      "name": "python3",
      "display_name": "Python 3"
    },
    "language_info": {
      "name": "python"
    },
    "accelerator": "GPU"
  },
  "cells": [
    {
      "cell_type": "markdown",
      "metadata": {
        "id": "view-in-github",
        "colab_type": "text"
      },
      "source": [
        "<a href=\"https://colab.research.google.com/github/asravankumar/END2.0/blob/master/session_5/sentiment_analysis.ipynb\" target=\"_parent\"><img src=\"https://colab.research.google.com/assets/colab-badge.svg\" alt=\"Open In Colab\"/></a>"
      ]
    },
    {
      "cell_type": "markdown",
      "metadata": {
        "id": "cSN-GE0Tlvjn"
      },
      "source": [
        "**Data Loaders to Download, Preprocess & Create Training/Validation DataSet**"
      ]
    },
    {
      "cell_type": "markdown",
      "metadata": {
        "id": "jEY044CemMv_"
      },
      "source": [
        "The data is a set of Rotten Tomatoes Movie Reviews labelled and provided readily by stanford.\n",
        "The raw data is available in two formats\n",
        "- raw csv files.\n",
        "- Penn Treebank(PTB tree) format.\n",
        "\n",
        "The raw csv files contains list of files which consists of list of \n",
        "- sentences\n",
        "- phrases\n",
        "- trees mapping sentences and phrases\n",
        "- sentiment of each phrase.\n",
        "\n",
        "The PTB format consists of the sentences, and the respective phrases in tree format.\n",
        "\n",
        "In order to get the sentiment of each sentences, we need to parse the tree structure. [pytreebank](https://github.com/JonathanRaiman/pytreebank)  does the job effectively.\n",
        "\n",
        "We download the sentences and sentiments from [pytreebank](https://github.com/JonathanRaiman/pytreebank) and build models."
      ]
    },
    {
      "cell_type": "markdown",
      "metadata": {
        "id": "0xNM-ccomBta"
      },
      "source": [
        "**Data Download to CSV File**"
      ]
    },
    {
      "cell_type": "code",
      "metadata": {
        "colab": {
          "base_uri": "https://localhost:8080/"
        },
        "id": "bJhHXyNrl_8-",
        "outputId": "00dd7e25-96e0-491b-c682-69c64372309b"
      },
      "source": [
        "!pip install pytreebank"
      ],
      "execution_count": null,
      "outputs": [
        {
          "output_type": "stream",
          "text": [
            "Requirement already satisfied: pytreebank in /usr/local/lib/python3.7/dist-packages (0.2.7)\n"
          ],
          "name": "stdout"
        }
      ]
    },
    {
      "cell_type": "markdown",
      "metadata": {
        "id": "ADwCehGTuKSr"
      },
      "source": [
        "Stanford Sentiment Treebank Data splits into train, dev and test sets. We therefore maintain the split as given by them."
      ]
    },
    {
      "cell_type": "code",
      "metadata": {
        "id": "mLJZ1RqpuExM"
      },
      "source": [
        "import pytreebank\n",
        "dataset = pytreebank.load_sst()\n",
        "\n",
        "for category in ['train', 'test', 'dev']:\n",
        "  out_file = open('sentences_{}.txt'.format(category), 'w')\n",
        "  out_file.write('{}\\t{}\\n'.format(\"sentence\", \"labels\"))\n",
        "  for item in dataset[category]:\n",
        "    label, sentence = item.to_labeled_lines()[0]\n",
        "    out_file.write(\"{}\\t{}\\n\".format(sentence, label))\n",
        "  out_file.close()"
      ],
      "execution_count": null,
      "outputs": []
    },
    {
      "cell_type": "code",
      "metadata": {
        "id": "ud3glq4DvTiv"
      },
      "source": [
        "import pandas as pd\n",
        "# create training and validation pandas dataframes from downloaded data.\n",
        "\n",
        "train_df = pd.read_csv('sentences_train.txt', delimiter='\\t')\n",
        "valid_df = pd.read_csv('sentences_dev.txt', delimiter='\\t')"
      ],
      "execution_count": null,
      "outputs": []
    },
    {
      "cell_type": "code",
      "metadata": {
        "colab": {
          "base_uri": "https://localhost:8080/"
        },
        "id": "DV9RdHPxw0VS",
        "outputId": "f8734a1e-3c1c-4461-a0f6-b1071ebc3b14"
      },
      "source": [
        "print(\"training df shape\", train_df.shape)\n",
        "print(\"validation df shape\", valid_df.shape)\n"
      ],
      "execution_count": null,
      "outputs": [
        {
          "output_type": "stream",
          "text": [
            "training df shape (8544, 2)\n",
            "validation df shape (1101, 2)\n"
          ],
          "name": "stdout"
        }
      ]
    },
    {
      "cell_type": "code",
      "metadata": {
        "colab": {
          "base_uri": "https://localhost:8080/"
        },
        "id": "u3bV4f9wKaig",
        "outputId": "65d3ed6d-0bca-401c-82ea-8f99a57e46a8"
      },
      "source": [
        "train_df['labels'].value_counts()"
      ],
      "execution_count": null,
      "outputs": [
        {
          "output_type": "execute_result",
          "data": {
            "text/plain": [
              "3    2322\n",
              "1    2218\n",
              "2    1624\n",
              "4    1288\n",
              "0    1092\n",
              "Name: labels, dtype: int64"
            ]
          },
          "metadata": {
            "tags": []
          },
          "execution_count": 9
        }
      ]
    },
    {
      "cell_type": "markdown",
      "metadata": {
        "id": "0j2HpnNFyjn1"
      },
      "source": [
        "**Understanding our Dataset**\n",
        "\n",
        "We plot a bar graph on our training data."
      ]
    },
    {
      "cell_type": "code",
      "metadata": {
        "colab": {
          "base_uri": "https://localhost:8080/",
          "height": 279
        },
        "id": "xiZnixtuw_IR",
        "outputId": "3ee64dfc-d065-4b4e-e9ac-2f5d998697f3"
      },
      "source": [
        "import matplotlib.pyplot as plt\n",
        "\n",
        "ax = train_df['labels'].value_counts(sort=False).plot(kind='barh')\n",
        "ax.set_ylabel(\"labels\")\n",
        "ax.set_xlabel(\"number of samples in training dataset\")\n",
        "plt.savefig('value_counts.png')"
      ],
      "execution_count": null,
      "outputs": [
        {
          "output_type": "display_data",
          "data": {
            "image/png": "[encoded data removed]",
            "text/plain": [
              "<Figure size 432x288 with 1 Axes>"
            ]
          },
          "metadata": {
            "tags": [],
            "needs_background": "light"
          }
        }
      ]
    },
    {
      "cell_type": "code",
      "metadata": {
        "id": "sd_oXtBwRjox"
      },
      "source": [
        ""
      ],
      "execution_count": null,
      "outputs": []
    },
    {
      "cell_type": "markdown",
      "metadata": {
        "id": "EoXlcTlCzGrZ"
      },
      "source": [
        "We clearly can see there is an **imbalance** in the data w.r.t number of samples for each label. \n",
        "\n",
        "labels 1,2,3 have more samples than 0 and 4. \n",
        "\n",
        "We need to augment some data in labels 0 and 4 to balance them.\n"
      ]
    },
    {
      "cell_type": "markdown",
      "metadata": {
        "id": "5Zf8VrAWF32A"
      },
      "source": [
        "### **Data Augmentation**\n",
        "\n"
      ]
    },
    {
      "cell_type": "markdown",
      "metadata": {
        "id": "P1donL6lTkRB"
      },
      "source": [
        "**- Back Translate**"
      ]
    },
    {
      "cell_type": "code",
      "metadata": {
        "id": "Af43JOl9LDqR",
        "colab": {
          "base_uri": "https://localhost:8080/"
        },
        "outputId": "daa93c4a-328c-4d5f-a6c3-5c0f1dd63468"
      },
      "source": [
        "!pip install googletrans\n",
        "!pip install google_trans_new"
      ],
      "execution_count": null,
      "outputs": [
        {
          "output_type": "stream",
          "text": [
            "Collecting googletrans\n",
            "  Downloading https://files.pythonhosted.org/packages/71/3a/3b19effdd4c03958b90f40fe01c93de6d5280e03843cc5adf6956bfc9512/googletrans-3.0.0.tar.gz\n",
            "Collecting httpx==0.13.3\n",
            "\u001b[?25l  Downloading https://files.pythonhosted.org/packages/54/b4/698b284c6aed4d7c2b4fe3ba5df1fcf6093612423797e76fbb24890dd22f/httpx-0.13.3-py3-none-any.whl (55kB)\n",
            "\u001b[K     |████████████████████████████████| 61kB 3.6MB/s \n",
            "\u001b[?25hRequirement already satisfied: chardet==3.* in /usr/local/lib/python3.7/dist-packages (from httpx==0.13.3->googletrans) (3.0.4)\n",
            "Collecting hstspreload\n",
            "\u001b[?25l  Downloading https://files.pythonhosted.org/packages/dd/50/606213e12fb49c5eb667df0936223dcaf461f94e215ea60244b2b1e9b039/hstspreload-2020.12.22-py3-none-any.whl (994kB)\n",
            "\u001b[K     |████████████████████████████████| 1.0MB 8.4MB/s \n",
            "\u001b[?25hCollecting rfc3986<2,>=1.3\n",
            "  Downloading https://files.pythonhosted.org/packages/c4/e5/63ca2c4edf4e00657584608bee1001302bbf8c5f569340b78304f2f446cb/rfc3986-1.5.0-py2.py3-none-any.whl\n",
            "Collecting httpcore==0.9.*\n",
            "\u001b[?25l  Downloading https://files.pythonhosted.org/packages/dd/d5/e4ff9318693ac6101a2095e580908b591838c6f33df8d3ee8dd953ba96a8/httpcore-0.9.1-py3-none-any.whl (42kB)\n",
            "\u001b[K     |████████████████████████████████| 51kB 5.6MB/s \n",
            "\u001b[?25hRequirement already satisfied: certifi in /usr/local/lib/python3.7/dist-packages (from httpx==0.13.3->googletrans) (2020.12.5)\n",
            "Requirement already satisfied: idna==2.* in /usr/local/lib/python3.7/dist-packages (from httpx==0.13.3->googletrans) (2.10)\n",
            "Collecting sniffio\n",
            "  Downloading https://files.pythonhosted.org/packages/52/b0/7b2e028b63d092804b6794595871f936aafa5e9322dcaaad50ebf67445b3/sniffio-1.2.0-py3-none-any.whl\n",
            "Collecting h2==3.*\n",
            "\u001b[?25l  Downloading https://files.pythonhosted.org/packages/25/de/da019bcc539eeab02f6d45836f23858ac467f584bfec7a526ef200242afe/h2-3.2.0-py2.py3-none-any.whl (65kB)\n",
            "\u001b[K     |████████████████████████████████| 71kB 6.4MB/s \n",
            "\u001b[?25hCollecting h11<0.10,>=0.8\n",
            "\u001b[?25l  Downloading https://files.pythonhosted.org/packages/5a/fd/3dad730b0f95e78aeeb742f96fa7bbecbdd56a58e405d3da440d5bfb90c6/h11-0.9.0-py2.py3-none-any.whl (53kB)\n",
            "\u001b[K     |████████████████████████████████| 61kB 6.2MB/s \n",
            "\u001b[?25hCollecting hpack<4,>=3.0\n",
            "  Downloading https://files.pythonhosted.org/packages/8a/cc/e53517f4a1e13f74776ca93271caef378dadec14d71c61c949d759d3db69/hpack-3.0.0-py2.py3-none-any.whl\n",
            "Collecting hyperframe<6,>=5.2.0\n",
            "  Downloading https://files.pythonhosted.org/packages/19/0c/bf88182bcb5dce3094e2f3e4fe20db28a9928cb7bd5b08024030e4b140db/hyperframe-5.2.0-py2.py3-none-any.whl\n",
            "Building wheels for collected packages: googletrans\n",
            "  Building wheel for googletrans (setup.py) ... \u001b[?25l\u001b[?25hdone\n",
            "  Created wheel for googletrans: filename=googletrans-3.0.0-cp37-none-any.whl size=15737 sha256=fdffbb37bf98d3280fbb88c132395cdc3fbf98b144072b5fa711a466fba4d13b\n",
            "  Stored in directory: /root/.cache/pip/wheels/28/1a/a7/eaf4d7a3417a0c65796c547cff4deb6d79c7d14c2abd29273e\n",
            "Successfully built googletrans\n",
            "Installing collected packages: hstspreload, rfc3986, hpack, hyperframe, h2, sniffio, h11, httpcore, httpx, googletrans\n",
            "Successfully installed googletrans-3.0.0 h11-0.9.0 h2-3.2.0 hpack-3.0.0 hstspreload-2020.12.22 httpcore-0.9.1 httpx-0.13.3 hyperframe-5.2.0 rfc3986-1.5.0 sniffio-1.2.0\n",
            "Collecting google_trans_new\n",
            "  Downloading https://files.pythonhosted.org/packages/f9/7b/9f136106dc5824dc98185c97991d3cd9b53e70a197154dd49f7b899128f6/google_trans_new-1.1.9-py3-none-any.whl\n",
            "Installing collected packages: google-trans-new\n",
            "Successfully installed google-trans-new-1.1.9\n"
          ],
          "name": "stdout"
        }
      ]
    },
    {
      "cell_type": "code",
      "metadata": {
        "id": "VRHwtzecW2T-"
      },
      "source": [
        "import random\n",
        "import googletrans, google_trans_new\n",
        "\n",
        "translator = google_trans_new.google_translator()\n",
        "\n",
        "def back_translate(sentence):\n",
        "  available_languages = list(googletrans.LANGUAGES.keys()) \n",
        "  selected_language = random.choice(available_languages) \n",
        "  translations = translator.translate(sentence, lang_tgt=selected_language) \n",
        "  back_translated_text = translator.translate(translations, lang_src=selected_language, lang_tgt='en') \n",
        "  return back_translated_text"
      ],
      "execution_count": null,
      "outputs": []
    },
    {
      "cell_type": "code",
      "metadata": {
        "colab": {
          "base_uri": "https://localhost:8080/",
          "height": 35
        },
        "id": "4lmYWV-BW5PX",
        "outputId": "7db53ae6-35bd-4423-d829-bdf1229c6147"
      },
      "source": [
        "back_translate(\"training the model\")"
      ],
      "execution_count": null,
      "outputs": [
        {
          "output_type": "execute_result",
          "data": {
            "application/vnd.google.colaboratory.intrinsic+json": {
              "type": "string"
            },
            "text/plain": [
              "'Model training '"
            ]
          },
          "metadata": {
            "tags": []
          },
          "execution_count": 14
        }
      ]
    },
    {
      "cell_type": "markdown",
      "metadata": {
        "id": "zyvhdlwWXxPI"
      },
      "source": [
        "**- Random Swap**"
      ]
    },
    {
      "cell_type": "code",
      "metadata": {
        "id": "TutR7jvlX6GD"
      },
      "source": [
        "def random_swap(sentence, n=5): \n",
        "    length = range(len(sentence)) \n",
        "    for _ in range(n):\n",
        "        idx1, idx2 = random.sample(length, 2)\n",
        "        sentence[idx1], sentence[idx2] = sentence[idx2], sentence[idx1] \n",
        "    return sentence"
      ],
      "execution_count": null,
      "outputs": []
    },
    {
      "cell_type": "code",
      "metadata": {
        "colab": {
          "base_uri": "https://localhost:8080/"
        },
        "id": "T0dFNOiyX7aA",
        "outputId": "bd9d5266-61cc-42f9-b966-7d745143bc9d"
      },
      "source": [
        "random_swap(\"training the model\".split(' '), 1)"
      ],
      "execution_count": null,
      "outputs": [
        {
          "output_type": "execute_result",
          "data": {
            "text/plain": [
              "['model', 'the', 'training']"
            ]
          },
          "metadata": {
            "tags": []
          },
          "execution_count": 16
        }
      ]
    },
    {
      "cell_type": "markdown",
      "metadata": {
        "id": "cfEyVt0oYbh6"
      },
      "source": [
        "**- Random Deletion**"
      ]
    },
    {
      "cell_type": "code",
      "metadata": {
        "id": "uUNFDGRfYTYk"
      },
      "source": [
        "def random_deletion(words, p=0.5): \n",
        "    if len(words) == 1: # return if single word\n",
        "        return words\n",
        "    remaining = list(filter(lambda x: random.uniform(0,1) > p,words)) \n",
        "    if len(remaining) == 0: # if not left, sample a random word\n",
        "        return [random.choice(words)] \n",
        "    else:\n",
        "        return remaining"
      ],
      "execution_count": null,
      "outputs": []
    },
    {
      "cell_type": "code",
      "metadata": {
        "colab": {
          "base_uri": "https://localhost:8080/"
        },
        "id": "vLeZecVTYgFF",
        "outputId": "9e23c679-99b8-45e3-c158-3208be63636e"
      },
      "source": [
        "random_deletion(\"training the model\".split(' '), 0.2)"
      ],
      "execution_count": null,
      "outputs": [
        {
          "output_type": "execute_result",
          "data": {
            "text/plain": [
              "['training', 'the', 'model']"
            ]
          },
          "metadata": {
            "tags": []
          },
          "execution_count": 18
        }
      ]
    },
    {
      "cell_type": "markdown",
      "metadata": {
        "id": "BQjWthPCRrzv"
      },
      "source": [
        "## **Augmenting our Data**"
      ]
    },
    {
      "cell_type": "markdown",
      "metadata": {
        "id": "ap_fQ7FSaInX"
      },
      "source": [
        "We shall augment the datasets based on the above three techniques\n",
        "\n",
        "As we can see from the data, the labels 0 and 4 are less than that of others, we shall back translate few random samples and populate these.\n",
        "\n",
        "The other two techniques are applied for random sentences from 1,2,3 labels. "
      ]
    },
    {
      "cell_type": "code",
      "metadata": {
        "colab": {
          "base_uri": "https://localhost:8080/",
          "height": 424
        },
        "id": "khPDNfnSaH8j",
        "outputId": "8645e92e-d517-42bf-8744-9def6b2d018b"
      },
      "source": [
        "train_df"
      ],
      "execution_count": null,
      "outputs": [
        {
          "output_type": "execute_result",
          "data": {
            "text/html": [
              "<div>\n",
              "<style scoped>\n",
              "    .dataframe tbody tr th:only-of-type {\n",
              "        vertical-align: middle;\n",
              "    }\n",
              "\n",
              "    .dataframe tbody tr th {\n",
              "        vertical-align: top;\n",
              "    }\n",
              "\n",
              "    .dataframe thead th {\n",
              "        text-align: right;\n",
              "    }\n",
              "</style>\n",
              "<table border=\"1\" class=\"dataframe\">\n",
              "  <thead>\n",
              "    <tr style=\"text-align: right;\">\n",
              "      <th></th>\n",
              "      <th>sentence</th>\n",
              "      <th>labels</th>\n",
              "    </tr>\n",
              "  </thead>\n",
              "  <tbody>\n",
              "    <tr>\n",
              "      <th>0</th>\n",
              "      <td>The Rock is destined to be the 21st Century 's...</td>\n",
              "      <td>3</td>\n",
              "    </tr>\n",
              "    <tr>\n",
              "      <th>1</th>\n",
              "      <td>The gorgeously elaborate continuation of `` Th...</td>\n",
              "      <td>4</td>\n",
              "    </tr>\n",
              "    <tr>\n",
              "      <th>2</th>\n",
              "      <td>Singer/composer Bryan Adams contributes a slew...</td>\n",
              "      <td>3</td>\n",
              "    </tr>\n",
              "    <tr>\n",
              "      <th>3</th>\n",
              "      <td>You 'd think by now America would have had eno...</td>\n",
              "      <td>2</td>\n",
              "    </tr>\n",
              "    <tr>\n",
              "      <th>4</th>\n",
              "      <td>Yet the act is still charming here .</td>\n",
              "      <td>3</td>\n",
              "    </tr>\n",
              "    <tr>\n",
              "      <th>...</th>\n",
              "      <td>...</td>\n",
              "      <td>...</td>\n",
              "    </tr>\n",
              "    <tr>\n",
              "      <th>8539</th>\n",
              "      <td>A real snooze .</td>\n",
              "      <td>0</td>\n",
              "    </tr>\n",
              "    <tr>\n",
              "      <th>8540</th>\n",
              "      <td>No surprises .</td>\n",
              "      <td>1</td>\n",
              "    </tr>\n",
              "    <tr>\n",
              "      <th>8541</th>\n",
              "      <td>We 've seen the hippie-turned-yuppie plot befo...</td>\n",
              "      <td>3</td>\n",
              "    </tr>\n",
              "    <tr>\n",
              "      <th>8542</th>\n",
              "      <td>Her fans walked out muttering words like `` ho...</td>\n",
              "      <td>0</td>\n",
              "    </tr>\n",
              "    <tr>\n",
              "      <th>8543</th>\n",
              "      <td>In this case zero .</td>\n",
              "      <td>1</td>\n",
              "    </tr>\n",
              "  </tbody>\n",
              "</table>\n",
              "<p>8544 rows × 2 columns</p>\n",
              "</div>"
            ],
            "text/plain": [
              "                                               sentence  labels\n",
              "0     The Rock is destined to be the 21st Century 's...       3\n",
              "1     The gorgeously elaborate continuation of `` Th...       4\n",
              "2     Singer/composer Bryan Adams contributes a slew...       3\n",
              "3     You 'd think by now America would have had eno...       2\n",
              "4                  Yet the act is still charming here .       3\n",
              "...                                                 ...     ...\n",
              "8539                                    A real snooze .       0\n",
              "8540                                     No surprises .       1\n",
              "8541  We 've seen the hippie-turned-yuppie plot befo...       3\n",
              "8542  Her fans walked out muttering words like `` ho...       0\n",
              "8543                                In this case zero .       1\n",
              "\n",
              "[8544 rows x 2 columns]"
            ]
          },
          "metadata": {
            "tags": []
          },
          "execution_count": 19
        }
      ]
    },
    {
      "cell_type": "code",
      "metadata": {
        "colab": {
          "base_uri": "https://localhost:8080/"
        },
        "id": "g_Ttdq6glZEu",
        "outputId": "155d5c51-a664-48ed-8a5b-6eadedf72c4f"
      },
      "source": [
        "train_df.loc[7163]"
      ],
      "execution_count": null,
      "outputs": [
        {
          "output_type": "execute_result",
          "data": {
            "text/plain": [
              "sentence    Collapses after 30 minutes into a slap-happy s...\n",
              "labels                                                      0\n",
              "Name: 7163, dtype: object"
            ]
          },
          "metadata": {
            "tags": []
          },
          "execution_count": 20
        }
      ]
    },
    {
      "cell_type": "code",
      "metadata": {
        "id": "MhbC1d19cPCb"
      },
      "source": [
        "def back_translate_sentences_based_on_label(label, new_sentences_count):\n",
        "  label_indexes = train_df[train_df['labels'] == label].index.tolist()\n",
        "  selected_indexes = random.sample(label_indexes, new_sentences_count)\n",
        "  new_label_sentences = []\n",
        "  for index in selected_indexes:\n",
        "    sentence = train_df.loc[index].sentence\n",
        "    back_translated_sentence = back_translate(sentence)\n",
        "    new_label_sentences.append([back_translated_sentence, label])\n",
        "  new_df = pd.DataFrame(new_label_sentences, columns=['sentence', 'labels'])\n",
        "  return(new_df)\n",
        "\n",
        "new_label_0_df = back_translate_sentences_based_on_label(0, 400)\n",
        "new_label_1_df = back_translate_sentences_based_on_label(4, 200)"
      ],
      "execution_count": null,
      "outputs": []
    },
    {
      "cell_type": "code",
      "metadata": {
        "id": "RavP2UUHtQtw"
      },
      "source": [
        "new_augmented_train_df = pd.concat([train_df, new_label_0_df, new_label_1_df], ignore_index=True)"
      ],
      "execution_count": null,
      "outputs": []
    },
    {
      "cell_type": "code",
      "metadata": {
        "colab": {
          "base_uri": "https://localhost:8080/"
        },
        "id": "563n_4kDvSg7",
        "outputId": "1b550ce2-79d6-4f1f-fca5-d69adf1bd044"
      },
      "source": [
        "new_augmented_train_df.labels.value_counts()"
      ],
      "execution_count": null,
      "outputs": [
        {
          "output_type": "execute_result",
          "data": {
            "text/plain": [
              "3    2322\n",
              "1    2218\n",
              "2    1624\n",
              "0    1492\n",
              "4    1488\n",
              "Name: labels, dtype: int64"
            ]
          },
          "metadata": {
            "tags": []
          },
          "execution_count": 23
        }
      ]
    },
    {
      "cell_type": "markdown",
      "metadata": {
        "id": "ZbBYQuiQvjSU"
      },
      "source": [
        "Let's augment using random_swap on rest of the labels 1,2,3"
      ]
    },
    {
      "cell_type": "code",
      "metadata": {
        "id": "bto4qyUcvuly",
        "colab": {
          "base_uri": "https://localhost:8080/"
        },
        "outputId": "4eca5afa-0ff2-4306-c4da-7c8fbacbcda2"
      },
      "source": [
        "def random_swap_sentences_on_labels(temp_df, label, count):\n",
        "  label_indexes = temp_df[temp_df['labels'] == label].index.tolist()\n",
        "  selected_indexes = random.sample(label_indexes, count)\n",
        "  #print(\"selected_indexes\", selected_indexes)\n",
        "  for index in selected_indexes:\n",
        "    sentence = temp_df.loc[index].sentence\n",
        "    #print(\"index\", index, \"sentence\", sentence)\n",
        "    new_sentence = random_swap(sentence.split(' '), 2)\n",
        "    temp_df.loc[index].sentence = new_sentence\n",
        "  return(temp_df)\n",
        "\n",
        "temp_df = new_augmented_train_df.copy()\n",
        "temp_df = random_swap_sentences_on_labels(temp_df, 1, 100)\n",
        "temp_df = random_swap_sentences_on_labels(temp_df, 2, 100)\n",
        "temp_df = random_swap_sentences_on_labels(temp_df, 3, 150)"
      ],
      "execution_count": null,
      "outputs": [
        {
          "output_type": "stream",
          "text": [
            "/usr/local/lib/python3.7/dist-packages/pandas/core/generic.py:5170: SettingWithCopyWarning: \n",
            "A value is trying to be set on a copy of a slice from a DataFrame\n",
            "\n",
            "See the caveats in the documentation: https://pandas.pydata.org/pandas-docs/stable/user_guide/indexing.html#returning-a-view-versus-a-copy\n",
            "  self[name] = value\n",
            "/usr/local/lib/python3.7/dist-packages/pandas/core/generic.py:5170: SettingWithCopyWarning: \n",
            "A value is trying to be set on a copy of a slice from a DataFrame\n",
            "\n",
            "See the caveats in the documentation: https://pandas.pydata.org/pandas-docs/stable/user_guide/indexing.html#returning-a-view-versus-a-copy\n",
            "  self[name] = value\n",
            "/usr/local/lib/python3.7/dist-packages/pandas/core/generic.py:5170: SettingWithCopyWarning: \n",
            "A value is trying to be set on a copy of a slice from a DataFrame\n",
            "\n",
            "See the caveats in the documentation: https://pandas.pydata.org/pandas-docs/stable/user_guide/indexing.html#returning-a-view-versus-a-copy\n",
            "  self[name] = value\n"
          ],
          "name": "stderr"
        }
      ]
    },
    {
      "cell_type": "code",
      "metadata": {
        "id": "gC54wNz80epP",
        "colab": {
          "base_uri": "https://localhost:8080/"
        },
        "outputId": "83e58284-24ad-4709-cf26-6545f36e6d14"
      },
      "source": [
        "def random_delete_sentences_on_labels(temp_df, label, count):\n",
        "  label_indexes = temp_df[temp_df['labels'] == label].index.tolist()\n",
        "  selected_indexes = random.sample(label_indexes, count)\n",
        "  #print(\"selected_indexes\", selected_indexes)\n",
        "  for index in selected_indexes:\n",
        "    sentence = temp_df.loc[index].sentence\n",
        "    #print(\"index\", index, \"sentence\", sentence)\n",
        "    new_sentence = random_deletion(sentence.split(' '), 2)\n",
        "    temp_df.loc[index].sentence = new_sentence\n",
        "  return(temp_df)\n",
        "\n",
        "temp_df = temp_df.copy()\n",
        "temp_df = random_swap_sentences_on_labels(temp_df, 1, 100)\n",
        "temp_df = random_swap_sentences_on_labels(temp_df, 1, 100)\n",
        "temp_df = random_swap_sentences_on_labels(temp_df, 1, 150)"
      ],
      "execution_count": null,
      "outputs": [
        {
          "output_type": "stream",
          "text": [
            "/usr/local/lib/python3.7/dist-packages/pandas/core/generic.py:5170: SettingWithCopyWarning: \n",
            "A value is trying to be set on a copy of a slice from a DataFrame\n",
            "\n",
            "See the caveats in the documentation: https://pandas.pydata.org/pandas-docs/stable/user_guide/indexing.html#returning-a-view-versus-a-copy\n",
            "  self[name] = value\n",
            "/usr/local/lib/python3.7/dist-packages/pandas/core/generic.py:5170: SettingWithCopyWarning: \n",
            "A value is trying to be set on a copy of a slice from a DataFrame\n",
            "\n",
            "See the caveats in the documentation: https://pandas.pydata.org/pandas-docs/stable/user_guide/indexing.html#returning-a-view-versus-a-copy\n",
            "  self[name] = value\n",
            "/usr/local/lib/python3.7/dist-packages/pandas/core/generic.py:5170: SettingWithCopyWarning: \n",
            "A value is trying to be set on a copy of a slice from a DataFrame\n",
            "\n",
            "See the caveats in the documentation: https://pandas.pydata.org/pandas-docs/stable/user_guide/indexing.html#returning-a-view-versus-a-copy\n",
            "  self[name] = value\n"
          ],
          "name": "stderr"
        }
      ]
    },
    {
      "cell_type": "code",
      "metadata": {
        "id": "c2m33dx006Ae"
      },
      "source": [
        "new_train_df = temp_df"
      ],
      "execution_count": null,
      "outputs": []
    },
    {
      "cell_type": "code",
      "metadata": {
        "colab": {
          "base_uri": "https://localhost:8080/",
          "height": 424
        },
        "id": "4A8ZHpeh1Wkh",
        "outputId": "8285860b-f100-481d-c996-0df093bdc072"
      },
      "source": [
        "new_train_df"
      ],
      "execution_count": null,
      "outputs": [
        {
          "output_type": "execute_result",
          "data": {
            "text/html": [
              "<div>\n",
              "<style scoped>\n",
              "    .dataframe tbody tr th:only-of-type {\n",
              "        vertical-align: middle;\n",
              "    }\n",
              "\n",
              "    .dataframe tbody tr th {\n",
              "        vertical-align: top;\n",
              "    }\n",
              "\n",
              "    .dataframe thead th {\n",
              "        text-align: right;\n",
              "    }\n",
              "</style>\n",
              "<table border=\"1\" class=\"dataframe\">\n",
              "  <thead>\n",
              "    <tr style=\"text-align: right;\">\n",
              "      <th></th>\n",
              "      <th>sentence</th>\n",
              "      <th>labels</th>\n",
              "    </tr>\n",
              "  </thead>\n",
              "  <tbody>\n",
              "    <tr>\n",
              "      <th>0</th>\n",
              "      <td>The Rock is destined to be the 21st Century 's...</td>\n",
              "      <td>3</td>\n",
              "    </tr>\n",
              "    <tr>\n",
              "      <th>1</th>\n",
              "      <td>The gorgeously elaborate continuation of `` Th...</td>\n",
              "      <td>4</td>\n",
              "    </tr>\n",
              "    <tr>\n",
              "      <th>2</th>\n",
              "      <td>Singer/composer Bryan Adams contributes a slew...</td>\n",
              "      <td>3</td>\n",
              "    </tr>\n",
              "    <tr>\n",
              "      <th>3</th>\n",
              "      <td>You 'd think by now America would have had eno...</td>\n",
              "      <td>2</td>\n",
              "    </tr>\n",
              "    <tr>\n",
              "      <th>4</th>\n",
              "      <td>Yet the act is still charming here .</td>\n",
              "      <td>3</td>\n",
              "    </tr>\n",
              "    <tr>\n",
              "      <th>...</th>\n",
              "      <td>...</td>\n",
              "      <td>...</td>\n",
              "    </tr>\n",
              "    <tr>\n",
              "      <th>9139</th>\n",
              "      <td>The Chamber of Secrets will find millions of e...</td>\n",
              "      <td>4</td>\n",
              "    </tr>\n",
              "    <tr>\n",
              "      <th>9140</th>\n",
              "      <td>See it.</td>\n",
              "      <td>4</td>\n",
              "    </tr>\n",
              "    <tr>\n",
              "      <th>9141</th>\n",
              "      <td>As a movie, tracking MR. Brown's sports exploi...</td>\n",
              "      <td>4</td>\n",
              "    </tr>\n",
              "    <tr>\n",
              "      <th>9142</th>\n",
              "      <td>Completely thrown to the best.</td>\n",
              "      <td>4</td>\n",
              "    </tr>\n",
              "    <tr>\n",
              "      <th>9143</th>\n",
              "      <td>Call magical realism or surrealism, but Miss W...</td>\n",
              "      <td>4</td>\n",
              "    </tr>\n",
              "  </tbody>\n",
              "</table>\n",
              "<p>9144 rows × 2 columns</p>\n",
              "</div>"
            ],
            "text/plain": [
              "                                               sentence  labels\n",
              "0     The Rock is destined to be the 21st Century 's...       3\n",
              "1     The gorgeously elaborate continuation of `` Th...       4\n",
              "2     Singer/composer Bryan Adams contributes a slew...       3\n",
              "3     You 'd think by now America would have had eno...       2\n",
              "4                  Yet the act is still charming here .       3\n",
              "...                                                 ...     ...\n",
              "9139  The Chamber of Secrets will find millions of e...       4\n",
              "9140                                           See it.        4\n",
              "9141  As a movie, tracking MR. Brown's sports exploi...       4\n",
              "9142                    Completely thrown to the best.        4\n",
              "9143  Call magical realism or surrealism, but Miss W...       4\n",
              "\n",
              "[9144 rows x 2 columns]"
            ]
          },
          "metadata": {
            "tags": []
          },
          "execution_count": 27
        }
      ]
    },
    {
      "cell_type": "code",
      "metadata": {
        "id": "LBpSm21O1j6F",
        "colab": {
          "base_uri": "https://localhost:8080/"
        },
        "outputId": "b8326627-423d-4046-8dbc-658d3228eb3f"
      },
      "source": [
        "new_train_df.labels.value_counts()"
      ],
      "execution_count": null,
      "outputs": [
        {
          "output_type": "execute_result",
          "data": {
            "text/plain": [
              "3    2322\n",
              "1    2218\n",
              "2    1624\n",
              "0    1492\n",
              "4    1488\n",
              "Name: labels, dtype: int64"
            ]
          },
          "metadata": {
            "tags": []
          },
          "execution_count": 28
        }
      ]
    },
    {
      "cell_type": "code",
      "metadata": {
        "id": "EyNy0c_t1rxL",
        "colab": {
          "base_uri": "https://localhost:8080/",
          "height": 279
        },
        "outputId": "51ca42a8-c724-4e93-cd44-aca5264e07c4"
      },
      "source": [
        "import matplotlib.pyplot as plt\n",
        "\n",
        "ax = new_train_df['labels'].value_counts(sort=False).plot(kind='barh')\n",
        "ax.set_ylabel(\"labels\")\n",
        "ax.set_xlabel(\"number of samples in training dataset\")\n",
        "\n",
        "plt.savefig('value_counts_after_aug.png')"
      ],
      "execution_count": null,
      "outputs": [
        {
          "output_type": "display_data",
          "data": {
            "image/png": "[encoded data removed]",
            "text/plain": [
              "<Figure size 432x288 with 1 Axes>"
            ]
          },
          "metadata": {
            "tags": [],
            "needs_background": "light"
          }
        }
      ]
    },
    {
      "cell_type": "markdown",
      "metadata": {
        "id": "yswWKuZAzgja"
      },
      "source": [
        "**Creating TorchDataSets**\n",
        "\n",
        "The steps includes preprocessing all the sentences and creating torchtext Dataset objects for the model to use. \n",
        "\n",
        "The following preprocessing have been performed:\n",
        "- lower case all sentences\n",
        "- remove stopwords\n"
      ]
    },
    {
      "cell_type": "code",
      "metadata": {
        "colab": {
          "base_uri": "https://localhost:8080/"
        },
        "id": "sIuLD-cxzUSb",
        "outputId": "f01e1a96-5d13-41e8-8f50-87fbe9172990"
      },
      "source": [
        "import torch, torchtext\n",
        "from torchtext import data\n",
        "\n",
        "SEED = 12\n",
        "torch.manual_seed(SEED)"
      ],
      "execution_count": null,
      "outputs": [
        {
          "output_type": "execute_result",
          "data": {
            "text/plain": [
              "<torch._C.Generator at 0x7fedab3672b0>"
            ]
          },
          "metadata": {
            "tags": []
          },
          "execution_count": 30
        }
      ]
    },
    {
      "cell_type": "code",
      "metadata": {
        "id": "nE7TTepYG2He"
      },
      "source": [
        "# The list of stop words which are to be removed from training and validation set.\n",
        "# The list is from nltk package.\n",
        "stop_words = ['i', 'me', 'my', 'myself', 'we', 'our', 'ours', 'ourselves', 'you', \"you're\", \"you've\", \"you'll\", \"you'd\", 'your', 'yours', 'yourself', 'yourselves', 'he', 'him', 'his', 'himself', 'she', \"she's\", 'her', 'hers', 'herself', 'it', \"it's\", 'its', 'itself', 'they', 'them', 'their', 'theirs', 'themselves', 'what', 'which', 'who', 'whom', 'this', 'that', \"that'll\", 'these', 'those', 'am', 'is', 'are', 'was', 'were', 'be', 'been', 'being', 'have', 'has', 'had', 'having', 'do', 'does', 'did', 'doing', 'a', 'an', 'the', 'and', 'but', 'if', 'or', 'because', 'as', 'until', 'while', 'of', 'at', 'by', 'for', 'with', 'about', 'against', 'between', 'into', 'through', 'during', 'before', 'after', 'above', 'below', 'to', 'from', 'up', 'down', 'in', 'out', 'on', 'off', 'over', 'under', 'again', 'further', 'then', 'once', 'here', 'there', 'when', 'where', 'why', 'how', 'all', 'any', 'both', 'each', 'few', 'more', 'most', 'other', 'some', 'such', 'no', 'nor', 'not', 'only', 'own', 'same', 'so', 'than', 'too', 'very', 's', 't', 'can', 'will', 'just', 'don', \"don't\", 'should', \"should've\", 'now', 'd', 'll', 'm', 'o', 're', 've', 'y', 'ain', 'aren', \"aren't\", 'couldn', \"couldn't\", 'didn', \"didn't\", 'doesn', \"doesn't\", 'hadn', \"hadn't\", 'hasn', \"hasn't\", 'haven', \"haven't\", 'isn', \"isn't\", 'ma', 'mightn', \"mightn't\", 'mustn', \"mustn't\", 'needn', \"needn't\", 'shan', \"shan't\", 'shouldn', \"shouldn't\", 'wasn', \"wasn't\", 'weren', \"weren't\", 'won', \"won't\", 'wouldn', \"wouldn't\"]"
      ],
      "execution_count": null,
      "outputs": []
    },
    {
      "cell_type": "code",
      "metadata": {
        "id": "TZY7Z_pg0GPE"
      },
      "source": [
        "Sentence  = torchtext.legacy.data.Field(\n",
        "                  sequential = True,\n",
        "                  tokenize = 'spacy',\n",
        "                  batch_first =True,\n",
        "                  include_lengths=True,\n",
        "                  lower=True,\n",
        "                  stop_words=stop_words)\n",
        "\n",
        "Label     = torchtext.legacy.data.LabelField(\n",
        "                  tokenize = 'spacy',\n",
        "                  is_target = True,\n",
        "                  batch_first = True,\n",
        "                  sequential = False)\n",
        "fields = [('sentence', Sentence),('labels',Label)]\n",
        "train_example = [ torchtext.legacy.data.Example.fromlist([new_train_df.sentence[i], new_train_df.labels[i]], fields) for i in range(1, new_train_df.shape[0])]\n",
        "valid_example = [ torchtext.legacy.data.Example.fromlist([valid_df.sentence[i], valid_df.labels[i]], fields) for i in range(1, valid_df.shape[0])]\n",
        "train_dataset = torchtext.legacy.data.Dataset(train_example, fields)\n",
        "valid_dataset = torchtext.legacy.data.Dataset(valid_example, fields)"
      ],
      "execution_count": null,
      "outputs": []
    },
    {
      "cell_type": "code",
      "metadata": {
        "id": "NmeHSYWn3QCD"
      },
      "source": [
        ""
      ],
      "execution_count": null,
      "outputs": []
    },
    {
      "cell_type": "markdown",
      "metadata": {
        "id": "5oAOXCMoIoSE"
      },
      "source": [
        "We limit the vocab to 8000 tokens."
      ]
    },
    {
      "cell_type": "code",
      "metadata": {
        "id": "3TQq26ZaH18K"
      },
      "source": [
        "Sentence.build_vocab(train_dataset, max_size=8000)\n",
        "Label.build_vocab(train_dataset, max_size=8000)"
      ],
      "execution_count": null,
      "outputs": []
    },
    {
      "cell_type": "code",
      "metadata": {
        "colab": {
          "base_uri": "https://localhost:8080/"
        },
        "id": "m-lTygvRIlse",
        "outputId": "c19ac1c3-3e35-49a7-bc8e-5e4aa0d9b0c2"
      },
      "source": [
        "print('Size of input vocab : ', len(Sentence.vocab))\n",
        "print('Size of label vocab : ', len(Label.vocab))\n",
        "print('Top 10 words appeared repeatedly :', list(Sentence.vocab.freqs.most_common(10)))\n",
        "print('Labels : ', Label.vocab.stoi)"
      ],
      "execution_count": 38,
      "outputs": [
        {
          "output_type": "stream",
          "text": [
            "Size of input vocab :  8002\n",
            "Size of label vocab :  5\n",
            "Top 10 words appeared repeatedly : [('.', 8607), (',', 7658), ('-', 2871), (\"'s\", 2604), ('film', 1241), ('movie', 1099), ('`', 819), (\"n't\", 694), ('...', 692), ('one', 617)]\n",
            "Labels :  defaultdict(None, {3: 0, 1: 1, 2: 2, 0: 3, 4: 4})\n"
          ],
          "name": "stdout"
        }
      ]
    },
    {
      "cell_type": "markdown",
      "metadata": {
        "id": "eMLHK1LPQCEQ"
      },
      "source": [
        "**Check the device used**"
      ]
    },
    {
      "cell_type": "code",
      "metadata": {
        "colab": {
          "base_uri": "https://localhost:8080/"
        },
        "id": "ZQrboZaVP-PW",
        "outputId": "4ec15906-c414-4053-e1e0-543949243dfe"
      },
      "source": [
        "device = torch.device(\"cuda\" if torch.cuda.is_available() else \"cpu\")\n",
        "device"
      ],
      "execution_count": null,
      "outputs": [
        {
          "output_type": "execute_result",
          "data": {
            "text/plain": [
              "device(type='cpu')"
            ]
          },
          "metadata": {
            "tags": []
          },
          "execution_count": 36
        }
      ]
    },
    {
      "cell_type": "code",
      "metadata": {
        "id": "X8-auIQNQFSz"
      },
      "source": [
        "train_iterator, valid_iterator = torchtext.legacy.data.BucketIterator.splits((train_dataset, valid_dataset), batch_size = 32, \n",
        "                                                            sort_key = lambda x: len(x.sentence),\n",
        "                                                            sort_within_batch=True, device = device)"
      ],
      "execution_count": 39,
      "outputs": []
    },
    {
      "cell_type": "code",
      "metadata": {
        "id": "cvYPpTEPnGsr"
      },
      "source": [
        "import os, pickle\n",
        "with open('tokenizer.pkl', 'wb') as tokens: \n",
        "    pickle.dump(Sentence.vocab.stoi, tokens)"
      ],
      "execution_count": 52,
      "outputs": []
    },
    {
      "cell_type": "markdown",
      "metadata": {
        "id": "x0B9nN41QHyZ"
      },
      "source": [
        "**Training**"
      ]
    },
    {
      "cell_type": "code",
      "metadata": {
        "id": "xjaHC4e-QMaU"
      },
      "source": [
        "import torch.nn as nn\n",
        "import torch.nn.functional as F\n",
        "\n",
        "class classifier(nn.Module):\n",
        "    \n",
        "    # Define all the layers used in model\n",
        "    def __init__(self, vocab_size, embedding_dim, hidden_dim, output_dim, n_layers, dropout):\n",
        "        \n",
        "        super().__init__()          \n",
        "        \n",
        "        # Embedding layer\n",
        "        self.embedding = nn.Embedding(vocab_size, embedding_dim)\n",
        "        \n",
        "        # LSTM layer\n",
        "        self.encoder = nn.LSTM(embedding_dim, \n",
        "                           hidden_dim, \n",
        "                           num_layers=n_layers, \n",
        "                           dropout=dropout,\n",
        "                           batch_first=True)\n",
        "        # try using nn.GRU or nn.RNN here and compare their performances\n",
        "        # try bidirectional and compare their performances\n",
        "        \n",
        "        # Dense layer\n",
        "        self.fc = nn.Linear(hidden_dim, output_dim)\n",
        "        \n",
        "    def forward(self, text, text_lengths):\n",
        "        \n",
        "        # text = [batch size, sent_length]\n",
        "        embedded = self.embedding(text)\n",
        "        # embedded = [batch size, sent_len, emb dim]\n",
        "      \n",
        "        # packed sequence\n",
        "        packed_embedded = nn.utils.rnn.pack_padded_sequence(embedded, text_lengths.cpu(), batch_first=True)\n",
        "        \n",
        "        packed_output, (hidden, cell) = self.encoder(packed_embedded)\n",
        "        #hidden = [batch size, num layers * num directions,hid dim]\n",
        "        #cell = [batch size, num layers * num directions,hid dim]\n",
        "    \n",
        "        # Hidden = [batch size, hid dim * num directions]\n",
        "        dense_outputs = self.fc(hidden)   \n",
        "        \n",
        "        # Final activation function softmax\n",
        "        output = F.softmax(dense_outputs[0], dim=1)\n",
        "            \n",
        "        return output"
      ],
      "execution_count": 40,
      "outputs": []
    },
    {
      "cell_type": "code",
      "metadata": {
        "id": "32s-kfIoQN0q"
      },
      "source": [
        "# Define hyperparameters\n",
        "size_of_vocab = len(Sentence.vocab)\n",
        "embedding_dim = 300\n",
        "num_hidden_nodes = 100\n",
        "num_output_nodes = 5\n",
        "num_layers = 2\n",
        "dropout = 0.2\n",
        "\n",
        "# Instantiate the model\n",
        "model = classifier(size_of_vocab, embedding_dim, num_hidden_nodes, num_output_nodes, num_layers, dropout = dropout)"
      ],
      "execution_count": 41,
      "outputs": []
    },
    {
      "cell_type": "code",
      "metadata": {
        "colab": {
          "base_uri": "https://localhost:8080/"
        },
        "id": "w5a49yhfQPKX",
        "outputId": "422384f6-cb69-4635-c666-a8c1d38fe900"
      },
      "source": [
        "print(model)\n",
        "\n",
        "#No. of trianable parameters\n",
        "def count_parameters(model):\n",
        "    return sum(p.numel() for p in model.parameters() if p.requires_grad)\n",
        "    \n",
        "print(f'The model has {count_parameters(model):,} trainable parameters')"
      ],
      "execution_count": 42,
      "outputs": [
        {
          "output_type": "stream",
          "text": [
            "classifier(\n",
            "  (embedding): Embedding(8002, 300)\n",
            "  (encoder): LSTM(300, 100, num_layers=2, batch_first=True, dropout=0.2)\n",
            "  (fc): Linear(in_features=100, out_features=5, bias=True)\n",
            ")\n",
            "The model has 2,642,705 trainable parameters\n"
          ],
          "name": "stdout"
        }
      ]
    },
    {
      "cell_type": "code",
      "metadata": {
        "id": "HX2FYNOjQQaB"
      },
      "source": [
        "import torch.optim as optim\n",
        "\n",
        "# define optimizer and loss\n",
        "optimizer = optim.Adam(model.parameters(), lr=2e-4)\n",
        "criterion = nn.CrossEntropyLoss()\n",
        "\n",
        "# define metric\n",
        "def binary_accuracy(preds, y):\n",
        "    #round predictions to the closest integer\n",
        "    _, predictions = torch.max(preds, 1)\n",
        "    \n",
        "    correct = (predictions == y).float() \n",
        "    acc = correct.sum() / len(correct)\n",
        "    return acc\n",
        "    \n",
        "# push to cuda if available\n",
        "model = model.to(device)\n",
        "criterion = criterion.to(device)"
      ],
      "execution_count": 43,
      "outputs": []
    },
    {
      "cell_type": "code",
      "metadata": {
        "id": "vLfqsj2rQRxt"
      },
      "source": [
        "def train(model, iterator, optimizer, criterion):\n",
        "    \n",
        "    # initialize every epoch \n",
        "    epoch_loss = 0\n",
        "    epoch_acc = 0\n",
        "    \n",
        "    # set the model in training phase\n",
        "    model.train()  \n",
        "    \n",
        "    for batch in iterator:\n",
        "        \n",
        "        # resets the gradients after every batch\n",
        "        optimizer.zero_grad()   \n",
        "        \n",
        "        # retrieve text and no. of words\n",
        "        sentence, sentence_lengths = batch.sentence   \n",
        "        \n",
        "        # convert to 1D tensor\n",
        "        predictions = model(sentence, sentence_lengths).squeeze()\n",
        "        \n",
        "        # compute the loss\n",
        "        loss = criterion(predictions, batch.labels)        \n",
        "        \n",
        "        # compute the binary accuracy\n",
        "        acc = binary_accuracy(predictions, batch.labels)   \n",
        "        \n",
        "        # backpropage the loss and compute the gradients\n",
        "        loss.backward()       \n",
        "        \n",
        "        # update the weights\n",
        "        optimizer.step()      \n",
        "        \n",
        "        # loss and accuracy\n",
        "        epoch_loss += loss.item()  \n",
        "        epoch_acc += acc.item()    \n",
        "        \n",
        "    return epoch_loss / len(iterator), epoch_acc / len(iterator)"
      ],
      "execution_count": 44,
      "outputs": []
    },
    {
      "cell_type": "code",
      "metadata": {
        "id": "5nJ_B5mXQTIA"
      },
      "source": [
        "def evaluate(model, iterator, criterion):\n",
        "    \n",
        "    # initialize every epoch\n",
        "    epoch_loss = 0\n",
        "    epoch_acc = 0\n",
        "\n",
        "    # deactivating dropout layers\n",
        "    model.eval()\n",
        "    \n",
        "    # deactivates autograd\n",
        "    with torch.no_grad():\n",
        "    \n",
        "        for batch in iterator:\n",
        "        \n",
        "            # retrieve text and no. of words\n",
        "            sentence, sentence_lengths = batch.sentence\n",
        "            \n",
        "            # convert to 1d tensor\n",
        "            predictions = model(sentence, sentence_lengths).squeeze()\n",
        "            \n",
        "            # compute loss and accuracy\n",
        "            loss = criterion(predictions, batch.labels)\n",
        "            acc = binary_accuracy(predictions, batch.labels)\n",
        "            \n",
        "            # keep track of loss and accuracy\n",
        "            epoch_loss += loss.item()\n",
        "            epoch_acc += acc.item()\n",
        "        \n",
        "    return epoch_loss / len(iterator), epoch_acc / len(iterator)"
      ],
      "execution_count": 45,
      "outputs": []
    },
    {
      "cell_type": "code",
      "metadata": {
        "colab": {
          "base_uri": "https://localhost:8080/"
        },
        "id": "fk6uJUBjQUV_",
        "outputId": "656592e6-3523-4b95-ffc4-fd15a2e7ce2a"
      },
      "source": [
        "N_EPOCHS = 50\n",
        "best_valid_loss = float('inf')\n",
        "train_losses = []\n",
        "train_accuracies = []\n",
        "valid_losses = []\n",
        "valid_accuracies = []\n",
        "for epoch in range(N_EPOCHS):\n",
        "     \n",
        "    # train the model\n",
        "    train_loss, train_acc = train(model, train_iterator, optimizer, criterion)\n",
        "    train_losses.append(train_loss)\n",
        "    train_accuracies.append(train_acc)\n",
        "    # evaluate the model\n",
        "    valid_loss, valid_acc = evaluate(model, valid_iterator, criterion)\n",
        "    valid_losses.append(valid_loss)\n",
        "    valid_accuracies.append(valid_acc)\n",
        "    # save the best model\n",
        "    if valid_loss < best_valid_loss:\n",
        "        best_valid_loss = valid_loss\n",
        "        torch.save(model.state_dict(), 'saved_weights.pt')\n",
        "    \n",
        "    print(f'\\tTrain Loss: {train_loss:.3f} | Train Acc: {train_acc*100:.2f}%')\n",
        "    print(f'\\t Val. Loss: {valid_loss:.3f} |  Val. Acc: {valid_acc*100:.2f}% \\n')"
      ],
      "execution_count": 47,
      "outputs": [
        {
          "output_type": "stream",
          "text": [
            "\tTrain Loss: 1.360 | Train Acc: 56.27%\n",
            "\t Val. Loss: 1.529 |  Val. Acc: 33.96% \n",
            "\n",
            "\tTrain Loss: 1.305 | Train Acc: 63.72%\n",
            "\t Val. Loss: 1.536 |  Val. Acc: 33.63% \n",
            "\n",
            "\tTrain Loss: 1.257 | Train Acc: 68.48%\n",
            "\t Val. Loss: 1.538 |  Val. Acc: 34.26% \n",
            "\n",
            "\tTrain Loss: 1.213 | Train Acc: 72.54%\n",
            "\t Val. Loss: 1.530 |  Val. Acc: 34.76% \n",
            "\n",
            "\tTrain Loss: 1.175 | Train Acc: 76.01%\n",
            "\t Val. Loss: 1.528 |  Val. Acc: 35.39% \n",
            "\n",
            "\tTrain Loss: 1.144 | Train Acc: 79.01%\n",
            "\t Val. Loss: 1.542 |  Val. Acc: 34.61% \n",
            "\n",
            "\tTrain Loss: 1.119 | Train Acc: 80.97%\n",
            "\t Val. Loss: 1.539 |  Val. Acc: 33.90% \n",
            "\n",
            "\tTrain Loss: 1.098 | Train Acc: 82.56%\n",
            "\t Val. Loss: 1.543 |  Val. Acc: 33.90% \n",
            "\n",
            "\tTrain Loss: 1.083 | Train Acc: 83.86%\n",
            "\t Val. Loss: 1.544 |  Val. Acc: 33.93% \n",
            "\n",
            "\tTrain Loss: 1.071 | Train Acc: 84.91%\n",
            "\t Val. Loss: 1.551 |  Val. Acc: 32.56% \n",
            "\n",
            "\tTrain Loss: 1.058 | Train Acc: 85.92%\n",
            "\t Val. Loss: 1.548 |  Val. Acc: 33.63% \n",
            "\n",
            "\tTrain Loss: 1.048 | Train Acc: 86.67%\n",
            "\t Val. Loss: 1.551 |  Val. Acc: 33.72% \n",
            "\n",
            "\tTrain Loss: 1.041 | Train Acc: 87.27%\n",
            "\t Val. Loss: 1.561 |  Val. Acc: 32.56% \n",
            "\n",
            "\tTrain Loss: 1.035 | Train Acc: 87.63%\n",
            "\t Val. Loss: 1.553 |  Val. Acc: 33.18% \n",
            "\n",
            "\tTrain Loss: 1.028 | Train Acc: 88.18%\n",
            "\t Val. Loss: 1.556 |  Val. Acc: 32.56% \n",
            "\n",
            "\tTrain Loss: 1.026 | Train Acc: 88.37%\n",
            "\t Val. Loss: 1.553 |  Val. Acc: 32.74% \n",
            "\n",
            "\tTrain Loss: 1.022 | Train Acc: 88.62%\n",
            "\t Val. Loss: 1.556 |  Val. Acc: 32.89% \n",
            "\n",
            "\tTrain Loss: 1.023 | Train Acc: 88.65%\n",
            "\t Val. Loss: 1.560 |  Val. Acc: 32.23% \n",
            "\n",
            "\tTrain Loss: 1.019 | Train Acc: 88.96%\n",
            "\t Val. Loss: 1.554 |  Val. Acc: 33.42% \n",
            "\n",
            "\tTrain Loss: 1.018 | Train Acc: 88.98%\n",
            "\t Val. Loss: 1.562 |  Val. Acc: 32.29% \n",
            "\n",
            "\tTrain Loss: 1.014 | Train Acc: 89.30%\n",
            "\t Val. Loss: 1.566 |  Val. Acc: 32.38% \n",
            "\n",
            "\tTrain Loss: 1.010 | Train Acc: 89.62%\n",
            "\t Val. Loss: 1.563 |  Val. Acc: 32.56% \n",
            "\n",
            "\tTrain Loss: 1.008 | Train Acc: 89.81%\n",
            "\t Val. Loss: 1.566 |  Val. Acc: 33.10% \n",
            "\n",
            "\tTrain Loss: 1.008 | Train Acc: 89.86%\n",
            "\t Val. Loss: 1.563 |  Val. Acc: 32.65% \n",
            "\n",
            "\tTrain Loss: 1.007 | Train Acc: 89.88%\n",
            "\t Val. Loss: 1.562 |  Val. Acc: 32.83% \n",
            "\n",
            "\tTrain Loss: 1.008 | Train Acc: 89.89%\n",
            "\t Val. Loss: 1.568 |  Val. Acc: 31.67% \n",
            "\n",
            "\tTrain Loss: 1.005 | Train Acc: 90.04%\n",
            "\t Val. Loss: 1.556 |  Val. Acc: 33.10% \n",
            "\n",
            "\tTrain Loss: 1.003 | Train Acc: 90.17%\n",
            "\t Val. Loss: 1.566 |  Val. Acc: 31.13% \n",
            "\n",
            "\tTrain Loss: 1.001 | Train Acc: 90.38%\n",
            "\t Val. Loss: 1.559 |  Val. Acc: 33.10% \n",
            "\n",
            "\tTrain Loss: 1.000 | Train Acc: 90.46%\n",
            "\t Val. Loss: 1.552 |  Val. Acc: 33.87% \n",
            "\n",
            "\tTrain Loss: 1.000 | Train Acc: 90.47%\n",
            "\t Val. Loss: 1.547 |  Val. Acc: 34.23% \n",
            "\n",
            "\tTrain Loss: 1.001 | Train Acc: 90.49%\n",
            "\t Val. Loss: 1.562 |  Val. Acc: 32.74% \n",
            "\n",
            "\tTrain Loss: 1.000 | Train Acc: 90.54%\n",
            "\t Val. Loss: 1.560 |  Val. Acc: 33.60% \n",
            "\n",
            "\tTrain Loss: 0.997 | Train Acc: 90.73%\n",
            "\t Val. Loss: 1.567 |  Val. Acc: 31.79% \n",
            "\n",
            "\tTrain Loss: 0.997 | Train Acc: 90.72%\n",
            "\t Val. Loss: 1.566 |  Val. Acc: 32.05% \n",
            "\n",
            "\tTrain Loss: 0.997 | Train Acc: 90.82%\n",
            "\t Val. Loss: 1.562 |  Val. Acc: 33.36% \n",
            "\n",
            "\tTrain Loss: 0.996 | Train Acc: 90.89%\n",
            "\t Val. Loss: 1.567 |  Val. Acc: 32.50% \n",
            "\n",
            "\tTrain Loss: 0.995 | Train Acc: 90.99%\n",
            "\t Val. Loss: 1.556 |  Val. Acc: 33.27% \n",
            "\n",
            "\tTrain Loss: 0.994 | Train Acc: 91.05%\n",
            "\t Val. Loss: 1.565 |  Val. Acc: 32.65% \n",
            "\n",
            "\tTrain Loss: 0.993 | Train Acc: 91.16%\n",
            "\t Val. Loss: 1.565 |  Val. Acc: 32.38% \n",
            "\n",
            "\tTrain Loss: 0.991 | Train Acc: 91.24%\n",
            "\t Val. Loss: 1.563 |  Val. Acc: 32.56% \n",
            "\n",
            "\tTrain Loss: 0.991 | Train Acc: 91.27%\n",
            "\t Val. Loss: 1.579 |  Val. Acc: 30.95% \n",
            "\n",
            "\tTrain Loss: 0.993 | Train Acc: 91.16%\n",
            "\t Val. Loss: 1.550 |  Val. Acc: 33.78% \n",
            "\n",
            "\tTrain Loss: 0.992 | Train Acc: 91.24%\n",
            "\t Val. Loss: 1.554 |  Val. Acc: 33.45% \n",
            "\n",
            "\tTrain Loss: 0.992 | Train Acc: 91.21%\n",
            "\t Val. Loss: 1.571 |  Val. Acc: 31.99% \n",
            "\n",
            "\tTrain Loss: 0.993 | Train Acc: 91.14%\n",
            "\t Val. Loss: 1.549 |  Val. Acc: 34.23% \n",
            "\n",
            "\tTrain Loss: 0.993 | Train Acc: 91.14%\n",
            "\t Val. Loss: 1.554 |  Val. Acc: 33.69% \n",
            "\n",
            "\tTrain Loss: 0.991 | Train Acc: 91.37%\n",
            "\t Val. Loss: 1.552 |  Val. Acc: 34.32% \n",
            "\n",
            "\tTrain Loss: 0.989 | Train Acc: 91.44%\n",
            "\t Val. Loss: 1.557 |  Val. Acc: 33.48% \n",
            "\n",
            "\tTrain Loss: 0.988 | Train Acc: 91.53%\n",
            "\t Val. Loss: 1.558 |  Val. Acc: 33.07% \n",
            "\n"
          ],
          "name": "stdout"
        }
      ]
    },
    {
      "cell_type": "code",
      "metadata": {
        "colab": {
          "base_uri": "https://localhost:8080/",
          "height": 1000
        },
        "id": "Y6VPyMafkgZo",
        "outputId": "bd661bf6-cf57-4c61-c513-01f44731b056"
      },
      "source": [
        "import matplotlib.pyplot as plt\n",
        "\n",
        "plt.plot(list(range(1, len(train_losses) + 1)), train_losses, label=\"Training Loss\")\n",
        "plt.xlabel(\"Epoch\")\n",
        "plt.ylabel(\"Training Loss\")\n",
        "plt.savefig('training_loss.png')\n",
        "plt.show()\n",
        "\n",
        "plt.plot(list(range(1, len(valid_losses) + 1)), valid_losses, label=\"Validation Loss\")\n",
        "plt.xlabel(\"Epoch\")\n",
        "plt.ylabel(\"Validation Loss\")\n",
        "plt.savefig('valid_loss.png')\n",
        "plt.show()\n",
        "\n",
        "plt.plot(list(range(1, len(train_accuracies) + 1)), train_accuracies, label=\"Training Accuracies\")\n",
        "plt.xlabel(\"Epoch\")\n",
        "plt.ylabel(\"Training Accuracies\")\n",
        "plt.savefig('training_accuracies.png')\n",
        "plt.show()\n",
        "\n",
        "plt.plot(list(range(1, len(valid_accuracies) + 1)), valid_accuracies, label=\"Valid Accuracies\")\n",
        "plt.xlabel(\"Epoch\")\n",
        "plt.ylabel(\"Validation Accuracies\")\n",
        "plt.savefig('validation_accuracies.png')\n",
        "plt.show()"
      ],
      "execution_count": 50,
      "outputs": [
        {
          "output_type": "display_data",
          "data": {
            "image/png": "[encoded data removed]",
            "text/plain": [
              "<Figure size 432x288 with 1 Axes>"
            ]
          },
          "metadata": {
            "tags": [],
            "needs_background": "light"
          }
        },
        {
          "output_type": "display_data",
          "data": {
            "image/png": "[encoded data removed]",
            "text/plain": [
              "<Figure size 432x288 with 1 Axes>"
            ]
          },
          "metadata": {
            "tags": [],
            "needs_background": "light"
          }
        },
        {
          "output_type": "display_data",
          "data": {
            "image/png": "[encoded data removed]",
            "text/plain": [
              "<Figure size 432x288 with 1 Axes>"
            ]
          },
          "metadata": {
            "tags": [],
            "needs_background": "light"
          }
        },
        {
          "output_type": "display_data",
          "data": {
            "image/png": "[encoded data removed]",
            "text/plain": [
              "<Figure size 432x288 with 1 Axes>"
            ]
          },
          "metadata": {
            "tags": [],
            "needs_background": "light"
          }
        }
      ]
    },
    {
      "cell_type": "code",
      "metadata": {
        "id": "hVme1x4LmkvL"
      },
      "source": [
        "#load weights and tokenizer\n",
        "\n",
        "path='./saved_weights.pt'\n",
        "model.load_state_dict(torch.load(path));\n",
        "model.eval();\n",
        "tokenizer_file = open('./tokenizer.pkl', 'rb')\n",
        "tokenizer = pickle.load(tokenizer_file)\n",
        "\n",
        "#inference \n",
        "\n",
        "import spacy\n",
        "nlp = spacy.load('en')\n",
        "\n",
        "def classify_tweet(tweet):\n",
        "    \n",
        "    categories = {0: \"Very Negative\", 1:\"Negative\", 2:\"Neutral\", 3: \"Positive\", 4: \"Very Positive\"}\n",
        "    \n",
        "    # tokenize the tweet \n",
        "    tokenized = [tok.text for tok in nlp.tokenizer(tweet)] \n",
        "    # convert to integer sequence using predefined tokenizer dictionary\n",
        "    indexed = [tokenizer[t] for t in tokenized]        \n",
        "    # compute no. of words        \n",
        "    length = [len(indexed)]\n",
        "    # convert to tensor                                    \n",
        "    tensor = torch.LongTensor(indexed).to(device)   \n",
        "    # reshape in form of batch, no. of words           \n",
        "    tensor = tensor.unsqueeze(1).T  \n",
        "    # convert to tensor                          \n",
        "    length_tensor = torch.LongTensor(length)\n",
        "    # Get the model prediction                  \n",
        "    prediction = model(tensor, length_tensor)\n",
        "\n",
        "    _, pred = torch.max(prediction, 1) \n",
        "    \n",
        "    return pred.item(), categories[pred.item()]"
      ],
      "execution_count": 74,
      "outputs": []
    },
    {
      "cell_type": "code",
      "metadata": {
        "colab": {
          "base_uri": "https://localhost:8080/"
        },
        "id": "OuO5M4WXnSDn",
        "outputId": "06936cc7-bb83-4192-e03e-72d23380d104"
      },
      "source": [
        "classify_tweet(\"It is an awesome movie.\")"
      ],
      "execution_count": 75,
      "outputs": [
        {
          "output_type": "execute_result",
          "data": {
            "text/plain": [
              "(3, 'Positive')"
            ]
          },
          "metadata": {
            "tags": []
          },
          "execution_count": 75
        }
      ]
    },
    {
      "cell_type": "code",
      "metadata": {
        "colab": {
          "base_uri": "https://localhost:8080/",
          "height": 424
        },
        "id": "ST9b-4Msn-Wn",
        "outputId": "b303c559-104d-4f9e-a676-15f8b76a075a"
      },
      "source": [
        "valid_df"
      ],
      "execution_count": 77,
      "outputs": [
        {
          "output_type": "execute_result",
          "data": {
            "text/html": [
              "<div>\n",
              "<style scoped>\n",
              "    .dataframe tbody tr th:only-of-type {\n",
              "        vertical-align: middle;\n",
              "    }\n",
              "\n",
              "    .dataframe tbody tr th {\n",
              "        vertical-align: top;\n",
              "    }\n",
              "\n",
              "    .dataframe thead th {\n",
              "        text-align: right;\n",
              "    }\n",
              "</style>\n",
              "<table border=\"1\" class=\"dataframe\">\n",
              "  <thead>\n",
              "    <tr style=\"text-align: right;\">\n",
              "      <th></th>\n",
              "      <th>sentence</th>\n",
              "      <th>labels</th>\n",
              "    </tr>\n",
              "  </thead>\n",
              "  <tbody>\n",
              "    <tr>\n",
              "      <th>0</th>\n",
              "      <td>It 's a lovely film with lovely performances b...</td>\n",
              "      <td>3</td>\n",
              "    </tr>\n",
              "    <tr>\n",
              "      <th>1</th>\n",
              "      <td>No one goes unindicted here , which is probabl...</td>\n",
              "      <td>2</td>\n",
              "    </tr>\n",
              "    <tr>\n",
              "      <th>2</th>\n",
              "      <td>And if you 're not nearly moved to tears by a ...</td>\n",
              "      <td>3</td>\n",
              "    </tr>\n",
              "    <tr>\n",
              "      <th>3</th>\n",
              "      <td>A warm , funny , engaging film .</td>\n",
              "      <td>4</td>\n",
              "    </tr>\n",
              "    <tr>\n",
              "      <th>4</th>\n",
              "      <td>Uses sharp humor and insight into human nature...</td>\n",
              "      <td>4</td>\n",
              "    </tr>\n",
              "    <tr>\n",
              "      <th>...</th>\n",
              "      <td>...</td>\n",
              "      <td>...</td>\n",
              "    </tr>\n",
              "    <tr>\n",
              "      <th>1096</th>\n",
              "      <td>it seems to me the film is about the art of ri...</td>\n",
              "      <td>1</td>\n",
              "    </tr>\n",
              "    <tr>\n",
              "      <th>1097</th>\n",
              "      <td>It 's just disappointingly superficial -- a mo...</td>\n",
              "      <td>1</td>\n",
              "    </tr>\n",
              "    <tr>\n",
              "      <th>1098</th>\n",
              "      <td>The title not only describes its main characte...</td>\n",
              "      <td>1</td>\n",
              "    </tr>\n",
              "    <tr>\n",
              "      <th>1099</th>\n",
              "      <td>Sometimes it feels as if it might have been ma...</td>\n",
              "      <td>2</td>\n",
              "    </tr>\n",
              "    <tr>\n",
              "      <th>1100</th>\n",
              "      <td>Schaeffer has to find some hook on which to ha...</td>\n",
              "      <td>1</td>\n",
              "    </tr>\n",
              "  </tbody>\n",
              "</table>\n",
              "<p>1101 rows × 2 columns</p>\n",
              "</div>"
            ],
            "text/plain": [
              "                                               sentence  labels\n",
              "0     It 's a lovely film with lovely performances b...       3\n",
              "1     No one goes unindicted here , which is probabl...       2\n",
              "2     And if you 're not nearly moved to tears by a ...       3\n",
              "3                      A warm , funny , engaging film .       4\n",
              "4     Uses sharp humor and insight into human nature...       4\n",
              "...                                                 ...     ...\n",
              "1096  it seems to me the film is about the art of ri...       1\n",
              "1097  It 's just disappointingly superficial -- a mo...       1\n",
              "1098  The title not only describes its main characte...       1\n",
              "1099  Sometimes it feels as if it might have been ma...       2\n",
              "1100  Schaeffer has to find some hook on which to ha...       1\n",
              "\n",
              "[1101 rows x 2 columns]"
            ]
          },
          "metadata": {
            "tags": []
          },
          "execution_count": 77
        }
      ]
    },
    {
      "cell_type": "code",
      "metadata": {
        "colab": {
          "base_uri": "https://localhost:8080/"
        },
        "id": "vCn6AClooA3c",
        "outputId": "90c6344b-8e75-434e-d248-d7a23a79c486"
      },
      "source": [
        "index = 987\n",
        "print(\"sentence:\", valid_df.loc[index].sentence)\n",
        "print(\"label:\", valid_df.loc[index].labels)\n",
        "label, category = classify_tweet(valid_df.loc[index].sentence)\n",
        "print(\"Predicted Label: \", label, category)"
      ],
      "execution_count": 79,
      "outputs": [
        {
          "output_type": "stream",
          "text": [
            "sentence: The overall effect is less like a children 's movie than a recruitment film for future Hollywood sellouts .\n",
            "label: 1\n",
            "Predicted Label:  1 Negative\n"
          ],
          "name": "stdout"
        }
      ]
    },
    {
      "cell_type": "code",
      "metadata": {
        "colab": {
          "base_uri": "https://localhost:8080/"
        },
        "id": "0-4FbG6apcGD",
        "outputId": "aec38344-4e13-4872-de27-33c0b673dbdf"
      },
      "source": [
        "index = 750\n",
        "print(\"sentence:\", valid_df.loc[index].sentence)\n",
        "print(\"label:\", valid_df.loc[index].labels)\n",
        "label, category = classify_tweet(valid_df.loc[index].sentence)\n",
        "print(\"Predicted Label: \", label, category)"
      ],
      "execution_count": 100,
      "outputs": [
        {
          "output_type": "stream",
          "text": [
            "sentence: It 's difficult to imagine the process that produced such a script , but here 's guessing that spray cheese and underarm noises played a crucial role .\n",
            "label: 0\n",
            "Predicted Label:  0 Very Negative\n"
          ],
          "name": "stdout"
        }
      ]
    },
    {
      "cell_type": "code",
      "metadata": {
        "colab": {
          "base_uri": "https://localhost:8080/"
        },
        "id": "tmadoy21qYIm",
        "outputId": "c5a102ca-609d-4dd1-915b-02aa9a8606ad"
      },
      "source": [
        "index = 332\n",
        "print(\"sentence:\", valid_df.loc[index].sentence)\n",
        "print(\"label:\", valid_df.loc[index].labels)\n",
        "label, category = classify_tweet(valid_df.loc[index].sentence)\n",
        "print(\"Predicted Label: \", label, category)"
      ],
      "execution_count": 131,
      "outputs": [
        {
          "output_type": "stream",
          "text": [
            "sentence: What Time Is It There ?\n",
            "label: 2\n",
            "Predicted Label:  2 Neutral\n"
          ],
          "name": "stdout"
        }
      ]
    },
    {
      "cell_type": "code",
      "metadata": {
        "id": "j_xUigkqrWJx"
      },
      "source": [
        ""
      ],
      "execution_count": null,
      "outputs": []
    },
    {
      "cell_type": "markdown",
      "metadata": {
        "id": "P6uoClmurWwP"
      },
      "source": [
        "**Future Enhancements**\n",
        "\n",
        "- Use better Data Augmentation Techniques.\n",
        "- Train using other models like bi-lstm and GRU."
      ]
    }
  ]
}